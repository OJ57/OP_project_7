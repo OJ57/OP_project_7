{
 "cells": [
  {
   "cell_type": "markdown",
   "source": [
    "##  <span style='background :#96e773' > 1. Introduction </span>"
   ],
   "metadata": {
    "collapsed": false,
    "pycharm": {
     "name": "#%% md\n"
    }
   }
  },
  {
   "cell_type": "markdown",
   "source": [
    "Ce notebook regroupe les scripts de preprocessing et de merging des différents jeux de données.\n",
    "Les kernels Kaggle suivants ont été une source d'inspiration pour la réalisation des différents scripts :\n",
    "\n",
    "[Kernel 1](https://www.kaggle.com/code/jsaguiar/lightgbm-with-simple-features/script)\n",
    "[Kernel 2](https://www.kaggle.com/code/hikmetsezen/base-model-with-0-804-auc-on-home-credit)\n",
    "[Kernel 3](https://www.kaggle.com/code/ogrellier/lighgbm-with-selected-features)"
   ],
   "metadata": {
    "collapsed": false,
    "pycharm": {
     "name": "#%% md\n"
    }
   }
  },
  {
   "cell_type": "code",
   "execution_count": 1,
   "outputs": [
    {
     "name": "stdout",
     "output_type": "stream",
     "text": [
      "Version des librairies utilisées:\n",
      "Python 3.10.6 (tags/v3.10.6:9c7b4bd, Aug  1 2022, 21:53:49) [MSC v.1932 64 bit (AMD64)]\n",
      "Pandas 1.5.2\n",
      "NumPy 1.23.5\n",
      "Seaborn 0.12.2\n",
      "Matplotlib 3.5.3\n",
      "Sklearn 1.2.2\n"
     ]
    }
   ],
   "source": [
    "# Importation des librairies\n",
    "\n",
    "import pandas as pd\n",
    "import numpy as np\n",
    "import seaborn as sns\n",
    "import matplotlib\n",
    "import matplotlib.pyplot as plt\n",
    "import sys\n",
    "import sklearn\n",
    "import gc\n",
    "\n",
    "import warnings\n",
    "warnings.simplefilter(action='ignore', category=FutureWarning)\n",
    "\n",
    "# Versions\n",
    "print('Version des librairies utilisées:')\n",
    "print('Python ' + sys.version)\n",
    "print('Pandas ' + pd.__version__)\n",
    "print('NumPy ' + np.__version__)\n",
    "print('Seaborn ' + sns.__version__)\n",
    "print('Matplotlib ' + matplotlib.__version__)\n",
    "print('Sklearn ' + sklearn.__version__)"
   ],
   "metadata": {
    "collapsed": false,
    "pycharm": {
     "name": "#%%\n"
    }
   }
  },
  {
   "cell_type": "code",
   "execution_count": 2,
   "outputs": [],
   "source": [
    "from matplotlib import rcParams\n",
    "\n",
    "# Définition des tailles de polices des figures\n",
    "\n",
    "\n",
    "SMALL_SIZE = 15\n",
    "MEDIUM_SIZE = 16\n",
    "BIGGER_SIZE = 17\n",
    "\n",
    "plt.rc('font', size=SMALL_SIZE)  # controls default text sizes\n",
    "plt.rc('axes', titlesize=SMALL_SIZE)  # fontsize of the axes title\n",
    "plt.rc('axes', labelsize=MEDIUM_SIZE)  # fontsize of the x and y labels\n",
    "plt.rc('xtick', labelsize=SMALL_SIZE)  # fontsize of the tick labels\n",
    "plt.rc('ytick', labelsize=SMALL_SIZE)  # fontsize of the tick labels\n",
    "plt.rc('legend', fontsize=SMALL_SIZE)  # legend fontsize\n",
    "plt.rc('axes', titlesize=BIGGER_SIZE)\n",
    "\n",
    "rcParams['axes.titlepad'] = 20\n",
    "plt.rcParams['figure.dpi'] = 100\n",
    "\n",
    "sns.set(style=\"darkgrid\")"
   ],
   "metadata": {
    "collapsed": false,
    "pycharm": {
     "name": "#%%\n"
    }
   }
  },
  {
   "cell_type": "markdown",
   "source": [
    "**Fonctions**"
   ],
   "metadata": {
    "collapsed": false,
    "pycharm": {
     "name": "#%% md\n"
    }
   }
  },
  {
   "cell_type": "code",
   "execution_count": 3,
   "outputs": [],
   "source": [
    "def dim(df):\n",
    "    x, y = df.shape\n",
    "    print(f'Le jeu de données contient {x} lignes et {y} colonnes.')"
   ],
   "metadata": {
    "collapsed": false,
    "pycharm": {
     "name": "#%%\n"
    }
   }
  },
  {
   "cell_type": "code",
   "execution_count": 4,
   "outputs": [],
   "source": [
    "def missing_values(df):\n",
    "    a = df.isna().sum().sum()\n",
    "    b = round(df.isna().mean().mean() * 100, 3)\n",
    "    print(f'Le jeu de données contient {a} valeurs manquantes ({b}%).')"
   ],
   "metadata": {
    "collapsed": false,
    "pycharm": {
     "name": "#%%\n"
    }
   }
  },
  {
   "cell_type": "code",
   "execution_count": 5,
   "outputs": [],
   "source": [
    "def recap_missing_values(df):\n",
    "    df = pd.DataFrame(df)\n",
    "    a = df.notna().sum()\n",
    "    b = df.isna().sum()\n",
    "    c = round((1 - df.isna().mean()) * 100, 3)\n",
    "    d = pd.concat([a, b, c], axis=1).reset_index()\n",
    "    d.columns = ['Variable',\n",
    "                 'Nombre de valeurs renseignées',\n",
    "                 'Nombre de valeurs manquantes',\n",
    "                 'Taux de remplissage (%)']\n",
    "    return d"
   ],
   "metadata": {
    "collapsed": false,
    "pycharm": {
     "name": "#%%\n"
    }
   }
  },
  {
   "cell_type": "code",
   "execution_count": 6,
   "outputs": [],
   "source": [
    "def pie(df, col, titre, explode=True):\n",
    "    plt.title(titre)\n",
    "\n",
    "    nbr = df[col].value_counts().sort_index()\n",
    "\n",
    "    if explode:\n",
    "        explode = [0.1]\n",
    "        for i in range(len(nbr) - 1):\n",
    "            explode.append(0)\n",
    "    else:\n",
    "        explode = [0]\n",
    "        for i in range(len(nbr) - 1):\n",
    "            explode.append(0)\n",
    "\n",
    "    plt.pie(nbr, explode=explode, labels=nbr.index, autopct='%1.1f%%',\n",
    "            textprops={'fontsize': 14, 'color': 'black', 'backgroundcolor': 'w'}, startangle=90)\n",
    "\n",
    "    plt.axis('equal')\n",
    "    plt.show()"
   ],
   "metadata": {
    "collapsed": false,
    "pycharm": {
     "name": "#%%\n"
    }
   }
  },
  {
   "cell_type": "code",
   "execution_count": 7,
   "outputs": [],
   "source": [
    "def getDuplicateColumns(df):\n",
    "    # Create an empty set\n",
    "    duplicateColumnNames = set()\n",
    "\n",
    "    # Iterate through all the columns\n",
    "    # of dataframe\n",
    "    for x in range(df.shape[1]):\n",
    "\n",
    "        # Take column at xth index.\n",
    "        col = df.iloc[:, x]\n",
    "\n",
    "        # Iterate through all the columns in\n",
    "        # DataFrame from (x + 1)th index to\n",
    "        # last index\n",
    "        for y in range(x + 1, df.shape[1]):\n",
    "\n",
    "            # Take column at yth index.\n",
    "            otherCol = df.iloc[:, y]\n",
    "\n",
    "            # Check if two columns at x & y\n",
    "            # index are equal or not,\n",
    "            # if equal then adding\n",
    "            # to the set\n",
    "            if col.equals(otherCol):\n",
    "                duplicateColumnNames.add(df.columns.values[y])\n",
    "\n",
    "    # Return list of unique column names\n",
    "    # whose contents are duplicates.\n",
    "    return list(duplicateColumnNames)"
   ],
   "metadata": {
    "collapsed": false,
    "pycharm": {
     "name": "#%%\n"
    }
   }
  },
  {
   "cell_type": "code",
   "execution_count": 8,
   "outputs": [],
   "source": [
    "def reduce_mem_usage(df):\n",
    "    \"\"\" iterate through all the columns of a dataframe and modify the data type\n",
    "        to reduce memory usage.\n",
    "    \"\"\"\n",
    "    start_mem = df.memory_usage().sum() / 1024 ** 2\n",
    "    print('Memory usage of dataframe is {:.2f} MB'.format(start_mem))\n",
    "\n",
    "    for col in df.columns:\n",
    "        col_type = df[col].dtype\n",
    "        if col_type != object:\n",
    "            c_min = df[col].min()\n",
    "            c_max = df[col].max()\n",
    "            if str(col_type)[:3] == 'int':\n",
    "                if c_min > np.iinfo(np.int8).min and c_max < np.iinfo(np.int8).max:\n",
    "                    df[col] = df[col].astype(np.int8)\n",
    "                elif c_min > np.iinfo(np.int16).min and c_max < np.iinfo(np.int16).max:\n",
    "                    df[col] = df[col].astype(np.int16)\n",
    "                elif c_min > np.iinfo(np.int32).min and c_max < np.iinfo(np.int32).max:\n",
    "                    df[col] = df[col].astype(np.int32)\n",
    "                elif c_min > np.iinfo(np.int64).min and c_max < np.iinfo(np.int64).max:\n",
    "                    df[col] = df[col].astype(np.int64)\n",
    "            else:\n",
    "                if c_min > np.finfo(np.float16).min and c_max < np.finfo(np.float16).max:\n",
    "                    df[col] = df[col].astype(np.float32)\n",
    "                elif c_min > np.finfo(np.float32).min and c_max < np.finfo(np.float32).max:\n",
    "                    df[col] = df[col].astype(np.float32)\n",
    "                else:\n",
    "                    df[col] = df[col].astype(np.float64)\n",
    "\n",
    "    end_mem = df.memory_usage().sum() / 1024 ** 2\n",
    "    print('Memory usage after optimization is: {:.2f} MB'.format(end_mem))\n",
    "    print('Decreased by {:.1f}%'.format(100 * (start_mem - end_mem) / start_mem))\n",
    "\n",
    "    return df"
   ],
   "metadata": {
    "collapsed": false,
    "pycharm": {
     "name": "#%%\n"
    }
   }
  },
  {
   "cell_type": "code",
   "execution_count": 9,
   "outputs": [],
   "source": [
    "def detect_outliers(df, var, n, method='all', quantile_low=0.05, quantile_high=0.95, std_dev=3, iqr_factor=1.5):\n",
    "    \"\"\"\n",
    "    Detects outliers in a pandas DataFrame using one or more methods.\n",
    "\n",
    "    Parameters:\n",
    "    - df: pandas DataFrame to be checked for outliers\n",
    "    - n: minimum number of methods that must tag a data point as an outlier for it to be considered an outlier (default: 2)\n",
    "    - method: one of 'all', 'percentile', 'std_dev', or 'iqr'; the outlier detection method to be used (default: 'all')\n",
    "    - percentile_low: lower percentile value used in percentile method (default: 5)\n",
    "    - percentile_high: upper percentile value used in percentile method (default: 95)\n",
    "    - std_dev: number of standard deviations used in standard deviation method (default: 3)\n",
    "    - iqr: number of interquartile ranges used in interquartile range method (default: 1.5)\n",
    "\n",
    "    Returns:\n",
    "    - outlier_df: pandas DataFrame with an additional column 'outlier' containing a boolean value indicating whether each data point is an outlier or not\n",
    "    \"\"\"\n",
    "    outlier_count = np.zeros(len(df))\n",
    "\n",
    "    if method in ('all', 'percentile'):\n",
    "        q1 = df[var].quantile(quantile_low)\n",
    "        q3 = df[var].quantile(quantile_high)\n",
    "        is_outlier_percentile = (df[var] < q1) | (df[var] > q3)\n",
    "        outlier_count += is_outlier_percentile\n",
    "\n",
    "    if method in ('all', 'std_dev'):\n",
    "        std = np.std(df[var], axis=0)\n",
    "        mean = np.mean(df[var], axis=0)\n",
    "        is_outlier_std_dev = np.abs(df[var] - mean) > std_dev * std\n",
    "        outlier_count += is_outlier_std_dev\n",
    "\n",
    "    if method in ('all', 'iqr'):\n",
    "        q1 = df[var].quantile(0.25)\n",
    "        q3 = df[var].quantile(0.75)\n",
    "        iqr = q3 - q1\n",
    "        is_outlier_iqr = (df[var] < q1 - iqr * iqr_factor) | (df[var] > q3 + iqr * iqr_factor)\n",
    "        outlier_count += is_outlier_iqr\n",
    "\n",
    "    outlier_df = df.copy()\n",
    "    outlier_df['outlier_count'] = outlier_count\n",
    "\n",
    "    return outlier_df[outlier_df['outlier_count']>=n].sort_values(by=var, ascending=False)"
   ],
   "metadata": {
    "collapsed": false,
    "pycharm": {
     "name": "#%%\n"
    }
   }
  },
  {
   "cell_type": "code",
   "execution_count": 10,
   "outputs": [],
   "source": [
    "def percentile_report(df, columns):\n",
    "    quantiles = [0, 0.01, 0.05, 0.1, 0.25, 0.5, 0.75, 0.9, 0.95, 0.99, 1]\n",
    "    results = []\n",
    "    for col in columns:\n",
    "        col_results = []\n",
    "        for q in quantiles:\n",
    "            value = df[col].quantile(q)\n",
    "            col_results.append(value)\n",
    "        results.append(col_results)\n",
    "    results_df = pd.DataFrame(results, columns=[f'{q*100}%' for q in quantiles], index=columns)\n",
    "    return results_df"
   ],
   "metadata": {
    "collapsed": false,
    "pycharm": {
     "name": "#%%\n"
    }
   }
  },
  {
   "cell_type": "code",
   "execution_count": 11,
   "outputs": [],
   "source": [
    "def compute_mode_percentage(df, columns, threshold, pr=True):\n",
    "    data = []\n",
    "    for col in columns:\n",
    "        mode = df[col].mode().values[0]\n",
    "        mode_perc = df[col].value_counts(normalize=True)[mode]\n",
    "\n",
    "        data.append({'Column': col, 'Mode': mode, 'Mode_pct': mode_perc})\n",
    "\n",
    "    result_df = pd.DataFrame(data)\n",
    "    col = result_df.loc[result_df['Mode_pct'] >= threshold, 'Column'].tolist()\n",
    "\n",
    "    if pr:\n",
    "        print(result_df.sort_values(by='Mode_pct'))\n",
    "        print('')\n",
    "\n",
    "    print('Liste des features à supprimer :')\n",
    "    print(col)\n",
    "    return col"
   ],
   "metadata": {
    "collapsed": false,
    "pycharm": {
     "name": "#%%\n"
    }
   }
  },
  {
   "cell_type": "code",
   "execution_count": 12,
   "outputs": [],
   "source": [
    "def comparaison_key(df1, df2, key1, key2):\n",
    "    df1 = df1.dropna(subset=key1).drop_duplicates(subset=key1, keep='first')\n",
    "    df2 = df2.dropna(subset=key2).drop_duplicates(subset=key2, keep='first')\n",
    "\n",
    "    temp1 = df1[~df1[key1].isin(df2[key2])]\n",
    "\n",
    "    if temp1.shape[0] == 0:\n",
    "        print(\"Toutes les clés de df1 sont comprises dans df2\")\n",
    "    else:\n",
    "        print(f'Nombre de clé de df1 absentes de df2 : {temp1.shape[0]}')\n",
    "        return temp1"
   ],
   "metadata": {
    "collapsed": false,
    "pycharm": {
     "name": "#%%\n"
    }
   }
  },
  {
   "cell_type": "markdown",
   "source": [
    "<br>\n",
    "\n",
    "---"
   ],
   "metadata": {
    "collapsed": false,
    "pycharm": {
     "name": "#%% md\n"
    }
   }
  },
  {
   "cell_type": "markdown",
   "source": [
    "##  <span style='background :#96e773' > 2. Chargements des jeux de données </span>\n",
    "\n",
    "On charge les jeux de données."
   ],
   "metadata": {
    "collapsed": false,
    "pycharm": {
     "name": "#%% md\n"
    }
   }
  },
  {
   "cell_type": "code",
   "execution_count": 13,
   "outputs": [],
   "source": [
    "bureau = pd.read_csv(\"./data/bureau.csv\")\n",
    "b_bal = pd.read_csv(\"./data/bureau_balance.csv\")\n",
    "cc_bal = pd.read_csv(\"./data/credit_card_balance.csv\")\n",
    "ins_pay = pd.read_csv(\"./data/installments_payments.csv\")\n",
    "pos_bal = pd.read_csv(\"./data/POS_CASH_balance.csv\")\n",
    "pre_app = pd.read_csv(\"./data/previous_application.csv\")"
   ],
   "metadata": {
    "collapsed": false,
    "pycharm": {
     "name": "#%%\n"
    }
   }
  },
  {
   "cell_type": "markdown",
   "source": [
    "<br>\n",
    "\n",
    "---"
   ],
   "metadata": {
    "collapsed": false,
    "pycharm": {
     "name": "#%% md\n"
    }
   }
  },
  {
   "cell_type": "markdown",
   "source": [
    "##  <span style='background :#96e773' > 3. application_train & application_test </span>\n",
    "\n",
    "Nous allons reprendre les étapes de nettoyage et de feature engineering effectuées dans le notebook précédent et les condenser dans un script unique qui traitera à la fois le jeu d'entrainement et de test."
   ],
   "metadata": {
    "collapsed": false,
    "pycharm": {
     "name": "#%% md\n"
    }
   }
  },
  {
   "cell_type": "markdown",
   "source": [
    "### <span style='background :#e3e33d' > 3.1 Script </span>"
   ],
   "metadata": {
    "collapsed": false,
    "pycharm": {
     "name": "#%% md\n"
    }
   }
  },
  {
   "cell_type": "code",
   "execution_count": 14,
   "outputs": [],
   "source": [
    "def one_hot_encoder(df, nan_as_category=True):\n",
    "    original_columns = list(df.columns)\n",
    "    categorical_columns = [col for col in df.columns if df[col].dtype == 'object']\n",
    "    df = pd.get_dummies(df, columns=categorical_columns, dummy_na=nan_as_category)\n",
    "    new_columns = [c for c in df.columns if c not in original_columns]\n",
    "    return df, new_columns"
   ],
   "metadata": {
    "collapsed": false,
    "pycharm": {
     "name": "#%%\n"
    }
   }
  },
  {
   "cell_type": "code",
   "execution_count": 15,
   "outputs": [],
   "source": [
    "def get_age_label(days_birth):\n",
    "    \"\"\" Return the age group label (int). \"\"\"\n",
    "    age_years = -days_birth / 365\n",
    "    if age_years < 27: return 1\n",
    "    elif age_years < 40: return 2\n",
    "    elif age_years < 50: return 3\n",
    "    elif age_years < 60: return 4\n",
    "    elif age_years < 99: return 5\n",
    "    else: return 0"
   ],
   "metadata": {
    "collapsed": false,
    "pycharm": {
     "name": "#%%\n"
    }
   }
  },
  {
   "cell_type": "code",
   "execution_count": 16,
   "outputs": [],
   "source": [
    "# Fonction qui permet de déceler les features avec des valeurs infinies\n",
    "\n",
    "def check_for_inf(df):\n",
    "\n",
    "    # select only the numeric columns\n",
    "    numeric_cols = df.select_dtypes(include=np.number).columns\n",
    "\n",
    "    # Count number of inf values\n",
    "    n_inf = np.isinf(df[numeric_cols]).sum().sum()\n",
    "\n",
    "    print(f'Nombre de valeurs infinies: {n_inf}')\n",
    "\n",
    "    if n_inf > 0:\n",
    "\n",
    "        # check for inf in the numeric columns\n",
    "        inf_cols = df[numeric_cols][np.isinf(df[numeric_cols])].any()\n",
    "\n",
    "        # print the column names with inf values\n",
    "        print('Liste de features avec inf:')\n",
    "        print(inf_cols.index[inf_cols].tolist())"
   ],
   "metadata": {
    "collapsed": false,
    "pycharm": {
     "name": "#%%\n"
    }
   }
  },
  {
   "cell_type": "code",
   "execution_count": 17,
   "outputs": [],
   "source": [
    "# Fonction qui permet de déceler les features avec 100 % de nan\n",
    "\n",
    "def check_full_nan(df):\n",
    "\n",
    "    nan_cols = df.columns[df.isna().all()].tolist()\n",
    "    print('Liste de features full of nan:')\n",
    "    print(nan_cols)\n",
    "\n",
    "    df.drop(columns=nan_cols, inplace=True)\n",
    "\n",
    "    return df"
   ],
   "metadata": {
    "collapsed": false,
    "pycharm": {
     "name": "#%%\n"
    }
   }
  },
  {
   "cell_type": "code",
   "execution_count": 18,
   "outputs": [],
   "source": [
    "def application_train_test():\n",
    "\n",
    "    # Read data and merge\n",
    "    df = pd.read_csv(\"./data/application_train.csv\")\n",
    "    df_test = pd.read_csv(\"./data/application_test.csv\")\n",
    "    print(\"Train samples: {}, test samples: {}\".format(len(df), len(df_test)))\n",
    "\n",
    "    df = df.append(df_test).reset_index(drop=True)\n",
    "    print(f'Taille après fusion : {df.shape}')\n",
    "\n",
    "    del df_test\n",
    "    gc.collect()\n",
    "\n",
    "    col_doc = [f for f in df.columns if f.startswith('FLAG_DOC')]\n",
    "    df['CNT_DOC'] = df[col_doc].sum(axis=1)\n",
    "\n",
    "    df['PERC_INC_CRED'] = df['AMT_INCOME_TOTAL'] / df['AMT_CREDIT']\n",
    "    df['PERC_INC_ANN'] = df['AMT_INCOME_TOTAL'] / df['AMT_ANNUITY']\n",
    "\n",
    "    # Remplacement des outliers extremes de revenus par np.nan\n",
    "    df.loc[(df['AMT_INCOME_TOTAL'] > 1e7) & (df['PERC_INC_CRED'] > 20), ['AMT_INCOME_TOTAL', 'PERC_INC_CRED']] = np.nan\n",
    "\n",
    "    df['AMT_MONTHS'] = df['AMT_CREDIT'] / df['AMT_ANNUITY']\n",
    "    df['PERC_INSURANCE_CRED'] = (df['AMT_CREDIT'] - df['AMT_GOODS_PRICE']) / df['AMT_CREDIT']\n",
    "    df['INCOME_PER_MEMBER'] = df['AMT_INCOME_TOTAL'] / df['CNT_FAM_MEMBERS']\n",
    "    df['INCOME_PER_CHILD'] = df['AMT_INCOME_TOTAL'] / (df['CNT_CHILDREN'] + 1)\n",
    "\n",
    "    df.loc[df['DAYS_EMPLOYED'] == 0, 'DAYS_EMPLOYED'] = -1\n",
    "    df.loc[df['NAME_INCOME_TYPE'] == 'Pensioner', 'DAYS_EMPLOYED'] = 40 * 365\n",
    "    df.loc[df['NAME_INCOME_TYPE'] == 'Unemployed', 'DAYS_EMPLOYED'] = 20 * 7\n",
    "\n",
    "    df['DAYS_EMPLOYED_PERC'] = df['DAYS_EMPLOYED'] / df['DAYS_BIRTH']\n",
    "    df['ID_TO_BIRTH_RATIO'] = df['DAYS_ID_PUBLISH'] / df['DAYS_BIRTH']\n",
    "    df['CAR_TO_BIRTH_RATIO'] = df['OWN_CAR_AGE'] / (df['DAYS_BIRTH'] / -365)\n",
    "    df['INCOME_TO_BIRTH_RATIO'] = - df['AMT_INCOME_TOTAL'] / df['DAYS_BIRTH']\n",
    "    df['PHONE_TO_BIRTH_RATIO'] = df['DAYS_LAST_PHONE_CHANGE'] / df['DAYS_BIRTH']\n",
    "    df['AGE_END'] = df['AMT_MONTHS'] / 12 + (df['DAYS_BIRTH'] / -365)\n",
    "\n",
    "    df['CAR_TO_EMPLOYED_RATIO'] = df['OWN_CAR_AGE'] / (df['DAYS_EMPLOYED'] / -365)\n",
    "    df['INCOME_TO_EMPLOYED_RATIO'] = - df['AMT_INCOME_TOTAL'] / df['DAYS_EMPLOYED']\n",
    "\n",
    "    df['AGE_RANGE'] = df['DAYS_BIRTH'].apply(lambda x: get_age_label(x))\n",
    "\n",
    "    df['EXT_SOURCE_MEAN'] = df[['EXT_SOURCE_1', 'EXT_SOURCE_2', 'EXT_SOURCE_3']].mean(axis=1)\n",
    "    df['EXT_SOURCE_PROD'] = df['EXT_SOURCE_1'] * df['EXT_SOURCE_2'] * df['EXT_SOURCE_3']\n",
    "\n",
    "    df['EXT_SOURCE_1_TO_BIRTH_RATIO'] = df['EXT_SOURCE_1'] / (df['DAYS_BIRTH'] / -365)\n",
    "    df['EXT_SOURCE_1_TO_EMPLOY_RATIO'] = df['EXT_SOURCE_1'] / (df['DAYS_EMPLOYED'] / -365)\n",
    "    df['EXT_SOURCE_1*DAYS_BIRTH'] = df['EXT_SOURCE_1'] * (df['DAYS_BIRTH'] / -365)\n",
    "    df['EXT_SOURCE_1*DAYS_EMPLOYED'] = df['EXT_SOURCE_1'] * (df['DAYS_EMPLOYED'] / -365)\n",
    "\n",
    "    df['EXT_SOURCE_2_TO_BIRTH_RATIO'] = df['EXT_SOURCE_2'] / (df['DAYS_BIRTH'] / -365)\n",
    "    df['EXT_SOURCE_2_TO_EMPLOY_RATIO'] = df['EXT_SOURCE_2'] / (df['DAYS_EMPLOYED'] / -365)\n",
    "    df['EXT_SOURCE_2*DAYS_BIRTH'] = df['EXT_SOURCE_2'] * (df['DAYS_BIRTH'] / -365)\n",
    "    df['EXT_SOURCE_2*DAYS_EMPLOYED'] = df['EXT_SOURCE_2'] * (df['DAYS_EMPLOYED'] / -365)\n",
    "    df['EXT_SOURCE_2_TO_REGION_RATIO'] = df['EXT_SOURCE_2'] / df['REGION_RATING_CLIENT']\n",
    "    df['EXT_SOURCE_2*REGION_RATING_CLIENT'] = df['EXT_SOURCE_2'] * df['REGION_RATING_CLIENT']\n",
    "\n",
    "    df['EXT_SOURCE_3_TO_BIRTH_RATIO'] = df['EXT_SOURCE_3'] / (df['DAYS_BIRTH'] / -365)\n",
    "    df['EXT_SOURCE_3*DAYS_BIRTH'] = df['EXT_SOURCE_3'] * (df['DAYS_BIRTH'] / -365)\n",
    "\n",
    "    df['EXT_SOURCE_1_TO_EXT_SOURCE_2_RATIO'] = df['EXT_SOURCE_1'] / df['EXT_SOURCE_2']\n",
    "    df['EXT_SOURCE_2_TO_EXT_SOURCE_3_RATIO'] = df['EXT_SOURCE_2'] / df['EXT_SOURCE_3']\n",
    "    df['EXT_SOURCE_1_TO_EXT_SOURCE_3_RATIO'] = df['EXT_SOURCE_1'] / df['EXT_SOURCE_3']\n",
    "\n",
    "    df['EXT_SOURCE_1*EXT_SOURCE_2'] = df['EXT_SOURCE_1'] * df['EXT_SOURCE_2']\n",
    "    df['EXT_SOURCE_2*EXT_SOURCE_3'] = df['EXT_SOURCE_2'] * df['EXT_SOURCE_3']\n",
    "    df['EXT_SOURCE_1*EXT_SOURCE_3'] = df['EXT_SOURCE_1'] * df['EXT_SOURCE_3']\n",
    "\n",
    "\n",
    "    # After the feature engineering, check for inf\n",
    "    check_for_inf(df)\n",
    "\n",
    "    df.loc[df['AMT_REQ_CREDIT_BUREAU_QRT'] > 30, 'AMT_REQ_CREDIT_BUREAU_QRT'] = 30\n",
    "\n",
    "    # # Remplacement des outliers extremes par np.nan\n",
    "    df.loc[df['OBS_30_CNT_SOCIAL_CIRCLE'] > 100, 'OBS_30_CNT_SOCIAL_CIRCLE'] = np.nan\n",
    "\n",
    "\n",
    "    # Remove the feature where mode % > 0.94\n",
    "    col_to_del = compute_mode_percentage(df, df.columns, threshold=0.94, pr=False)\n",
    "    df.drop(columns=col_to_del, inplace=True)\n",
    "\n",
    "\n",
    "    # Remove the feature about client's residence\n",
    "    cols_buildings = [i for i in df.columns if ('_MODE' in i) | ('_AVG' in i) | ('_MEDI' in i)]\n",
    "    df.drop(columns=cols_buildings, inplace=True)\n",
    "\n",
    "\n",
    "    # Cleaning of the categorical variables\n",
    "    df.loc[df['CODE_GENDER'] == 'XNA', 'CODE_GENDER'] = 'F'\n",
    "    df = df[df['NAME_INCOME_TYPE'] != 'Maternity leave']\n",
    "    df = df[df['NAME_FAMILY_STATUS'] != 'Unknown']\n",
    "    df.loc[df['NAME_INCOME_TYPE'] == 'Pensioner', 'OCCUPATION_TYPE'] = 'Pensioner'\n",
    "    df.loc[df['NAME_INCOME_TYPE'] == 'Unemployed', 'OCCUPATION_TYPE'] = 'Unemployed'\n",
    "    df.loc[df['NAME_INCOME_TYPE'] == 'Pensioner', 'ORGANIZATION_TYPE'] = 'Pensioner'\n",
    "    df.loc[df['NAME_INCOME_TYPE'] == 'Unemployed', 'ORGANIZATION_TYPE'] = 'Unemployed'\n",
    "\n",
    "    print(f'Taille après filtrage des catégories : {df.shape}')\n",
    "\n",
    "    # Encoding of the categorical variables\n",
    "    bin_features = [col for col in df.columns if df[col].dtype == 'object' and df[col].nunique() == 2]\n",
    "    for b in bin_features:\n",
    "        df[b], uniques = pd.factorize(df[b])\n",
    "\n",
    "    df, cat_cols = one_hot_encoder(df, nan_as_category=True)\n",
    "\n",
    "    check_full_nan(df)\n",
    "\n",
    "    # Remove the feature where mode % = 1\n",
    "    col_to_del = compute_mode_percentage(df, df.columns, threshold=1, pr=False)\n",
    "    df.drop(columns=col_to_del, inplace=True)\n",
    "\n",
    "    print('\"Application_Train_Test\" final shape:', df.shape)\n",
    "\n",
    "    return df"
   ],
   "metadata": {
    "collapsed": false,
    "pycharm": {
     "name": "#%%\n"
    }
   }
  },
  {
   "cell_type": "code",
   "execution_count": 19,
   "outputs": [
    {
     "name": "stdout",
     "output_type": "stream",
     "text": [
      "Train samples: 307511, test samples: 48744\n",
      "Taille après fusion : (356255, 122)\n",
      "Nombre de valeurs infinies: 0\n",
      "Liste des features à supprimer :\n",
      "['FLAG_MOBIL', 'FLAG_CONT_MOBILE', 'REG_REGION_NOT_LIVE_REGION', 'REG_REGION_NOT_WORK_REGION', 'LIVE_REGION_NOT_WORK_REGION', 'HOUSETYPE_MODE', 'EMERGENCYSTATE_MODE', 'FLAG_DOCUMENT_2', 'FLAG_DOCUMENT_4', 'FLAG_DOCUMENT_5', 'FLAG_DOCUMENT_7', 'FLAG_DOCUMENT_9', 'FLAG_DOCUMENT_10', 'FLAG_DOCUMENT_11', 'FLAG_DOCUMENT_12', 'FLAG_DOCUMENT_13', 'FLAG_DOCUMENT_14', 'FLAG_DOCUMENT_15', 'FLAG_DOCUMENT_16', 'FLAG_DOCUMENT_17', 'FLAG_DOCUMENT_18', 'FLAG_DOCUMENT_19', 'FLAG_DOCUMENT_20', 'FLAG_DOCUMENT_21', 'AMT_REQ_CREDIT_BUREAU_HOUR', 'AMT_REQ_CREDIT_BUREAU_DAY', 'AMT_REQ_CREDIT_BUREAU_WEEK']\n",
      "Taille après filtrage des catégories : (356248, 86)\n",
      "Liste de features full of nan:\n",
      "[]\n",
      "Liste des features à supprimer :\n",
      "['NAME_INCOME_TYPE_nan', 'NAME_EDUCATION_TYPE_nan', 'NAME_FAMILY_STATUS_nan', 'NAME_HOUSING_TYPE_nan', 'WEEKDAY_APPR_PROCESS_START_nan', 'ORGANIZATION_TYPE_nan']\n",
      "\"Application_Train_Test\" final shape: (356248, 196)\n"
     ]
    }
   ],
   "source": [
    "temp_app = application_train_test()"
   ],
   "metadata": {
    "collapsed": false,
    "pycharm": {
     "name": "#%%\n"
    }
   }
  },
  {
   "cell_type": "code",
   "execution_count": 20,
   "outputs": [
    {
     "data": {
      "text/plain": "   SK_ID_CURR  TARGET  NAME_CONTRACT_TYPE  CODE_GENDER  FLAG_OWN_CAR  \\\n0      100002     1.0                   0            0             0   \n1      100003     0.0                   0            1             0   \n2      100004     0.0                   1            0             1   \n3      100006     0.0                   0            1             0   \n4      100007     0.0                   0            0             0   \n\n   FLAG_OWN_REALTY  CNT_CHILDREN  AMT_INCOME_TOTAL  AMT_CREDIT  AMT_ANNUITY  \\\n0                0             0          202500.0    406597.5      24700.5   \n1                1             0          270000.0   1293502.5      35698.5   \n2                0             0           67500.0    135000.0       6750.0   \n3                0             0          135000.0    312682.5      29686.5   \n4                0             0          121500.0    513000.0      21865.5   \n\n   ...  ORGANIZATION_TYPE_Trade: type 4  ORGANIZATION_TYPE_Trade: type 5  \\\n0  ...                                0                                0   \n1  ...                                0                                0   \n2  ...                                0                                0   \n3  ...                                0                                0   \n4  ...                                0                                0   \n\n   ORGANIZATION_TYPE_Trade: type 6  ORGANIZATION_TYPE_Trade: type 7  \\\n0                                0                                0   \n1                                0                                0   \n2                                0                                0   \n3                                0                                0   \n4                                0                                0   \n\n   ORGANIZATION_TYPE_Transport: type 1  ORGANIZATION_TYPE_Transport: type 2  \\\n0                                    0                                    0   \n1                                    0                                    0   \n2                                    0                                    0   \n3                                    0                                    0   \n4                                    0                                    0   \n\n   ORGANIZATION_TYPE_Transport: type 3  ORGANIZATION_TYPE_Transport: type 4  \\\n0                                    0                                    0   \n1                                    0                                    0   \n2                                    0                                    0   \n3                                    0                                    0   \n4                                    0                                    0   \n\n   ORGANIZATION_TYPE_Unemployed  ORGANIZATION_TYPE_University  \n0                             0                             0  \n1                             0                             0  \n2                             0                             0  \n3                             0                             0  \n4                             0                             0  \n\n[5 rows x 196 columns]",
      "text/html": "<div>\n<style scoped>\n    .dataframe tbody tr th:only-of-type {\n        vertical-align: middle;\n    }\n\n    .dataframe tbody tr th {\n        vertical-align: top;\n    }\n\n    .dataframe thead th {\n        text-align: right;\n    }\n</style>\n<table border=\"1\" class=\"dataframe\">\n  <thead>\n    <tr style=\"text-align: right;\">\n      <th></th>\n      <th>SK_ID_CURR</th>\n      <th>TARGET</th>\n      <th>NAME_CONTRACT_TYPE</th>\n      <th>CODE_GENDER</th>\n      <th>FLAG_OWN_CAR</th>\n      <th>FLAG_OWN_REALTY</th>\n      <th>CNT_CHILDREN</th>\n      <th>AMT_INCOME_TOTAL</th>\n      <th>AMT_CREDIT</th>\n      <th>AMT_ANNUITY</th>\n      <th>...</th>\n      <th>ORGANIZATION_TYPE_Trade: type 4</th>\n      <th>ORGANIZATION_TYPE_Trade: type 5</th>\n      <th>ORGANIZATION_TYPE_Trade: type 6</th>\n      <th>ORGANIZATION_TYPE_Trade: type 7</th>\n      <th>ORGANIZATION_TYPE_Transport: type 1</th>\n      <th>ORGANIZATION_TYPE_Transport: type 2</th>\n      <th>ORGANIZATION_TYPE_Transport: type 3</th>\n      <th>ORGANIZATION_TYPE_Transport: type 4</th>\n      <th>ORGANIZATION_TYPE_Unemployed</th>\n      <th>ORGANIZATION_TYPE_University</th>\n    </tr>\n  </thead>\n  <tbody>\n    <tr>\n      <th>0</th>\n      <td>100002</td>\n      <td>1.0</td>\n      <td>0</td>\n      <td>0</td>\n      <td>0</td>\n      <td>0</td>\n      <td>0</td>\n      <td>202500.0</td>\n      <td>406597.5</td>\n      <td>24700.5</td>\n      <td>...</td>\n      <td>0</td>\n      <td>0</td>\n      <td>0</td>\n      <td>0</td>\n      <td>0</td>\n      <td>0</td>\n      <td>0</td>\n      <td>0</td>\n      <td>0</td>\n      <td>0</td>\n    </tr>\n    <tr>\n      <th>1</th>\n      <td>100003</td>\n      <td>0.0</td>\n      <td>0</td>\n      <td>1</td>\n      <td>0</td>\n      <td>1</td>\n      <td>0</td>\n      <td>270000.0</td>\n      <td>1293502.5</td>\n      <td>35698.5</td>\n      <td>...</td>\n      <td>0</td>\n      <td>0</td>\n      <td>0</td>\n      <td>0</td>\n      <td>0</td>\n      <td>0</td>\n      <td>0</td>\n      <td>0</td>\n      <td>0</td>\n      <td>0</td>\n    </tr>\n    <tr>\n      <th>2</th>\n      <td>100004</td>\n      <td>0.0</td>\n      <td>1</td>\n      <td>0</td>\n      <td>1</td>\n      <td>0</td>\n      <td>0</td>\n      <td>67500.0</td>\n      <td>135000.0</td>\n      <td>6750.0</td>\n      <td>...</td>\n      <td>0</td>\n      <td>0</td>\n      <td>0</td>\n      <td>0</td>\n      <td>0</td>\n      <td>0</td>\n      <td>0</td>\n      <td>0</td>\n      <td>0</td>\n      <td>0</td>\n    </tr>\n    <tr>\n      <th>3</th>\n      <td>100006</td>\n      <td>0.0</td>\n      <td>0</td>\n      <td>1</td>\n      <td>0</td>\n      <td>0</td>\n      <td>0</td>\n      <td>135000.0</td>\n      <td>312682.5</td>\n      <td>29686.5</td>\n      <td>...</td>\n      <td>0</td>\n      <td>0</td>\n      <td>0</td>\n      <td>0</td>\n      <td>0</td>\n      <td>0</td>\n      <td>0</td>\n      <td>0</td>\n      <td>0</td>\n      <td>0</td>\n    </tr>\n    <tr>\n      <th>4</th>\n      <td>100007</td>\n      <td>0.0</td>\n      <td>0</td>\n      <td>0</td>\n      <td>0</td>\n      <td>0</td>\n      <td>0</td>\n      <td>121500.0</td>\n      <td>513000.0</td>\n      <td>21865.5</td>\n      <td>...</td>\n      <td>0</td>\n      <td>0</td>\n      <td>0</td>\n      <td>0</td>\n      <td>0</td>\n      <td>0</td>\n      <td>0</td>\n      <td>0</td>\n      <td>0</td>\n      <td>0</td>\n    </tr>\n  </tbody>\n</table>\n<p>5 rows × 196 columns</p>\n</div>"
     },
     "execution_count": 20,
     "metadata": {},
     "output_type": "execute_result"
    }
   ],
   "source": [
    "temp_app.head()"
   ],
   "metadata": {
    "collapsed": false,
    "pycharm": {
     "name": "#%%\n"
    }
   }
  },
  {
   "cell_type": "code",
   "execution_count": 21,
   "outputs": [
    {
     "name": "stdout",
     "output_type": "stream",
     "text": [
      "Le jeu de données contient 356248 lignes et 196 colonnes.\n"
     ]
    }
   ],
   "source": [
    "dim(temp_app)"
   ],
   "metadata": {
    "collapsed": false,
    "pycharm": {
     "name": "#%%\n"
    }
   }
  },
  {
   "cell_type": "markdown",
   "source": [
    "<br>\n",
    "\n",
    "---"
   ],
   "metadata": {
    "collapsed": false,
    "pycharm": {
     "name": "#%% md\n"
    }
   }
  },
  {
   "cell_type": "markdown",
   "source": [
    "**Pour chacun des jeux de données additionnels, on effectuera l'analyse suivante :**\n",
    "\n",
    "1) Étude des valeurs manquantes\n",
    "2) Recherche de doublons\n",
    "3) Comparaison des clients ID avec le jeu de données application_train\n",
    "4) Étude des modalités des variables catégorielles\n",
    "5) Calcul du pourcentage du mode de chaque variable et filtre si nécessaire\n",
    "6) Analyse des centiles pour détecter d'éventuels outliers"
   ],
   "metadata": {
    "collapsed": false,
    "pycharm": {
     "name": "#%% md\n"
    }
   }
  },
  {
   "cell_type": "markdown",
   "source": [
    "##  <span style='background :#96e773' > 4. bureau & bureau_balance </span>\n",
    "### <span style='background :#e3e33d' > 4.1 Analyses rapides </span>\n",
    "#### <span style='background :#cdcdfc' > Bureau </span>"
   ],
   "metadata": {
    "collapsed": false,
    "pycharm": {
     "name": "#%% md\n"
    }
   }
  },
  {
   "cell_type": "code",
   "execution_count": 22,
   "outputs": [
    {
     "name": "stdout",
     "output_type": "stream",
     "text": [
      "Memory usage of dataframe is 222.62 MB\n",
      "Memory usage after optimization is: 119.49 MB\n",
      "Decreased by 46.3%\n"
     ]
    },
    {
     "data": {
      "text/plain": "   SK_ID_CURR  SK_ID_BUREAU CREDIT_ACTIVE CREDIT_CURRENCY  DAYS_CREDIT  \\\n0      215354       5714462        Closed      currency 1         -497   \n1      215354       5714463        Active      currency 1         -208   \n2      215354       5714464        Active      currency 1         -203   \n3      215354       5714465        Active      currency 1         -203   \n4      215354       5714466        Active      currency 1         -629   \n5      215354       5714467        Active      currency 1         -273   \n6      215354       5714468        Active      currency 1          -43   \n7      162297       5714469        Closed      currency 1        -1896   \n8      162297       5714470        Closed      currency 1        -1146   \n9      162297       5714471        Active      currency 1        -1146   \n\n   CREDIT_DAY_OVERDUE  DAYS_CREDIT_ENDDATE  DAYS_ENDDATE_FACT  \\\n0                   0               -153.0             -153.0   \n1                   0               1075.0                NaN   \n2                   0                528.0                NaN   \n3                   0                  NaN                NaN   \n4                   0               1197.0                NaN   \n5                   0              27460.0                NaN   \n6                   0                 79.0                NaN   \n7                   0              -1684.0            -1710.0   \n8                   0               -811.0             -840.0   \n9                   0               -484.0                NaN   \n\n   AMT_CREDIT_MAX_OVERDUE  CNT_CREDIT_PROLONG  AMT_CREDIT_SUM  \\\n0                     NaN                   0    9.132300e+04   \n1                     NaN                   0    2.250000e+05   \n2                     NaN                   0    4.643235e+05   \n3                     NaN                   0    9.000000e+04   \n4                 77674.5                   0    2.700000e+06   \n5                     0.0                   0    1.800000e+05   \n6                     0.0                   0    4.210380e+04   \n7                 14985.0                   0    7.687845e+04   \n8                     0.0                   0    1.030077e+05   \n9                     0.0                   0    4.500000e+03   \n\n   AMT_CREDIT_SUM_DEBT  AMT_CREDIT_SUM_LIMIT  AMT_CREDIT_SUM_OVERDUE  \\\n0             0.000000                   NaN                     0.0   \n1        171342.000000                   NaN                     0.0   \n2                  NaN                   NaN                     0.0   \n3                  NaN                   NaN                     0.0   \n4                  NaN                   NaN                     0.0   \n5         71017.382812         108982.617188                     0.0   \n6         42103.800781              0.000000                     0.0   \n7             0.000000              0.000000                     0.0   \n8             0.000000              0.000000                     0.0   \n9             0.000000              0.000000                     0.0   \n\n       CREDIT_TYPE  DAYS_CREDIT_UPDATE  AMT_ANNUITY  \n0  Consumer credit                -131          NaN  \n1      Credit card                 -20          NaN  \n2  Consumer credit                 -16          NaN  \n3      Credit card                 -16          NaN  \n4  Consumer credit                 -21          NaN  \n5      Credit card                 -31          NaN  \n6  Consumer credit                 -22          NaN  \n7  Consumer credit               -1710          NaN  \n8  Consumer credit                -840          NaN  \n9      Credit card                -690          NaN  ",
      "text/html": "<div>\n<style scoped>\n    .dataframe tbody tr th:only-of-type {\n        vertical-align: middle;\n    }\n\n    .dataframe tbody tr th {\n        vertical-align: top;\n    }\n\n    .dataframe thead th {\n        text-align: right;\n    }\n</style>\n<table border=\"1\" class=\"dataframe\">\n  <thead>\n    <tr style=\"text-align: right;\">\n      <th></th>\n      <th>SK_ID_CURR</th>\n      <th>SK_ID_BUREAU</th>\n      <th>CREDIT_ACTIVE</th>\n      <th>CREDIT_CURRENCY</th>\n      <th>DAYS_CREDIT</th>\n      <th>CREDIT_DAY_OVERDUE</th>\n      <th>DAYS_CREDIT_ENDDATE</th>\n      <th>DAYS_ENDDATE_FACT</th>\n      <th>AMT_CREDIT_MAX_OVERDUE</th>\n      <th>CNT_CREDIT_PROLONG</th>\n      <th>AMT_CREDIT_SUM</th>\n      <th>AMT_CREDIT_SUM_DEBT</th>\n      <th>AMT_CREDIT_SUM_LIMIT</th>\n      <th>AMT_CREDIT_SUM_OVERDUE</th>\n      <th>CREDIT_TYPE</th>\n      <th>DAYS_CREDIT_UPDATE</th>\n      <th>AMT_ANNUITY</th>\n    </tr>\n  </thead>\n  <tbody>\n    <tr>\n      <th>0</th>\n      <td>215354</td>\n      <td>5714462</td>\n      <td>Closed</td>\n      <td>currency 1</td>\n      <td>-497</td>\n      <td>0</td>\n      <td>-153.0</td>\n      <td>-153.0</td>\n      <td>NaN</td>\n      <td>0</td>\n      <td>9.132300e+04</td>\n      <td>0.000000</td>\n      <td>NaN</td>\n      <td>0.0</td>\n      <td>Consumer credit</td>\n      <td>-131</td>\n      <td>NaN</td>\n    </tr>\n    <tr>\n      <th>1</th>\n      <td>215354</td>\n      <td>5714463</td>\n      <td>Active</td>\n      <td>currency 1</td>\n      <td>-208</td>\n      <td>0</td>\n      <td>1075.0</td>\n      <td>NaN</td>\n      <td>NaN</td>\n      <td>0</td>\n      <td>2.250000e+05</td>\n      <td>171342.000000</td>\n      <td>NaN</td>\n      <td>0.0</td>\n      <td>Credit card</td>\n      <td>-20</td>\n      <td>NaN</td>\n    </tr>\n    <tr>\n      <th>2</th>\n      <td>215354</td>\n      <td>5714464</td>\n      <td>Active</td>\n      <td>currency 1</td>\n      <td>-203</td>\n      <td>0</td>\n      <td>528.0</td>\n      <td>NaN</td>\n      <td>NaN</td>\n      <td>0</td>\n      <td>4.643235e+05</td>\n      <td>NaN</td>\n      <td>NaN</td>\n      <td>0.0</td>\n      <td>Consumer credit</td>\n      <td>-16</td>\n      <td>NaN</td>\n    </tr>\n    <tr>\n      <th>3</th>\n      <td>215354</td>\n      <td>5714465</td>\n      <td>Active</td>\n      <td>currency 1</td>\n      <td>-203</td>\n      <td>0</td>\n      <td>NaN</td>\n      <td>NaN</td>\n      <td>NaN</td>\n      <td>0</td>\n      <td>9.000000e+04</td>\n      <td>NaN</td>\n      <td>NaN</td>\n      <td>0.0</td>\n      <td>Credit card</td>\n      <td>-16</td>\n      <td>NaN</td>\n    </tr>\n    <tr>\n      <th>4</th>\n      <td>215354</td>\n      <td>5714466</td>\n      <td>Active</td>\n      <td>currency 1</td>\n      <td>-629</td>\n      <td>0</td>\n      <td>1197.0</td>\n      <td>NaN</td>\n      <td>77674.5</td>\n      <td>0</td>\n      <td>2.700000e+06</td>\n      <td>NaN</td>\n      <td>NaN</td>\n      <td>0.0</td>\n      <td>Consumer credit</td>\n      <td>-21</td>\n      <td>NaN</td>\n    </tr>\n    <tr>\n      <th>5</th>\n      <td>215354</td>\n      <td>5714467</td>\n      <td>Active</td>\n      <td>currency 1</td>\n      <td>-273</td>\n      <td>0</td>\n      <td>27460.0</td>\n      <td>NaN</td>\n      <td>0.0</td>\n      <td>0</td>\n      <td>1.800000e+05</td>\n      <td>71017.382812</td>\n      <td>108982.617188</td>\n      <td>0.0</td>\n      <td>Credit card</td>\n      <td>-31</td>\n      <td>NaN</td>\n    </tr>\n    <tr>\n      <th>6</th>\n      <td>215354</td>\n      <td>5714468</td>\n      <td>Active</td>\n      <td>currency 1</td>\n      <td>-43</td>\n      <td>0</td>\n      <td>79.0</td>\n      <td>NaN</td>\n      <td>0.0</td>\n      <td>0</td>\n      <td>4.210380e+04</td>\n      <td>42103.800781</td>\n      <td>0.000000</td>\n      <td>0.0</td>\n      <td>Consumer credit</td>\n      <td>-22</td>\n      <td>NaN</td>\n    </tr>\n    <tr>\n      <th>7</th>\n      <td>162297</td>\n      <td>5714469</td>\n      <td>Closed</td>\n      <td>currency 1</td>\n      <td>-1896</td>\n      <td>0</td>\n      <td>-1684.0</td>\n      <td>-1710.0</td>\n      <td>14985.0</td>\n      <td>0</td>\n      <td>7.687845e+04</td>\n      <td>0.000000</td>\n      <td>0.000000</td>\n      <td>0.0</td>\n      <td>Consumer credit</td>\n      <td>-1710</td>\n      <td>NaN</td>\n    </tr>\n    <tr>\n      <th>8</th>\n      <td>162297</td>\n      <td>5714470</td>\n      <td>Closed</td>\n      <td>currency 1</td>\n      <td>-1146</td>\n      <td>0</td>\n      <td>-811.0</td>\n      <td>-840.0</td>\n      <td>0.0</td>\n      <td>0</td>\n      <td>1.030077e+05</td>\n      <td>0.000000</td>\n      <td>0.000000</td>\n      <td>0.0</td>\n      <td>Consumer credit</td>\n      <td>-840</td>\n      <td>NaN</td>\n    </tr>\n    <tr>\n      <th>9</th>\n      <td>162297</td>\n      <td>5714471</td>\n      <td>Active</td>\n      <td>currency 1</td>\n      <td>-1146</td>\n      <td>0</td>\n      <td>-484.0</td>\n      <td>NaN</td>\n      <td>0.0</td>\n      <td>0</td>\n      <td>4.500000e+03</td>\n      <td>0.000000</td>\n      <td>0.000000</td>\n      <td>0.0</td>\n      <td>Credit card</td>\n      <td>-690</td>\n      <td>NaN</td>\n    </tr>\n  </tbody>\n</table>\n</div>"
     },
     "execution_count": 22,
     "metadata": {},
     "output_type": "execute_result"
    }
   ],
   "source": [
    "bureau = reduce_mem_usage(bureau)\n",
    "bureau.head(10)"
   ],
   "metadata": {
    "collapsed": false,
    "pycharm": {
     "name": "#%%\n"
    }
   }
  },
  {
   "cell_type": "code",
   "execution_count": 23,
   "outputs": [
    {
     "name": "stdout",
     "output_type": "stream",
     "text": [
      "Le jeu de données contient 1716428 lignes et 17 colonnes.\n",
      "Le jeu de données contient 3939947 valeurs manquantes (13.503%).\n"
     ]
    }
   ],
   "source": [
    "dim(bureau)\n",
    "missing_values(bureau)"
   ],
   "metadata": {
    "collapsed": false,
    "pycharm": {
     "name": "#%%\n"
    }
   }
  },
  {
   "cell_type": "code",
   "execution_count": 24,
   "outputs": [
    {
     "data": {
      "text/plain": "float32    8\nint32      3\nobject     3\nint16      2\nint8       1\ndtype: int64"
     },
     "execution_count": 24,
     "metadata": {},
     "output_type": "execute_result"
    }
   ],
   "source": [
    "bureau.dtypes.value_counts()"
   ],
   "metadata": {
    "collapsed": false,
    "pycharm": {
     "name": "#%%\n"
    }
   }
  },
  {
   "cell_type": "code",
   "execution_count": 25,
   "outputs": [
    {
     "data": {
      "text/plain": "<Figure size 640x480 with 1 Axes>",
      "image/png": "[encoded data removed]"
     },
     "metadata": {},
     "output_type": "display_data"
    }
   ],
   "source": [
    "bureau.dtypes.value_counts().plot.pie()\n",
    "plt.ylabel('')\n",
    "plt.show()"
   ],
   "metadata": {
    "collapsed": false,
    "pycharm": {
     "name": "#%%\n"
    }
   }
  },
  {
   "cell_type": "code",
   "execution_count": 26,
   "outputs": [
    {
     "data": {
      "text/plain": "                  Variable  Nombre de valeurs renseignées  \\\n0               SK_ID_CURR                        1716428   \n1             SK_ID_BUREAU                        1716428   \n2            CREDIT_ACTIVE                        1716428   \n3          CREDIT_CURRENCY                        1716428   \n4              DAYS_CREDIT                        1716428   \n5       CREDIT_DAY_OVERDUE                        1716428   \n6      DAYS_CREDIT_ENDDATE                        1610875   \n7        DAYS_ENDDATE_FACT                        1082775   \n8   AMT_CREDIT_MAX_OVERDUE                         591940   \n9       CNT_CREDIT_PROLONG                        1716428   \n10          AMT_CREDIT_SUM                        1716415   \n11     AMT_CREDIT_SUM_DEBT                        1458759   \n12    AMT_CREDIT_SUM_LIMIT                        1124648   \n13  AMT_CREDIT_SUM_OVERDUE                        1716428   \n14             CREDIT_TYPE                        1716428   \n15      DAYS_CREDIT_UPDATE                        1716428   \n16             AMT_ANNUITY                         489637   \n\n    Nombre de valeurs manquantes  Taux de remplissage (%)  \n0                              0                  100.000  \n1                              0                  100.000  \n2                              0                  100.000  \n3                              0                  100.000  \n4                              0                  100.000  \n5                              0                  100.000  \n6                         105553                   93.850  \n7                         633653                   63.083  \n8                        1124488                   34.487  \n9                              0                  100.000  \n10                            13                   99.999  \n11                        257669                   84.988  \n12                        591780                   65.523  \n13                             0                  100.000  \n14                             0                  100.000  \n15                             0                  100.000  \n16                       1226791                   28.527  ",
      "text/html": "<div>\n<style scoped>\n    .dataframe tbody tr th:only-of-type {\n        vertical-align: middle;\n    }\n\n    .dataframe tbody tr th {\n        vertical-align: top;\n    }\n\n    .dataframe thead th {\n        text-align: right;\n    }\n</style>\n<table border=\"1\" class=\"dataframe\">\n  <thead>\n    <tr style=\"text-align: right;\">\n      <th></th>\n      <th>Variable</th>\n      <th>Nombre de valeurs renseignées</th>\n      <th>Nombre de valeurs manquantes</th>\n      <th>Taux de remplissage (%)</th>\n    </tr>\n  </thead>\n  <tbody>\n    <tr>\n      <th>0</th>\n      <td>SK_ID_CURR</td>\n      <td>1716428</td>\n      <td>0</td>\n      <td>100.000</td>\n    </tr>\n    <tr>\n      <th>1</th>\n      <td>SK_ID_BUREAU</td>\n      <td>1716428</td>\n      <td>0</td>\n      <td>100.000</td>\n    </tr>\n    <tr>\n      <th>2</th>\n      <td>CREDIT_ACTIVE</td>\n      <td>1716428</td>\n      <td>0</td>\n      <td>100.000</td>\n    </tr>\n    <tr>\n      <th>3</th>\n      <td>CREDIT_CURRENCY</td>\n      <td>1716428</td>\n      <td>0</td>\n      <td>100.000</td>\n    </tr>\n    <tr>\n      <th>4</th>\n      <td>DAYS_CREDIT</td>\n      <td>1716428</td>\n      <td>0</td>\n      <td>100.000</td>\n    </tr>\n    <tr>\n      <th>5</th>\n      <td>CREDIT_DAY_OVERDUE</td>\n      <td>1716428</td>\n      <td>0</td>\n      <td>100.000</td>\n    </tr>\n    <tr>\n      <th>6</th>\n      <td>DAYS_CREDIT_ENDDATE</td>\n      <td>1610875</td>\n      <td>105553</td>\n      <td>93.850</td>\n    </tr>\n    <tr>\n      <th>7</th>\n      <td>DAYS_ENDDATE_FACT</td>\n      <td>1082775</td>\n      <td>633653</td>\n      <td>63.083</td>\n    </tr>\n    <tr>\n      <th>8</th>\n      <td>AMT_CREDIT_MAX_OVERDUE</td>\n      <td>591940</td>\n      <td>1124488</td>\n      <td>34.487</td>\n    </tr>\n    <tr>\n      <th>9</th>\n      <td>CNT_CREDIT_PROLONG</td>\n      <td>1716428</td>\n      <td>0</td>\n      <td>100.000</td>\n    </tr>\n    <tr>\n      <th>10</th>\n      <td>AMT_CREDIT_SUM</td>\n      <td>1716415</td>\n      <td>13</td>\n      <td>99.999</td>\n    </tr>\n    <tr>\n      <th>11</th>\n      <td>AMT_CREDIT_SUM_DEBT</td>\n      <td>1458759</td>\n      <td>257669</td>\n      <td>84.988</td>\n    </tr>\n    <tr>\n      <th>12</th>\n      <td>AMT_CREDIT_SUM_LIMIT</td>\n      <td>1124648</td>\n      <td>591780</td>\n      <td>65.523</td>\n    </tr>\n    <tr>\n      <th>13</th>\n      <td>AMT_CREDIT_SUM_OVERDUE</td>\n      <td>1716428</td>\n      <td>0</td>\n      <td>100.000</td>\n    </tr>\n    <tr>\n      <th>14</th>\n      <td>CREDIT_TYPE</td>\n      <td>1716428</td>\n      <td>0</td>\n      <td>100.000</td>\n    </tr>\n    <tr>\n      <th>15</th>\n      <td>DAYS_CREDIT_UPDATE</td>\n      <td>1716428</td>\n      <td>0</td>\n      <td>100.000</td>\n    </tr>\n    <tr>\n      <th>16</th>\n      <td>AMT_ANNUITY</td>\n      <td>489637</td>\n      <td>1226791</td>\n      <td>28.527</td>\n    </tr>\n  </tbody>\n</table>\n</div>"
     },
     "execution_count": 26,
     "metadata": {},
     "output_type": "execute_result"
    }
   ],
   "source": [
    "recap_missing_values(bureau)"
   ],
   "metadata": {
    "collapsed": false,
    "pycharm": {
     "name": "#%%\n"
    }
   }
  },
  {
   "cell_type": "code",
   "execution_count": 27,
   "outputs": [
    {
     "name": "stdout",
     "output_type": "stream",
     "text": [
      "Nombre de colonnes doublons : 0\n"
     ]
    }
   ],
   "source": [
    "# Recherche de colonnes doublons\n",
    "\n",
    "duplicateColNames = getDuplicateColumns(bureau)\n",
    "d = len(duplicateColNames)\n",
    "print(f'Nombre de colonnes doublons : {d}')"
   ],
   "metadata": {
    "collapsed": false,
    "pycharm": {
     "name": "#%%\n"
    }
   }
  },
  {
   "cell_type": "code",
   "execution_count": 28,
   "outputs": [
    {
     "name": "stdout",
     "output_type": "stream",
     "text": [
      "Nombre de lignes doublons : 0\n"
     ]
    }
   ],
   "source": [
    "# Recherche de lignes doublons sur chaque variable\n",
    "\n",
    "d = bureau.duplicated(keep='first').sum()\n",
    "print(f'Nombre de lignes doublons : {d}')"
   ],
   "metadata": {
    "collapsed": false,
    "pycharm": {
     "name": "#%%\n"
    }
   }
  },
  {
   "cell_type": "code",
   "execution_count": 29,
   "outputs": [
    {
     "data": {
      "text/plain": "305811"
     },
     "execution_count": 29,
     "metadata": {},
     "output_type": "execute_result"
    }
   ],
   "source": [
    "bureau['SK_ID_CURR'].nunique()"
   ],
   "metadata": {
    "collapsed": false,
    "pycharm": {
     "name": "#%%\n"
    }
   }
  },
  {
   "cell_type": "code",
   "execution_count": 30,
   "outputs": [
    {
     "name": "stdout",
     "output_type": "stream",
     "text": [
      "Nombre de clé de df1 absentes de df2 : 50439\n"
     ]
    },
    {
     "data": {
      "text/plain": "    SK_ID_CURR  TARGET  NAME_CONTRACT_TYPE  CODE_GENDER  FLAG_OWN_CAR  \\\n3       100006     0.0                   0            1             0   \n9       100012     0.0                   1            0             0   \n14      100018     0.0                   0            1             0   \n17      100021     0.0                   1            1             0   \n20      100024     0.0                   1            0             1   \n\n    FLAG_OWN_REALTY  CNT_CHILDREN  AMT_INCOME_TOTAL  AMT_CREDIT  AMT_ANNUITY  \\\n3                 0             0          135000.0    312682.5      29686.5   \n9                 0             0          135000.0    405000.0      20250.0   \n14                0             0          189000.0    773680.5      32778.0   \n17                0             1           81000.0    270000.0      13500.0   \n20                0             0          135000.0    427500.0      21375.0   \n\n    ...  ORGANIZATION_TYPE_Trade: type 4  ORGANIZATION_TYPE_Trade: type 5  \\\n3   ...                                0                                0   \n9   ...                                0                                0   \n14  ...                                0                                0   \n17  ...                                0                                0   \n20  ...                                0                                0   \n\n    ORGANIZATION_TYPE_Trade: type 6  ORGANIZATION_TYPE_Trade: type 7  \\\n3                                 0                                0   \n9                                 0                                0   \n14                                0                                0   \n17                                0                                0   \n20                                0                                0   \n\n    ORGANIZATION_TYPE_Transport: type 1  ORGANIZATION_TYPE_Transport: type 2  \\\n3                                     0                                    0   \n9                                     0                                    0   \n14                                    0                                    1   \n17                                    0                                    0   \n20                                    0                                    0   \n\n    ORGANIZATION_TYPE_Transport: type 3  ORGANIZATION_TYPE_Transport: type 4  \\\n3                                     0                                    0   \n9                                     0                                    0   \n14                                    0                                    0   \n17                                    0                                    0   \n20                                    0                                    0   \n\n    ORGANIZATION_TYPE_Unemployed  ORGANIZATION_TYPE_University  \n3                              0                             0  \n9                              0                             0  \n14                             0                             0  \n17                             0                             0  \n20                             0                             0  \n\n[5 rows x 196 columns]",
      "text/html": "<div>\n<style scoped>\n    .dataframe tbody tr th:only-of-type {\n        vertical-align: middle;\n    }\n\n    .dataframe tbody tr th {\n        vertical-align: top;\n    }\n\n    .dataframe thead th {\n        text-align: right;\n    }\n</style>\n<table border=\"1\" class=\"dataframe\">\n  <thead>\n    <tr style=\"text-align: right;\">\n      <th></th>\n      <th>SK_ID_CURR</th>\n      <th>TARGET</th>\n      <th>NAME_CONTRACT_TYPE</th>\n      <th>CODE_GENDER</th>\n      <th>FLAG_OWN_CAR</th>\n      <th>FLAG_OWN_REALTY</th>\n      <th>CNT_CHILDREN</th>\n      <th>AMT_INCOME_TOTAL</th>\n      <th>AMT_CREDIT</th>\n      <th>AMT_ANNUITY</th>\n      <th>...</th>\n      <th>ORGANIZATION_TYPE_Trade: type 4</th>\n      <th>ORGANIZATION_TYPE_Trade: type 5</th>\n      <th>ORGANIZATION_TYPE_Trade: type 6</th>\n      <th>ORGANIZATION_TYPE_Trade: type 7</th>\n      <th>ORGANIZATION_TYPE_Transport: type 1</th>\n      <th>ORGANIZATION_TYPE_Transport: type 2</th>\n      <th>ORGANIZATION_TYPE_Transport: type 3</th>\n      <th>ORGANIZATION_TYPE_Transport: type 4</th>\n      <th>ORGANIZATION_TYPE_Unemployed</th>\n      <th>ORGANIZATION_TYPE_University</th>\n    </tr>\n  </thead>\n  <tbody>\n    <tr>\n      <th>3</th>\n      <td>100006</td>\n      <td>0.0</td>\n      <td>0</td>\n      <td>1</td>\n      <td>0</td>\n      <td>0</td>\n      <td>0</td>\n      <td>135000.0</td>\n      <td>312682.5</td>\n      <td>29686.5</td>\n      <td>...</td>\n      <td>0</td>\n      <td>0</td>\n      <td>0</td>\n      <td>0</td>\n      <td>0</td>\n      <td>0</td>\n      <td>0</td>\n      <td>0</td>\n      <td>0</td>\n      <td>0</td>\n    </tr>\n    <tr>\n      <th>9</th>\n      <td>100012</td>\n      <td>0.0</td>\n      <td>1</td>\n      <td>0</td>\n      <td>0</td>\n      <td>0</td>\n      <td>0</td>\n      <td>135000.0</td>\n      <td>405000.0</td>\n      <td>20250.0</td>\n      <td>...</td>\n      <td>0</td>\n      <td>0</td>\n      <td>0</td>\n      <td>0</td>\n      <td>0</td>\n      <td>0</td>\n      <td>0</td>\n      <td>0</td>\n      <td>0</td>\n      <td>0</td>\n    </tr>\n    <tr>\n      <th>14</th>\n      <td>100018</td>\n      <td>0.0</td>\n      <td>0</td>\n      <td>1</td>\n      <td>0</td>\n      <td>0</td>\n      <td>0</td>\n      <td>189000.0</td>\n      <td>773680.5</td>\n      <td>32778.0</td>\n      <td>...</td>\n      <td>0</td>\n      <td>0</td>\n      <td>0</td>\n      <td>0</td>\n      <td>0</td>\n      <td>1</td>\n      <td>0</td>\n      <td>0</td>\n      <td>0</td>\n      <td>0</td>\n    </tr>\n    <tr>\n      <th>17</th>\n      <td>100021</td>\n      <td>0.0</td>\n      <td>1</td>\n      <td>1</td>\n      <td>0</td>\n      <td>0</td>\n      <td>1</td>\n      <td>81000.0</td>\n      <td>270000.0</td>\n      <td>13500.0</td>\n      <td>...</td>\n      <td>0</td>\n      <td>0</td>\n      <td>0</td>\n      <td>0</td>\n      <td>0</td>\n      <td>0</td>\n      <td>0</td>\n      <td>0</td>\n      <td>0</td>\n      <td>0</td>\n    </tr>\n    <tr>\n      <th>20</th>\n      <td>100024</td>\n      <td>0.0</td>\n      <td>1</td>\n      <td>0</td>\n      <td>1</td>\n      <td>0</td>\n      <td>0</td>\n      <td>135000.0</td>\n      <td>427500.0</td>\n      <td>21375.0</td>\n      <td>...</td>\n      <td>0</td>\n      <td>0</td>\n      <td>0</td>\n      <td>0</td>\n      <td>0</td>\n      <td>0</td>\n      <td>0</td>\n      <td>0</td>\n      <td>0</td>\n      <td>0</td>\n    </tr>\n  </tbody>\n</table>\n<p>5 rows × 196 columns</p>\n</div>"
     },
     "execution_count": 30,
     "metadata": {},
     "output_type": "execute_result"
    }
   ],
   "source": [
    "comparaison_key(temp_app, bureau, 'SK_ID_CURR', 'SK_ID_CURR').head(5)"
   ],
   "metadata": {
    "collapsed": false,
    "pycharm": {
     "name": "#%%\n"
    }
   }
  },
  {
   "cell_type": "markdown",
   "source": [
    "50437 clients absents de bureau et donc sans historique de crédit."
   ],
   "metadata": {
    "collapsed": false,
    "pycharm": {
     "name": "#%% md\n"
    }
   }
  },
  {
   "cell_type": "code",
   "execution_count": 31,
   "outputs": [
    {
     "name": "stdout",
     "output_type": "stream",
     "text": [
      "Le jeu de données contient 1716426 lignes et 17 colonnes.\n"
     ]
    }
   ],
   "source": [
    "bureau = bureau[bureau['SK_ID_CURR'].isin(temp_app['SK_ID_CURR'])]\n",
    "dim(bureau)"
   ],
   "metadata": {
    "collapsed": false,
    "pycharm": {
     "name": "#%%\n"
    }
   }
  },
  {
   "cell_type": "code",
   "execution_count": 32,
   "outputs": [
    {
     "data": {
      "text/plain": "1716426"
     },
     "execution_count": 32,
     "metadata": {},
     "output_type": "execute_result"
    }
   ],
   "source": [
    "bureau['SK_ID_BUREAU'].nunique()"
   ],
   "metadata": {
    "collapsed": false,
    "pycharm": {
     "name": "#%%\n"
    }
   }
  },
  {
   "cell_type": "code",
   "execution_count": 33,
   "outputs": [
    {
     "data": {
      "text/plain": "['CREDIT_ACTIVE', 'CREDIT_CURRENCY', 'CREDIT_TYPE']"
     },
     "execution_count": 33,
     "metadata": {},
     "output_type": "execute_result"
    }
   ],
   "source": [
    "list_var_categ = bureau.select_dtypes('object').columns.tolist()\n",
    "list_var_categ"
   ],
   "metadata": {
    "collapsed": false,
    "pycharm": {
     "name": "#%%\n"
    }
   }
  },
  {
   "cell_type": "code",
   "execution_count": 34,
   "outputs": [
    {
     "data": {
      "text/plain": "CREDIT_ACTIVE       4\nCREDIT_CURRENCY     4\nCREDIT_TYPE        15\ndtype: int64"
     },
     "execution_count": 34,
     "metadata": {},
     "output_type": "execute_result"
    }
   ],
   "source": [
    "# Number of unique classes in each object column\n",
    "bureau[list_var_categ].nunique()"
   ],
   "metadata": {
    "collapsed": false,
    "pycharm": {
     "name": "#%%\n"
    }
   }
  },
  {
   "cell_type": "code",
   "execution_count": 35,
   "outputs": [
    {
     "name": "stdout",
     "output_type": "stream",
     "text": [
      "CREDIT_ACTIVE : ['Closed' 'Active' 'Sold' 'Bad debt']\n",
      "\n",
      "CREDIT_CURRENCY : ['currency 1' 'currency 2' 'currency 4' 'currency 3']\n",
      "\n",
      "CREDIT_TYPE : ['Consumer credit' 'Credit card' 'Mortgage' 'Car loan' 'Microloan'\n",
      " 'Loan for working capital replenishment' 'Loan for business development'\n",
      " 'Real estate loan' 'Unknown type of loan' 'Another type of loan'\n",
      " 'Cash loan (non-earmarked)' 'Loan for the purchase of equipment'\n",
      " 'Mobile operator loan' 'Interbank credit'\n",
      " 'Loan for purchase of shares (margin lending)']\n",
      "\n"
     ]
    }
   ],
   "source": [
    "for f in list_var_categ:\n",
    "        print(f'{f} : {bureau[f].unique()}')\n",
    "        print('')"
   ],
   "metadata": {
    "collapsed": false,
    "pycharm": {
     "name": "#%%\n"
    }
   }
  },
  {
   "cell_type": "code",
   "execution_count": 36,
   "outputs": [
    {
     "name": "stdout",
     "output_type": "stream",
     "text": [
      "                    Column             Mode      Mode_pct\n",
      "1             SK_ID_BUREAU          5000000  5.826059e-07\n",
      "0               SK_ID_CURR           120860  6.758229e-05\n",
      "6      DAYS_CREDIT_ENDDATE              0.0  5.481500e-04\n",
      "7        DAYS_ENDDATE_FACT           -329.0  7.490021e-04\n",
      "4              DAYS_CREDIT             -364  7.748659e-04\n",
      "15      DAYS_CREDIT_UPDATE               -7  1.077996e-02\n",
      "10          AMT_CREDIT_SUM              0.0  3.879136e-02\n",
      "16             AMT_ANNUITY              0.0  5.247050e-01\n",
      "2            CREDIT_ACTIVE           Closed  6.287903e-01\n",
      "11     AMT_CREDIT_SUM_DEBT              0.0  6.967802e-01\n",
      "14             CREDIT_TYPE  Consumer credit  7.291978e-01\n",
      "8   AMT_CREDIT_MAX_OVERDUE              0.0  7.950988e-01\n",
      "12    AMT_CREDIT_SUM_LIMIT              0.0  9.337516e-01\n",
      "9       CNT_CREDIT_PROLONG                0  9.946901e-01\n",
      "5       CREDIT_DAY_OVERDUE                0  9.975432e-01\n",
      "13  AMT_CREDIT_SUM_OVERDUE              0.0  9.975775e-01\n",
      "3          CREDIT_CURRENCY       currency 1  9.991797e-01\n",
      "\n",
      "Liste des features à supprimer :\n",
      "['CREDIT_CURRENCY', 'CREDIT_DAY_OVERDUE', 'CNT_CREDIT_PROLONG', 'AMT_CREDIT_SUM_OVERDUE']\n"
     ]
    }
   ],
   "source": [
    "col_to_del = compute_mode_percentage(bureau, columns=bureau.columns, threshold=0.94, pr=True)"
   ],
   "metadata": {
    "collapsed": false,
    "pycharm": {
     "name": "#%%\n"
    }
   }
  },
  {
   "cell_type": "code",
   "execution_count": 37,
   "outputs": [],
   "source": [
    "bureau = bureau.drop(columns=col_to_del)"
   ],
   "metadata": {
    "collapsed": false,
    "pycharm": {
     "name": "#%%\n"
    }
   }
  },
  {
   "cell_type": "code",
   "execution_count": 38,
   "outputs": [
    {
     "data": {
      "text/plain": "                                 0%        1.0%        5.0%      10.0%  \\\nSK_ID_CURR               100001.000   103618.00   117919.00   135602.0   \nSK_ID_BUREAU            5000000.000  5018307.25  5092405.25  5184874.5   \nDAYS_CREDIT               -2922.000    -2867.00    -2665.00    -2443.0   \nDAYS_CREDIT_ENDDATE      -42060.000    -2571.00    -2262.00    -1922.0   \nDAYS_ENDDATE_FACT        -42023.000    -2639.00    -2393.00    -2159.0   \nAMT_CREDIT_MAX_OVERDUE        0.000        0.00        0.00        0.0   \nAMT_CREDIT_SUM                0.000        0.00    11250.00    22500.0   \nAMT_CREDIT_SUM_DEBT    -4705600.500        0.00        0.00        0.0   \nAMT_CREDIT_SUM_LIMIT    -586406.125        0.00        0.00        0.0   \nDAYS_CREDIT_UPDATE       -41947.000    -2531.00    -2079.00    -1561.0   \nAMT_ANNUITY                   0.000        0.00        0.00        0.0   \n\n                             25.0%      50.0%       75.0%        90.0%  \\\nSK_ID_CURR               188866.25   278055.0   367425.75   420963.500   \nSK_ID_BUREAU            5463953.25  5926302.5  6385679.75  6660629.500   \nDAYS_CREDIT               -1666.00     -987.0     -474.00     -215.000   \nDAYS_CREDIT_ENDDATE       -1138.00     -330.0      474.00     1334.000   \nDAYS_ENDDATE_FACT         -1489.00     -897.0     -425.00     -178.000   \nAMT_CREDIT_MAX_OVERDUE        0.00        0.0        0.00     7594.875   \nAMT_CREDIT_SUM            51300.00   125518.5   315000.00   778762.375   \nAMT_CREDIT_SUM_DEBT           0.00        0.0    40153.50   295456.500   \nAMT_CREDIT_SUM_LIMIT          0.00        0.0        0.00        0.000   \nDAYS_CREDIT_UPDATE         -908.00     -395.0      -33.00      -13.000   \nAMT_ANNUITY                   0.00        0.0    13500.00    31432.500   \n\n                               95.0%         99.0%         100%  \nSK_ID_CURR              4.386320e+05  4.527440e+05     456255.0  \nSK_ID_BUREAU            6.751975e+06  6.825134e+06    6843457.0  \nDAYS_CREDIT            -1.250000e+02 -3.800000e+01          0.0  \nDAYS_CREDIT_ENDDATE     2.623000e+03  3.102900e+04      31199.0  \nDAYS_ENDDATE_FACT      -9.400000e+01 -2.400000e+01          0.0  \nAMT_CREDIT_MAX_OVERDUE  1.422046e+04  4.198877e+04  115987184.0  \nAMT_CREDIT_SUM          1.350000e+06  3.700919e+06  585000000.0  \nAMT_CREDIT_SUM_DEBT     6.289029e+05  2.259730e+06  170100000.0  \nAMT_CREDIT_SUM_LIMIT    5.736116e+03  1.996208e+05    4705600.5  \nDAYS_CREDIT_UPDATE     -8.000000e+00 -3.000000e+00        372.0  \nAMT_ANNUITY             4.657140e+04  1.184519e+05  118453424.0  ",
      "text/html": "<div>\n<style scoped>\n    .dataframe tbody tr th:only-of-type {\n        vertical-align: middle;\n    }\n\n    .dataframe tbody tr th {\n        vertical-align: top;\n    }\n\n    .dataframe thead th {\n        text-align: right;\n    }\n</style>\n<table border=\"1\" class=\"dataframe\">\n  <thead>\n    <tr style=\"text-align: right;\">\n      <th></th>\n      <th>0%</th>\n      <th>1.0%</th>\n      <th>5.0%</th>\n      <th>10.0%</th>\n      <th>25.0%</th>\n      <th>50.0%</th>\n      <th>75.0%</th>\n      <th>90.0%</th>\n      <th>95.0%</th>\n      <th>99.0%</th>\n      <th>100%</th>\n    </tr>\n  </thead>\n  <tbody>\n    <tr>\n      <th>SK_ID_CURR</th>\n      <td>100001.000</td>\n      <td>103618.00</td>\n      <td>117919.00</td>\n      <td>135602.0</td>\n      <td>188866.25</td>\n      <td>278055.0</td>\n      <td>367425.75</td>\n      <td>420963.500</td>\n      <td>4.386320e+05</td>\n      <td>4.527440e+05</td>\n      <td>456255.0</td>\n    </tr>\n    <tr>\n      <th>SK_ID_BUREAU</th>\n      <td>5000000.000</td>\n      <td>5018307.25</td>\n      <td>5092405.25</td>\n      <td>5184874.5</td>\n      <td>5463953.25</td>\n      <td>5926302.5</td>\n      <td>6385679.75</td>\n      <td>6660629.500</td>\n      <td>6.751975e+06</td>\n      <td>6.825134e+06</td>\n      <td>6843457.0</td>\n    </tr>\n    <tr>\n      <th>DAYS_CREDIT</th>\n      <td>-2922.000</td>\n      <td>-2867.00</td>\n      <td>-2665.00</td>\n      <td>-2443.0</td>\n      <td>-1666.00</td>\n      <td>-987.0</td>\n      <td>-474.00</td>\n      <td>-215.000</td>\n      <td>-1.250000e+02</td>\n      <td>-3.800000e+01</td>\n      <td>0.0</td>\n    </tr>\n    <tr>\n      <th>DAYS_CREDIT_ENDDATE</th>\n      <td>-42060.000</td>\n      <td>-2571.00</td>\n      <td>-2262.00</td>\n      <td>-1922.0</td>\n      <td>-1138.00</td>\n      <td>-330.0</td>\n      <td>474.00</td>\n      <td>1334.000</td>\n      <td>2.623000e+03</td>\n      <td>3.102900e+04</td>\n      <td>31199.0</td>\n    </tr>\n    <tr>\n      <th>DAYS_ENDDATE_FACT</th>\n      <td>-42023.000</td>\n      <td>-2639.00</td>\n      <td>-2393.00</td>\n      <td>-2159.0</td>\n      <td>-1489.00</td>\n      <td>-897.0</td>\n      <td>-425.00</td>\n      <td>-178.000</td>\n      <td>-9.400000e+01</td>\n      <td>-2.400000e+01</td>\n      <td>0.0</td>\n    </tr>\n    <tr>\n      <th>AMT_CREDIT_MAX_OVERDUE</th>\n      <td>0.000</td>\n      <td>0.00</td>\n      <td>0.00</td>\n      <td>0.0</td>\n      <td>0.00</td>\n      <td>0.0</td>\n      <td>0.00</td>\n      <td>7594.875</td>\n      <td>1.422046e+04</td>\n      <td>4.198877e+04</td>\n      <td>115987184.0</td>\n    </tr>\n    <tr>\n      <th>AMT_CREDIT_SUM</th>\n      <td>0.000</td>\n      <td>0.00</td>\n      <td>11250.00</td>\n      <td>22500.0</td>\n      <td>51300.00</td>\n      <td>125518.5</td>\n      <td>315000.00</td>\n      <td>778762.375</td>\n      <td>1.350000e+06</td>\n      <td>3.700919e+06</td>\n      <td>585000000.0</td>\n    </tr>\n    <tr>\n      <th>AMT_CREDIT_SUM_DEBT</th>\n      <td>-4705600.500</td>\n      <td>0.00</td>\n      <td>0.00</td>\n      <td>0.0</td>\n      <td>0.00</td>\n      <td>0.0</td>\n      <td>40153.50</td>\n      <td>295456.500</td>\n      <td>6.289029e+05</td>\n      <td>2.259730e+06</td>\n      <td>170100000.0</td>\n    </tr>\n    <tr>\n      <th>AMT_CREDIT_SUM_LIMIT</th>\n      <td>-586406.125</td>\n      <td>0.00</td>\n      <td>0.00</td>\n      <td>0.0</td>\n      <td>0.00</td>\n      <td>0.0</td>\n      <td>0.00</td>\n      <td>0.000</td>\n      <td>5.736116e+03</td>\n      <td>1.996208e+05</td>\n      <td>4705600.5</td>\n    </tr>\n    <tr>\n      <th>DAYS_CREDIT_UPDATE</th>\n      <td>-41947.000</td>\n      <td>-2531.00</td>\n      <td>-2079.00</td>\n      <td>-1561.0</td>\n      <td>-908.00</td>\n      <td>-395.0</td>\n      <td>-33.00</td>\n      <td>-13.000</td>\n      <td>-8.000000e+00</td>\n      <td>-3.000000e+00</td>\n      <td>372.0</td>\n    </tr>\n    <tr>\n      <th>AMT_ANNUITY</th>\n      <td>0.000</td>\n      <td>0.00</td>\n      <td>0.00</td>\n      <td>0.0</td>\n      <td>0.00</td>\n      <td>0.0</td>\n      <td>13500.00</td>\n      <td>31432.500</td>\n      <td>4.657140e+04</td>\n      <td>1.184519e+05</td>\n      <td>118453424.0</td>\n    </tr>\n  </tbody>\n</table>\n</div>"
     },
     "execution_count": 38,
     "metadata": {},
     "output_type": "execute_result"
    }
   ],
   "source": [
    "percentile_report(bureau, bureau.select_dtypes(include='number').columns)"
   ],
   "metadata": {
    "collapsed": false,
    "pycharm": {
     "name": "#%%\n"
    }
   }
  },
  {
   "cell_type": "code",
   "execution_count": 39,
   "outputs": [
    {
     "data": {
      "text/plain": "66582"
     },
     "execution_count": 39,
     "metadata": {},
     "output_type": "execute_result"
    }
   ],
   "source": [
    "# Incohérences sur AMT_CREDIT_SUM\n",
    "\n",
    "bureau[bureau['AMT_CREDIT_SUM'] == 0].shape[0]"
   ],
   "metadata": {
    "collapsed": false,
    "pycharm": {
     "name": "#%%\n"
    }
   }
  },
  {
   "cell_type": "code",
   "execution_count": 40,
   "outputs": [
    {
     "data": {
      "text/plain": "256915"
     },
     "execution_count": 40,
     "metadata": {},
     "output_type": "execute_result"
    }
   ],
   "source": [
    "# Incohérences sur AMT_ANNUITY\n",
    "\n",
    "bureau[bureau['AMT_ANNUITY'] == 0].shape[0]"
   ],
   "metadata": {
    "collapsed": false,
    "pycharm": {
     "name": "#%%\n"
    }
   }
  },
  {
   "cell_type": "markdown",
   "source": [
    "#### <span style='background :#cdcdfc' > bureau_balance </span>"
   ],
   "metadata": {
    "collapsed": false,
    "pycharm": {
     "name": "#%% md\n"
    }
   }
  },
  {
   "cell_type": "code",
   "execution_count": 41,
   "outputs": [
    {
     "name": "stdout",
     "output_type": "stream",
     "text": [
      "Memory usage of dataframe is 624.85 MB\n",
      "Memory usage after optimization is: 338.46 MB\n",
      "Decreased by 45.8%\n"
     ]
    }
   ],
   "source": [
    "b_bal = reduce_mem_usage(b_bal)"
   ],
   "metadata": {
    "collapsed": false,
    "pycharm": {
     "name": "#%%\n"
    }
   }
  },
  {
   "cell_type": "code",
   "execution_count": 42,
   "outputs": [
    {
     "data": {
      "text/plain": "   SK_ID_BUREAU  MONTHS_BALANCE STATUS\n0       5715448               0      C\n1       5715448              -1      C\n2       5715448              -2      C\n3       5715448              -3      C\n4       5715448              -4      C\n5       5715448              -5      C\n6       5715448              -6      C\n7       5715448              -7      C\n8       5715448              -8      C\n9       5715448              -9      0",
      "text/html": "<div>\n<style scoped>\n    .dataframe tbody tr th:only-of-type {\n        vertical-align: middle;\n    }\n\n    .dataframe tbody tr th {\n        vertical-align: top;\n    }\n\n    .dataframe thead th {\n        text-align: right;\n    }\n</style>\n<table border=\"1\" class=\"dataframe\">\n  <thead>\n    <tr style=\"text-align: right;\">\n      <th></th>\n      <th>SK_ID_BUREAU</th>\n      <th>MONTHS_BALANCE</th>\n      <th>STATUS</th>\n    </tr>\n  </thead>\n  <tbody>\n    <tr>\n      <th>0</th>\n      <td>5715448</td>\n      <td>0</td>\n      <td>C</td>\n    </tr>\n    <tr>\n      <th>1</th>\n      <td>5715448</td>\n      <td>-1</td>\n      <td>C</td>\n    </tr>\n    <tr>\n      <th>2</th>\n      <td>5715448</td>\n      <td>-2</td>\n      <td>C</td>\n    </tr>\n    <tr>\n      <th>3</th>\n      <td>5715448</td>\n      <td>-3</td>\n      <td>C</td>\n    </tr>\n    <tr>\n      <th>4</th>\n      <td>5715448</td>\n      <td>-4</td>\n      <td>C</td>\n    </tr>\n    <tr>\n      <th>5</th>\n      <td>5715448</td>\n      <td>-5</td>\n      <td>C</td>\n    </tr>\n    <tr>\n      <th>6</th>\n      <td>5715448</td>\n      <td>-6</td>\n      <td>C</td>\n    </tr>\n    <tr>\n      <th>7</th>\n      <td>5715448</td>\n      <td>-7</td>\n      <td>C</td>\n    </tr>\n    <tr>\n      <th>8</th>\n      <td>5715448</td>\n      <td>-8</td>\n      <td>C</td>\n    </tr>\n    <tr>\n      <th>9</th>\n      <td>5715448</td>\n      <td>-9</td>\n      <td>0</td>\n    </tr>\n  </tbody>\n</table>\n</div>"
     },
     "execution_count": 42,
     "metadata": {},
     "output_type": "execute_result"
    }
   ],
   "source": [
    "b_bal.head(10)"
   ],
   "metadata": {
    "collapsed": false,
    "pycharm": {
     "name": "#%%\n"
    }
   }
  },
  {
   "cell_type": "code",
   "execution_count": 43,
   "outputs": [
    {
     "name": "stdout",
     "output_type": "stream",
     "text": [
      "Le jeu de données contient 27299925 lignes et 3 colonnes.\n",
      "Le jeu de données contient 0 valeurs manquantes (0.0%).\n"
     ]
    }
   ],
   "source": [
    "dim(b_bal)\n",
    "missing_values(b_bal)"
   ],
   "metadata": {
    "collapsed": false,
    "pycharm": {
     "name": "#%%\n"
    }
   }
  },
  {
   "cell_type": "code",
   "execution_count": 44,
   "outputs": [
    {
     "data": {
      "text/plain": "         Variable  Nombre de valeurs renseignées  \\\n0    SK_ID_BUREAU                       27299925   \n1  MONTHS_BALANCE                       27299925   \n2          STATUS                       27299925   \n\n   Nombre de valeurs manquantes  Taux de remplissage (%)  \n0                             0                    100.0  \n1                             0                    100.0  \n2                             0                    100.0  ",
      "text/html": "<div>\n<style scoped>\n    .dataframe tbody tr th:only-of-type {\n        vertical-align: middle;\n    }\n\n    .dataframe tbody tr th {\n        vertical-align: top;\n    }\n\n    .dataframe thead th {\n        text-align: right;\n    }\n</style>\n<table border=\"1\" class=\"dataframe\">\n  <thead>\n    <tr style=\"text-align: right;\">\n      <th></th>\n      <th>Variable</th>\n      <th>Nombre de valeurs renseignées</th>\n      <th>Nombre de valeurs manquantes</th>\n      <th>Taux de remplissage (%)</th>\n    </tr>\n  </thead>\n  <tbody>\n    <tr>\n      <th>0</th>\n      <td>SK_ID_BUREAU</td>\n      <td>27299925</td>\n      <td>0</td>\n      <td>100.0</td>\n    </tr>\n    <tr>\n      <th>1</th>\n      <td>MONTHS_BALANCE</td>\n      <td>27299925</td>\n      <td>0</td>\n      <td>100.0</td>\n    </tr>\n    <tr>\n      <th>2</th>\n      <td>STATUS</td>\n      <td>27299925</td>\n      <td>0</td>\n      <td>100.0</td>\n    </tr>\n  </tbody>\n</table>\n</div>"
     },
     "execution_count": 44,
     "metadata": {},
     "output_type": "execute_result"
    }
   ],
   "source": [
    "recap_missing_values(b_bal)"
   ],
   "metadata": {
    "collapsed": false,
    "pycharm": {
     "name": "#%%\n"
    }
   }
  },
  {
   "cell_type": "code",
   "execution_count": 45,
   "outputs": [
    {
     "name": "stdout",
     "output_type": "stream",
     "text": [
      "Nombre de lignes doublons : 0\n"
     ]
    }
   ],
   "source": [
    "# Recherche de lignes doublons sur chaque variable\n",
    "\n",
    "d = b_bal.duplicated(keep='first').sum()\n",
    "print(f'Nombre de lignes doublons : {d}')"
   ],
   "metadata": {
    "collapsed": false,
    "pycharm": {
     "name": "#%%\n"
    }
   }
  },
  {
   "cell_type": "code",
   "execution_count": 46,
   "outputs": [
    {
     "data": {
      "text/plain": "817395"
     },
     "execution_count": 46,
     "metadata": {},
     "output_type": "execute_result"
    }
   ],
   "source": [
    "b_bal['SK_ID_BUREAU'].nunique()"
   ],
   "metadata": {
    "collapsed": false,
    "pycharm": {
     "name": "#%%\n"
    }
   }
  },
  {
   "cell_type": "code",
   "execution_count": 47,
   "outputs": [
    {
     "name": "stdout",
     "output_type": "stream",
     "text": [
      "Nombre de clé de df1 absentes de df2 : 942072\n"
     ]
    },
    {
     "data": {
      "text/plain": "   SK_ID_CURR  SK_ID_BUREAU CREDIT_ACTIVE  DAYS_CREDIT  DAYS_CREDIT_ENDDATE  \\\n0      215354       5714462        Closed         -497               -153.0   \n1      215354       5714463        Active         -208               1075.0   \n2      215354       5714464        Active         -203                528.0   \n3      215354       5714465        Active         -203                  NaN   \n4      215354       5714466        Active         -629               1197.0   \n\n   DAYS_ENDDATE_FACT  AMT_CREDIT_MAX_OVERDUE  AMT_CREDIT_SUM  \\\n0             -153.0                     NaN         91323.0   \n1                NaN                     NaN        225000.0   \n2                NaN                     NaN        464323.5   \n3                NaN                     NaN         90000.0   \n4                NaN                 77674.5       2700000.0   \n\n   AMT_CREDIT_SUM_DEBT  AMT_CREDIT_SUM_LIMIT      CREDIT_TYPE  \\\n0                  0.0                   NaN  Consumer credit   \n1             171342.0                   NaN      Credit card   \n2                  NaN                   NaN  Consumer credit   \n3                  NaN                   NaN      Credit card   \n4                  NaN                   NaN  Consumer credit   \n\n   DAYS_CREDIT_UPDATE  AMT_ANNUITY  \n0                -131          NaN  \n1                 -20          NaN  \n2                 -16          NaN  \n3                 -16          NaN  \n4                 -21          NaN  ",
      "text/html": "<div>\n<style scoped>\n    .dataframe tbody tr th:only-of-type {\n        vertical-align: middle;\n    }\n\n    .dataframe tbody tr th {\n        vertical-align: top;\n    }\n\n    .dataframe thead th {\n        text-align: right;\n    }\n</style>\n<table border=\"1\" class=\"dataframe\">\n  <thead>\n    <tr style=\"text-align: right;\">\n      <th></th>\n      <th>SK_ID_CURR</th>\n      <th>SK_ID_BUREAU</th>\n      <th>CREDIT_ACTIVE</th>\n      <th>DAYS_CREDIT</th>\n      <th>DAYS_CREDIT_ENDDATE</th>\n      <th>DAYS_ENDDATE_FACT</th>\n      <th>AMT_CREDIT_MAX_OVERDUE</th>\n      <th>AMT_CREDIT_SUM</th>\n      <th>AMT_CREDIT_SUM_DEBT</th>\n      <th>AMT_CREDIT_SUM_LIMIT</th>\n      <th>CREDIT_TYPE</th>\n      <th>DAYS_CREDIT_UPDATE</th>\n      <th>AMT_ANNUITY</th>\n    </tr>\n  </thead>\n  <tbody>\n    <tr>\n      <th>0</th>\n      <td>215354</td>\n      <td>5714462</td>\n      <td>Closed</td>\n      <td>-497</td>\n      <td>-153.0</td>\n      <td>-153.0</td>\n      <td>NaN</td>\n      <td>91323.0</td>\n      <td>0.0</td>\n      <td>NaN</td>\n      <td>Consumer credit</td>\n      <td>-131</td>\n      <td>NaN</td>\n    </tr>\n    <tr>\n      <th>1</th>\n      <td>215354</td>\n      <td>5714463</td>\n      <td>Active</td>\n      <td>-208</td>\n      <td>1075.0</td>\n      <td>NaN</td>\n      <td>NaN</td>\n      <td>225000.0</td>\n      <td>171342.0</td>\n      <td>NaN</td>\n      <td>Credit card</td>\n      <td>-20</td>\n      <td>NaN</td>\n    </tr>\n    <tr>\n      <th>2</th>\n      <td>215354</td>\n      <td>5714464</td>\n      <td>Active</td>\n      <td>-203</td>\n      <td>528.0</td>\n      <td>NaN</td>\n      <td>NaN</td>\n      <td>464323.5</td>\n      <td>NaN</td>\n      <td>NaN</td>\n      <td>Consumer credit</td>\n      <td>-16</td>\n      <td>NaN</td>\n    </tr>\n    <tr>\n      <th>3</th>\n      <td>215354</td>\n      <td>5714465</td>\n      <td>Active</td>\n      <td>-203</td>\n      <td>NaN</td>\n      <td>NaN</td>\n      <td>NaN</td>\n      <td>90000.0</td>\n      <td>NaN</td>\n      <td>NaN</td>\n      <td>Credit card</td>\n      <td>-16</td>\n      <td>NaN</td>\n    </tr>\n    <tr>\n      <th>4</th>\n      <td>215354</td>\n      <td>5714466</td>\n      <td>Active</td>\n      <td>-629</td>\n      <td>1197.0</td>\n      <td>NaN</td>\n      <td>77674.5</td>\n      <td>2700000.0</td>\n      <td>NaN</td>\n      <td>NaN</td>\n      <td>Consumer credit</td>\n      <td>-21</td>\n      <td>NaN</td>\n    </tr>\n  </tbody>\n</table>\n</div>"
     },
     "execution_count": 47,
     "metadata": {},
     "output_type": "execute_result"
    }
   ],
   "source": [
    "comparaison_key(bureau, b_bal, 'SK_ID_BUREAU', 'SK_ID_BUREAU').head()"
   ],
   "metadata": {
    "collapsed": false,
    "pycharm": {
     "name": "#%%\n"
    }
   }
  },
  {
   "cell_type": "markdown",
   "source": [
    "942063 crédits sans historique"
   ],
   "metadata": {
    "collapsed": false,
    "pycharm": {
     "name": "#%% md\n"
    }
   }
  },
  {
   "cell_type": "code",
   "execution_count": 48,
   "outputs": [
    {
     "data": {
      "text/plain": "['STATUS']"
     },
     "execution_count": 48,
     "metadata": {},
     "output_type": "execute_result"
    }
   ],
   "source": [
    "list_var_categ = b_bal.select_dtypes('object').columns.tolist()\n",
    "list_var_categ"
   ],
   "metadata": {
    "collapsed": false,
    "pycharm": {
     "name": "#%%\n"
    }
   }
  },
  {
   "cell_type": "code",
   "execution_count": 49,
   "outputs": [
    {
     "data": {
      "text/plain": "STATUS    8\ndtype: int64"
     },
     "execution_count": 49,
     "metadata": {},
     "output_type": "execute_result"
    }
   ],
   "source": [
    "# Number of unique classes in each object column\n",
    "b_bal[list_var_categ].nunique()"
   ],
   "metadata": {
    "collapsed": false,
    "pycharm": {
     "name": "#%%\n"
    }
   }
  },
  {
   "cell_type": "code",
   "execution_count": 50,
   "outputs": [
    {
     "name": "stdout",
     "output_type": "stream",
     "text": [
      "STATUS : ['C' '0' 'X' '1' '2' '3' '5' '4']\n",
      "\n"
     ]
    }
   ],
   "source": [
    "for f in list_var_categ:\n",
    "        print(f'{f} : {b_bal[f].unique()}')\n",
    "        print('')"
   ],
   "metadata": {
    "collapsed": false,
    "pycharm": {
     "name": "#%%\n"
    }
   }
  },
  {
   "cell_type": "code",
   "execution_count": 51,
   "outputs": [
    {
     "name": "stdout",
     "output_type": "stream",
     "text": [
      "           Column     Mode  Mode_pct\n",
      "0    SK_ID_BUREAU  5001709  0.000004\n",
      "1  MONTHS_BALANCE       -1  0.022806\n",
      "2          STATUS        C  0.499891\n",
      "\n",
      "Liste des features à supprimer :\n",
      "[]\n"
     ]
    }
   ],
   "source": [
    "col_to_del = compute_mode_percentage(b_bal, columns=b_bal.columns, threshold=0.94)"
   ],
   "metadata": {
    "collapsed": false,
    "pycharm": {
     "name": "#%%\n"
    }
   }
  },
  {
   "cell_type": "markdown",
   "source": [
    "<br>\n",
    "\n",
    "---"
   ],
   "metadata": {
    "collapsed": false,
    "pycharm": {
     "name": "#%% md\n"
    }
   }
  },
  {
   "cell_type": "markdown",
   "source": [
    "### <span style='background :#e3e33d' > 4.2 Script bureau_balance </span>"
   ],
   "metadata": {
    "collapsed": false,
    "pycharm": {
     "name": "#%% md\n"
    }
   }
  },
  {
   "cell_type": "code",
   "execution_count": 52,
   "outputs": [],
   "source": [
    "def flatten_multi_index(df, prefix):\n",
    "    df.columns = pd.Index([prefix + e[0] + \"_\" + e[1].upper() for e in df.columns.tolist()])\n",
    "\n",
    "    return df.reset_index()"
   ],
   "metadata": {
    "collapsed": false,
    "pycharm": {
     "name": "#%%\n"
    }
   }
  },
  {
   "cell_type": "code",
   "execution_count": 53,
   "outputs": [
    {
     "data": {
      "text/plain": "   SK_ID_BUREAU  MONTHS_BALANCE STATUS\n0       5715448               0      C\n1       5715448              -1      C\n2       5715448              -2      C\n3       5715448              -3      C\n4       5715448              -4      C",
      "text/html": "<div>\n<style scoped>\n    .dataframe tbody tr th:only-of-type {\n        vertical-align: middle;\n    }\n\n    .dataframe tbody tr th {\n        vertical-align: top;\n    }\n\n    .dataframe thead th {\n        text-align: right;\n    }\n</style>\n<table border=\"1\" class=\"dataframe\">\n  <thead>\n    <tr style=\"text-align: right;\">\n      <th></th>\n      <th>SK_ID_BUREAU</th>\n      <th>MONTHS_BALANCE</th>\n      <th>STATUS</th>\n    </tr>\n  </thead>\n  <tbody>\n    <tr>\n      <th>0</th>\n      <td>5715448</td>\n      <td>0</td>\n      <td>C</td>\n    </tr>\n    <tr>\n      <th>1</th>\n      <td>5715448</td>\n      <td>-1</td>\n      <td>C</td>\n    </tr>\n    <tr>\n      <th>2</th>\n      <td>5715448</td>\n      <td>-2</td>\n      <td>C</td>\n    </tr>\n    <tr>\n      <th>3</th>\n      <td>5715448</td>\n      <td>-3</td>\n      <td>C</td>\n    </tr>\n    <tr>\n      <th>4</th>\n      <td>5715448</td>\n      <td>-4</td>\n      <td>C</td>\n    </tr>\n  </tbody>\n</table>\n</div>"
     },
     "execution_count": 53,
     "metadata": {},
     "output_type": "execute_result"
    }
   ],
   "source": [
    "b_bal.head()"
   ],
   "metadata": {
    "collapsed": false,
    "pycharm": {
     "name": "#%%\n"
    }
   }
  },
  {
   "cell_type": "code",
   "execution_count": 54,
   "outputs": [],
   "source": [
    "# Script aggregation bureau_balance\n",
    "\n",
    "b_bal, b_bal_cat = one_hot_encoder(b_bal, False)\n",
    "\n",
    "b_bal_aggregations = {'MONTHS_BALANCE': ['min', 'max', 'mean', 'size']}\n",
    "for col in b_bal_cat:\n",
    "    b_bal_aggregations[col] = ['mean']\n",
    "\n",
    "b_bal_agg = b_bal.groupby('SK_ID_BUREAU').agg(b_bal_aggregations)\n",
    "b_bal_agg = flatten_multi_index(b_bal_agg, prefix='')"
   ],
   "metadata": {
    "collapsed": false,
    "pycharm": {
     "name": "#%%\n"
    }
   }
  },
  {
   "cell_type": "code",
   "execution_count": 55,
   "outputs": [
    {
     "data": {
      "text/plain": "   SK_ID_BUREAU  MONTHS_BALANCE_MIN  MONTHS_BALANCE_MAX  MONTHS_BALANCE_MEAN  \\\n0       5001709                 -96                   0                -48.0   \n1       5001710                 -82                   0                -41.0   \n2       5001711                  -3                   0                 -1.5   \n3       5001712                 -18                   0                 -9.0   \n4       5001713                 -21                   0                -10.5   \n\n   MONTHS_BALANCE_SIZE  STATUS_0_MEAN  STATUS_1_MEAN  STATUS_2_MEAN  \\\n0                   97       0.000000            0.0            0.0   \n1                   83       0.060241            0.0            0.0   \n2                    4       0.750000            0.0            0.0   \n3                   19       0.526316            0.0            0.0   \n4                   22       0.000000            0.0            0.0   \n\n   STATUS_3_MEAN  STATUS_4_MEAN  STATUS_5_MEAN  STATUS_C_MEAN  STATUS_X_MEAN  \n0            0.0            0.0            0.0       0.886598       0.113402  \n1            0.0            0.0            0.0       0.578313       0.361446  \n2            0.0            0.0            0.0       0.000000       0.250000  \n3            0.0            0.0            0.0       0.473684       0.000000  \n4            0.0            0.0            0.0       0.000000       1.000000  ",
      "text/html": "<div>\n<style scoped>\n    .dataframe tbody tr th:only-of-type {\n        vertical-align: middle;\n    }\n\n    .dataframe tbody tr th {\n        vertical-align: top;\n    }\n\n    .dataframe thead th {\n        text-align: right;\n    }\n</style>\n<table border=\"1\" class=\"dataframe\">\n  <thead>\n    <tr style=\"text-align: right;\">\n      <th></th>\n      <th>SK_ID_BUREAU</th>\n      <th>MONTHS_BALANCE_MIN</th>\n      <th>MONTHS_BALANCE_MAX</th>\n      <th>MONTHS_BALANCE_MEAN</th>\n      <th>MONTHS_BALANCE_SIZE</th>\n      <th>STATUS_0_MEAN</th>\n      <th>STATUS_1_MEAN</th>\n      <th>STATUS_2_MEAN</th>\n      <th>STATUS_3_MEAN</th>\n      <th>STATUS_4_MEAN</th>\n      <th>STATUS_5_MEAN</th>\n      <th>STATUS_C_MEAN</th>\n      <th>STATUS_X_MEAN</th>\n    </tr>\n  </thead>\n  <tbody>\n    <tr>\n      <th>0</th>\n      <td>5001709</td>\n      <td>-96</td>\n      <td>0</td>\n      <td>-48.0</td>\n      <td>97</td>\n      <td>0.000000</td>\n      <td>0.0</td>\n      <td>0.0</td>\n      <td>0.0</td>\n      <td>0.0</td>\n      <td>0.0</td>\n      <td>0.886598</td>\n      <td>0.113402</td>\n    </tr>\n    <tr>\n      <th>1</th>\n      <td>5001710</td>\n      <td>-82</td>\n      <td>0</td>\n      <td>-41.0</td>\n      <td>83</td>\n      <td>0.060241</td>\n      <td>0.0</td>\n      <td>0.0</td>\n      <td>0.0</td>\n      <td>0.0</td>\n      <td>0.0</td>\n      <td>0.578313</td>\n      <td>0.361446</td>\n    </tr>\n    <tr>\n      <th>2</th>\n      <td>5001711</td>\n      <td>-3</td>\n      <td>0</td>\n      <td>-1.5</td>\n      <td>4</td>\n      <td>0.750000</td>\n      <td>0.0</td>\n      <td>0.0</td>\n      <td>0.0</td>\n      <td>0.0</td>\n      <td>0.0</td>\n      <td>0.000000</td>\n      <td>0.250000</td>\n    </tr>\n    <tr>\n      <th>3</th>\n      <td>5001712</td>\n      <td>-18</td>\n      <td>0</td>\n      <td>-9.0</td>\n      <td>19</td>\n      <td>0.526316</td>\n      <td>0.0</td>\n      <td>0.0</td>\n      <td>0.0</td>\n      <td>0.0</td>\n      <td>0.0</td>\n      <td>0.473684</td>\n      <td>0.000000</td>\n    </tr>\n    <tr>\n      <th>4</th>\n      <td>5001713</td>\n      <td>-21</td>\n      <td>0</td>\n      <td>-10.5</td>\n      <td>22</td>\n      <td>0.000000</td>\n      <td>0.0</td>\n      <td>0.0</td>\n      <td>0.0</td>\n      <td>0.0</td>\n      <td>0.0</td>\n      <td>0.000000</td>\n      <td>1.000000</td>\n    </tr>\n  </tbody>\n</table>\n</div>"
     },
     "execution_count": 55,
     "metadata": {},
     "output_type": "execute_result"
    }
   ],
   "source": [
    "b_bal_agg.head()"
   ],
   "metadata": {
    "collapsed": false,
    "pycharm": {
     "name": "#%%\n"
    }
   }
  },
  {
   "cell_type": "markdown",
   "source": [
    "<br>\n",
    "\n",
    "---"
   ],
   "metadata": {
    "collapsed": false,
    "pycharm": {
     "name": "#%% md\n"
    }
   }
  },
  {
   "cell_type": "markdown",
   "source": [
    "### <span style='background :#e3e33d' > 4.3 Script bureau </span>"
   ],
   "metadata": {
    "collapsed": false,
    "pycharm": {
     "name": "#%% md\n"
    }
   }
  },
  {
   "cell_type": "code",
   "execution_count": 56,
   "outputs": [],
   "source": [
    "def bureau_script():\n",
    "\n",
    "    bureau = pd.read_csv(\"./data/bureau.csv\")\n",
    "\n",
    "    col_to_del = ['CREDIT_CURRENCY', 'CREDIT_DAY_OVERDUE', 'CNT_CREDIT_PROLONG', 'AMT_CREDIT_SUM_OVERDUE']\n",
    "    bureau.drop(columns=col_to_del, inplace=True)\n",
    "\n",
    "    b_bal = pd.read_csv(\"./data/bureau_balance.csv\")\n",
    "\n",
    "    b_bal, b_bal_cat = one_hot_encoder(b_bal, False)\n",
    "    b_bal_aggregations = {'MONTHS_BALANCE': ['min', 'max', 'mean', 'size']}\n",
    "    for col in b_bal_cat:\n",
    "        b_bal_aggregations[col] = ['mean']\n",
    "    b_bal_agg = b_bal.groupby('SK_ID_BUREAU').agg(b_bal_aggregations)\n",
    "    b_bal_agg = flatten_multi_index(b_bal_agg, prefix='')\n",
    "\n",
    "    del b_bal\n",
    "    gc.collect()\n",
    "\n",
    "    # Cleaning\n",
    "    bureau.loc[:, ['AMT_CREDIT_SUM', 'AMT_ANNUITY']] = bureau[['AMT_CREDIT_SUM', 'AMT_ANNUITY']].replace(0, np.nan)\n",
    "\n",
    "    # Feature engineering\n",
    "    bureau['CREDIT_DURATION'] = bureau['DAYS_CREDIT_ENDDATE'] - bureau['DAYS_CREDIT']\n",
    "    bureau['ENDDATE_DIF'] = bureau['DAYS_CREDIT_ENDDATE'] - bureau['DAYS_ENDDATE_FACT']\n",
    "    bureau['UPDATE_RATIO'] = (bureau['DAYS_CREDIT_UPDATE'] - bureau['DAYS_CREDIT']) / (bureau['DAYS_CREDIT_ENDDATE'] - bureau['DAYS_CREDIT'])\n",
    "    bureau.loc[:, ['UPDATE_RATIO']] = bureau['UPDATE_RATIO'].replace(np.inf, 1)\n",
    "\n",
    "    bureau['DEBT_CREDIT_DIFF'] = bureau['AMT_CREDIT_SUM'] - bureau['AMT_CREDIT_SUM_DEBT']\n",
    "    bureau['DEBT_CREDIT_PERCENTAGE'] = bureau['AMT_CREDIT_SUM_DEBT'] / bureau['AMT_CREDIT_SUM']\n",
    "\n",
    "\n",
    "    # After the feature engineering, check for inf\n",
    "    check_for_inf(bureau)\n",
    "\n",
    "\n",
    "    # Balance availability of previous credit\n",
    "    bureau['PREVIOUS_BALANCE'] = bureau['SK_ID_BUREAU'].isin(b_bal_agg['SK_ID_BUREAU']).astype('int')\n",
    "\n",
    "    bureau, bureau_cat = one_hot_encoder(bureau, False)\n",
    "    bureau = bureau.merge(b_bal_agg, how='left', on='SK_ID_BUREAU')\n",
    "\n",
    "    # Bureau and bureau_balance numeric features\n",
    "    num_aggregations = {\n",
    "        'SK_ID_BUREAU': ['size'],\n",
    "        'DAYS_CREDIT': ['min', 'max', 'mean', 'var'],\n",
    "        'DAYS_CREDIT_ENDDATE': ['min', 'max', 'mean'],\n",
    "        'DAYS_CREDIT_UPDATE': ['mean'],\n",
    "        'AMT_CREDIT_MAX_OVERDUE': ['mean', 'max'],\n",
    "        'AMT_CREDIT_SUM': ['max', 'mean', 'sum'],\n",
    "        'AMT_CREDIT_SUM_DEBT': ['max', 'mean', 'sum'],\n",
    "        'AMT_CREDIT_SUM_LIMIT': ['mean', 'sum'],\n",
    "        'AMT_ANNUITY': ['max', 'mean', 'sum'],\n",
    "        'MONTHS_BALANCE_MIN': ['min'],\n",
    "        'MONTHS_BALANCE_MAX': ['max'],\n",
    "        'MONTHS_BALANCE_SIZE': ['mean', 'sum'],\n",
    "        'CREDIT_DURATION': ['min', 'max', 'mean'],\n",
    "        'ENDDATE_DIF': ['min', 'max', 'mean'],\n",
    "        'UPDATE_RATIO': ['min', 'max', 'mean'],\n",
    "        'DEBT_CREDIT_DIFF': ['min', 'max', 'mean'],\n",
    "        'DEBT_CREDIT_PERCENTAGE': ['min', 'max', 'mean'],\n",
    "        'PREVIOUS_BALANCE': ['mean']\n",
    "    }\n",
    "\n",
    "    # Bureau and bureau_balance categorical features\n",
    "    cat_aggregations = {}\n",
    "    for cat in bureau_cat: cat_aggregations[cat] = ['mean']\n",
    "    for cat in b_bal_cat: cat_aggregations[cat + \"_MEAN\"] = ['mean']\n",
    "\n",
    "    # Aggregation\n",
    "    bureau_agg = bureau.groupby('SK_ID_CURR').agg({**num_aggregations, **cat_aggregations})\n",
    "    bureau_agg = flatten_multi_index(bureau_agg, prefix='BURO_')\n",
    "\n",
    "    # Bureau: Active credits - using only numerical aggregations\n",
    "    active = bureau[bureau['CREDIT_ACTIVE_Active'] == 1]\n",
    "    active_agg = active.groupby('SK_ID_CURR').agg(num_aggregations)\n",
    "    active_agg = flatten_multi_index(active_agg, prefix='ACTIVE_')\n",
    "    bureau_agg = bureau_agg.merge(active_agg, how='left', on='SK_ID_CURR')\n",
    "    del active, active_agg\n",
    "    gc.collect()\n",
    "\n",
    "    # Bureau: Closed credits - using only numerical aggregations\n",
    "    closed = bureau[bureau['CREDIT_ACTIVE_Closed'] == 1]\n",
    "    closed_agg = closed.groupby('SK_ID_CURR').agg(num_aggregations)\n",
    "    closed_agg = flatten_multi_index(closed_agg, prefix='CLOSED_')\n",
    "    bureau_agg = bureau_agg.merge(closed_agg, how='left', on='SK_ID_CURR')\n",
    "\n",
    "    del bureau, closed, closed_agg\n",
    "    gc.collect()\n",
    "\n",
    "    check_full_nan(bureau_agg)\n",
    "\n",
    "    # Remove the feature where mode % = 1\n",
    "    col_to_del = compute_mode_percentage(bureau_agg, bureau_agg.columns, threshold=1, pr=False)\n",
    "    bureau_agg.drop(columns=col_to_del, inplace=True)\n",
    "\n",
    "    print('\"Bureau/Bureau Balance\" final shape:', bureau_agg.shape)\n",
    "\n",
    "    return bureau_agg"
   ],
   "metadata": {
    "collapsed": false,
    "pycharm": {
     "name": "#%%\n"
    }
   }
  },
  {
   "cell_type": "code",
   "execution_count": 57,
   "outputs": [
    {
     "name": "stdout",
     "output_type": "stream",
     "text": [
      "Nombre de valeurs infinies: 0\n",
      "Liste de features full of nan:\n",
      "[]\n",
      "Liste des features à supprimer :\n",
      "[]\n",
      "\"Bureau/Bureau Balance\" final shape: (305811, 154)\n"
     ]
    },
    {
     "data": {
      "text/plain": "   SK_ID_CURR  BURO_SK_ID_BUREAU_SIZE  BURO_DAYS_CREDIT_MIN  \\\n0      100001                       7                 -1572   \n1      100002                       8                 -1437   \n2      100003                       4                 -2586   \n3      100004                       2                 -1326   \n4      100005                       3                  -373   \n\n   BURO_DAYS_CREDIT_MAX  BURO_DAYS_CREDIT_MEAN  BURO_DAYS_CREDIT_VAR  \\\n0                   -49            -735.000000         240043.666667   \n1                  -103            -874.000000         186150.000000   \n2                  -606           -1400.750000         827783.583333   \n3                  -408            -867.000000         421362.000000   \n4                   -62            -190.666667          26340.333333   \n\n   BURO_DAYS_CREDIT_ENDDATE_MIN  BURO_DAYS_CREDIT_ENDDATE_MAX  \\\n0                       -1329.0                        1778.0   \n1                       -1072.0                         780.0   \n2                       -2434.0                        1216.0   \n3                        -595.0                        -382.0   \n4                        -128.0                        1324.0   \n\n   BURO_DAYS_CREDIT_ENDDATE_MEAN  BURO_DAYS_CREDIT_UPDATE_MEAN  ...  \\\n0                      82.428571                    -93.142857  ...   \n1                    -349.000000                   -499.875000  ...   \n2                    -544.500000                   -816.000000  ...   \n3                    -488.500000                   -532.000000  ...   \n4                     439.333333                    -54.333333  ...   \n\n   CLOSED_UPDATE_RATIO_MIN  CLOSED_UPDATE_RATIO_MAX  CLOSED_UPDATE_RATIO_MEAN  \\\n0                 1.032877                 5.831276                  2.692750   \n1                 0.257919                 1.023810                  0.761825   \n2                 0.633803                 2.993421                  1.542408   \n3                 0.880985                 1.000000                  0.940492   \n4                 1.028571                 1.028571                  1.028571   \n\n   CLOSED_DEBT_CREDIT_DIFF_MIN  CLOSED_DEBT_CREDIT_DIFF_MAX  \\\n0                      85500.0                     279720.0   \n1                     120735.0                     135000.0   \n2                      22248.0                     112500.0   \n3                      94500.0                      94537.8   \n4                      58500.0                      58500.0   \n\n   CLOSED_DEBT_CREDIT_DIFF_MEAN  CLOSED_DEBT_CREDIT_PERCENTAGE_MIN  \\\n0                      142335.0                                0.0   \n1                      127867.5                                0.0   \n2                       69133.5                                0.0   \n3                       94518.9                                0.0   \n4                       58500.0                                0.0   \n\n   CLOSED_DEBT_CREDIT_PERCENTAGE_MAX  CLOSED_DEBT_CREDIT_PERCENTAGE_MEAN  \\\n0                                0.0                                 0.0   \n1                                0.0                                 0.0   \n2                                0.0                                 0.0   \n3                                0.0                                 0.0   \n4                                0.0                                 0.0   \n\n   CLOSED_PREVIOUS_BALANCE_MEAN  \n0                           1.0  \n1                           1.0  \n2                           0.0  \n3                           0.0  \n4                           1.0  \n\n[5 rows x 154 columns]",
      "text/html": "<div>\n<style scoped>\n    .dataframe tbody tr th:only-of-type {\n        vertical-align: middle;\n    }\n\n    .dataframe tbody tr th {\n        vertical-align: top;\n    }\n\n    .dataframe thead th {\n        text-align: right;\n    }\n</style>\n<table border=\"1\" class=\"dataframe\">\n  <thead>\n    <tr style=\"text-align: right;\">\n      <th></th>\n      <th>SK_ID_CURR</th>\n      <th>BURO_SK_ID_BUREAU_SIZE</th>\n      <th>BURO_DAYS_CREDIT_MIN</th>\n      <th>BURO_DAYS_CREDIT_MAX</th>\n      <th>BURO_DAYS_CREDIT_MEAN</th>\n      <th>BURO_DAYS_CREDIT_VAR</th>\n      <th>BURO_DAYS_CREDIT_ENDDATE_MIN</th>\n      <th>BURO_DAYS_CREDIT_ENDDATE_MAX</th>\n      <th>BURO_DAYS_CREDIT_ENDDATE_MEAN</th>\n      <th>BURO_DAYS_CREDIT_UPDATE_MEAN</th>\n      <th>...</th>\n      <th>CLOSED_UPDATE_RATIO_MIN</th>\n      <th>CLOSED_UPDATE_RATIO_MAX</th>\n      <th>CLOSED_UPDATE_RATIO_MEAN</th>\n      <th>CLOSED_DEBT_CREDIT_DIFF_MIN</th>\n      <th>CLOSED_DEBT_CREDIT_DIFF_MAX</th>\n      <th>CLOSED_DEBT_CREDIT_DIFF_MEAN</th>\n      <th>CLOSED_DEBT_CREDIT_PERCENTAGE_MIN</th>\n      <th>CLOSED_DEBT_CREDIT_PERCENTAGE_MAX</th>\n      <th>CLOSED_DEBT_CREDIT_PERCENTAGE_MEAN</th>\n      <th>CLOSED_PREVIOUS_BALANCE_MEAN</th>\n    </tr>\n  </thead>\n  <tbody>\n    <tr>\n      <th>0</th>\n      <td>100001</td>\n      <td>7</td>\n      <td>-1572</td>\n      <td>-49</td>\n      <td>-735.000000</td>\n      <td>240043.666667</td>\n      <td>-1329.0</td>\n      <td>1778.0</td>\n      <td>82.428571</td>\n      <td>-93.142857</td>\n      <td>...</td>\n      <td>1.032877</td>\n      <td>5.831276</td>\n      <td>2.692750</td>\n      <td>85500.0</td>\n      <td>279720.0</td>\n      <td>142335.0</td>\n      <td>0.0</td>\n      <td>0.0</td>\n      <td>0.0</td>\n      <td>1.0</td>\n    </tr>\n    <tr>\n      <th>1</th>\n      <td>100002</td>\n      <td>8</td>\n      <td>-1437</td>\n      <td>-103</td>\n      <td>-874.000000</td>\n      <td>186150.000000</td>\n      <td>-1072.0</td>\n      <td>780.0</td>\n      <td>-349.000000</td>\n      <td>-499.875000</td>\n      <td>...</td>\n      <td>0.257919</td>\n      <td>1.023810</td>\n      <td>0.761825</td>\n      <td>120735.0</td>\n      <td>135000.0</td>\n      <td>127867.5</td>\n      <td>0.0</td>\n      <td>0.0</td>\n      <td>0.0</td>\n      <td>1.0</td>\n    </tr>\n    <tr>\n      <th>2</th>\n      <td>100003</td>\n      <td>4</td>\n      <td>-2586</td>\n      <td>-606</td>\n      <td>-1400.750000</td>\n      <td>827783.583333</td>\n      <td>-2434.0</td>\n      <td>1216.0</td>\n      <td>-544.500000</td>\n      <td>-816.000000</td>\n      <td>...</td>\n      <td>0.633803</td>\n      <td>2.993421</td>\n      <td>1.542408</td>\n      <td>22248.0</td>\n      <td>112500.0</td>\n      <td>69133.5</td>\n      <td>0.0</td>\n      <td>0.0</td>\n      <td>0.0</td>\n      <td>0.0</td>\n    </tr>\n    <tr>\n      <th>3</th>\n      <td>100004</td>\n      <td>2</td>\n      <td>-1326</td>\n      <td>-408</td>\n      <td>-867.000000</td>\n      <td>421362.000000</td>\n      <td>-595.0</td>\n      <td>-382.0</td>\n      <td>-488.500000</td>\n      <td>-532.000000</td>\n      <td>...</td>\n      <td>0.880985</td>\n      <td>1.000000</td>\n      <td>0.940492</td>\n      <td>94500.0</td>\n      <td>94537.8</td>\n      <td>94518.9</td>\n      <td>0.0</td>\n      <td>0.0</td>\n      <td>0.0</td>\n      <td>0.0</td>\n    </tr>\n    <tr>\n      <th>4</th>\n      <td>100005</td>\n      <td>3</td>\n      <td>-373</td>\n      <td>-62</td>\n      <td>-190.666667</td>\n      <td>26340.333333</td>\n      <td>-128.0</td>\n      <td>1324.0</td>\n      <td>439.333333</td>\n      <td>-54.333333</td>\n      <td>...</td>\n      <td>1.028571</td>\n      <td>1.028571</td>\n      <td>1.028571</td>\n      <td>58500.0</td>\n      <td>58500.0</td>\n      <td>58500.0</td>\n      <td>0.0</td>\n      <td>0.0</td>\n      <td>0.0</td>\n      <td>1.0</td>\n    </tr>\n  </tbody>\n</table>\n<p>5 rows × 154 columns</p>\n</div>"
     },
     "execution_count": 57,
     "metadata": {},
     "output_type": "execute_result"
    }
   ],
   "source": [
    "temp_bureau = bureau_script()\n",
    "temp_bureau.head()"
   ],
   "metadata": {
    "collapsed": false,
    "pycharm": {
     "name": "#%%\n"
    }
   }
  },
  {
   "cell_type": "code",
   "execution_count": 58,
   "outputs": [
    {
     "name": "stdout",
     "output_type": "stream",
     "text": [
      "Le jeu de données contient 305811 lignes et 154 colonnes.\n"
     ]
    }
   ],
   "source": [
    "dim(temp_bureau)"
   ],
   "metadata": {
    "collapsed": false,
    "pycharm": {
     "name": "#%%\n"
    }
   }
  },
  {
   "cell_type": "markdown",
   "source": [
    "<br>\n",
    "\n",
    "---"
   ],
   "metadata": {
    "collapsed": false,
    "pycharm": {
     "name": "#%% md\n"
    }
   }
  },
  {
   "cell_type": "markdown",
   "source": [
    "##  <span style='background :#96e773' > 5. previous_application </span>\n",
    "### <span style='background :#e3e33d' > 5.1 Analyse rapide </span>"
   ],
   "metadata": {
    "collapsed": false,
    "pycharm": {
     "name": "#%% md\n"
    }
   }
  },
  {
   "cell_type": "code",
   "execution_count": 59,
   "outputs": [
    {
     "name": "stdout",
     "output_type": "stream",
     "text": [
      "Memory usage of dataframe is 471.48 MB\n",
      "Memory usage after optimization is: 324.94 MB\n",
      "Decreased by 31.1%\n"
     ]
    }
   ],
   "source": [
    "pre_app = reduce_mem_usage(pre_app)"
   ],
   "metadata": {
    "collapsed": false,
    "pycharm": {
     "name": "#%%\n"
    }
   }
  },
  {
   "cell_type": "code",
   "execution_count": 60,
   "outputs": [
    {
     "data": {
      "text/plain": "   SK_ID_PREV  SK_ID_CURR NAME_CONTRACT_TYPE   AMT_ANNUITY  AMT_APPLICATION  \\\n0     2030495      271877     Consumer loans   1730.430054          17145.0   \n1     2802425      108129         Cash loans  25188.615234         607500.0   \n2     2523466      122040         Cash loans  15060.735352         112500.0   \n3     2819243      176158         Cash loans  47041.335938         450000.0   \n4     1784265      202054         Cash loans  31924.394531         337500.0   \n5     1383531      199383         Cash loans  23703.929688         315000.0   \n6     2315218      175704         Cash loans           NaN              0.0   \n7     1656711      296299         Cash loans           NaN              0.0   \n8     2367563      342292         Cash loans           NaN              0.0   \n9     2579447      334349         Cash loans           NaN              0.0   \n\n   AMT_CREDIT  AMT_DOWN_PAYMENT  AMT_GOODS_PRICE WEEKDAY_APPR_PROCESS_START  \\\n0     17145.0               0.0          17145.0                   SATURDAY   \n1    679671.0               NaN         607500.0                   THURSDAY   \n2    136444.5               NaN         112500.0                    TUESDAY   \n3    470790.0               NaN         450000.0                     MONDAY   \n4    404055.0               NaN         337500.0                   THURSDAY   \n5    340573.5               NaN         315000.0                   SATURDAY   \n6         0.0               NaN              NaN                    TUESDAY   \n7         0.0               NaN              NaN                     MONDAY   \n8         0.0               NaN              NaN                     MONDAY   \n9         0.0               NaN              NaN                   SATURDAY   \n\n   HOUR_APPR_PROCESS_START  ... NAME_SELLER_INDUSTRY  CNT_PAYMENT  \\\n0                       15  ...         Connectivity         12.0   \n1                       11  ...                  XNA         36.0   \n2                       11  ...                  XNA         12.0   \n3                        7  ...                  XNA         12.0   \n4                        9  ...                  XNA         24.0   \n5                        8  ...                  XNA         18.0   \n6                       11  ...                  XNA          NaN   \n7                        7  ...                  XNA          NaN   \n8                       15  ...                  XNA          NaN   \n9                       15  ...                  XNA          NaN   \n\n   NAME_YIELD_GROUP       PRODUCT_COMBINATION  DAYS_FIRST_DRAWING  \\\n0            middle  POS mobile with interest            365243.0   \n1        low_action          Cash X-Sell: low            365243.0   \n2              high         Cash X-Sell: high            365243.0   \n3            middle       Cash X-Sell: middle            365243.0   \n4              high         Cash Street: high                 NaN   \n5        low_normal          Cash X-Sell: low            365243.0   \n6               XNA                      Cash                 NaN   \n7               XNA                      Cash                 NaN   \n8               XNA                      Cash                 NaN   \n9               XNA                      Cash                 NaN   \n\n  DAYS_FIRST_DUE DAYS_LAST_DUE_1ST_VERSION  DAYS_LAST_DUE DAYS_TERMINATION  \\\n0          -42.0                     300.0          -42.0            -37.0   \n1         -134.0                     916.0       365243.0         365243.0   \n2         -271.0                      59.0       365243.0         365243.0   \n3         -482.0                    -152.0         -182.0           -177.0   \n4            NaN                       NaN            NaN              NaN   \n5         -654.0                    -144.0         -144.0           -137.0   \n6            NaN                       NaN            NaN              NaN   \n7            NaN                       NaN            NaN              NaN   \n8            NaN                       NaN            NaN              NaN   \n9            NaN                       NaN            NaN              NaN   \n\n  NFLAG_INSURED_ON_APPROVAL  \n0                       0.0  \n1                       1.0  \n2                       1.0  \n3                       1.0  \n4                       NaN  \n5                       1.0  \n6                       NaN  \n7                       NaN  \n8                       NaN  \n9                       NaN  \n\n[10 rows x 37 columns]",
      "text/html": "<div>\n<style scoped>\n    .dataframe tbody tr th:only-of-type {\n        vertical-align: middle;\n    }\n\n    .dataframe tbody tr th {\n        vertical-align: top;\n    }\n\n    .dataframe thead th {\n        text-align: right;\n    }\n</style>\n<table border=\"1\" class=\"dataframe\">\n  <thead>\n    <tr style=\"text-align: right;\">\n      <th></th>\n      <th>SK_ID_PREV</th>\n      <th>SK_ID_CURR</th>\n      <th>NAME_CONTRACT_TYPE</th>\n      <th>AMT_ANNUITY</th>\n      <th>AMT_APPLICATION</th>\n      <th>AMT_CREDIT</th>\n      <th>AMT_DOWN_PAYMENT</th>\n      <th>AMT_GOODS_PRICE</th>\n      <th>WEEKDAY_APPR_PROCESS_START</th>\n      <th>HOUR_APPR_PROCESS_START</th>\n      <th>...</th>\n      <th>NAME_SELLER_INDUSTRY</th>\n      <th>CNT_PAYMENT</th>\n      <th>NAME_YIELD_GROUP</th>\n      <th>PRODUCT_COMBINATION</th>\n      <th>DAYS_FIRST_DRAWING</th>\n      <th>DAYS_FIRST_DUE</th>\n      <th>DAYS_LAST_DUE_1ST_VERSION</th>\n      <th>DAYS_LAST_DUE</th>\n      <th>DAYS_TERMINATION</th>\n      <th>NFLAG_INSURED_ON_APPROVAL</th>\n    </tr>\n  </thead>\n  <tbody>\n    <tr>\n      <th>0</th>\n      <td>2030495</td>\n      <td>271877</td>\n      <td>Consumer loans</td>\n      <td>1730.430054</td>\n      <td>17145.0</td>\n      <td>17145.0</td>\n      <td>0.0</td>\n      <td>17145.0</td>\n      <td>SATURDAY</td>\n      <td>15</td>\n      <td>...</td>\n      <td>Connectivity</td>\n      <td>12.0</td>\n      <td>middle</td>\n      <td>POS mobile with interest</td>\n      <td>365243.0</td>\n      <td>-42.0</td>\n      <td>300.0</td>\n      <td>-42.0</td>\n      <td>-37.0</td>\n      <td>0.0</td>\n    </tr>\n    <tr>\n      <th>1</th>\n      <td>2802425</td>\n      <td>108129</td>\n      <td>Cash loans</td>\n      <td>25188.615234</td>\n      <td>607500.0</td>\n      <td>679671.0</td>\n      <td>NaN</td>\n      <td>607500.0</td>\n      <td>THURSDAY</td>\n      <td>11</td>\n      <td>...</td>\n      <td>XNA</td>\n      <td>36.0</td>\n      <td>low_action</td>\n      <td>Cash X-Sell: low</td>\n      <td>365243.0</td>\n      <td>-134.0</td>\n      <td>916.0</td>\n      <td>365243.0</td>\n      <td>365243.0</td>\n      <td>1.0</td>\n    </tr>\n    <tr>\n      <th>2</th>\n      <td>2523466</td>\n      <td>122040</td>\n      <td>Cash loans</td>\n      <td>15060.735352</td>\n      <td>112500.0</td>\n      <td>136444.5</td>\n      <td>NaN</td>\n      <td>112500.0</td>\n      <td>TUESDAY</td>\n      <td>11</td>\n      <td>...</td>\n      <td>XNA</td>\n      <td>12.0</td>\n      <td>high</td>\n      <td>Cash X-Sell: high</td>\n      <td>365243.0</td>\n      <td>-271.0</td>\n      <td>59.0</td>\n      <td>365243.0</td>\n      <td>365243.0</td>\n      <td>1.0</td>\n    </tr>\n    <tr>\n      <th>3</th>\n      <td>2819243</td>\n      <td>176158</td>\n      <td>Cash loans</td>\n      <td>47041.335938</td>\n      <td>450000.0</td>\n      <td>470790.0</td>\n      <td>NaN</td>\n      <td>450000.0</td>\n      <td>MONDAY</td>\n      <td>7</td>\n      <td>...</td>\n      <td>XNA</td>\n      <td>12.0</td>\n      <td>middle</td>\n      <td>Cash X-Sell: middle</td>\n      <td>365243.0</td>\n      <td>-482.0</td>\n      <td>-152.0</td>\n      <td>-182.0</td>\n      <td>-177.0</td>\n      <td>1.0</td>\n    </tr>\n    <tr>\n      <th>4</th>\n      <td>1784265</td>\n      <td>202054</td>\n      <td>Cash loans</td>\n      <td>31924.394531</td>\n      <td>337500.0</td>\n      <td>404055.0</td>\n      <td>NaN</td>\n      <td>337500.0</td>\n      <td>THURSDAY</td>\n      <td>9</td>\n      <td>...</td>\n      <td>XNA</td>\n      <td>24.0</td>\n      <td>high</td>\n      <td>Cash Street: high</td>\n      <td>NaN</td>\n      <td>NaN</td>\n      <td>NaN</td>\n      <td>NaN</td>\n      <td>NaN</td>\n      <td>NaN</td>\n    </tr>\n    <tr>\n      <th>5</th>\n      <td>1383531</td>\n      <td>199383</td>\n      <td>Cash loans</td>\n      <td>23703.929688</td>\n      <td>315000.0</td>\n      <td>340573.5</td>\n      <td>NaN</td>\n      <td>315000.0</td>\n      <td>SATURDAY</td>\n      <td>8</td>\n      <td>...</td>\n      <td>XNA</td>\n      <td>18.0</td>\n      <td>low_normal</td>\n      <td>Cash X-Sell: low</td>\n      <td>365243.0</td>\n      <td>-654.0</td>\n      <td>-144.0</td>\n      <td>-144.0</td>\n      <td>-137.0</td>\n      <td>1.0</td>\n    </tr>\n    <tr>\n      <th>6</th>\n      <td>2315218</td>\n      <td>175704</td>\n      <td>Cash loans</td>\n      <td>NaN</td>\n      <td>0.0</td>\n      <td>0.0</td>\n      <td>NaN</td>\n      <td>NaN</td>\n      <td>TUESDAY</td>\n      <td>11</td>\n      <td>...</td>\n      <td>XNA</td>\n      <td>NaN</td>\n      <td>XNA</td>\n      <td>Cash</td>\n      <td>NaN</td>\n      <td>NaN</td>\n      <td>NaN</td>\n      <td>NaN</td>\n      <td>NaN</td>\n      <td>NaN</td>\n    </tr>\n    <tr>\n      <th>7</th>\n      <td>1656711</td>\n      <td>296299</td>\n      <td>Cash loans</td>\n      <td>NaN</td>\n      <td>0.0</td>\n      <td>0.0</td>\n      <td>NaN</td>\n      <td>NaN</td>\n      <td>MONDAY</td>\n      <td>7</td>\n      <td>...</td>\n      <td>XNA</td>\n      <td>NaN</td>\n      <td>XNA</td>\n      <td>Cash</td>\n      <td>NaN</td>\n      <td>NaN</td>\n      <td>NaN</td>\n      <td>NaN</td>\n      <td>NaN</td>\n      <td>NaN</td>\n    </tr>\n    <tr>\n      <th>8</th>\n      <td>2367563</td>\n      <td>342292</td>\n      <td>Cash loans</td>\n      <td>NaN</td>\n      <td>0.0</td>\n      <td>0.0</td>\n      <td>NaN</td>\n      <td>NaN</td>\n      <td>MONDAY</td>\n      <td>15</td>\n      <td>...</td>\n      <td>XNA</td>\n      <td>NaN</td>\n      <td>XNA</td>\n      <td>Cash</td>\n      <td>NaN</td>\n      <td>NaN</td>\n      <td>NaN</td>\n      <td>NaN</td>\n      <td>NaN</td>\n      <td>NaN</td>\n    </tr>\n    <tr>\n      <th>9</th>\n      <td>2579447</td>\n      <td>334349</td>\n      <td>Cash loans</td>\n      <td>NaN</td>\n      <td>0.0</td>\n      <td>0.0</td>\n      <td>NaN</td>\n      <td>NaN</td>\n      <td>SATURDAY</td>\n      <td>15</td>\n      <td>...</td>\n      <td>XNA</td>\n      <td>NaN</td>\n      <td>XNA</td>\n      <td>Cash</td>\n      <td>NaN</td>\n      <td>NaN</td>\n      <td>NaN</td>\n      <td>NaN</td>\n      <td>NaN</td>\n      <td>NaN</td>\n    </tr>\n  </tbody>\n</table>\n<p>10 rows × 37 columns</p>\n</div>"
     },
     "execution_count": 60,
     "metadata": {},
     "output_type": "execute_result"
    }
   ],
   "source": [
    "pre_app.head(10)"
   ],
   "metadata": {
    "collapsed": false,
    "pycharm": {
     "name": "#%%\n"
    }
   }
  },
  {
   "cell_type": "code",
   "execution_count": 61,
   "outputs": [
    {
     "name": "stdout",
     "output_type": "stream",
     "text": [
      "Le jeu de données contient 1670214 lignes et 37 colonnes.\n",
      "Le jeu de données contient 11109336 valeurs manquantes (17.977%).\n"
     ]
    }
   ],
   "source": [
    "dim(pre_app)\n",
    "missing_values(pre_app)"
   ],
   "metadata": {
    "collapsed": false,
    "pycharm": {
     "name": "#%%\n"
    }
   }
  },
  {
   "cell_type": "code",
   "execution_count": 62,
   "outputs": [
    {
     "data": {
      "text/plain": "object     16\nfloat32    15\nint32       3\nint8        2\nint16       1\ndtype: int64"
     },
     "execution_count": 62,
     "metadata": {},
     "output_type": "execute_result"
    }
   ],
   "source": [
    "pre_app.dtypes.value_counts()"
   ],
   "metadata": {
    "collapsed": false,
    "pycharm": {
     "name": "#%%\n"
    }
   }
  },
  {
   "cell_type": "code",
   "execution_count": 63,
   "outputs": [
    {
     "data": {
      "text/plain": "<Figure size 640x480 with 1 Axes>",
      "image/png": "[encoded data removed]"
     },
     "metadata": {},
     "output_type": "display_data"
    }
   ],
   "source": [
    "pre_app.dtypes.value_counts().plot.pie()\n",
    "plt.ylabel('')\n",
    "plt.show()"
   ],
   "metadata": {
    "collapsed": false,
    "pycharm": {
     "name": "#%%\n"
    }
   }
  },
  {
   "cell_type": "code",
   "execution_count": 64,
   "outputs": [
    {
     "data": {
      "text/plain": "                       Variable  Nombre de valeurs renseignées  \\\n0                    SK_ID_PREV                        1670214   \n1                    SK_ID_CURR                        1670214   \n2            NAME_CONTRACT_TYPE                        1670214   \n3                   AMT_ANNUITY                        1297979   \n4               AMT_APPLICATION                        1670214   \n5                    AMT_CREDIT                        1670213   \n6              AMT_DOWN_PAYMENT                         774370   \n7               AMT_GOODS_PRICE                        1284699   \n8    WEEKDAY_APPR_PROCESS_START                        1670214   \n9       HOUR_APPR_PROCESS_START                        1670214   \n10  FLAG_LAST_APPL_PER_CONTRACT                        1670214   \n11       NFLAG_LAST_APPL_IN_DAY                        1670214   \n12            RATE_DOWN_PAYMENT                         774370   \n13        RATE_INTEREST_PRIMARY                           5951   \n14     RATE_INTEREST_PRIVILEGED                           5951   \n15       NAME_CASH_LOAN_PURPOSE                        1670214   \n16         NAME_CONTRACT_STATUS                        1670214   \n17                DAYS_DECISION                        1670214   \n18            NAME_PAYMENT_TYPE                        1670214   \n19           CODE_REJECT_REASON                        1670214   \n20              NAME_TYPE_SUITE                         849809   \n21             NAME_CLIENT_TYPE                        1670214   \n22          NAME_GOODS_CATEGORY                        1670214   \n23               NAME_PORTFOLIO                        1670214   \n24            NAME_PRODUCT_TYPE                        1670214   \n25                 CHANNEL_TYPE                        1670214   \n26             SELLERPLACE_AREA                        1670214   \n27         NAME_SELLER_INDUSTRY                        1670214   \n28                  CNT_PAYMENT                        1297984   \n29             NAME_YIELD_GROUP                        1670214   \n30          PRODUCT_COMBINATION                        1669868   \n31           DAYS_FIRST_DRAWING                         997149   \n32               DAYS_FIRST_DUE                         997149   \n33    DAYS_LAST_DUE_1ST_VERSION                         997149   \n34                DAYS_LAST_DUE                         997149   \n35             DAYS_TERMINATION                         997149   \n36    NFLAG_INSURED_ON_APPROVAL                         997149   \n\n    Nombre de valeurs manquantes  Taux de remplissage (%)  \n0                              0                  100.000  \n1                              0                  100.000  \n2                              0                  100.000  \n3                         372235                   77.713  \n4                              0                  100.000  \n5                              1                  100.000  \n6                         895844                   46.364  \n7                         385515                   76.918  \n8                              0                  100.000  \n9                              0                  100.000  \n10                             0                  100.000  \n11                             0                  100.000  \n12                        895844                   46.364  \n13                       1664263                    0.356  \n14                       1664263                    0.356  \n15                             0                  100.000  \n16                             0                  100.000  \n17                             0                  100.000  \n18                             0                  100.000  \n19                             0                  100.000  \n20                        820405                   50.880  \n21                             0                  100.000  \n22                             0                  100.000  \n23                             0                  100.000  \n24                             0                  100.000  \n25                             0                  100.000  \n26                             0                  100.000  \n27                             0                  100.000  \n28                        372230                   77.714  \n29                             0                  100.000  \n30                           346                   99.979  \n31                        673065                   59.702  \n32                        673065                   59.702  \n33                        673065                   59.702  \n34                        673065                   59.702  \n35                        673065                   59.702  \n36                        673065                   59.702  ",
      "text/html": "<div>\n<style scoped>\n    .dataframe tbody tr th:only-of-type {\n        vertical-align: middle;\n    }\n\n    .dataframe tbody tr th {\n        vertical-align: top;\n    }\n\n    .dataframe thead th {\n        text-align: right;\n    }\n</style>\n<table border=\"1\" class=\"dataframe\">\n  <thead>\n    <tr style=\"text-align: right;\">\n      <th></th>\n      <th>Variable</th>\n      <th>Nombre de valeurs renseignées</th>\n      <th>Nombre de valeurs manquantes</th>\n      <th>Taux de remplissage (%)</th>\n    </tr>\n  </thead>\n  <tbody>\n    <tr>\n      <th>0</th>\n      <td>SK_ID_PREV</td>\n      <td>1670214</td>\n      <td>0</td>\n      <td>100.000</td>\n    </tr>\n    <tr>\n      <th>1</th>\n      <td>SK_ID_CURR</td>\n      <td>1670214</td>\n      <td>0</td>\n      <td>100.000</td>\n    </tr>\n    <tr>\n      <th>2</th>\n      <td>NAME_CONTRACT_TYPE</td>\n      <td>1670214</td>\n      <td>0</td>\n      <td>100.000</td>\n    </tr>\n    <tr>\n      <th>3</th>\n      <td>AMT_ANNUITY</td>\n      <td>1297979</td>\n      <td>372235</td>\n      <td>77.713</td>\n    </tr>\n    <tr>\n      <th>4</th>\n      <td>AMT_APPLICATION</td>\n      <td>1670214</td>\n      <td>0</td>\n      <td>100.000</td>\n    </tr>\n    <tr>\n      <th>5</th>\n      <td>AMT_CREDIT</td>\n      <td>1670213</td>\n      <td>1</td>\n      <td>100.000</td>\n    </tr>\n    <tr>\n      <th>6</th>\n      <td>AMT_DOWN_PAYMENT</td>\n      <td>774370</td>\n      <td>895844</td>\n      <td>46.364</td>\n    </tr>\n    <tr>\n      <th>7</th>\n      <td>AMT_GOODS_PRICE</td>\n      <td>1284699</td>\n      <td>385515</td>\n      <td>76.918</td>\n    </tr>\n    <tr>\n      <th>8</th>\n      <td>WEEKDAY_APPR_PROCESS_START</td>\n      <td>1670214</td>\n      <td>0</td>\n      <td>100.000</td>\n    </tr>\n    <tr>\n      <th>9</th>\n      <td>HOUR_APPR_PROCESS_START</td>\n      <td>1670214</td>\n      <td>0</td>\n      <td>100.000</td>\n    </tr>\n    <tr>\n      <th>10</th>\n      <td>FLAG_LAST_APPL_PER_CONTRACT</td>\n      <td>1670214</td>\n      <td>0</td>\n      <td>100.000</td>\n    </tr>\n    <tr>\n      <th>11</th>\n      <td>NFLAG_LAST_APPL_IN_DAY</td>\n      <td>1670214</td>\n      <td>0</td>\n      <td>100.000</td>\n    </tr>\n    <tr>\n      <th>12</th>\n      <td>RATE_DOWN_PAYMENT</td>\n      <td>774370</td>\n      <td>895844</td>\n      <td>46.364</td>\n    </tr>\n    <tr>\n      <th>13</th>\n      <td>RATE_INTEREST_PRIMARY</td>\n      <td>5951</td>\n      <td>1664263</td>\n      <td>0.356</td>\n    </tr>\n    <tr>\n      <th>14</th>\n      <td>RATE_INTEREST_PRIVILEGED</td>\n      <td>5951</td>\n      <td>1664263</td>\n      <td>0.356</td>\n    </tr>\n    <tr>\n      <th>15</th>\n      <td>NAME_CASH_LOAN_PURPOSE</td>\n      <td>1670214</td>\n      <td>0</td>\n      <td>100.000</td>\n    </tr>\n    <tr>\n      <th>16</th>\n      <td>NAME_CONTRACT_STATUS</td>\n      <td>1670214</td>\n      <td>0</td>\n      <td>100.000</td>\n    </tr>\n    <tr>\n      <th>17</th>\n      <td>DAYS_DECISION</td>\n      <td>1670214</td>\n      <td>0</td>\n      <td>100.000</td>\n    </tr>\n    <tr>\n      <th>18</th>\n      <td>NAME_PAYMENT_TYPE</td>\n      <td>1670214</td>\n      <td>0</td>\n      <td>100.000</td>\n    </tr>\n    <tr>\n      <th>19</th>\n      <td>CODE_REJECT_REASON</td>\n      <td>1670214</td>\n      <td>0</td>\n      <td>100.000</td>\n    </tr>\n    <tr>\n      <th>20</th>\n      <td>NAME_TYPE_SUITE</td>\n      <td>849809</td>\n      <td>820405</td>\n      <td>50.880</td>\n    </tr>\n    <tr>\n      <th>21</th>\n      <td>NAME_CLIENT_TYPE</td>\n      <td>1670214</td>\n      <td>0</td>\n      <td>100.000</td>\n    </tr>\n    <tr>\n      <th>22</th>\n      <td>NAME_GOODS_CATEGORY</td>\n      <td>1670214</td>\n      <td>0</td>\n      <td>100.000</td>\n    </tr>\n    <tr>\n      <th>23</th>\n      <td>NAME_PORTFOLIO</td>\n      <td>1670214</td>\n      <td>0</td>\n      <td>100.000</td>\n    </tr>\n    <tr>\n      <th>24</th>\n      <td>NAME_PRODUCT_TYPE</td>\n      <td>1670214</td>\n      <td>0</td>\n      <td>100.000</td>\n    </tr>\n    <tr>\n      <th>25</th>\n      <td>CHANNEL_TYPE</td>\n      <td>1670214</td>\n      <td>0</td>\n      <td>100.000</td>\n    </tr>\n    <tr>\n      <th>26</th>\n      <td>SELLERPLACE_AREA</td>\n      <td>1670214</td>\n      <td>0</td>\n      <td>100.000</td>\n    </tr>\n    <tr>\n      <th>27</th>\n      <td>NAME_SELLER_INDUSTRY</td>\n      <td>1670214</td>\n      <td>0</td>\n      <td>100.000</td>\n    </tr>\n    <tr>\n      <th>28</th>\n      <td>CNT_PAYMENT</td>\n      <td>1297984</td>\n      <td>372230</td>\n      <td>77.714</td>\n    </tr>\n    <tr>\n      <th>29</th>\n      <td>NAME_YIELD_GROUP</td>\n      <td>1670214</td>\n      <td>0</td>\n      <td>100.000</td>\n    </tr>\n    <tr>\n      <th>30</th>\n      <td>PRODUCT_COMBINATION</td>\n      <td>1669868</td>\n      <td>346</td>\n      <td>99.979</td>\n    </tr>\n    <tr>\n      <th>31</th>\n      <td>DAYS_FIRST_DRAWING</td>\n      <td>997149</td>\n      <td>673065</td>\n      <td>59.702</td>\n    </tr>\n    <tr>\n      <th>32</th>\n      <td>DAYS_FIRST_DUE</td>\n      <td>997149</td>\n      <td>673065</td>\n      <td>59.702</td>\n    </tr>\n    <tr>\n      <th>33</th>\n      <td>DAYS_LAST_DUE_1ST_VERSION</td>\n      <td>997149</td>\n      <td>673065</td>\n      <td>59.702</td>\n    </tr>\n    <tr>\n      <th>34</th>\n      <td>DAYS_LAST_DUE</td>\n      <td>997149</td>\n      <td>673065</td>\n      <td>59.702</td>\n    </tr>\n    <tr>\n      <th>35</th>\n      <td>DAYS_TERMINATION</td>\n      <td>997149</td>\n      <td>673065</td>\n      <td>59.702</td>\n    </tr>\n    <tr>\n      <th>36</th>\n      <td>NFLAG_INSURED_ON_APPROVAL</td>\n      <td>997149</td>\n      <td>673065</td>\n      <td>59.702</td>\n    </tr>\n  </tbody>\n</table>\n</div>"
     },
     "execution_count": 64,
     "metadata": {},
     "output_type": "execute_result"
    }
   ],
   "source": [
    "recap_missing_values(pre_app)"
   ],
   "metadata": {
    "collapsed": false,
    "pycharm": {
     "name": "#%%\n"
    }
   }
  },
  {
   "cell_type": "code",
   "execution_count": 65,
   "outputs": [
    {
     "name": "stdout",
     "output_type": "stream",
     "text": [
      "Nombre de colonnes doublons : 0\n"
     ]
    }
   ],
   "source": [
    "# Recherche de colonnes doublons\n",
    "\n",
    "duplicateColNames = getDuplicateColumns(pre_app)\n",
    "d = len(duplicateColNames)\n",
    "print(f'Nombre de colonnes doublons : {d}')"
   ],
   "metadata": {
    "collapsed": false,
    "pycharm": {
     "name": "#%%\n"
    }
   }
  },
  {
   "cell_type": "code",
   "execution_count": 66,
   "outputs": [
    {
     "name": "stdout",
     "output_type": "stream",
     "text": [
      "Nombre de lignes doublons : 0\n"
     ]
    }
   ],
   "source": [
    "# Recherche de lignes doublons sur chaque variable\n",
    "\n",
    "d = pre_app.duplicated(keep='first').sum()\n",
    "print(f'Nombre de lignes doublons : {d}')"
   ],
   "metadata": {
    "collapsed": false,
    "pycharm": {
     "name": "#%%\n"
    }
   }
  },
  {
   "cell_type": "code",
   "execution_count": 67,
   "outputs": [
    {
     "data": {
      "text/plain": "338857"
     },
     "execution_count": 67,
     "metadata": {},
     "output_type": "execute_result"
    }
   ],
   "source": [
    "pre_app['SK_ID_CURR'].nunique()"
   ],
   "metadata": {
    "collapsed": false,
    "pycharm": {
     "name": "#%%\n"
    }
   }
  },
  {
   "cell_type": "code",
   "execution_count": 68,
   "outputs": [
    {
     "name": "stdout",
     "output_type": "stream",
     "text": [
      "Nombre de clé de df1 absentes de df2 : 17393\n"
     ]
    },
    {
     "data": {
      "text/plain": "    SK_ID_CURR  TARGET  NAME_CONTRACT_TYPE  CODE_GENDER  FLAG_OWN_CAR  \\\n20      100024     0.0                   1            0             1   \n26      100031     1.0                   0            1             0   \n50      100058     0.0                   1            1             0   \n64      100076     0.0                   0            0             1   \n81      100096     1.0                   0            1             0   \n\n    FLAG_OWN_REALTY  CNT_CHILDREN  AMT_INCOME_TOTAL  AMT_CREDIT  AMT_ANNUITY  \\\n20                0             0          135000.0    427500.0      21375.0   \n26                0             0          112500.0    979992.0      27076.5   \n50                0             0           54000.0    135000.0       6750.0   \n64                1             0          180000.0    315000.0       9679.5   \n81                0             0           81000.0    252000.0      14593.5   \n\n    ...  ORGANIZATION_TYPE_Trade: type 4  ORGANIZATION_TYPE_Trade: type 5  \\\n20  ...                                0                                0   \n26  ...                                0                                0   \n50  ...                                0                                0   \n64  ...                                0                                0   \n81  ...                                0                                0   \n\n    ORGANIZATION_TYPE_Trade: type 6  ORGANIZATION_TYPE_Trade: type 7  \\\n20                                0                                0   \n26                                0                                0   \n50                                0                                0   \n64                                0                                0   \n81                                0                                0   \n\n    ORGANIZATION_TYPE_Transport: type 1  ORGANIZATION_TYPE_Transport: type 2  \\\n20                                    0                                    0   \n26                                    0                                    0   \n50                                    0                                    0   \n64                                    0                                    0   \n81                                    0                                    0   \n\n    ORGANIZATION_TYPE_Transport: type 3  ORGANIZATION_TYPE_Transport: type 4  \\\n20                                    0                                    0   \n26                                    0                                    0   \n50                                    0                                    0   \n64                                    1                                    0   \n81                                    0                                    0   \n\n    ORGANIZATION_TYPE_Unemployed  ORGANIZATION_TYPE_University  \n20                             0                             0  \n26                             0                             0  \n50                             0                             0  \n64                             0                             0  \n81                             0                             0  \n\n[5 rows x 196 columns]",
      "text/html": "<div>\n<style scoped>\n    .dataframe tbody tr th:only-of-type {\n        vertical-align: middle;\n    }\n\n    .dataframe tbody tr th {\n        vertical-align: top;\n    }\n\n    .dataframe thead th {\n        text-align: right;\n    }\n</style>\n<table border=\"1\" class=\"dataframe\">\n  <thead>\n    <tr style=\"text-align: right;\">\n      <th></th>\n      <th>SK_ID_CURR</th>\n      <th>TARGET</th>\n      <th>NAME_CONTRACT_TYPE</th>\n      <th>CODE_GENDER</th>\n      <th>FLAG_OWN_CAR</th>\n      <th>FLAG_OWN_REALTY</th>\n      <th>CNT_CHILDREN</th>\n      <th>AMT_INCOME_TOTAL</th>\n      <th>AMT_CREDIT</th>\n      <th>AMT_ANNUITY</th>\n      <th>...</th>\n      <th>ORGANIZATION_TYPE_Trade: type 4</th>\n      <th>ORGANIZATION_TYPE_Trade: type 5</th>\n      <th>ORGANIZATION_TYPE_Trade: type 6</th>\n      <th>ORGANIZATION_TYPE_Trade: type 7</th>\n      <th>ORGANIZATION_TYPE_Transport: type 1</th>\n      <th>ORGANIZATION_TYPE_Transport: type 2</th>\n      <th>ORGANIZATION_TYPE_Transport: type 3</th>\n      <th>ORGANIZATION_TYPE_Transport: type 4</th>\n      <th>ORGANIZATION_TYPE_Unemployed</th>\n      <th>ORGANIZATION_TYPE_University</th>\n    </tr>\n  </thead>\n  <tbody>\n    <tr>\n      <th>20</th>\n      <td>100024</td>\n      <td>0.0</td>\n      <td>1</td>\n      <td>0</td>\n      <td>1</td>\n      <td>0</td>\n      <td>0</td>\n      <td>135000.0</td>\n      <td>427500.0</td>\n      <td>21375.0</td>\n      <td>...</td>\n      <td>0</td>\n      <td>0</td>\n      <td>0</td>\n      <td>0</td>\n      <td>0</td>\n      <td>0</td>\n      <td>0</td>\n      <td>0</td>\n      <td>0</td>\n      <td>0</td>\n    </tr>\n    <tr>\n      <th>26</th>\n      <td>100031</td>\n      <td>1.0</td>\n      <td>0</td>\n      <td>1</td>\n      <td>0</td>\n      <td>0</td>\n      <td>0</td>\n      <td>112500.0</td>\n      <td>979992.0</td>\n      <td>27076.5</td>\n      <td>...</td>\n      <td>0</td>\n      <td>0</td>\n      <td>0</td>\n      <td>0</td>\n      <td>0</td>\n      <td>0</td>\n      <td>0</td>\n      <td>0</td>\n      <td>0</td>\n      <td>0</td>\n    </tr>\n    <tr>\n      <th>50</th>\n      <td>100058</td>\n      <td>0.0</td>\n      <td>1</td>\n      <td>1</td>\n      <td>0</td>\n      <td>0</td>\n      <td>0</td>\n      <td>54000.0</td>\n      <td>135000.0</td>\n      <td>6750.0</td>\n      <td>...</td>\n      <td>0</td>\n      <td>0</td>\n      <td>0</td>\n      <td>0</td>\n      <td>0</td>\n      <td>0</td>\n      <td>0</td>\n      <td>0</td>\n      <td>0</td>\n      <td>0</td>\n    </tr>\n    <tr>\n      <th>64</th>\n      <td>100076</td>\n      <td>0.0</td>\n      <td>0</td>\n      <td>0</td>\n      <td>1</td>\n      <td>1</td>\n      <td>0</td>\n      <td>180000.0</td>\n      <td>315000.0</td>\n      <td>9679.5</td>\n      <td>...</td>\n      <td>0</td>\n      <td>0</td>\n      <td>0</td>\n      <td>0</td>\n      <td>0</td>\n      <td>0</td>\n      <td>1</td>\n      <td>0</td>\n      <td>0</td>\n      <td>0</td>\n    </tr>\n    <tr>\n      <th>81</th>\n      <td>100096</td>\n      <td>1.0</td>\n      <td>0</td>\n      <td>1</td>\n      <td>0</td>\n      <td>0</td>\n      <td>0</td>\n      <td>81000.0</td>\n      <td>252000.0</td>\n      <td>14593.5</td>\n      <td>...</td>\n      <td>0</td>\n      <td>0</td>\n      <td>0</td>\n      <td>0</td>\n      <td>0</td>\n      <td>0</td>\n      <td>0</td>\n      <td>0</td>\n      <td>0</td>\n      <td>0</td>\n    </tr>\n  </tbody>\n</table>\n<p>5 rows × 196 columns</p>\n</div>"
     },
     "execution_count": 68,
     "metadata": {},
     "output_type": "execute_result"
    }
   ],
   "source": [
    "comparaison_key(temp_app, pre_app, 'SK_ID_CURR', 'SK_ID_CURR').head(5)"
   ],
   "metadata": {
    "collapsed": false,
    "pycharm": {
     "name": "#%%\n"
    }
   }
  },
  {
   "cell_type": "markdown",
   "source": [
    "17393 clients absents de previous_application, la demande de crédit actuelle est donc leur première demande."
   ],
   "metadata": {
    "collapsed": false,
    "pycharm": {
     "name": "#%% md\n"
    }
   }
  },
  {
   "cell_type": "code",
   "execution_count": 69,
   "outputs": [
    {
     "name": "stdout",
     "output_type": "stream",
     "text": [
      "Le jeu de données contient 1670198 lignes et 37 colonnes.\n"
     ]
    }
   ],
   "source": [
    "pre_app = pre_app[pre_app['SK_ID_CURR'].isin(temp_app['SK_ID_CURR'])]\n",
    "dim(pre_app)"
   ],
   "metadata": {
    "collapsed": false,
    "pycharm": {
     "name": "#%%\n"
    }
   }
  },
  {
   "cell_type": "code",
   "execution_count": 70,
   "outputs": [
    {
     "data": {
      "text/plain": "                       Variable  Nombre de valeurs renseignées  \\\n0                    SK_ID_PREV                        1670198   \n1                    SK_ID_CURR                        1670198   \n2            NAME_CONTRACT_TYPE                        1670198   \n3                   AMT_ANNUITY                        1297967   \n4               AMT_APPLICATION                        1670198   \n5                    AMT_CREDIT                        1670197   \n6              AMT_DOWN_PAYMENT                         774364   \n7               AMT_GOODS_PRICE                        1284686   \n8    WEEKDAY_APPR_PROCESS_START                        1670198   \n9       HOUR_APPR_PROCESS_START                        1670198   \n10  FLAG_LAST_APPL_PER_CONTRACT                        1670198   \n11       NFLAG_LAST_APPL_IN_DAY                        1670198   \n12            RATE_DOWN_PAYMENT                         774364   \n13        RATE_INTEREST_PRIMARY                           5951   \n14     RATE_INTEREST_PRIVILEGED                           5951   \n15       NAME_CASH_LOAN_PURPOSE                        1670198   \n16         NAME_CONTRACT_STATUS                        1670198   \n17                DAYS_DECISION                        1670198   \n18            NAME_PAYMENT_TYPE                        1670198   \n19           CODE_REJECT_REASON                        1670198   \n20              NAME_TYPE_SUITE                         849801   \n21             NAME_CLIENT_TYPE                        1670198   \n22          NAME_GOODS_CATEGORY                        1670198   \n23               NAME_PORTFOLIO                        1670198   \n24            NAME_PRODUCT_TYPE                        1670198   \n25                 CHANNEL_TYPE                        1670198   \n26             SELLERPLACE_AREA                        1670198   \n27         NAME_SELLER_INDUSTRY                        1670198   \n28                  CNT_PAYMENT                        1297972   \n29             NAME_YIELD_GROUP                        1670198   \n30          PRODUCT_COMBINATION                        1669852   \n31           DAYS_FIRST_DRAWING                         997139   \n32               DAYS_FIRST_DUE                         997139   \n33    DAYS_LAST_DUE_1ST_VERSION                         997139   \n34                DAYS_LAST_DUE                         997139   \n35             DAYS_TERMINATION                         997139   \n36    NFLAG_INSURED_ON_APPROVAL                         997139   \n\n    Nombre de valeurs manquantes  Taux de remplissage (%)  \n0                              0                  100.000  \n1                              0                  100.000  \n2                              0                  100.000  \n3                         372231                   77.713  \n4                              0                  100.000  \n5                              1                  100.000  \n6                         895834                   46.364  \n7                         385512                   76.918  \n8                              0                  100.000  \n9                              0                  100.000  \n10                             0                  100.000  \n11                             0                  100.000  \n12                        895834                   46.364  \n13                       1664247                    0.356  \n14                       1664247                    0.356  \n15                             0                  100.000  \n16                             0                  100.000  \n17                             0                  100.000  \n18                             0                  100.000  \n19                             0                  100.000  \n20                        820397                   50.880  \n21                             0                  100.000  \n22                             0                  100.000  \n23                             0                  100.000  \n24                             0                  100.000  \n25                             0                  100.000  \n26                             0                  100.000  \n27                             0                  100.000  \n28                        372226                   77.714  \n29                             0                  100.000  \n30                           346                   99.979  \n31                        673059                   59.702  \n32                        673059                   59.702  \n33                        673059                   59.702  \n34                        673059                   59.702  \n35                        673059                   59.702  \n36                        673059                   59.702  ",
      "text/html": "<div>\n<style scoped>\n    .dataframe tbody tr th:only-of-type {\n        vertical-align: middle;\n    }\n\n    .dataframe tbody tr th {\n        vertical-align: top;\n    }\n\n    .dataframe thead th {\n        text-align: right;\n    }\n</style>\n<table border=\"1\" class=\"dataframe\">\n  <thead>\n    <tr style=\"text-align: right;\">\n      <th></th>\n      <th>Variable</th>\n      <th>Nombre de valeurs renseignées</th>\n      <th>Nombre de valeurs manquantes</th>\n      <th>Taux de remplissage (%)</th>\n    </tr>\n  </thead>\n  <tbody>\n    <tr>\n      <th>0</th>\n      <td>SK_ID_PREV</td>\n      <td>1670198</td>\n      <td>0</td>\n      <td>100.000</td>\n    </tr>\n    <tr>\n      <th>1</th>\n      <td>SK_ID_CURR</td>\n      <td>1670198</td>\n      <td>0</td>\n      <td>100.000</td>\n    </tr>\n    <tr>\n      <th>2</th>\n      <td>NAME_CONTRACT_TYPE</td>\n      <td>1670198</td>\n      <td>0</td>\n      <td>100.000</td>\n    </tr>\n    <tr>\n      <th>3</th>\n      <td>AMT_ANNUITY</td>\n      <td>1297967</td>\n      <td>372231</td>\n      <td>77.713</td>\n    </tr>\n    <tr>\n      <th>4</th>\n      <td>AMT_APPLICATION</td>\n      <td>1670198</td>\n      <td>0</td>\n      <td>100.000</td>\n    </tr>\n    <tr>\n      <th>5</th>\n      <td>AMT_CREDIT</td>\n      <td>1670197</td>\n      <td>1</td>\n      <td>100.000</td>\n    </tr>\n    <tr>\n      <th>6</th>\n      <td>AMT_DOWN_PAYMENT</td>\n      <td>774364</td>\n      <td>895834</td>\n      <td>46.364</td>\n    </tr>\n    <tr>\n      <th>7</th>\n      <td>AMT_GOODS_PRICE</td>\n      <td>1284686</td>\n      <td>385512</td>\n      <td>76.918</td>\n    </tr>\n    <tr>\n      <th>8</th>\n      <td>WEEKDAY_APPR_PROCESS_START</td>\n      <td>1670198</td>\n      <td>0</td>\n      <td>100.000</td>\n    </tr>\n    <tr>\n      <th>9</th>\n      <td>HOUR_APPR_PROCESS_START</td>\n      <td>1670198</td>\n      <td>0</td>\n      <td>100.000</td>\n    </tr>\n    <tr>\n      <th>10</th>\n      <td>FLAG_LAST_APPL_PER_CONTRACT</td>\n      <td>1670198</td>\n      <td>0</td>\n      <td>100.000</td>\n    </tr>\n    <tr>\n      <th>11</th>\n      <td>NFLAG_LAST_APPL_IN_DAY</td>\n      <td>1670198</td>\n      <td>0</td>\n      <td>100.000</td>\n    </tr>\n    <tr>\n      <th>12</th>\n      <td>RATE_DOWN_PAYMENT</td>\n      <td>774364</td>\n      <td>895834</td>\n      <td>46.364</td>\n    </tr>\n    <tr>\n      <th>13</th>\n      <td>RATE_INTEREST_PRIMARY</td>\n      <td>5951</td>\n      <td>1664247</td>\n      <td>0.356</td>\n    </tr>\n    <tr>\n      <th>14</th>\n      <td>RATE_INTEREST_PRIVILEGED</td>\n      <td>5951</td>\n      <td>1664247</td>\n      <td>0.356</td>\n    </tr>\n    <tr>\n      <th>15</th>\n      <td>NAME_CASH_LOAN_PURPOSE</td>\n      <td>1670198</td>\n      <td>0</td>\n      <td>100.000</td>\n    </tr>\n    <tr>\n      <th>16</th>\n      <td>NAME_CONTRACT_STATUS</td>\n      <td>1670198</td>\n      <td>0</td>\n      <td>100.000</td>\n    </tr>\n    <tr>\n      <th>17</th>\n      <td>DAYS_DECISION</td>\n      <td>1670198</td>\n      <td>0</td>\n      <td>100.000</td>\n    </tr>\n    <tr>\n      <th>18</th>\n      <td>NAME_PAYMENT_TYPE</td>\n      <td>1670198</td>\n      <td>0</td>\n      <td>100.000</td>\n    </tr>\n    <tr>\n      <th>19</th>\n      <td>CODE_REJECT_REASON</td>\n      <td>1670198</td>\n      <td>0</td>\n      <td>100.000</td>\n    </tr>\n    <tr>\n      <th>20</th>\n      <td>NAME_TYPE_SUITE</td>\n      <td>849801</td>\n      <td>820397</td>\n      <td>50.880</td>\n    </tr>\n    <tr>\n      <th>21</th>\n      <td>NAME_CLIENT_TYPE</td>\n      <td>1670198</td>\n      <td>0</td>\n      <td>100.000</td>\n    </tr>\n    <tr>\n      <th>22</th>\n      <td>NAME_GOODS_CATEGORY</td>\n      <td>1670198</td>\n      <td>0</td>\n      <td>100.000</td>\n    </tr>\n    <tr>\n      <th>23</th>\n      <td>NAME_PORTFOLIO</td>\n      <td>1670198</td>\n      <td>0</td>\n      <td>100.000</td>\n    </tr>\n    <tr>\n      <th>24</th>\n      <td>NAME_PRODUCT_TYPE</td>\n      <td>1670198</td>\n      <td>0</td>\n      <td>100.000</td>\n    </tr>\n    <tr>\n      <th>25</th>\n      <td>CHANNEL_TYPE</td>\n      <td>1670198</td>\n      <td>0</td>\n      <td>100.000</td>\n    </tr>\n    <tr>\n      <th>26</th>\n      <td>SELLERPLACE_AREA</td>\n      <td>1670198</td>\n      <td>0</td>\n      <td>100.000</td>\n    </tr>\n    <tr>\n      <th>27</th>\n      <td>NAME_SELLER_INDUSTRY</td>\n      <td>1670198</td>\n      <td>0</td>\n      <td>100.000</td>\n    </tr>\n    <tr>\n      <th>28</th>\n      <td>CNT_PAYMENT</td>\n      <td>1297972</td>\n      <td>372226</td>\n      <td>77.714</td>\n    </tr>\n    <tr>\n      <th>29</th>\n      <td>NAME_YIELD_GROUP</td>\n      <td>1670198</td>\n      <td>0</td>\n      <td>100.000</td>\n    </tr>\n    <tr>\n      <th>30</th>\n      <td>PRODUCT_COMBINATION</td>\n      <td>1669852</td>\n      <td>346</td>\n      <td>99.979</td>\n    </tr>\n    <tr>\n      <th>31</th>\n      <td>DAYS_FIRST_DRAWING</td>\n      <td>997139</td>\n      <td>673059</td>\n      <td>59.702</td>\n    </tr>\n    <tr>\n      <th>32</th>\n      <td>DAYS_FIRST_DUE</td>\n      <td>997139</td>\n      <td>673059</td>\n      <td>59.702</td>\n    </tr>\n    <tr>\n      <th>33</th>\n      <td>DAYS_LAST_DUE_1ST_VERSION</td>\n      <td>997139</td>\n      <td>673059</td>\n      <td>59.702</td>\n    </tr>\n    <tr>\n      <th>34</th>\n      <td>DAYS_LAST_DUE</td>\n      <td>997139</td>\n      <td>673059</td>\n      <td>59.702</td>\n    </tr>\n    <tr>\n      <th>35</th>\n      <td>DAYS_TERMINATION</td>\n      <td>997139</td>\n      <td>673059</td>\n      <td>59.702</td>\n    </tr>\n    <tr>\n      <th>36</th>\n      <td>NFLAG_INSURED_ON_APPROVAL</td>\n      <td>997139</td>\n      <td>673059</td>\n      <td>59.702</td>\n    </tr>\n  </tbody>\n</table>\n</div>"
     },
     "execution_count": 70,
     "metadata": {},
     "output_type": "execute_result"
    }
   ],
   "source": [
    "recap_missing_values(pre_app)"
   ],
   "metadata": {
    "collapsed": false,
    "pycharm": {
     "name": "#%%\n"
    }
   }
  },
  {
   "cell_type": "code",
   "execution_count": 71,
   "outputs": [
    {
     "data": {
      "text/plain": "1670198"
     },
     "execution_count": 71,
     "metadata": {},
     "output_type": "execute_result"
    }
   ],
   "source": [
    "pre_app['SK_ID_PREV'].nunique()"
   ],
   "metadata": {
    "collapsed": false,
    "pycharm": {
     "name": "#%%\n"
    }
   }
  },
  {
   "cell_type": "code",
   "execution_count": 72,
   "outputs": [
    {
     "data": {
      "text/plain": "['NAME_CONTRACT_TYPE',\n 'WEEKDAY_APPR_PROCESS_START',\n 'FLAG_LAST_APPL_PER_CONTRACT',\n 'NAME_CASH_LOAN_PURPOSE',\n 'NAME_CONTRACT_STATUS',\n 'NAME_PAYMENT_TYPE',\n 'CODE_REJECT_REASON',\n 'NAME_TYPE_SUITE',\n 'NAME_CLIENT_TYPE',\n 'NAME_GOODS_CATEGORY',\n 'NAME_PORTFOLIO',\n 'NAME_PRODUCT_TYPE',\n 'CHANNEL_TYPE',\n 'NAME_SELLER_INDUSTRY',\n 'NAME_YIELD_GROUP',\n 'PRODUCT_COMBINATION']"
     },
     "execution_count": 72,
     "metadata": {},
     "output_type": "execute_result"
    }
   ],
   "source": [
    "list_var_categ = pre_app.select_dtypes('object').columns.tolist()\n",
    "list_var_categ"
   ],
   "metadata": {
    "collapsed": false,
    "pycharm": {
     "name": "#%%\n"
    }
   }
  },
  {
   "cell_type": "code",
   "execution_count": 73,
   "outputs": [
    {
     "data": {
      "text/plain": "NAME_CONTRACT_TYPE              4\nWEEKDAY_APPR_PROCESS_START      7\nFLAG_LAST_APPL_PER_CONTRACT     2\nNAME_CASH_LOAN_PURPOSE         25\nNAME_CONTRACT_STATUS            4\nNAME_PAYMENT_TYPE               4\nCODE_REJECT_REASON              9\nNAME_TYPE_SUITE                 7\nNAME_CLIENT_TYPE                4\nNAME_GOODS_CATEGORY            28\nNAME_PORTFOLIO                  5\nNAME_PRODUCT_TYPE               3\nCHANNEL_TYPE                    8\nNAME_SELLER_INDUSTRY           11\nNAME_YIELD_GROUP                5\nPRODUCT_COMBINATION            17\ndtype: int64"
     },
     "execution_count": 73,
     "metadata": {},
     "output_type": "execute_result"
    }
   ],
   "source": [
    "# Number of unique classes in each object column\n",
    "pre_app[list_var_categ].nunique()"
   ],
   "metadata": {
    "collapsed": false,
    "pycharm": {
     "name": "#%%\n"
    }
   }
  },
  {
   "cell_type": "code",
   "execution_count": 74,
   "outputs": [
    {
     "name": "stdout",
     "output_type": "stream",
     "text": [
      "NAME_CONTRACT_TYPE : ['Consumer loans' 'Cash loans' 'Revolving loans' 'XNA']\n",
      "\n",
      "WEEKDAY_APPR_PROCESS_START : ['SATURDAY' 'THURSDAY' 'TUESDAY' 'MONDAY' 'FRIDAY' 'SUNDAY' 'WEDNESDAY']\n",
      "\n",
      "FLAG_LAST_APPL_PER_CONTRACT : ['Y' 'N']\n",
      "\n",
      "NAME_CONTRACT_STATUS : ['Approved' 'Refused' 'Canceled' 'Unused offer']\n",
      "\n",
      "NAME_PAYMENT_TYPE : ['Cash through the bank' 'XNA' 'Non-cash from your account'\n",
      " 'Cashless from the account of the employer']\n",
      "\n",
      "CODE_REJECT_REASON : ['XAP' 'HC' 'LIMIT' 'CLIENT' 'SCOFR' 'SCO' 'XNA' 'VERIF' 'SYSTEM']\n",
      "\n",
      "NAME_TYPE_SUITE : [nan 'Unaccompanied' 'Spouse, partner' 'Family' 'Children' 'Other_B'\n",
      " 'Other_A' 'Group of people']\n",
      "\n",
      "NAME_CLIENT_TYPE : ['Repeater' 'New' 'Refreshed' 'XNA']\n",
      "\n",
      "NAME_PORTFOLIO : ['POS' 'Cash' 'XNA' 'Cards' 'Cars']\n",
      "\n",
      "NAME_PRODUCT_TYPE : ['XNA' 'x-sell' 'walk-in']\n",
      "\n",
      "CHANNEL_TYPE : ['Country-wide' 'Contact center' 'Credit and cash offices' 'Stone'\n",
      " 'Regional / Local' 'AP+ (Cash loan)' 'Channel of corporate sales'\n",
      " 'Car dealer']\n",
      "\n",
      "NAME_YIELD_GROUP : ['middle' 'low_action' 'high' 'low_normal' 'XNA']\n",
      "\n"
     ]
    }
   ],
   "source": [
    "for f in list_var_categ:\n",
    "    if pre_app[f].nunique() < 10:\n",
    "        print(f'{f} : {pre_app[f].unique()}')\n",
    "        print('')"
   ],
   "metadata": {
    "collapsed": false,
    "pycharm": {
     "name": "#%%\n"
    }
   }
  },
  {
   "cell_type": "code",
   "execution_count": 75,
   "outputs": [
    {
     "name": "stdout",
     "output_type": "stream",
     "text": [
      "NAME_CASH_LOAN_PURPOSE : ['XAP' 'XNA' 'Repairs' 'Everyday expenses' 'Car repairs'\n",
      " 'Building a house or an annex' 'Other' 'Journey'\n",
      " 'Purchase of electronic equipment' 'Medicine' 'Payments on other loans'\n",
      " 'Urgent needs' 'Buying a used car' 'Buying a new car'\n",
      " 'Buying a holiday home / land' 'Education' 'Buying a home' 'Furniture'\n",
      " 'Buying a garage' 'Business development' 'Wedding / gift / holiday'\n",
      " 'Hobby' 'Gasification / water supply' 'Refusal to name the goal'\n",
      " 'Money for a third person']\n",
      "\n",
      "NAME_GOODS_CATEGORY : ['Mobile' 'XNA' 'Consumer Electronics' 'Construction Materials'\n",
      " 'Auto Accessories' 'Photo / Cinema Equipment' 'Computers' 'Audio/Video'\n",
      " 'Medicine' 'Clothing and Accessories' 'Furniture' 'Sport and Leisure'\n",
      " 'Homewares' 'Gardening' 'Jewelry' 'Vehicles' 'Education'\n",
      " 'Medical Supplies' 'Other' 'Direct Sales' 'Office Appliances' 'Fitness'\n",
      " 'Tourism' 'Insurance' 'Additional Service' 'Weapon' 'Animals'\n",
      " 'House Construction']\n",
      "\n",
      "NAME_SELLER_INDUSTRY : ['Connectivity' 'XNA' 'Consumer electronics' 'Industry' 'Clothing'\n",
      " 'Furniture' 'Construction' 'Jewelry' 'Auto technology' 'MLM partners'\n",
      " 'Tourism']\n",
      "\n",
      "PRODUCT_COMBINATION : ['POS mobile with interest' 'Cash X-Sell: low' 'Cash X-Sell: high'\n",
      " 'Cash X-Sell: middle' 'Cash Street: high' 'Cash'\n",
      " 'POS household without interest' 'POS household with interest'\n",
      " 'POS other with interest' 'Card X-Sell' 'POS mobile without interest'\n",
      " 'Card Street' 'POS industry with interest' 'Cash Street: low'\n",
      " 'POS industry without interest' 'Cash Street: middle'\n",
      " 'POS others without interest' nan]\n",
      "\n"
     ]
    }
   ],
   "source": [
    "for f in list_var_categ:\n",
    "    if pre_app[f].nunique() > 10:\n",
    "        print(f'{f} : {pre_app[f].unique()}')\n",
    "        print('')"
   ],
   "metadata": {
    "collapsed": false,
    "pycharm": {
     "name": "#%%\n"
    }
   }
  },
  {
   "cell_type": "markdown",
   "source": [
    "\"XNA\" et \"XAP\" sont des valeurs manquantes."
   ],
   "metadata": {
    "collapsed": false,
    "pycharm": {
     "name": "#%% md\n"
    }
   }
  },
  {
   "cell_type": "code",
   "execution_count": 76,
   "outputs": [],
   "source": [
    "marker_nan = [\"XNA\", \"XAP\"]\n",
    "pre_app.replace(marker_nan, np.nan, inplace=True)"
   ],
   "metadata": {
    "collapsed": false,
    "pycharm": {
     "name": "#%%\n"
    }
   }
  },
  {
   "cell_type": "code",
   "execution_count": 77,
   "outputs": [
    {
     "data": {
      "text/plain": "                               0%    1.0%    5.0%     10.0%     25.0%  \\\nDAYS_DECISION             -2922.0 -2835.0 -2559.0   -2250.0   -1300.0   \nDAYS_FIRST_DRAWING        -2922.0 -2441.0  -269.0  365243.0  365243.0   \nDAYS_FIRST_DUE            -2892.0 -2822.0 -2608.0   -2392.0   -1628.0   \nDAYS_LAST_DUE_1ST_VERSION -2801.0 -2599.0 -2327.0   -2047.0   -1242.0   \nDAYS_LAST_DUE             -2889.0 -2618.0 -2349.0   -2081.0   -1314.0   \nDAYS_TERMINATION          -2874.0 -2589.0 -2331.0   -2052.0   -1270.0   \n\n                              50.0%     75.0%     90.0%     95.0%     99.0%  \\\nDAYS_DECISION                -581.0    -280.0    -152.0     -85.0     -14.0   \nDAYS_FIRST_DRAWING         365243.0  365243.0  365243.0  365243.0  365243.0   \nDAYS_FIRST_DUE               -831.0    -411.0    -173.0     -48.0  365243.0   \nDAYS_LAST_DUE_1ST_VERSION    -361.0     129.0    1432.0  365243.0  365243.0   \nDAYS_LAST_DUE                -537.0     -74.0  365243.0  365243.0  365243.0   \nDAYS_TERMINATION             -499.0     -44.0  365243.0  365243.0  365243.0   \n\n                               100%  \nDAYS_DECISION                  -1.0  \nDAYS_FIRST_DRAWING         365243.0  \nDAYS_FIRST_DUE             365243.0  \nDAYS_LAST_DUE_1ST_VERSION  365243.0  \nDAYS_LAST_DUE              365243.0  \nDAYS_TERMINATION           365243.0  ",
      "text/html": "<div>\n<style scoped>\n    .dataframe tbody tr th:only-of-type {\n        vertical-align: middle;\n    }\n\n    .dataframe tbody tr th {\n        vertical-align: top;\n    }\n\n    .dataframe thead th {\n        text-align: right;\n    }\n</style>\n<table border=\"1\" class=\"dataframe\">\n  <thead>\n    <tr style=\"text-align: right;\">\n      <th></th>\n      <th>0%</th>\n      <th>1.0%</th>\n      <th>5.0%</th>\n      <th>10.0%</th>\n      <th>25.0%</th>\n      <th>50.0%</th>\n      <th>75.0%</th>\n      <th>90.0%</th>\n      <th>95.0%</th>\n      <th>99.0%</th>\n      <th>100%</th>\n    </tr>\n  </thead>\n  <tbody>\n    <tr>\n      <th>DAYS_DECISION</th>\n      <td>-2922.0</td>\n      <td>-2835.0</td>\n      <td>-2559.0</td>\n      <td>-2250.0</td>\n      <td>-1300.0</td>\n      <td>-581.0</td>\n      <td>-280.0</td>\n      <td>-152.0</td>\n      <td>-85.0</td>\n      <td>-14.0</td>\n      <td>-1.0</td>\n    </tr>\n    <tr>\n      <th>DAYS_FIRST_DRAWING</th>\n      <td>-2922.0</td>\n      <td>-2441.0</td>\n      <td>-269.0</td>\n      <td>365243.0</td>\n      <td>365243.0</td>\n      <td>365243.0</td>\n      <td>365243.0</td>\n      <td>365243.0</td>\n      <td>365243.0</td>\n      <td>365243.0</td>\n      <td>365243.0</td>\n    </tr>\n    <tr>\n      <th>DAYS_FIRST_DUE</th>\n      <td>-2892.0</td>\n      <td>-2822.0</td>\n      <td>-2608.0</td>\n      <td>-2392.0</td>\n      <td>-1628.0</td>\n      <td>-831.0</td>\n      <td>-411.0</td>\n      <td>-173.0</td>\n      <td>-48.0</td>\n      <td>365243.0</td>\n      <td>365243.0</td>\n    </tr>\n    <tr>\n      <th>DAYS_LAST_DUE_1ST_VERSION</th>\n      <td>-2801.0</td>\n      <td>-2599.0</td>\n      <td>-2327.0</td>\n      <td>-2047.0</td>\n      <td>-1242.0</td>\n      <td>-361.0</td>\n      <td>129.0</td>\n      <td>1432.0</td>\n      <td>365243.0</td>\n      <td>365243.0</td>\n      <td>365243.0</td>\n    </tr>\n    <tr>\n      <th>DAYS_LAST_DUE</th>\n      <td>-2889.0</td>\n      <td>-2618.0</td>\n      <td>-2349.0</td>\n      <td>-2081.0</td>\n      <td>-1314.0</td>\n      <td>-537.0</td>\n      <td>-74.0</td>\n      <td>365243.0</td>\n      <td>365243.0</td>\n      <td>365243.0</td>\n      <td>365243.0</td>\n    </tr>\n    <tr>\n      <th>DAYS_TERMINATION</th>\n      <td>-2874.0</td>\n      <td>-2589.0</td>\n      <td>-2331.0</td>\n      <td>-2052.0</td>\n      <td>-1270.0</td>\n      <td>-499.0</td>\n      <td>-44.0</td>\n      <td>365243.0</td>\n      <td>365243.0</td>\n      <td>365243.0</td>\n      <td>365243.0</td>\n    </tr>\n  </tbody>\n</table>\n</div>"
     },
     "execution_count": 77,
     "metadata": {},
     "output_type": "execute_result"
    }
   ],
   "source": [
    "percentile_report(pre_app, [col for col in pre_app.columns if col.startswith('DAYS_')])"
   ],
   "metadata": {
    "collapsed": false,
    "pycharm": {
     "name": "#%%\n"
    }
   }
  },
  {
   "cell_type": "code",
   "execution_count": 78,
   "outputs": [],
   "source": [
    "pre_app['DAYS_FIRST_DRAWING'].replace(365243, np.nan, inplace= True)\n",
    "pre_app['DAYS_FIRST_DUE'].replace(365243, np.nan, inplace= True)\n",
    "pre_app['DAYS_LAST_DUE_1ST_VERSION'].replace(365243, np.nan, inplace= True)\n",
    "pre_app['DAYS_LAST_DUE'].replace(365243, np.nan, inplace= True)\n",
    "pre_app['DAYS_TERMINATION'].replace(365243, np.nan, inplace= True)"
   ],
   "metadata": {
    "collapsed": false,
    "pycharm": {
     "name": "#%%\n"
    }
   }
  },
  {
   "cell_type": "code",
   "execution_count": 79,
   "outputs": [
    {
     "data": {
      "text/plain": "                       Variable  Nombre de valeurs renseignées  \\\n0                    SK_ID_PREV                        1670198   \n1                    SK_ID_CURR                        1670198   \n2            NAME_CONTRACT_TYPE                        1669852   \n3                   AMT_ANNUITY                        1297967   \n4               AMT_APPLICATION                        1670198   \n5                    AMT_CREDIT                        1670197   \n6              AMT_DOWN_PAYMENT                         774364   \n7               AMT_GOODS_PRICE                        1284686   \n8    WEEKDAY_APPR_PROCESS_START                        1670198   \n9       HOUR_APPR_PROCESS_START                        1670198   \n10  FLAG_LAST_APPL_PER_CONTRACT                        1670198   \n11       NFLAG_LAST_APPL_IN_DAY                        1670198   \n12            RATE_DOWN_PAYMENT                         774364   \n13        RATE_INTEREST_PRIMARY                           5951   \n14     RATE_INTEREST_PRIVILEGED                           5951   \n15       NAME_CASH_LOAN_PURPOSE                          69635   \n16         NAME_CONTRACT_STATUS                        1670198   \n17                DAYS_DECISION                        1670198   \n18            NAME_PAYMENT_TYPE                        1042817   \n19           CODE_REJECT_REASON                         311873   \n20              NAME_TYPE_SUITE                         849801   \n21             NAME_CLIENT_TYPE                        1668257   \n22          NAME_GOODS_CATEGORY                         719397   \n23               NAME_PORTFOLIO                        1297972   \n24            NAME_PRODUCT_TYPE                         606542   \n25                 CHANNEL_TYPE                        1670198   \n26             SELLERPLACE_AREA                        1670198   \n27         NAME_SELLER_INDUSTRY                         814485   \n28                  CNT_PAYMENT                        1297972   \n29             NAME_YIELD_GROUP                        1152988   \n30          PRODUCT_COMBINATION                        1669852   \n31           DAYS_FIRST_DRAWING                          62705   \n32               DAYS_FIRST_DUE                         956495   \n33    DAYS_LAST_DUE_1ST_VERSION                         903276   \n34                DAYS_LAST_DUE                         785921   \n35             DAYS_TERMINATION                         771229   \n36    NFLAG_INSURED_ON_APPROVAL                         997139   \n\n    Nombre de valeurs manquantes  Taux de remplissage (%)  \n0                              0                  100.000  \n1                              0                  100.000  \n2                            346                   99.979  \n3                         372231                   77.713  \n4                              0                  100.000  \n5                              1                  100.000  \n6                         895834                   46.364  \n7                         385512                   76.918  \n8                              0                  100.000  \n9                              0                  100.000  \n10                             0                  100.000  \n11                             0                  100.000  \n12                        895834                   46.364  \n13                       1664247                    0.356  \n14                       1664247                    0.356  \n15                       1600563                    4.169  \n16                             0                  100.000  \n17                             0                  100.000  \n18                        627381                   62.437  \n19                       1358325                   18.673  \n20                        820397                   50.880  \n21                          1941                   99.884  \n22                        950801                   43.073  \n23                        372226                   77.714  \n24                       1063656                   36.316  \n25                             0                  100.000  \n26                             0                  100.000  \n27                        855713                   48.766  \n28                        372226                   77.714  \n29                        517210                   69.033  \n30                           346                   99.979  \n31                       1607493                    3.754  \n32                        713703                   57.268  \n33                        766922                   54.082  \n34                        884277                   47.056  \n35                        898969                   46.176  \n36                        673059                   59.702  ",
      "text/html": "<div>\n<style scoped>\n    .dataframe tbody tr th:only-of-type {\n        vertical-align: middle;\n    }\n\n    .dataframe tbody tr th {\n        vertical-align: top;\n    }\n\n    .dataframe thead th {\n        text-align: right;\n    }\n</style>\n<table border=\"1\" class=\"dataframe\">\n  <thead>\n    <tr style=\"text-align: right;\">\n      <th></th>\n      <th>Variable</th>\n      <th>Nombre de valeurs renseignées</th>\n      <th>Nombre de valeurs manquantes</th>\n      <th>Taux de remplissage (%)</th>\n    </tr>\n  </thead>\n  <tbody>\n    <tr>\n      <th>0</th>\n      <td>SK_ID_PREV</td>\n      <td>1670198</td>\n      <td>0</td>\n      <td>100.000</td>\n    </tr>\n    <tr>\n      <th>1</th>\n      <td>SK_ID_CURR</td>\n      <td>1670198</td>\n      <td>0</td>\n      <td>100.000</td>\n    </tr>\n    <tr>\n      <th>2</th>\n      <td>NAME_CONTRACT_TYPE</td>\n      <td>1669852</td>\n      <td>346</td>\n      <td>99.979</td>\n    </tr>\n    <tr>\n      <th>3</th>\n      <td>AMT_ANNUITY</td>\n      <td>1297967</td>\n      <td>372231</td>\n      <td>77.713</td>\n    </tr>\n    <tr>\n      <th>4</th>\n      <td>AMT_APPLICATION</td>\n      <td>1670198</td>\n      <td>0</td>\n      <td>100.000</td>\n    </tr>\n    <tr>\n      <th>5</th>\n      <td>AMT_CREDIT</td>\n      <td>1670197</td>\n      <td>1</td>\n      <td>100.000</td>\n    </tr>\n    <tr>\n      <th>6</th>\n      <td>AMT_DOWN_PAYMENT</td>\n      <td>774364</td>\n      <td>895834</td>\n      <td>46.364</td>\n    </tr>\n    <tr>\n      <th>7</th>\n      <td>AMT_GOODS_PRICE</td>\n      <td>1284686</td>\n      <td>385512</td>\n      <td>76.918</td>\n    </tr>\n    <tr>\n      <th>8</th>\n      <td>WEEKDAY_APPR_PROCESS_START</td>\n      <td>1670198</td>\n      <td>0</td>\n      <td>100.000</td>\n    </tr>\n    <tr>\n      <th>9</th>\n      <td>HOUR_APPR_PROCESS_START</td>\n      <td>1670198</td>\n      <td>0</td>\n      <td>100.000</td>\n    </tr>\n    <tr>\n      <th>10</th>\n      <td>FLAG_LAST_APPL_PER_CONTRACT</td>\n      <td>1670198</td>\n      <td>0</td>\n      <td>100.000</td>\n    </tr>\n    <tr>\n      <th>11</th>\n      <td>NFLAG_LAST_APPL_IN_DAY</td>\n      <td>1670198</td>\n      <td>0</td>\n      <td>100.000</td>\n    </tr>\n    <tr>\n      <th>12</th>\n      <td>RATE_DOWN_PAYMENT</td>\n      <td>774364</td>\n      <td>895834</td>\n      <td>46.364</td>\n    </tr>\n    <tr>\n      <th>13</th>\n      <td>RATE_INTEREST_PRIMARY</td>\n      <td>5951</td>\n      <td>1664247</td>\n      <td>0.356</td>\n    </tr>\n    <tr>\n      <th>14</th>\n      <td>RATE_INTEREST_PRIVILEGED</td>\n      <td>5951</td>\n      <td>1664247</td>\n      <td>0.356</td>\n    </tr>\n    <tr>\n      <th>15</th>\n      <td>NAME_CASH_LOAN_PURPOSE</td>\n      <td>69635</td>\n      <td>1600563</td>\n      <td>4.169</td>\n    </tr>\n    <tr>\n      <th>16</th>\n      <td>NAME_CONTRACT_STATUS</td>\n      <td>1670198</td>\n      <td>0</td>\n      <td>100.000</td>\n    </tr>\n    <tr>\n      <th>17</th>\n      <td>DAYS_DECISION</td>\n      <td>1670198</td>\n      <td>0</td>\n      <td>100.000</td>\n    </tr>\n    <tr>\n      <th>18</th>\n      <td>NAME_PAYMENT_TYPE</td>\n      <td>1042817</td>\n      <td>627381</td>\n      <td>62.437</td>\n    </tr>\n    <tr>\n      <th>19</th>\n      <td>CODE_REJECT_REASON</td>\n      <td>311873</td>\n      <td>1358325</td>\n      <td>18.673</td>\n    </tr>\n    <tr>\n      <th>20</th>\n      <td>NAME_TYPE_SUITE</td>\n      <td>849801</td>\n      <td>820397</td>\n      <td>50.880</td>\n    </tr>\n    <tr>\n      <th>21</th>\n      <td>NAME_CLIENT_TYPE</td>\n      <td>1668257</td>\n      <td>1941</td>\n      <td>99.884</td>\n    </tr>\n    <tr>\n      <th>22</th>\n      <td>NAME_GOODS_CATEGORY</td>\n      <td>719397</td>\n      <td>950801</td>\n      <td>43.073</td>\n    </tr>\n    <tr>\n      <th>23</th>\n      <td>NAME_PORTFOLIO</td>\n      <td>1297972</td>\n      <td>372226</td>\n      <td>77.714</td>\n    </tr>\n    <tr>\n      <th>24</th>\n      <td>NAME_PRODUCT_TYPE</td>\n      <td>606542</td>\n      <td>1063656</td>\n      <td>36.316</td>\n    </tr>\n    <tr>\n      <th>25</th>\n      <td>CHANNEL_TYPE</td>\n      <td>1670198</td>\n      <td>0</td>\n      <td>100.000</td>\n    </tr>\n    <tr>\n      <th>26</th>\n      <td>SELLERPLACE_AREA</td>\n      <td>1670198</td>\n      <td>0</td>\n      <td>100.000</td>\n    </tr>\n    <tr>\n      <th>27</th>\n      <td>NAME_SELLER_INDUSTRY</td>\n      <td>814485</td>\n      <td>855713</td>\n      <td>48.766</td>\n    </tr>\n    <tr>\n      <th>28</th>\n      <td>CNT_PAYMENT</td>\n      <td>1297972</td>\n      <td>372226</td>\n      <td>77.714</td>\n    </tr>\n    <tr>\n      <th>29</th>\n      <td>NAME_YIELD_GROUP</td>\n      <td>1152988</td>\n      <td>517210</td>\n      <td>69.033</td>\n    </tr>\n    <tr>\n      <th>30</th>\n      <td>PRODUCT_COMBINATION</td>\n      <td>1669852</td>\n      <td>346</td>\n      <td>99.979</td>\n    </tr>\n    <tr>\n      <th>31</th>\n      <td>DAYS_FIRST_DRAWING</td>\n      <td>62705</td>\n      <td>1607493</td>\n      <td>3.754</td>\n    </tr>\n    <tr>\n      <th>32</th>\n      <td>DAYS_FIRST_DUE</td>\n      <td>956495</td>\n      <td>713703</td>\n      <td>57.268</td>\n    </tr>\n    <tr>\n      <th>33</th>\n      <td>DAYS_LAST_DUE_1ST_VERSION</td>\n      <td>903276</td>\n      <td>766922</td>\n      <td>54.082</td>\n    </tr>\n    <tr>\n      <th>34</th>\n      <td>DAYS_LAST_DUE</td>\n      <td>785921</td>\n      <td>884277</td>\n      <td>47.056</td>\n    </tr>\n    <tr>\n      <th>35</th>\n      <td>DAYS_TERMINATION</td>\n      <td>771229</td>\n      <td>898969</td>\n      <td>46.176</td>\n    </tr>\n    <tr>\n      <th>36</th>\n      <td>NFLAG_INSURED_ON_APPROVAL</td>\n      <td>997139</td>\n      <td>673059</td>\n      <td>59.702</td>\n    </tr>\n  </tbody>\n</table>\n</div>"
     },
     "execution_count": 79,
     "metadata": {},
     "output_type": "execute_result"
    }
   ],
   "source": [
    "M = recap_missing_values(pre_app)\n",
    "M"
   ],
   "metadata": {
    "collapsed": false,
    "pycharm": {
     "name": "#%%\n"
    }
   }
  },
  {
   "cell_type": "code",
   "execution_count": 80,
   "outputs": [],
   "source": [
    "pre_app = pre_app[pre_app['AMT_CREDIT'].notna()]"
   ],
   "metadata": {
    "collapsed": false,
    "pycharm": {
     "name": "#%%\n"
    }
   }
  },
  {
   "cell_type": "code",
   "execution_count": 81,
   "outputs": [
    {
     "data": {
      "text/plain": "['RATE_INTEREST_PRIMARY',\n 'RATE_INTEREST_PRIVILEGED',\n 'NAME_CASH_LOAN_PURPOSE',\n 'DAYS_FIRST_DRAWING']"
     },
     "execution_count": 81,
     "metadata": {},
     "output_type": "execute_result"
    }
   ],
   "source": [
    "col_to_del = M[M['Taux de remplissage (%)'] < 10]['Variable']\n",
    "col_to_del.tolist()"
   ],
   "metadata": {
    "collapsed": false,
    "pycharm": {
     "name": "#%%\n"
    }
   }
  },
  {
   "cell_type": "code",
   "execution_count": 82,
   "outputs": [],
   "source": [
    "pre_app = pre_app.drop(columns=col_to_del)"
   ],
   "metadata": {
    "collapsed": false,
    "pycharm": {
     "name": "#%%\n"
    }
   }
  },
  {
   "cell_type": "code",
   "execution_count": 83,
   "outputs": [
    {
     "name": "stdout",
     "output_type": "stream",
     "text": [
      "                         Column                     Mode      Mode_pct\n",
      "0                    SK_ID_PREV                  1000001  5.987318e-07\n",
      "1                    SK_ID_CURR                   187868  4.610235e-05\n",
      "29    DAYS_LAST_DUE_1ST_VERSION                      9.0  7.970986e-04\n",
      "28               DAYS_FIRST_DUE                   -334.0  8.071135e-04\n",
      "30                DAYS_LAST_DUE                   -245.0  8.372343e-04\n",
      "31             DAYS_TERMINATION                   -233.0  1.019153e-03\n",
      "14                DAYS_DECISION                     -245  1.463300e-03\n",
      "3                   AMT_ANNUITY                   2250.0  2.454995e-02\n",
      "7               AMT_GOODS_PRICE                  45000.0  3.723167e-02\n",
      "9       HOUR_APPR_PROCESS_START                       11  1.153894e-01\n",
      "8    WEEKDAY_APPR_PROCESS_START                  TUESDAY  1.527473e-01\n",
      "27          PRODUCT_COMBINATION                     Cash  1.712656e-01\n",
      "5                    AMT_CREDIT                      0.0  2.016325e-01\n",
      "4               AMT_APPLICATION                      0.0  2.349411e-01\n",
      "25                  CNT_PAYMENT                     12.0  2.488838e-01\n",
      "19          NAME_GOODS_CATEGORY                   Mobile  3.123547e-01\n",
      "26             NAME_YIELD_GROUP                   middle  3.343712e-01\n",
      "22                 CHANNEL_TYPE  Credit and cash offices  4.310635e-01\n",
      "2            NAME_CONTRACT_TYPE               Cash loans  4.476723e-01\n",
      "23             SELLERPLACE_AREA                       -1  4.566336e-01\n",
      "6              AMT_DOWN_PAYMENT                      0.0  4.776178e-01\n",
      "12            RATE_DOWN_PAYMENT                      0.0  4.776178e-01\n",
      "24         NAME_SELLER_INDUSTRY     Consumer electronics  4.889709e-01\n",
      "20               NAME_PORTFOLIO                      POS  5.323732e-01\n",
      "16           CODE_REJECT_REASON                       HC  5.618569e-01\n",
      "17              NAME_TYPE_SUITE            Unaccompanied  5.989261e-01\n",
      "13         NAME_CONTRACT_STATUS                 Approved  6.207471e-01\n",
      "32    NFLAG_INSURED_ON_APPROVAL                      0.0  6.674285e-01\n",
      "18             NAME_CLIENT_TYPE                 Repeater  7.380438e-01\n",
      "21            NAME_PRODUCT_TYPE                   x-sell  7.522690e-01\n",
      "15            NAME_PAYMENT_TYPE    Cash through the bank  9.911029e-01\n",
      "10  FLAG_LAST_APPL_PER_CONTRACT                        Y  9.949257e-01\n",
      "11       NFLAG_LAST_APPL_IN_DAY                        1  9.964675e-01\n",
      "\n",
      "Liste des features à supprimer :\n",
      "['FLAG_LAST_APPL_PER_CONTRACT', 'NFLAG_LAST_APPL_IN_DAY', 'NAME_PAYMENT_TYPE']\n"
     ]
    }
   ],
   "source": [
    "col_to_del = compute_mode_percentage(pre_app, columns=pre_app.columns, threshold=0.94, pr=True)"
   ],
   "metadata": {
    "collapsed": false,
    "pycharm": {
     "name": "#%%\n"
    }
   }
  },
  {
   "cell_type": "code",
   "execution_count": 84,
   "outputs": [],
   "source": [
    "pre_app = pre_app.drop(columns=col_to_del)"
   ],
   "metadata": {
    "collapsed": false,
    "pycharm": {
     "name": "#%%\n"
    }
   }
  },
  {
   "cell_type": "code",
   "execution_count": 85,
   "outputs": [
    {
     "name": "stdout",
     "output_type": "stream",
     "text": [
      "Le jeu de données contient 1670197 lignes et 30 colonnes.\n"
     ]
    }
   ],
   "source": [
    "dim(pre_app)"
   ],
   "metadata": {
    "collapsed": false,
    "pycharm": {
     "name": "#%%\n"
    }
   }
  },
  {
   "cell_type": "code",
   "execution_count": 86,
   "outputs": [
    {
     "data": {
      "text/plain": "                                     0%          1.0%          5.0%  \\\nSK_ID_PREV                 1.000001e+06  1.018566e+06  1.092564e+06   \nSK_ID_CURR                 1.000010e+05  1.034940e+05  1.179300e+05   \nAMT_ANNUITY                0.000000e+00  2.137185e+03  2.726606e+03   \nAMT_APPLICATION            0.000000e+00  0.000000e+00  0.000000e+00   \nAMT_CREDIT                 0.000000e+00  0.000000e+00  0.000000e+00   \nAMT_DOWN_PAYMENT          -9.000000e-01  0.000000e+00  0.000000e+00   \nAMT_GOODS_PRICE            0.000000e+00  1.530000e+04  2.288250e+04   \nHOUR_APPR_PROCESS_START    0.000000e+00  5.000000e+00  7.000000e+00   \nRATE_DOWN_PAYMENT         -1.497876e-05  0.000000e+00  0.000000e+00   \nDAYS_DECISION             -2.922000e+03 -2.835000e+03 -2.559000e+03   \nSELLERPLACE_AREA          -1.000000e+00 -1.000000e+00 -1.000000e+00   \nCNT_PAYMENT                0.000000e+00  0.000000e+00  0.000000e+00   \nDAYS_FIRST_DUE            -2.892000e+03 -2.824000e+03 -2.618000e+03   \nDAYS_LAST_DUE_1ST_VERSION -2.801000e+03 -2.608000e+03 -2.356000e+03   \nDAYS_LAST_DUE             -2.889000e+03 -2.644000e+03 -2.411000e+03   \nDAYS_TERMINATION          -2.874000e+03 -2.606000e+03 -2.399000e+03   \nNFLAG_INSURED_ON_APPROVAL  0.000000e+00  0.000000e+00  0.000000e+00   \n\n                                  10.0%         25.0%         50.0%  \\\nSK_ID_PREV                 1.185032e+06  1.461856e+06  1.923110e+06   \nSK_ID_CURR                 1.357376e+05  1.893280e+05  2.787120e+05   \nAMT_ANNUITY                3.817530e+03  6.321780e+03  1.125000e+04   \nAMT_APPLICATION            0.000000e+00  1.872000e+04  7.104600e+04   \nAMT_CREDIT                 0.000000e+00  2.416050e+04  8.053650e+04   \nAMT_DOWN_PAYMENT           0.000000e+00  0.000000e+00  1.638000e+03   \nAMT_GOODS_PRICE            3.055500e+04  5.084100e+04  1.123200e+05   \nHOUR_APPR_PROCESS_START    8.000000e+00  1.000000e+01  1.200000e+01   \nRATE_DOWN_PAYMENT          0.000000e+00  0.000000e+00  5.160600e-02   \nDAYS_DECISION             -2.250000e+03 -1.300000e+03 -5.810000e+02   \nSELLERPLACE_AREA          -1.000000e+00 -1.000000e+00  3.000000e+00   \nCNT_PAYMENT                0.000000e+00  6.000000e+00  1.200000e+01   \nDAYS_FIRST_DUE            -2.409000e+03 -1.676000e+03 -8.740000e+02   \nDAYS_LAST_DUE_1ST_VERSION -2.102000e+03 -1.359000e+03 -4.800000e+02   \nDAYS_LAST_DUE             -2.194000e+03 -1.566000e+03 -8.010000e+02   \nDAYS_TERMINATION          -2.179000e+03 -1.539000e+03 -7.800000e+02   \nNFLAG_INSURED_ON_APPROVAL  0.000000e+00  0.000000e+00  0.000000e+00   \n\n                                  75.0%         90.0%         95.0%  \\\nSK_ID_PREV                 2.384278e+06  2.660863e+06  2.753179e+06   \nSK_ID_CURR                 3.675140e+05  4.213580e+05  4.384430e+05   \nAMT_ANNUITY                2.065842e+04  3.470382e+04  4.533678e+04   \nAMT_APPLICATION            1.803600e+05  4.500000e+05  7.875000e+05   \nAMT_CREDIT                 2.164185e+05  5.331600e+05  8.865000e+05   \nAMT_DOWN_PAYMENT           7.740000e+03  1.710900e+04  2.618235e+04   \nAMT_GOODS_PRICE            2.340000e+05  5.850000e+05  9.000000e+05   \nHOUR_APPR_PROCESS_START    1.500000e+01  1.700000e+01  1.800000e+01   \nRATE_DOWN_PAYMENT          1.089091e-01  2.119965e-01  2.941268e-01   \nDAYS_DECISION             -2.800000e+02 -1.520000e+02 -8.500000e+01   \nSELLERPLACE_AREA           8.200000e+01  9.190000e+02  1.820000e+03   \nCNT_PAYMENT                2.400000e+01  3.600000e+01  4.800000e+01   \nDAYS_FIRST_DUE            -4.590000e+02 -2.350000e+02 -1.520000e+02   \nDAYS_LAST_DUE_1ST_VERSION -2.000000e+00  3.210000e+02  6.140000e+02   \nDAYS_LAST_DUE             -3.530000e+02 -1.490000e+02 -7.600000e+01   \nDAYS_TERMINATION          -3.370000e+02 -1.410000e+02 -7.100000e+01   \nNFLAG_INSURED_ON_APPROVAL  1.000000e+00  1.000000e+00  1.000000e+00   \n\n                                  99.0%          100%  \nSK_ID_PREV                 2.826907e+06  2.845382e+06  \nSK_ID_CURR                 4.527850e+05  4.562550e+05  \nAMT_ANNUITY                6.968616e+04  4.180582e+05  \nAMT_APPLICATION            1.350000e+06  6.905160e+06  \nAMT_CREDIT                 1.515113e+06  6.905160e+06  \nAMT_DOWN_PAYMENT           6.592666e+04  3.060045e+06  \nAMT_GOODS_PRICE            1.395000e+06  6.905160e+06  \nHOUR_APPR_PROCESS_START    2.000000e+01  2.300000e+01  \nRATE_DOWN_PAYMENT          5.210856e-01  1.000000e+00  \nDAYS_DECISION             -1.400000e+01 -1.000000e+00  \nSELLERPLACE_AREA           3.570000e+03  4.000000e+06  \nCNT_PAYMENT                6.000000e+01  8.400000e+01  \nDAYS_FIRST_DUE            -5.000000e+01 -2.000000e+00  \nDAYS_LAST_DUE_1ST_VERSION  1.285000e+03  2.389000e+03  \nDAYS_LAST_DUE             -1.700000e+01 -2.000000e+00  \nDAYS_TERMINATION          -1.500000e+01 -2.000000e+00  \nNFLAG_INSURED_ON_APPROVAL  1.000000e+00  1.000000e+00  ",
      "text/html": "<div>\n<style scoped>\n    .dataframe tbody tr th:only-of-type {\n        vertical-align: middle;\n    }\n\n    .dataframe tbody tr th {\n        vertical-align: top;\n    }\n\n    .dataframe thead th {\n        text-align: right;\n    }\n</style>\n<table border=\"1\" class=\"dataframe\">\n  <thead>\n    <tr style=\"text-align: right;\">\n      <th></th>\n      <th>0%</th>\n      <th>1.0%</th>\n      <th>5.0%</th>\n      <th>10.0%</th>\n      <th>25.0%</th>\n      <th>50.0%</th>\n      <th>75.0%</th>\n      <th>90.0%</th>\n      <th>95.0%</th>\n      <th>99.0%</th>\n      <th>100%</th>\n    </tr>\n  </thead>\n  <tbody>\n    <tr>\n      <th>SK_ID_PREV</th>\n      <td>1.000001e+06</td>\n      <td>1.018566e+06</td>\n      <td>1.092564e+06</td>\n      <td>1.185032e+06</td>\n      <td>1.461856e+06</td>\n      <td>1.923110e+06</td>\n      <td>2.384278e+06</td>\n      <td>2.660863e+06</td>\n      <td>2.753179e+06</td>\n      <td>2.826907e+06</td>\n      <td>2.845382e+06</td>\n    </tr>\n    <tr>\n      <th>SK_ID_CURR</th>\n      <td>1.000010e+05</td>\n      <td>1.034940e+05</td>\n      <td>1.179300e+05</td>\n      <td>1.357376e+05</td>\n      <td>1.893280e+05</td>\n      <td>2.787120e+05</td>\n      <td>3.675140e+05</td>\n      <td>4.213580e+05</td>\n      <td>4.384430e+05</td>\n      <td>4.527850e+05</td>\n      <td>4.562550e+05</td>\n    </tr>\n    <tr>\n      <th>AMT_ANNUITY</th>\n      <td>0.000000e+00</td>\n      <td>2.137185e+03</td>\n      <td>2.726606e+03</td>\n      <td>3.817530e+03</td>\n      <td>6.321780e+03</td>\n      <td>1.125000e+04</td>\n      <td>2.065842e+04</td>\n      <td>3.470382e+04</td>\n      <td>4.533678e+04</td>\n      <td>6.968616e+04</td>\n      <td>4.180582e+05</td>\n    </tr>\n    <tr>\n      <th>AMT_APPLICATION</th>\n      <td>0.000000e+00</td>\n      <td>0.000000e+00</td>\n      <td>0.000000e+00</td>\n      <td>0.000000e+00</td>\n      <td>1.872000e+04</td>\n      <td>7.104600e+04</td>\n      <td>1.803600e+05</td>\n      <td>4.500000e+05</td>\n      <td>7.875000e+05</td>\n      <td>1.350000e+06</td>\n      <td>6.905160e+06</td>\n    </tr>\n    <tr>\n      <th>AMT_CREDIT</th>\n      <td>0.000000e+00</td>\n      <td>0.000000e+00</td>\n      <td>0.000000e+00</td>\n      <td>0.000000e+00</td>\n      <td>2.416050e+04</td>\n      <td>8.053650e+04</td>\n      <td>2.164185e+05</td>\n      <td>5.331600e+05</td>\n      <td>8.865000e+05</td>\n      <td>1.515113e+06</td>\n      <td>6.905160e+06</td>\n    </tr>\n    <tr>\n      <th>AMT_DOWN_PAYMENT</th>\n      <td>-9.000000e-01</td>\n      <td>0.000000e+00</td>\n      <td>0.000000e+00</td>\n      <td>0.000000e+00</td>\n      <td>0.000000e+00</td>\n      <td>1.638000e+03</td>\n      <td>7.740000e+03</td>\n      <td>1.710900e+04</td>\n      <td>2.618235e+04</td>\n      <td>6.592666e+04</td>\n      <td>3.060045e+06</td>\n    </tr>\n    <tr>\n      <th>AMT_GOODS_PRICE</th>\n      <td>0.000000e+00</td>\n      <td>1.530000e+04</td>\n      <td>2.288250e+04</td>\n      <td>3.055500e+04</td>\n      <td>5.084100e+04</td>\n      <td>1.123200e+05</td>\n      <td>2.340000e+05</td>\n      <td>5.850000e+05</td>\n      <td>9.000000e+05</td>\n      <td>1.395000e+06</td>\n      <td>6.905160e+06</td>\n    </tr>\n    <tr>\n      <th>HOUR_APPR_PROCESS_START</th>\n      <td>0.000000e+00</td>\n      <td>5.000000e+00</td>\n      <td>7.000000e+00</td>\n      <td>8.000000e+00</td>\n      <td>1.000000e+01</td>\n      <td>1.200000e+01</td>\n      <td>1.500000e+01</td>\n      <td>1.700000e+01</td>\n      <td>1.800000e+01</td>\n      <td>2.000000e+01</td>\n      <td>2.300000e+01</td>\n    </tr>\n    <tr>\n      <th>RATE_DOWN_PAYMENT</th>\n      <td>-1.497876e-05</td>\n      <td>0.000000e+00</td>\n      <td>0.000000e+00</td>\n      <td>0.000000e+00</td>\n      <td>0.000000e+00</td>\n      <td>5.160600e-02</td>\n      <td>1.089091e-01</td>\n      <td>2.119965e-01</td>\n      <td>2.941268e-01</td>\n      <td>5.210856e-01</td>\n      <td>1.000000e+00</td>\n    </tr>\n    <tr>\n      <th>DAYS_DECISION</th>\n      <td>-2.922000e+03</td>\n      <td>-2.835000e+03</td>\n      <td>-2.559000e+03</td>\n      <td>-2.250000e+03</td>\n      <td>-1.300000e+03</td>\n      <td>-5.810000e+02</td>\n      <td>-2.800000e+02</td>\n      <td>-1.520000e+02</td>\n      <td>-8.500000e+01</td>\n      <td>-1.400000e+01</td>\n      <td>-1.000000e+00</td>\n    </tr>\n    <tr>\n      <th>SELLERPLACE_AREA</th>\n      <td>-1.000000e+00</td>\n      <td>-1.000000e+00</td>\n      <td>-1.000000e+00</td>\n      <td>-1.000000e+00</td>\n      <td>-1.000000e+00</td>\n      <td>3.000000e+00</td>\n      <td>8.200000e+01</td>\n      <td>9.190000e+02</td>\n      <td>1.820000e+03</td>\n      <td>3.570000e+03</td>\n      <td>4.000000e+06</td>\n    </tr>\n    <tr>\n      <th>CNT_PAYMENT</th>\n      <td>0.000000e+00</td>\n      <td>0.000000e+00</td>\n      <td>0.000000e+00</td>\n      <td>0.000000e+00</td>\n      <td>6.000000e+00</td>\n      <td>1.200000e+01</td>\n      <td>2.400000e+01</td>\n      <td>3.600000e+01</td>\n      <td>4.800000e+01</td>\n      <td>6.000000e+01</td>\n      <td>8.400000e+01</td>\n    </tr>\n    <tr>\n      <th>DAYS_FIRST_DUE</th>\n      <td>-2.892000e+03</td>\n      <td>-2.824000e+03</td>\n      <td>-2.618000e+03</td>\n      <td>-2.409000e+03</td>\n      <td>-1.676000e+03</td>\n      <td>-8.740000e+02</td>\n      <td>-4.590000e+02</td>\n      <td>-2.350000e+02</td>\n      <td>-1.520000e+02</td>\n      <td>-5.000000e+01</td>\n      <td>-2.000000e+00</td>\n    </tr>\n    <tr>\n      <th>DAYS_LAST_DUE_1ST_VERSION</th>\n      <td>-2.801000e+03</td>\n      <td>-2.608000e+03</td>\n      <td>-2.356000e+03</td>\n      <td>-2.102000e+03</td>\n      <td>-1.359000e+03</td>\n      <td>-4.800000e+02</td>\n      <td>-2.000000e+00</td>\n      <td>3.210000e+02</td>\n      <td>6.140000e+02</td>\n      <td>1.285000e+03</td>\n      <td>2.389000e+03</td>\n    </tr>\n    <tr>\n      <th>DAYS_LAST_DUE</th>\n      <td>-2.889000e+03</td>\n      <td>-2.644000e+03</td>\n      <td>-2.411000e+03</td>\n      <td>-2.194000e+03</td>\n      <td>-1.566000e+03</td>\n      <td>-8.010000e+02</td>\n      <td>-3.530000e+02</td>\n      <td>-1.490000e+02</td>\n      <td>-7.600000e+01</td>\n      <td>-1.700000e+01</td>\n      <td>-2.000000e+00</td>\n    </tr>\n    <tr>\n      <th>DAYS_TERMINATION</th>\n      <td>-2.874000e+03</td>\n      <td>-2.606000e+03</td>\n      <td>-2.399000e+03</td>\n      <td>-2.179000e+03</td>\n      <td>-1.539000e+03</td>\n      <td>-7.800000e+02</td>\n      <td>-3.370000e+02</td>\n      <td>-1.410000e+02</td>\n      <td>-7.100000e+01</td>\n      <td>-1.500000e+01</td>\n      <td>-2.000000e+00</td>\n    </tr>\n    <tr>\n      <th>NFLAG_INSURED_ON_APPROVAL</th>\n      <td>0.000000e+00</td>\n      <td>0.000000e+00</td>\n      <td>0.000000e+00</td>\n      <td>0.000000e+00</td>\n      <td>0.000000e+00</td>\n      <td>0.000000e+00</td>\n      <td>1.000000e+00</td>\n      <td>1.000000e+00</td>\n      <td>1.000000e+00</td>\n      <td>1.000000e+00</td>\n      <td>1.000000e+00</td>\n    </tr>\n  </tbody>\n</table>\n</div>"
     },
     "execution_count": 86,
     "metadata": {},
     "output_type": "execute_result"
    }
   ],
   "source": [
    "percentile_report(pre_app, pre_app.select_dtypes(include='number').columns)"
   ],
   "metadata": {
    "collapsed": false,
    "pycharm": {
     "name": "#%%\n"
    }
   }
  },
  {
   "cell_type": "code",
   "execution_count": 87,
   "outputs": [
    {
     "data": {
      "text/plain": "136260"
     },
     "execution_count": 87,
     "metadata": {},
     "output_type": "execute_result"
    }
   ],
   "source": [
    "pre_app[pre_app['AMT_CREDIT'] == 0]['SK_ID_CURR'].nunique()"
   ],
   "metadata": {
    "collapsed": false,
    "pycharm": {
     "name": "#%%\n"
    }
   }
  },
  {
   "cell_type": "markdown",
   "source": [
    "<br>\n",
    "\n",
    "---"
   ],
   "metadata": {
    "collapsed": false,
    "pycharm": {
     "name": "#%% md\n"
    }
   }
  },
  {
   "cell_type": "markdown",
   "source": [
    "### <span style='background :#e3e33d' > 5.2 Script </span>"
   ],
   "metadata": {
    "collapsed": false,
    "pycharm": {
     "name": "#%% md\n"
    }
   }
  },
  {
   "cell_type": "code",
   "execution_count": 88,
   "outputs": [],
   "source": [
    "def previous_application():\n",
    "\n",
    "    pre_app = pd.read_csv(\"./data/previous_application.csv\")\n",
    "\n",
    "    # Cleaning\n",
    "    col_to_del = ['RATE_INTEREST_PRIMARY',\n",
    "                  'RATE_INTEREST_PRIVILEGED',\n",
    "                  'NAME_CASH_LOAN_PURPOSE',\n",
    "                  'DAYS_FIRST_DRAWING',\n",
    "                  'FLAG_LAST_APPL_PER_CONTRACT',\n",
    "                  'NFLAG_LAST_APPL_IN_DAY',\n",
    "                  'NAME_PAYMENT_TYPE']\n",
    "\n",
    "    pre_app.drop(columns=col_to_del, inplace=True)\n",
    "\n",
    "    marker_nan = [\"XNA\", \"XAP\"]\n",
    "    pre_app.replace(marker_nan, np.nan, inplace=True)\n",
    "\n",
    "    pre_app['DAYS_FIRST_DUE'].replace(365243, np.nan, inplace=True)\n",
    "    pre_app['DAYS_LAST_DUE_1ST_VERSION'].replace(365243, np.nan, inplace=True)\n",
    "    pre_app['DAYS_LAST_DUE'].replace(365243, np.nan, inplace=True)\n",
    "    pre_app['DAYS_TERMINATION'].replace(365243, np.nan, inplace=True)\n",
    "\n",
    "    pre_app = pre_app[pre_app['AMT_CREDIT'].notna()]\n",
    "\n",
    "    col_min_zero = ['AMT_ANNUITY',\n",
    "                    'AMT_APPLICATION',\n",
    "                    'AMT_CREDIT',\n",
    "                    'AMT_DOWN_PAYMENT',\n",
    "                    'AMT_GOODS_PRICE']\n",
    "\n",
    "    pre_app.loc[:, col_min_zero] = pre_app[col_min_zero].replace(0, np.nan)\n",
    "\n",
    "\n",
    "    pre_app, cat_cols = one_hot_encoder(pre_app, nan_as_category=True)\n",
    "\n",
    "\n",
    "    # Feature engineering\n",
    "    pre_app['PREV_APP_CREDIT_PERC'] = pre_app['AMT_APPLICATION'] / pre_app['AMT_CREDIT']\n",
    "    pre_app['PREV_APP_CREDIT_DIFF'] = pre_app['AMT_APPLICATION'] - pre_app['AMT_CREDIT']\n",
    "\n",
    "    pre_app['PREV_AMT_MONTHS'] = pre_app['AMT_CREDIT'] / pre_app['AMT_ANNUITY']\n",
    "    pre_app['PREV_PERC_INSURANCE_CRED'] = (pre_app['AMT_CREDIT'] - pre_app['AMT_GOODS_PRICE']) / pre_app['AMT_CREDIT']\n",
    "\n",
    "    pre_app['PREV_DOWN_PAYMENT_TO_CREDIT'] = pre_app['AMT_DOWN_PAYMENT'] / pre_app['AMT_CREDIT']\n",
    "\n",
    "    total_payment = pre_app['AMT_ANNUITY'] * pre_app['CNT_PAYMENT']\n",
    "    pre_app['PREV_SIMPLE_INTERESTS'] = (total_payment / pre_app['AMT_CREDIT'] - 1) / (pre_app['CNT_PAYMENT'] + 0.1)\n",
    "\n",
    "    pre_app['PREV_DAYS_LAST_DUE_DIFF'] = pre_app['DAYS_LAST_DUE_1ST_VERSION'] - pre_app['DAYS_LAST_DUE']\n",
    "\n",
    "    pre_app['PREV_GOODS_DIFF'] = pre_app['AMT_APPLICATION'] - pre_app['AMT_GOODS_PRICE']\n",
    "    pre_app['PREV_GOODS_RATIO'] = pre_app['AMT_APPLICATION'] / pre_app['AMT_GOODS_PRICE']\n",
    "\n",
    "\n",
    "    # After the feature engineering, check for inf\n",
    "    check_for_inf(pre_app)\n",
    "\n",
    "\n",
    "    # Previous applications numeric features\n",
    "    num_aggregations = {\n",
    "        'SK_ID_PREV': ['nunique'],\n",
    "        'AMT_ANNUITY': ['min', 'max', 'mean', 'sum'],\n",
    "        'AMT_APPLICATION': ['min', 'max', 'mean', 'sum'],\n",
    "        'AMT_CREDIT': ['min', 'max', 'mean', 'sum'],\n",
    "        'AMT_DOWN_PAYMENT': ['min', 'max', 'mean', 'sum'],\n",
    "        'AMT_GOODS_PRICE': ['min', 'max', 'mean', 'sum'],\n",
    "        'HOUR_APPR_PROCESS_START': ['min', 'max', 'mean'],\n",
    "        'RATE_DOWN_PAYMENT': ['min', 'max', 'mean'],\n",
    "        'DAYS_DECISION': ['min', 'max', 'mean'],\n",
    "        'CNT_PAYMENT': ['mean', 'sum'],\n",
    "        'DAYS_TERMINATION': ['max'],\n",
    "        'PREV_APP_CREDIT_PERC': ['min', 'max', 'mean', 'var'],\n",
    "        'PREV_APP_CREDIT_DIFF': ['min', 'max', 'mean', 'sum'],\n",
    "        'PREV_AMT_MONTHS': ['mean', 'max'],\n",
    "        'PREV_PERC_INSURANCE_CRED': ['mean', 'max'],\n",
    "        'PREV_DOWN_PAYMENT_TO_CREDIT': ['mean'],\n",
    "        'PREV_SIMPLE_INTERESTS': ['mean', 'max'],\n",
    "        'PREV_DAYS_LAST_DUE_DIFF': ['mean', 'max', 'sum'],\n",
    "        'PREV_GOODS_DIFF': ['mean', 'max', 'sum'],\n",
    "        'PREV_GOODS_RATIO': ['mean', 'max']\n",
    "    }\n",
    "\n",
    "\n",
    "    # Previous applications categorical features\n",
    "    cat_aggregations = {}\n",
    "    for cat in cat_cols:\n",
    "        cat_aggregations[cat] = ['mean']\n",
    "\n",
    "\n",
    "    # Aggregation\n",
    "    pre_app_agg = pre_app.groupby('SK_ID_CURR').agg({**num_aggregations, **cat_aggregations})\n",
    "    pre_app_agg = flatten_multi_index(pre_app_agg, prefix='PREV_')\n",
    "\n",
    "\n",
    "    # Previous Applications: Approved Applications - only numerical features\n",
    "    approved = pre_app[pre_app['NAME_CONTRACT_STATUS_Approved'] == 1]\n",
    "    approved_agg = approved.groupby('SK_ID_CURR').agg(num_aggregations)\n",
    "    approved_agg = flatten_multi_index(approved_agg, prefix='APPROVED_')\n",
    "    pre_app_agg = pre_app_agg.merge(approved_agg, how='left', on='SK_ID_CURR')\n",
    "\n",
    "    del approved, approved_agg\n",
    "    gc.collect()\n",
    "\n",
    "    # Previous Applications: Refused Applications - only numerical features\n",
    "    refused = pre_app[pre_app['NAME_CONTRACT_STATUS_Refused'] == 1]\n",
    "    refused_agg = refused.groupby('SK_ID_CURR').agg(num_aggregations)\n",
    "    refused_agg = flatten_multi_index(refused_agg, prefix='REFUSED_')\n",
    "    pre_app_agg = pre_app_agg.merge(refused_agg, how='left', on='SK_ID_CURR')\n",
    "\n",
    "    del pre_app, refused, refused_agg\n",
    "    gc.collect()\n",
    "\n",
    "    check_full_nan(pre_app_agg)\n",
    "\n",
    "    # Remove the feature where mode % = 1\n",
    "    col_to_del = compute_mode_percentage(pre_app_agg, pre_app_agg.columns, threshold=1, pr=False)\n",
    "    pre_app_agg.drop(columns=col_to_del, inplace=True)\n",
    "\n",
    "    print('\"Previous Applications\" final shape:', pre_app_agg.shape)\n",
    "\n",
    "    return pre_app_agg"
   ],
   "metadata": {
    "collapsed": false,
    "pycharm": {
     "name": "#%%\n"
    }
   }
  },
  {
   "cell_type": "code",
   "execution_count": 89,
   "outputs": [
    {
     "name": "stdout",
     "output_type": "stream",
     "text": [
      "Nombre de valeurs infinies: 0\n",
      "Liste de features full of nan:\n",
      "['REFUSED_DAYS_TERMINATION_MAX', 'REFUSED_PREV_DAYS_LAST_DUE_DIFF_MEAN', 'REFUSED_PREV_DAYS_LAST_DUE_DIFF_MAX']\n",
      "Liste des features à supprimer :\n",
      "['PREV_WEEKDAY_APPR_PROCESS_START_nan_MEAN', 'PREV_NAME_CONTRACT_STATUS_nan_MEAN', 'PREV_CHANNEL_TYPE_nan_MEAN', 'APPROVED_PREV_GOODS_DIFF_MEAN', 'APPROVED_PREV_GOODS_DIFF_MAX', 'APPROVED_PREV_GOODS_DIFF_SUM', 'APPROVED_PREV_GOODS_RATIO_MEAN', 'APPROVED_PREV_GOODS_RATIO_MAX', 'REFUSED_PREV_DAYS_LAST_DUE_DIFF_SUM']\n",
      "\"Previous Applications\" final shape: (338857, 273)\n"
     ]
    },
    {
     "data": {
      "text/plain": "   SK_ID_CURR  PREV_SK_ID_PREV_NUNIQUE  PREV_AMT_ANNUITY_MIN  \\\n0      100001                        1              3951.000   \n1      100002                        1              9251.775   \n2      100003                        3              6737.310   \n3      100004                        1              5357.250   \n4      100005                        2              4813.200   \n\n   PREV_AMT_ANNUITY_MAX  PREV_AMT_ANNUITY_MEAN  PREV_AMT_ANNUITY_SUM  \\\n0              3951.000               3951.000              3951.000   \n1              9251.775               9251.775              9251.775   \n2             98356.995              56553.990            169661.970   \n3              5357.250               5357.250              5357.250   \n4              4813.200               4813.200              4813.200   \n\n   PREV_AMT_APPLICATION_MIN  PREV_AMT_APPLICATION_MAX  \\\n0                   24835.5                   24835.5   \n1                  179055.0                  179055.0   \n2                   68809.5                  900000.0   \n3                   24282.0                   24282.0   \n4                   44617.5                   44617.5   \n\n   PREV_AMT_APPLICATION_MEAN  PREV_AMT_APPLICATION_SUM  ...  \\\n0                    24835.5                   24835.5  ...   \n1                   179055.0                  179055.0  ...   \n2                   435436.5                 1306309.5  ...   \n3                    24282.0                   24282.0  ...   \n4                    44617.5                   44617.5  ...   \n\n   REFUSED_PREV_PERC_INSURANCE_CRED_MEAN  \\\n0                                    NaN   \n1                                    NaN   \n2                                    NaN   \n3                                    NaN   \n4                                    NaN   \n\n   REFUSED_PREV_PERC_INSURANCE_CRED_MAX  \\\n0                                   NaN   \n1                                   NaN   \n2                                   NaN   \n3                                   NaN   \n4                                   NaN   \n\n   REFUSED_PREV_DOWN_PAYMENT_TO_CREDIT_MEAN  \\\n0                                       NaN   \n1                                       NaN   \n2                                       NaN   \n3                                       NaN   \n4                                       NaN   \n\n   REFUSED_PREV_SIMPLE_INTERESTS_MEAN  REFUSED_PREV_SIMPLE_INTERESTS_MAX  \\\n0                                 NaN                                NaN   \n1                                 NaN                                NaN   \n2                                 NaN                                NaN   \n3                                 NaN                                NaN   \n4                                 NaN                                NaN   \n\n   REFUSED_PREV_GOODS_DIFF_MEAN  REFUSED_PREV_GOODS_DIFF_MAX  \\\n0                           NaN                          NaN   \n1                           NaN                          NaN   \n2                           NaN                          NaN   \n3                           NaN                          NaN   \n4                           NaN                          NaN   \n\n   REFUSED_PREV_GOODS_DIFF_SUM  REFUSED_PREV_GOODS_RATIO_MEAN  \\\n0                          NaN                            NaN   \n1                          NaN                            NaN   \n2                          NaN                            NaN   \n3                          NaN                            NaN   \n4                          NaN                            NaN   \n\n   REFUSED_PREV_GOODS_RATIO_MAX  \n0                           NaN  \n1                           NaN  \n2                           NaN  \n3                           NaN  \n4                           NaN  \n\n[5 rows x 273 columns]",
      "text/html": "<div>\n<style scoped>\n    .dataframe tbody tr th:only-of-type {\n        vertical-align: middle;\n    }\n\n    .dataframe tbody tr th {\n        vertical-align: top;\n    }\n\n    .dataframe thead th {\n        text-align: right;\n    }\n</style>\n<table border=\"1\" class=\"dataframe\">\n  <thead>\n    <tr style=\"text-align: right;\">\n      <th></th>\n      <th>SK_ID_CURR</th>\n      <th>PREV_SK_ID_PREV_NUNIQUE</th>\n      <th>PREV_AMT_ANNUITY_MIN</th>\n      <th>PREV_AMT_ANNUITY_MAX</th>\n      <th>PREV_AMT_ANNUITY_MEAN</th>\n      <th>PREV_AMT_ANNUITY_SUM</th>\n      <th>PREV_AMT_APPLICATION_MIN</th>\n      <th>PREV_AMT_APPLICATION_MAX</th>\n      <th>PREV_AMT_APPLICATION_MEAN</th>\n      <th>PREV_AMT_APPLICATION_SUM</th>\n      <th>...</th>\n      <th>REFUSED_PREV_PERC_INSURANCE_CRED_MEAN</th>\n      <th>REFUSED_PREV_PERC_INSURANCE_CRED_MAX</th>\n      <th>REFUSED_PREV_DOWN_PAYMENT_TO_CREDIT_MEAN</th>\n      <th>REFUSED_PREV_SIMPLE_INTERESTS_MEAN</th>\n      <th>REFUSED_PREV_SIMPLE_INTERESTS_MAX</th>\n      <th>REFUSED_PREV_GOODS_DIFF_MEAN</th>\n      <th>REFUSED_PREV_GOODS_DIFF_MAX</th>\n      <th>REFUSED_PREV_GOODS_DIFF_SUM</th>\n      <th>REFUSED_PREV_GOODS_RATIO_MEAN</th>\n      <th>REFUSED_PREV_GOODS_RATIO_MAX</th>\n    </tr>\n  </thead>\n  <tbody>\n    <tr>\n      <th>0</th>\n      <td>100001</td>\n      <td>1</td>\n      <td>3951.000</td>\n      <td>3951.000</td>\n      <td>3951.000</td>\n      <td>3951.000</td>\n      <td>24835.5</td>\n      <td>24835.5</td>\n      <td>24835.5</td>\n      <td>24835.5</td>\n      <td>...</td>\n      <td>NaN</td>\n      <td>NaN</td>\n      <td>NaN</td>\n      <td>NaN</td>\n      <td>NaN</td>\n      <td>NaN</td>\n      <td>NaN</td>\n      <td>NaN</td>\n      <td>NaN</td>\n      <td>NaN</td>\n    </tr>\n    <tr>\n      <th>1</th>\n      <td>100002</td>\n      <td>1</td>\n      <td>9251.775</td>\n      <td>9251.775</td>\n      <td>9251.775</td>\n      <td>9251.775</td>\n      <td>179055.0</td>\n      <td>179055.0</td>\n      <td>179055.0</td>\n      <td>179055.0</td>\n      <td>...</td>\n      <td>NaN</td>\n      <td>NaN</td>\n      <td>NaN</td>\n      <td>NaN</td>\n      <td>NaN</td>\n      <td>NaN</td>\n      <td>NaN</td>\n      <td>NaN</td>\n      <td>NaN</td>\n      <td>NaN</td>\n    </tr>\n    <tr>\n      <th>2</th>\n      <td>100003</td>\n      <td>3</td>\n      <td>6737.310</td>\n      <td>98356.995</td>\n      <td>56553.990</td>\n      <td>169661.970</td>\n      <td>68809.5</td>\n      <td>900000.0</td>\n      <td>435436.5</td>\n      <td>1306309.5</td>\n      <td>...</td>\n      <td>NaN</td>\n      <td>NaN</td>\n      <td>NaN</td>\n      <td>NaN</td>\n      <td>NaN</td>\n      <td>NaN</td>\n      <td>NaN</td>\n      <td>NaN</td>\n      <td>NaN</td>\n      <td>NaN</td>\n    </tr>\n    <tr>\n      <th>3</th>\n      <td>100004</td>\n      <td>1</td>\n      <td>5357.250</td>\n      <td>5357.250</td>\n      <td>5357.250</td>\n      <td>5357.250</td>\n      <td>24282.0</td>\n      <td>24282.0</td>\n      <td>24282.0</td>\n      <td>24282.0</td>\n      <td>...</td>\n      <td>NaN</td>\n      <td>NaN</td>\n      <td>NaN</td>\n      <td>NaN</td>\n      <td>NaN</td>\n      <td>NaN</td>\n      <td>NaN</td>\n      <td>NaN</td>\n      <td>NaN</td>\n      <td>NaN</td>\n    </tr>\n    <tr>\n      <th>4</th>\n      <td>100005</td>\n      <td>2</td>\n      <td>4813.200</td>\n      <td>4813.200</td>\n      <td>4813.200</td>\n      <td>4813.200</td>\n      <td>44617.5</td>\n      <td>44617.5</td>\n      <td>44617.5</td>\n      <td>44617.5</td>\n      <td>...</td>\n      <td>NaN</td>\n      <td>NaN</td>\n      <td>NaN</td>\n      <td>NaN</td>\n      <td>NaN</td>\n      <td>NaN</td>\n      <td>NaN</td>\n      <td>NaN</td>\n      <td>NaN</td>\n      <td>NaN</td>\n    </tr>\n  </tbody>\n</table>\n<p>5 rows × 273 columns</p>\n</div>"
     },
     "execution_count": 89,
     "metadata": {},
     "output_type": "execute_result"
    }
   ],
   "source": [
    "temp_previous = previous_application()\n",
    "temp_previous.head()"
   ],
   "metadata": {
    "collapsed": false,
    "pycharm": {
     "name": "#%%\n"
    }
   }
  },
  {
   "cell_type": "code",
   "execution_count": 90,
   "outputs": [
    {
     "name": "stdout",
     "output_type": "stream",
     "text": [
      "Le jeu de données contient 338857 lignes et 273 colonnes.\n"
     ]
    }
   ],
   "source": [
    "dim(temp_previous)"
   ],
   "metadata": {
    "collapsed": false,
    "pycharm": {
     "name": "#%%\n"
    }
   }
  },
  {
   "cell_type": "markdown",
   "source": [
    "<br>\n",
    "\n",
    "---"
   ],
   "metadata": {
    "collapsed": false,
    "pycharm": {
     "name": "#%% md\n"
    }
   }
  },
  {
   "cell_type": "markdown",
   "source": [
    "##  <span style='background :#96e773' > 6. POS_CASH_balance </span>\n",
    "### <span style='background :#e3e33d' > 6.1 Analyse rapide </span>"
   ],
   "metadata": {
    "collapsed": false,
    "pycharm": {
     "name": "#%% md\n"
    }
   }
  },
  {
   "cell_type": "code",
   "execution_count": 91,
   "outputs": [
    {
     "name": "stdout",
     "output_type": "stream",
     "text": [
      "Memory usage of dataframe is 610.43 MB\n",
      "Memory usage after optimization is: 276.60 MB\n",
      "Decreased by 54.7%\n"
     ]
    }
   ],
   "source": [
    "pos_bal = reduce_mem_usage(pos_bal)"
   ],
   "metadata": {
    "collapsed": false,
    "pycharm": {
     "name": "#%%\n"
    }
   }
  },
  {
   "cell_type": "code",
   "execution_count": 92,
   "outputs": [
    {
     "data": {
      "text/plain": "   SK_ID_PREV  SK_ID_CURR  MONTHS_BALANCE  CNT_INSTALMENT  \\\n0     1803195      182943             -31            48.0   \n1     1715348      367990             -33            36.0   \n2     1784872      397406             -32            12.0   \n3     1903291      269225             -35            48.0   \n4     2341044      334279             -35            36.0   \n5     2207092      342166             -32            12.0   \n6     1110516      204376             -38            48.0   \n7     1387235      153211             -35            36.0   \n8     1220500      112740             -31            12.0   \n9     2371489      274851             -32            24.0   \n\n   CNT_INSTALMENT_FUTURE NAME_CONTRACT_STATUS  SK_DPD  SK_DPD_DEF  \n0                   45.0               Active       0           0  \n1                   35.0               Active       0           0  \n2                    9.0               Active       0           0  \n3                   42.0               Active       0           0  \n4                   35.0               Active       0           0  \n5                   12.0               Active       0           0  \n6                   43.0               Active       0           0  \n7                   36.0               Active       0           0  \n8                   12.0               Active       0           0  \n9                   16.0               Active       0           0  ",
      "text/html": "<div>\n<style scoped>\n    .dataframe tbody tr th:only-of-type {\n        vertical-align: middle;\n    }\n\n    .dataframe tbody tr th {\n        vertical-align: top;\n    }\n\n    .dataframe thead th {\n        text-align: right;\n    }\n</style>\n<table border=\"1\" class=\"dataframe\">\n  <thead>\n    <tr style=\"text-align: right;\">\n      <th></th>\n      <th>SK_ID_PREV</th>\n      <th>SK_ID_CURR</th>\n      <th>MONTHS_BALANCE</th>\n      <th>CNT_INSTALMENT</th>\n      <th>CNT_INSTALMENT_FUTURE</th>\n      <th>NAME_CONTRACT_STATUS</th>\n      <th>SK_DPD</th>\n      <th>SK_DPD_DEF</th>\n    </tr>\n  </thead>\n  <tbody>\n    <tr>\n      <th>0</th>\n      <td>1803195</td>\n      <td>182943</td>\n      <td>-31</td>\n      <td>48.0</td>\n      <td>45.0</td>\n      <td>Active</td>\n      <td>0</td>\n      <td>0</td>\n    </tr>\n    <tr>\n      <th>1</th>\n      <td>1715348</td>\n      <td>367990</td>\n      <td>-33</td>\n      <td>36.0</td>\n      <td>35.0</td>\n      <td>Active</td>\n      <td>0</td>\n      <td>0</td>\n    </tr>\n    <tr>\n      <th>2</th>\n      <td>1784872</td>\n      <td>397406</td>\n      <td>-32</td>\n      <td>12.0</td>\n      <td>9.0</td>\n      <td>Active</td>\n      <td>0</td>\n      <td>0</td>\n    </tr>\n    <tr>\n      <th>3</th>\n      <td>1903291</td>\n      <td>269225</td>\n      <td>-35</td>\n      <td>48.0</td>\n      <td>42.0</td>\n      <td>Active</td>\n      <td>0</td>\n      <td>0</td>\n    </tr>\n    <tr>\n      <th>4</th>\n      <td>2341044</td>\n      <td>334279</td>\n      <td>-35</td>\n      <td>36.0</td>\n      <td>35.0</td>\n      <td>Active</td>\n      <td>0</td>\n      <td>0</td>\n    </tr>\n    <tr>\n      <th>5</th>\n      <td>2207092</td>\n      <td>342166</td>\n      <td>-32</td>\n      <td>12.0</td>\n      <td>12.0</td>\n      <td>Active</td>\n      <td>0</td>\n      <td>0</td>\n    </tr>\n    <tr>\n      <th>6</th>\n      <td>1110516</td>\n      <td>204376</td>\n      <td>-38</td>\n      <td>48.0</td>\n      <td>43.0</td>\n      <td>Active</td>\n      <td>0</td>\n      <td>0</td>\n    </tr>\n    <tr>\n      <th>7</th>\n      <td>1387235</td>\n      <td>153211</td>\n      <td>-35</td>\n      <td>36.0</td>\n      <td>36.0</td>\n      <td>Active</td>\n      <td>0</td>\n      <td>0</td>\n    </tr>\n    <tr>\n      <th>8</th>\n      <td>1220500</td>\n      <td>112740</td>\n      <td>-31</td>\n      <td>12.0</td>\n      <td>12.0</td>\n      <td>Active</td>\n      <td>0</td>\n      <td>0</td>\n    </tr>\n    <tr>\n      <th>9</th>\n      <td>2371489</td>\n      <td>274851</td>\n      <td>-32</td>\n      <td>24.0</td>\n      <td>16.0</td>\n      <td>Active</td>\n      <td>0</td>\n      <td>0</td>\n    </tr>\n  </tbody>\n</table>\n</div>"
     },
     "execution_count": 92,
     "metadata": {},
     "output_type": "execute_result"
    }
   ],
   "source": [
    "pos_bal.head(10)"
   ],
   "metadata": {
    "collapsed": false,
    "pycharm": {
     "name": "#%%\n"
    }
   }
  },
  {
   "cell_type": "code",
   "execution_count": 93,
   "outputs": [
    {
     "name": "stdout",
     "output_type": "stream",
     "text": [
      "Le jeu de données contient 10001358 lignes et 8 colonnes.\n",
      "Le jeu de données contient 52158 valeurs manquantes (0.065%).\n"
     ]
    }
   ],
   "source": [
    "dim(pos_bal)\n",
    "missing_values(pos_bal)"
   ],
   "metadata": {
    "collapsed": false,
    "pycharm": {
     "name": "#%%\n"
    }
   }
  },
  {
   "cell_type": "code",
   "execution_count": 94,
   "outputs": [
    {
     "data": {
      "text/plain": "int32      2\nfloat32    2\nint16      2\nint8       1\nobject     1\ndtype: int64"
     },
     "execution_count": 94,
     "metadata": {},
     "output_type": "execute_result"
    }
   ],
   "source": [
    "pos_bal.dtypes.value_counts()"
   ],
   "metadata": {
    "collapsed": false,
    "pycharm": {
     "name": "#%%\n"
    }
   }
  },
  {
   "cell_type": "code",
   "execution_count": 95,
   "outputs": [
    {
     "name": "stdout",
     "output_type": "stream",
     "text": [
      "Nombre de lignes doublons : 0\n"
     ]
    }
   ],
   "source": [
    "# Recherche de lignes doublons sur chaque variable\n",
    "\n",
    "d = pos_bal.duplicated(keep='first').sum()\n",
    "print(f'Nombre de lignes doublons : {d}')"
   ],
   "metadata": {
    "collapsed": false,
    "pycharm": {
     "name": "#%%\n"
    }
   }
  },
  {
   "cell_type": "code",
   "execution_count": 96,
   "outputs": [
    {
     "data": {
      "text/plain": "337252"
     },
     "execution_count": 96,
     "metadata": {},
     "output_type": "execute_result"
    }
   ],
   "source": [
    "pos_bal['SK_ID_CURR'].nunique()"
   ],
   "metadata": {
    "collapsed": false,
    "pycharm": {
     "name": "#%%\n"
    }
   }
  },
  {
   "cell_type": "code",
   "execution_count": 97,
   "outputs": [
    {
     "name": "stdout",
     "output_type": "stream",
     "text": [
      "Nombre de clé de df1 absentes de df2 : 18998\n"
     ]
    },
    {
     "data": {
      "text/plain": "    SK_ID_CURR  TARGET  NAME_CONTRACT_TYPE  CODE_GENDER  FLAG_OWN_CAR  \\\n20      100024     0.0                   1            0             1   \n26      100031     1.0                   0            1             0   \n50      100058     0.0                   1            1             0   \n64      100076     0.0                   0            0             1   \n81      100096     1.0                   0            1             0   \n\n    FLAG_OWN_REALTY  CNT_CHILDREN  AMT_INCOME_TOTAL  AMT_CREDIT  AMT_ANNUITY  \\\n20                0             0          135000.0    427500.0      21375.0   \n26                0             0          112500.0    979992.0      27076.5   \n50                0             0           54000.0    135000.0       6750.0   \n64                1             0          180000.0    315000.0       9679.5   \n81                0             0           81000.0    252000.0      14593.5   \n\n    ...  ORGANIZATION_TYPE_Trade: type 4  ORGANIZATION_TYPE_Trade: type 5  \\\n20  ...                                0                                0   \n26  ...                                0                                0   \n50  ...                                0                                0   \n64  ...                                0                                0   \n81  ...                                0                                0   \n\n    ORGANIZATION_TYPE_Trade: type 6  ORGANIZATION_TYPE_Trade: type 7  \\\n20                                0                                0   \n26                                0                                0   \n50                                0                                0   \n64                                0                                0   \n81                                0                                0   \n\n    ORGANIZATION_TYPE_Transport: type 1  ORGANIZATION_TYPE_Transport: type 2  \\\n20                                    0                                    0   \n26                                    0                                    0   \n50                                    0                                    0   \n64                                    0                                    0   \n81                                    0                                    0   \n\n    ORGANIZATION_TYPE_Transport: type 3  ORGANIZATION_TYPE_Transport: type 4  \\\n20                                    0                                    0   \n26                                    0                                    0   \n50                                    0                                    0   \n64                                    1                                    0   \n81                                    0                                    0   \n\n    ORGANIZATION_TYPE_Unemployed  ORGANIZATION_TYPE_University  \n20                             0                             0  \n26                             0                             0  \n50                             0                             0  \n64                             0                             0  \n81                             0                             0  \n\n[5 rows x 196 columns]",
      "text/html": "<div>\n<style scoped>\n    .dataframe tbody tr th:only-of-type {\n        vertical-align: middle;\n    }\n\n    .dataframe tbody tr th {\n        vertical-align: top;\n    }\n\n    .dataframe thead th {\n        text-align: right;\n    }\n</style>\n<table border=\"1\" class=\"dataframe\">\n  <thead>\n    <tr style=\"text-align: right;\">\n      <th></th>\n      <th>SK_ID_CURR</th>\n      <th>TARGET</th>\n      <th>NAME_CONTRACT_TYPE</th>\n      <th>CODE_GENDER</th>\n      <th>FLAG_OWN_CAR</th>\n      <th>FLAG_OWN_REALTY</th>\n      <th>CNT_CHILDREN</th>\n      <th>AMT_INCOME_TOTAL</th>\n      <th>AMT_CREDIT</th>\n      <th>AMT_ANNUITY</th>\n      <th>...</th>\n      <th>ORGANIZATION_TYPE_Trade: type 4</th>\n      <th>ORGANIZATION_TYPE_Trade: type 5</th>\n      <th>ORGANIZATION_TYPE_Trade: type 6</th>\n      <th>ORGANIZATION_TYPE_Trade: type 7</th>\n      <th>ORGANIZATION_TYPE_Transport: type 1</th>\n      <th>ORGANIZATION_TYPE_Transport: type 2</th>\n      <th>ORGANIZATION_TYPE_Transport: type 3</th>\n      <th>ORGANIZATION_TYPE_Transport: type 4</th>\n      <th>ORGANIZATION_TYPE_Unemployed</th>\n      <th>ORGANIZATION_TYPE_University</th>\n    </tr>\n  </thead>\n  <tbody>\n    <tr>\n      <th>20</th>\n      <td>100024</td>\n      <td>0.0</td>\n      <td>1</td>\n      <td>0</td>\n      <td>1</td>\n      <td>0</td>\n      <td>0</td>\n      <td>135000.0</td>\n      <td>427500.0</td>\n      <td>21375.0</td>\n      <td>...</td>\n      <td>0</td>\n      <td>0</td>\n      <td>0</td>\n      <td>0</td>\n      <td>0</td>\n      <td>0</td>\n      <td>0</td>\n      <td>0</td>\n      <td>0</td>\n      <td>0</td>\n    </tr>\n    <tr>\n      <th>26</th>\n      <td>100031</td>\n      <td>1.0</td>\n      <td>0</td>\n      <td>1</td>\n      <td>0</td>\n      <td>0</td>\n      <td>0</td>\n      <td>112500.0</td>\n      <td>979992.0</td>\n      <td>27076.5</td>\n      <td>...</td>\n      <td>0</td>\n      <td>0</td>\n      <td>0</td>\n      <td>0</td>\n      <td>0</td>\n      <td>0</td>\n      <td>0</td>\n      <td>0</td>\n      <td>0</td>\n      <td>0</td>\n    </tr>\n    <tr>\n      <th>50</th>\n      <td>100058</td>\n      <td>0.0</td>\n      <td>1</td>\n      <td>1</td>\n      <td>0</td>\n      <td>0</td>\n      <td>0</td>\n      <td>54000.0</td>\n      <td>135000.0</td>\n      <td>6750.0</td>\n      <td>...</td>\n      <td>0</td>\n      <td>0</td>\n      <td>0</td>\n      <td>0</td>\n      <td>0</td>\n      <td>0</td>\n      <td>0</td>\n      <td>0</td>\n      <td>0</td>\n      <td>0</td>\n    </tr>\n    <tr>\n      <th>64</th>\n      <td>100076</td>\n      <td>0.0</td>\n      <td>0</td>\n      <td>0</td>\n      <td>1</td>\n      <td>1</td>\n      <td>0</td>\n      <td>180000.0</td>\n      <td>315000.0</td>\n      <td>9679.5</td>\n      <td>...</td>\n      <td>0</td>\n      <td>0</td>\n      <td>0</td>\n      <td>0</td>\n      <td>0</td>\n      <td>0</td>\n      <td>1</td>\n      <td>0</td>\n      <td>0</td>\n      <td>0</td>\n    </tr>\n    <tr>\n      <th>81</th>\n      <td>100096</td>\n      <td>1.0</td>\n      <td>0</td>\n      <td>1</td>\n      <td>0</td>\n      <td>0</td>\n      <td>0</td>\n      <td>81000.0</td>\n      <td>252000.0</td>\n      <td>14593.5</td>\n      <td>...</td>\n      <td>0</td>\n      <td>0</td>\n      <td>0</td>\n      <td>0</td>\n      <td>0</td>\n      <td>0</td>\n      <td>0</td>\n      <td>0</td>\n      <td>0</td>\n      <td>0</td>\n    </tr>\n  </tbody>\n</table>\n<p>5 rows × 196 columns</p>\n</div>"
     },
     "execution_count": 97,
     "metadata": {},
     "output_type": "execute_result"
    }
   ],
   "source": [
    "comparaison_key(temp_app, pos_bal, 'SK_ID_CURR', 'SK_ID_CURR').head(5)"
   ],
   "metadata": {
    "collapsed": false,
    "pycharm": {
     "name": "#%%\n"
    }
   }
  },
  {
   "cell_type": "markdown",
   "source": [
    "18998 clients absents de POS_CASH_balance et donc sans historique des précédents prêts."
   ],
   "metadata": {
    "collapsed": false,
    "pycharm": {
     "name": "#%% md\n"
    }
   }
  },
  {
   "cell_type": "code",
   "execution_count": 98,
   "outputs": [
    {
     "name": "stdout",
     "output_type": "stream",
     "text": [
      "Le jeu de données contient 10001227 lignes et 8 colonnes.\n"
     ]
    }
   ],
   "source": [
    "pos_bal = pos_bal[pos_bal['SK_ID_CURR'].isin(temp_app['SK_ID_CURR'])]\n",
    "dim(pos_bal)"
   ],
   "metadata": {
    "collapsed": false,
    "pycharm": {
     "name": "#%%\n"
    }
   }
  },
  {
   "cell_type": "code",
   "execution_count": 99,
   "outputs": [
    {
     "data": {
      "text/plain": "936316"
     },
     "execution_count": 99,
     "metadata": {},
     "output_type": "execute_result"
    }
   ],
   "source": [
    "pos_bal['SK_ID_PREV'].nunique()"
   ],
   "metadata": {
    "collapsed": false,
    "pycharm": {
     "name": "#%%\n"
    }
   }
  },
  {
   "cell_type": "code",
   "execution_count": 100,
   "outputs": [
    {
     "data": {
      "text/plain": "['NAME_CONTRACT_STATUS']"
     },
     "execution_count": 100,
     "metadata": {},
     "output_type": "execute_result"
    }
   ],
   "source": [
    "list_var_categ = pos_bal.select_dtypes('object').columns.tolist()\n",
    "list_var_categ"
   ],
   "metadata": {
    "collapsed": false,
    "pycharm": {
     "name": "#%%\n"
    }
   }
  },
  {
   "cell_type": "code",
   "execution_count": 101,
   "outputs": [
    {
     "data": {
      "text/plain": "NAME_CONTRACT_STATUS    9\ndtype: int64"
     },
     "execution_count": 101,
     "metadata": {},
     "output_type": "execute_result"
    }
   ],
   "source": [
    "# Number of unique classes in each object column\n",
    "pos_bal[list_var_categ].nunique()"
   ],
   "metadata": {
    "collapsed": false,
    "pycharm": {
     "name": "#%%\n"
    }
   }
  },
  {
   "cell_type": "code",
   "execution_count": 102,
   "outputs": [
    {
     "name": "stdout",
     "output_type": "stream",
     "text": [
      "NAME_CONTRACT_STATUS : ['Active' 'Completed' 'Signed' 'Approved' 'Returned to the store' 'Demand'\n",
      " 'Canceled' 'XNA' 'Amortized debt']\n",
      "\n"
     ]
    }
   ],
   "source": [
    "for f in list_var_categ:\n",
    "        print(f'{f} : {pos_bal[f].unique()}')\n",
    "        print('')"
   ],
   "metadata": {
    "collapsed": false,
    "pycharm": {
     "name": "#%%\n"
    }
   }
  },
  {
   "cell_type": "markdown",
   "source": [
    "\"XNA\" sont des valeurs manquantes."
   ],
   "metadata": {
    "collapsed": false,
    "pycharm": {
     "name": "#%% md\n"
    }
   }
  },
  {
   "cell_type": "code",
   "execution_count": 103,
   "outputs": [],
   "source": [
    "marker_nan = [\"XNA\"]\n",
    "pos_bal.replace(marker_nan, np.nan, inplace=True)"
   ],
   "metadata": {
    "collapsed": false,
    "pycharm": {
     "name": "#%%\n"
    }
   }
  },
  {
   "cell_type": "code",
   "execution_count": 104,
   "outputs": [
    {
     "data": {
      "text/plain": "                Variable  Nombre de valeurs renseignées  \\\n0             SK_ID_PREV                       10001227   \n1             SK_ID_CURR                       10001227   \n2         MONTHS_BALANCE                       10001227   \n3         CNT_INSTALMENT                        9975156   \n4  CNT_INSTALMENT_FUTURE                        9975140   \n5   NAME_CONTRACT_STATUS                       10001225   \n6                 SK_DPD                       10001227   \n7             SK_DPD_DEF                       10001227   \n\n   Nombre de valeurs manquantes  Taux de remplissage (%)  \n0                             0                  100.000  \n1                             0                  100.000  \n2                             0                  100.000  \n3                         26071                   99.739  \n4                         26087                   99.739  \n5                             2                  100.000  \n6                             0                  100.000  \n7                             0                  100.000  ",
      "text/html": "<div>\n<style scoped>\n    .dataframe tbody tr th:only-of-type {\n        vertical-align: middle;\n    }\n\n    .dataframe tbody tr th {\n        vertical-align: top;\n    }\n\n    .dataframe thead th {\n        text-align: right;\n    }\n</style>\n<table border=\"1\" class=\"dataframe\">\n  <thead>\n    <tr style=\"text-align: right;\">\n      <th></th>\n      <th>Variable</th>\n      <th>Nombre de valeurs renseignées</th>\n      <th>Nombre de valeurs manquantes</th>\n      <th>Taux de remplissage (%)</th>\n    </tr>\n  </thead>\n  <tbody>\n    <tr>\n      <th>0</th>\n      <td>SK_ID_PREV</td>\n      <td>10001227</td>\n      <td>0</td>\n      <td>100.000</td>\n    </tr>\n    <tr>\n      <th>1</th>\n      <td>SK_ID_CURR</td>\n      <td>10001227</td>\n      <td>0</td>\n      <td>100.000</td>\n    </tr>\n    <tr>\n      <th>2</th>\n      <td>MONTHS_BALANCE</td>\n      <td>10001227</td>\n      <td>0</td>\n      <td>100.000</td>\n    </tr>\n    <tr>\n      <th>3</th>\n      <td>CNT_INSTALMENT</td>\n      <td>9975156</td>\n      <td>26071</td>\n      <td>99.739</td>\n    </tr>\n    <tr>\n      <th>4</th>\n      <td>CNT_INSTALMENT_FUTURE</td>\n      <td>9975140</td>\n      <td>26087</td>\n      <td>99.739</td>\n    </tr>\n    <tr>\n      <th>5</th>\n      <td>NAME_CONTRACT_STATUS</td>\n      <td>10001225</td>\n      <td>2</td>\n      <td>100.000</td>\n    </tr>\n    <tr>\n      <th>6</th>\n      <td>SK_DPD</td>\n      <td>10001227</td>\n      <td>0</td>\n      <td>100.000</td>\n    </tr>\n    <tr>\n      <th>7</th>\n      <td>SK_DPD_DEF</td>\n      <td>10001227</td>\n      <td>0</td>\n      <td>100.000</td>\n    </tr>\n  </tbody>\n</table>\n</div>"
     },
     "execution_count": 104,
     "metadata": {},
     "output_type": "execute_result"
    }
   ],
   "source": [
    "M = recap_missing_values(pos_bal)\n",
    "M"
   ],
   "metadata": {
    "collapsed": false,
    "pycharm": {
     "name": "#%%\n"
    }
   }
  },
  {
   "cell_type": "code",
   "execution_count": 105,
   "outputs": [
    {
     "data": {
      "text/plain": "         SK_ID_PREV  SK_ID_CURR  MONTHS_BALANCE  CNT_INSTALMENT  \\\n1614508     1378042      142208             -21             NaN   \n1614509     1711630      309000             -24             NaN   \n\n         CNT_INSTALMENT_FUTURE NAME_CONTRACT_STATUS  SK_DPD  SK_DPD_DEF  \n1614508                    NaN                  NaN       0           0  \n1614509                    NaN                  NaN       0           0  ",
      "text/html": "<div>\n<style scoped>\n    .dataframe tbody tr th:only-of-type {\n        vertical-align: middle;\n    }\n\n    .dataframe tbody tr th {\n        vertical-align: top;\n    }\n\n    .dataframe thead th {\n        text-align: right;\n    }\n</style>\n<table border=\"1\" class=\"dataframe\">\n  <thead>\n    <tr style=\"text-align: right;\">\n      <th></th>\n      <th>SK_ID_PREV</th>\n      <th>SK_ID_CURR</th>\n      <th>MONTHS_BALANCE</th>\n      <th>CNT_INSTALMENT</th>\n      <th>CNT_INSTALMENT_FUTURE</th>\n      <th>NAME_CONTRACT_STATUS</th>\n      <th>SK_DPD</th>\n      <th>SK_DPD_DEF</th>\n    </tr>\n  </thead>\n  <tbody>\n    <tr>\n      <th>1614508</th>\n      <td>1378042</td>\n      <td>142208</td>\n      <td>-21</td>\n      <td>NaN</td>\n      <td>NaN</td>\n      <td>NaN</td>\n      <td>0</td>\n      <td>0</td>\n    </tr>\n    <tr>\n      <th>1614509</th>\n      <td>1711630</td>\n      <td>309000</td>\n      <td>-24</td>\n      <td>NaN</td>\n      <td>NaN</td>\n      <td>NaN</td>\n      <td>0</td>\n      <td>0</td>\n    </tr>\n  </tbody>\n</table>\n</div>"
     },
     "execution_count": 105,
     "metadata": {},
     "output_type": "execute_result"
    }
   ],
   "source": [
    "pos_bal[pos_bal['NAME_CONTRACT_STATUS'].isna()]"
   ],
   "metadata": {
    "collapsed": false,
    "pycharm": {
     "name": "#%%\n"
    }
   }
  },
  {
   "cell_type": "code",
   "execution_count": 106,
   "outputs": [],
   "source": [
    "pos_bal = pos_bal[pos_bal['NAME_CONTRACT_STATUS'].notna()]"
   ],
   "metadata": {
    "collapsed": false,
    "pycharm": {
     "name": "#%%\n"
    }
   }
  },
  {
   "cell_type": "markdown",
   "source": [
    "<br>\n",
    "\n",
    "---"
   ],
   "metadata": {
    "collapsed": false,
    "pycharm": {
     "name": "#%% md\n"
    }
   }
  },
  {
   "cell_type": "markdown",
   "source": [
    "### <span style='background :#e3e33d' > 6.2 Script </span>"
   ],
   "metadata": {
    "collapsed": false,
    "pycharm": {
     "name": "#%% md\n"
    }
   }
  },
  {
   "cell_type": "code",
   "execution_count": 107,
   "outputs": [],
   "source": [
    "def pos_cash():\n",
    "\n",
    "    pos_bal = pd.read_csv(\"./data/POS_CASH_balance.csv\")\n",
    "\n",
    "    # Cleaning\n",
    "    marker_nan = [\"XNA\"]\n",
    "    pos_bal.replace(marker_nan, np.nan, inplace=True)\n",
    "    pos_bal = pos_bal[pos_bal['NAME_CONTRACT_STATUS'].notna()]\n",
    "\n",
    "    pos_bal, cat_cols = one_hot_encoder(pos_bal, nan_as_category=True)\n",
    "\n",
    "    # Feature engineering\n",
    "    pos_bal['POS_LATE_PAYMENT'] = pos_bal['SK_DPD'].apply(lambda x: 1 if x > 0 else 0)\n",
    "    pos_bal['POS_IS_DPD_OVER_120'] = pos_bal['SK_DPD'].apply(lambda x: 1 if x >= 120 else 0)\n",
    "    pos_bal['POS_DPD_DEF_RATIO'] = pos_bal['SK_DPD_DEF'] / (pos_bal['SK_DPD'] + 1)\n",
    "\n",
    "\n",
    "    # After the feature engineering, check for inf\n",
    "    check_for_inf(pos_bal)\n",
    "\n",
    "\n",
    "    # pos balance numeric features\n",
    "    num_aggregations = {\n",
    "        'SK_ID_PREV': ['nunique'],\n",
    "        'SK_ID_CURR': ['size'],\n",
    "        'MONTHS_BALANCE': ['max', 'mean'],\n",
    "        'SK_DPD': ['max', 'mean'],\n",
    "        'SK_DPD_DEF': ['max', 'mean'],\n",
    "        'POS_LATE_PAYMENT': ['mean'],\n",
    "        'POS_IS_DPD_OVER_120': ['mean'],\n",
    "        'POS_DPD_DEF_RATIO': ['max', 'mean']\n",
    "    }\n",
    "\n",
    "    # Previous applications categorical features\n",
    "    cat_aggregations = {}\n",
    "    for cat in cat_cols:\n",
    "        cat_aggregations[cat] = ['mean']\n",
    "\n",
    "    # Aggregation\n",
    "    pos_bal_agg = pos_bal.groupby('SK_ID_CURR').agg({**num_aggregations, **cat_aggregations})\n",
    "    pos_bal_agg = flatten_multi_index(pos_bal_agg, prefix='POS_')\n",
    "\n",
    "    # Sort and group by SK_ID_PREV\n",
    "    sort_pos = pos_bal.sort_values(by=['SK_ID_PREV', 'MONTHS_BALANCE'])\n",
    "    gp = sort_pos.groupby('SK_ID_PREV')\n",
    "\n",
    "    df = pd.DataFrame()\n",
    "    df['SK_ID_CURR'] = gp['SK_ID_CURR'].first()\n",
    "\n",
    "    # Percentage of previous loans completed and completed before initial term\n",
    "    df['POS_LOAN_COMPLETED_MEAN'] = gp['NAME_CONTRACT_STATUS_Completed'].mean()\n",
    "    df['POS_COMPLETED_BEFORE_MEAN'] = gp['CNT_INSTALMENT'].first() - gp['CNT_INSTALMENT'].last()\n",
    "    df['POS_COMPLETED_BEFORE_MEAN'] = df.apply(lambda x: 1 if x['POS_COMPLETED_BEFORE_MEAN'] > 0\n",
    "                                                              and x['POS_LOAN_COMPLETED_MEAN'] > 0 else 0, axis=1)\n",
    "\n",
    "    # Number of remaining installments (future installments) and percentage from total\n",
    "    df['POS_REMAINING_INSTALMENTS'] = gp['CNT_INSTALMENT_FUTURE'].last()\n",
    "    df['POS_REMAINING_INSTALMENTS_RATIO'] = gp['CNT_INSTALMENT_FUTURE'].last() / gp['CNT_INSTALMENT'].last()\n",
    "\n",
    "    # Group by SK_ID_CURR and merge\n",
    "    df_gp = df.groupby('SK_ID_CURR').sum().reset_index()\n",
    "\n",
    "    pos_bal_agg = pd.merge(pos_bal_agg, df_gp, on='SK_ID_CURR', how='left')\n",
    "\n",
    "    del sort_pos, gp, df, df_gp\n",
    "    gc.collect()\n",
    "\n",
    "    check_full_nan(pos_bal_agg)\n",
    "\n",
    "    # Remove the feature where mode % = 1\n",
    "    col_to_del = compute_mode_percentage(pos_bal_agg, pos_bal_agg.columns, threshold=1, pr=False)\n",
    "    pos_bal_agg.drop(columns=col_to_del, inplace=True)\n",
    "\n",
    "    print('\"Pos-Cash\" balance final shape:', pos_bal_agg.shape)\n",
    "\n",
    "    return pos_bal_agg"
   ],
   "metadata": {
    "collapsed": false,
    "pycharm": {
     "name": "#%%\n"
    }
   }
  },
  {
   "cell_type": "code",
   "execution_count": 108,
   "outputs": [
    {
     "name": "stdout",
     "output_type": "stream",
     "text": [
      "Nombre de valeurs infinies: 0\n",
      "Liste de features full of nan:\n",
      "[]\n",
      "Liste des features à supprimer :\n",
      "['POS_NAME_CONTRACT_STATUS_nan_MEAN']\n",
      "\"Pos-Cash\" balance final shape: (337252, 25)\n"
     ]
    },
    {
     "data": {
      "text/plain": "   SK_ID_CURR  POS_SK_ID_PREV_NUNIQUE  POS_SK_ID_CURR_SIZE  \\\n0      100001                       2                    9   \n1      100002                       1                   19   \n2      100003                       3                   28   \n3      100004                       1                    4   \n4      100005                       1                   11   \n\n   POS_MONTHS_BALANCE_MAX  POS_MONTHS_BALANCE_MEAN  POS_SK_DPD_MAX  \\\n0                     -53               -72.555556               7   \n1                      -1               -10.000000               0   \n2                     -18               -43.785714               0   \n3                     -24               -25.500000               0   \n4                     -15               -20.000000               0   \n\n   POS_SK_DPD_MEAN  POS_SK_DPD_DEF_MAX  POS_SK_DPD_DEF_MEAN  \\\n0         0.777778                   7             0.777778   \n1         0.000000                   0             0.000000   \n2         0.000000                   0             0.000000   \n3         0.000000                   0             0.000000   \n4         0.000000                   0             0.000000   \n\n   POS_POS_LATE_PAYMENT_MEAN  ...  POS_NAME_CONTRACT_STATUS_Approved_MEAN  \\\n0                   0.111111  ...                                     0.0   \n1                   0.000000  ...                                     0.0   \n2                   0.000000  ...                                     0.0   \n3                   0.000000  ...                                     0.0   \n4                   0.000000  ...                                     0.0   \n\n   POS_NAME_CONTRACT_STATUS_Canceled_MEAN  \\\n0                                     0.0   \n1                                     0.0   \n2                                     0.0   \n3                                     0.0   \n4                                     0.0   \n\n   POS_NAME_CONTRACT_STATUS_Completed_MEAN  \\\n0                                 0.222222   \n1                                 0.000000   \n2                                 0.071429   \n3                                 0.250000   \n4                                 0.090909   \n\n   POS_NAME_CONTRACT_STATUS_Demand_MEAN  \\\n0                                   0.0   \n1                                   0.0   \n2                                   0.0   \n3                                   0.0   \n4                                   0.0   \n\n   POS_NAME_CONTRACT_STATUS_Returned to the store_MEAN  \\\n0                                                0.0     \n1                                                0.0     \n2                                                0.0     \n3                                                0.0     \n4                                                0.0     \n\n   POS_NAME_CONTRACT_STATUS_Signed_MEAN  POS_LOAN_COMPLETED_MEAN  \\\n0                              0.000000                 0.450000   \n1                              0.000000                 0.000000   \n2                              0.000000                 0.250000   \n3                              0.000000                 0.250000   \n4                              0.090909                 0.090909   \n\n   POS_COMPLETED_BEFORE_MEAN  POS_REMAINING_INSTALMENTS  \\\n0                          0                        0.0   \n1                          0                        6.0   \n2                          1                        1.0   \n3                          1                        0.0   \n4                          1                        0.0   \n\n   POS_REMAINING_INSTALMENTS_RATIO  \n0                         0.000000  \n1                         0.250000  \n2                         0.083333  \n3                         0.000000  \n4                         0.000000  \n\n[5 rows x 25 columns]",
      "text/html": "<div>\n<style scoped>\n    .dataframe tbody tr th:only-of-type {\n        vertical-align: middle;\n    }\n\n    .dataframe tbody tr th {\n        vertical-align: top;\n    }\n\n    .dataframe thead th {\n        text-align: right;\n    }\n</style>\n<table border=\"1\" class=\"dataframe\">\n  <thead>\n    <tr style=\"text-align: right;\">\n      <th></th>\n      <th>SK_ID_CURR</th>\n      <th>POS_SK_ID_PREV_NUNIQUE</th>\n      <th>POS_SK_ID_CURR_SIZE</th>\n      <th>POS_MONTHS_BALANCE_MAX</th>\n      <th>POS_MONTHS_BALANCE_MEAN</th>\n      <th>POS_SK_DPD_MAX</th>\n      <th>POS_SK_DPD_MEAN</th>\n      <th>POS_SK_DPD_DEF_MAX</th>\n      <th>POS_SK_DPD_DEF_MEAN</th>\n      <th>POS_POS_LATE_PAYMENT_MEAN</th>\n      <th>...</th>\n      <th>POS_NAME_CONTRACT_STATUS_Approved_MEAN</th>\n      <th>POS_NAME_CONTRACT_STATUS_Canceled_MEAN</th>\n      <th>POS_NAME_CONTRACT_STATUS_Completed_MEAN</th>\n      <th>POS_NAME_CONTRACT_STATUS_Demand_MEAN</th>\n      <th>POS_NAME_CONTRACT_STATUS_Returned to the store_MEAN</th>\n      <th>POS_NAME_CONTRACT_STATUS_Signed_MEAN</th>\n      <th>POS_LOAN_COMPLETED_MEAN</th>\n      <th>POS_COMPLETED_BEFORE_MEAN</th>\n      <th>POS_REMAINING_INSTALMENTS</th>\n      <th>POS_REMAINING_INSTALMENTS_RATIO</th>\n    </tr>\n  </thead>\n  <tbody>\n    <tr>\n      <th>0</th>\n      <td>100001</td>\n      <td>2</td>\n      <td>9</td>\n      <td>-53</td>\n      <td>-72.555556</td>\n      <td>7</td>\n      <td>0.777778</td>\n      <td>7</td>\n      <td>0.777778</td>\n      <td>0.111111</td>\n      <td>...</td>\n      <td>0.0</td>\n      <td>0.0</td>\n      <td>0.222222</td>\n      <td>0.0</td>\n      <td>0.0</td>\n      <td>0.000000</td>\n      <td>0.450000</td>\n      <td>0</td>\n      <td>0.0</td>\n      <td>0.000000</td>\n    </tr>\n    <tr>\n      <th>1</th>\n      <td>100002</td>\n      <td>1</td>\n      <td>19</td>\n      <td>-1</td>\n      <td>-10.000000</td>\n      <td>0</td>\n      <td>0.000000</td>\n      <td>0</td>\n      <td>0.000000</td>\n      <td>0.000000</td>\n      <td>...</td>\n      <td>0.0</td>\n      <td>0.0</td>\n      <td>0.000000</td>\n      <td>0.0</td>\n      <td>0.0</td>\n      <td>0.000000</td>\n      <td>0.000000</td>\n      <td>0</td>\n      <td>6.0</td>\n      <td>0.250000</td>\n    </tr>\n    <tr>\n      <th>2</th>\n      <td>100003</td>\n      <td>3</td>\n      <td>28</td>\n      <td>-18</td>\n      <td>-43.785714</td>\n      <td>0</td>\n      <td>0.000000</td>\n      <td>0</td>\n      <td>0.000000</td>\n      <td>0.000000</td>\n      <td>...</td>\n      <td>0.0</td>\n      <td>0.0</td>\n      <td>0.071429</td>\n      <td>0.0</td>\n      <td>0.0</td>\n      <td>0.000000</td>\n      <td>0.250000</td>\n      <td>1</td>\n      <td>1.0</td>\n      <td>0.083333</td>\n    </tr>\n    <tr>\n      <th>3</th>\n      <td>100004</td>\n      <td>1</td>\n      <td>4</td>\n      <td>-24</td>\n      <td>-25.500000</td>\n      <td>0</td>\n      <td>0.000000</td>\n      <td>0</td>\n      <td>0.000000</td>\n      <td>0.000000</td>\n      <td>...</td>\n      <td>0.0</td>\n      <td>0.0</td>\n      <td>0.250000</td>\n      <td>0.0</td>\n      <td>0.0</td>\n      <td>0.000000</td>\n      <td>0.250000</td>\n      <td>1</td>\n      <td>0.0</td>\n      <td>0.000000</td>\n    </tr>\n    <tr>\n      <th>4</th>\n      <td>100005</td>\n      <td>1</td>\n      <td>11</td>\n      <td>-15</td>\n      <td>-20.000000</td>\n      <td>0</td>\n      <td>0.000000</td>\n      <td>0</td>\n      <td>0.000000</td>\n      <td>0.000000</td>\n      <td>...</td>\n      <td>0.0</td>\n      <td>0.0</td>\n      <td>0.090909</td>\n      <td>0.0</td>\n      <td>0.0</td>\n      <td>0.090909</td>\n      <td>0.090909</td>\n      <td>1</td>\n      <td>0.0</td>\n      <td>0.000000</td>\n    </tr>\n  </tbody>\n</table>\n<p>5 rows × 25 columns</p>\n</div>"
     },
     "execution_count": 108,
     "metadata": {},
     "output_type": "execute_result"
    }
   ],
   "source": [
    "temp_pos = pos_cash()\n",
    "temp_pos.head()"
   ],
   "metadata": {
    "collapsed": false,
    "pycharm": {
     "name": "#%%\n"
    }
   }
  },
  {
   "cell_type": "code",
   "execution_count": 109,
   "outputs": [
    {
     "name": "stdout",
     "output_type": "stream",
     "text": [
      "Le jeu de données contient 337252 lignes et 25 colonnes.\n"
     ]
    }
   ],
   "source": [
    "dim(temp_pos)"
   ],
   "metadata": {
    "collapsed": false,
    "pycharm": {
     "name": "#%%\n"
    }
   }
  },
  {
   "cell_type": "markdown",
   "source": [
    "<br>\n",
    "\n",
    "---"
   ],
   "metadata": {
    "collapsed": false,
    "pycharm": {
     "name": "#%% md\n"
    }
   }
  },
  {
   "cell_type": "markdown",
   "source": [
    "##  <span style='background :#96e773' > 7. installments_payments </span>\n",
    "### <span style='background :#e3e33d' > 7.1 Analyse rapide </span>"
   ],
   "metadata": {
    "collapsed": false,
    "pycharm": {
     "name": "#%% md\n"
    }
   }
  },
  {
   "cell_type": "code",
   "execution_count": 110,
   "outputs": [],
   "source": [
    "ins_pay = pd.read_csv(\"./data/installments_payments.csv\")"
   ],
   "metadata": {
    "collapsed": false,
    "pycharm": {
     "name": "#%%\n"
    }
   }
  },
  {
   "cell_type": "code",
   "execution_count": 111,
   "outputs": [
    {
     "name": "stdout",
     "output_type": "stream",
     "text": [
      "Memory usage of dataframe is 830.41 MB\n",
      "Memory usage after optimization is: 389.25 MB\n",
      "Decreased by 53.1%\n"
     ]
    }
   ],
   "source": [
    "ins_pay = reduce_mem_usage(ins_pay)"
   ],
   "metadata": {
    "collapsed": false,
    "pycharm": {
     "name": "#%%\n"
    }
   }
  },
  {
   "cell_type": "code",
   "execution_count": 112,
   "outputs": [
    {
     "data": {
      "text/plain": "   SK_ID_PREV  SK_ID_CURR  NUM_INSTALMENT_VERSION  NUM_INSTALMENT_NUMBER  \\\n0     1054186      161674                     1.0                      6   \n1     1330831      151639                     0.0                     34   \n2     2085231      193053                     2.0                      1   \n3     2452527      199697                     1.0                      3   \n4     2714724      167756                     1.0                      2   \n5     1137312      164489                     1.0                     12   \n6     2234264      184693                     4.0                     11   \n7     1818599      111420                     2.0                      4   \n8     2723183      112102                     0.0                     14   \n9     1413990      109741                     1.0                      4   \n\n   DAYS_INSTALMENT  DAYS_ENTRY_PAYMENT  AMT_INSTALMENT   AMT_PAYMENT  \n0          -1180.0             -1187.0     6948.359863   6948.359863  \n1          -2156.0             -2156.0     1716.525024   1716.525024  \n2            -63.0               -63.0    25425.000000  25425.000000  \n3          -2418.0             -2426.0    24350.130859  24350.130859  \n4          -1383.0             -1366.0     2165.040039   2160.584961  \n5          -1384.0             -1417.0     5970.375000   5970.375000  \n6           -349.0              -352.0    29432.294922  29432.294922  \n7           -968.0              -994.0    17862.164062  17862.164062  \n8           -197.0              -197.0       70.739998     70.739998  \n9           -570.0              -609.0    14308.469727  14308.469727  ",
      "text/html": "<div>\n<style scoped>\n    .dataframe tbody tr th:only-of-type {\n        vertical-align: middle;\n    }\n\n    .dataframe tbody tr th {\n        vertical-align: top;\n    }\n\n    .dataframe thead th {\n        text-align: right;\n    }\n</style>\n<table border=\"1\" class=\"dataframe\">\n  <thead>\n    <tr style=\"text-align: right;\">\n      <th></th>\n      <th>SK_ID_PREV</th>\n      <th>SK_ID_CURR</th>\n      <th>NUM_INSTALMENT_VERSION</th>\n      <th>NUM_INSTALMENT_NUMBER</th>\n      <th>DAYS_INSTALMENT</th>\n      <th>DAYS_ENTRY_PAYMENT</th>\n      <th>AMT_INSTALMENT</th>\n      <th>AMT_PAYMENT</th>\n    </tr>\n  </thead>\n  <tbody>\n    <tr>\n      <th>0</th>\n      <td>1054186</td>\n      <td>161674</td>\n      <td>1.0</td>\n      <td>6</td>\n      <td>-1180.0</td>\n      <td>-1187.0</td>\n      <td>6948.359863</td>\n      <td>6948.359863</td>\n    </tr>\n    <tr>\n      <th>1</th>\n      <td>1330831</td>\n      <td>151639</td>\n      <td>0.0</td>\n      <td>34</td>\n      <td>-2156.0</td>\n      <td>-2156.0</td>\n      <td>1716.525024</td>\n      <td>1716.525024</td>\n    </tr>\n    <tr>\n      <th>2</th>\n      <td>2085231</td>\n      <td>193053</td>\n      <td>2.0</td>\n      <td>1</td>\n      <td>-63.0</td>\n      <td>-63.0</td>\n      <td>25425.000000</td>\n      <td>25425.000000</td>\n    </tr>\n    <tr>\n      <th>3</th>\n      <td>2452527</td>\n      <td>199697</td>\n      <td>1.0</td>\n      <td>3</td>\n      <td>-2418.0</td>\n      <td>-2426.0</td>\n      <td>24350.130859</td>\n      <td>24350.130859</td>\n    </tr>\n    <tr>\n      <th>4</th>\n      <td>2714724</td>\n      <td>167756</td>\n      <td>1.0</td>\n      <td>2</td>\n      <td>-1383.0</td>\n      <td>-1366.0</td>\n      <td>2165.040039</td>\n      <td>2160.584961</td>\n    </tr>\n    <tr>\n      <th>5</th>\n      <td>1137312</td>\n      <td>164489</td>\n      <td>1.0</td>\n      <td>12</td>\n      <td>-1384.0</td>\n      <td>-1417.0</td>\n      <td>5970.375000</td>\n      <td>5970.375000</td>\n    </tr>\n    <tr>\n      <th>6</th>\n      <td>2234264</td>\n      <td>184693</td>\n      <td>4.0</td>\n      <td>11</td>\n      <td>-349.0</td>\n      <td>-352.0</td>\n      <td>29432.294922</td>\n      <td>29432.294922</td>\n    </tr>\n    <tr>\n      <th>7</th>\n      <td>1818599</td>\n      <td>111420</td>\n      <td>2.0</td>\n      <td>4</td>\n      <td>-968.0</td>\n      <td>-994.0</td>\n      <td>17862.164062</td>\n      <td>17862.164062</td>\n    </tr>\n    <tr>\n      <th>8</th>\n      <td>2723183</td>\n      <td>112102</td>\n      <td>0.0</td>\n      <td>14</td>\n      <td>-197.0</td>\n      <td>-197.0</td>\n      <td>70.739998</td>\n      <td>70.739998</td>\n    </tr>\n    <tr>\n      <th>9</th>\n      <td>1413990</td>\n      <td>109741</td>\n      <td>1.0</td>\n      <td>4</td>\n      <td>-570.0</td>\n      <td>-609.0</td>\n      <td>14308.469727</td>\n      <td>14308.469727</td>\n    </tr>\n  </tbody>\n</table>\n</div>"
     },
     "execution_count": 112,
     "metadata": {},
     "output_type": "execute_result"
    }
   ],
   "source": [
    "ins_pay.head(10)"
   ],
   "metadata": {
    "collapsed": false,
    "pycharm": {
     "name": "#%%\n"
    }
   }
  },
  {
   "cell_type": "code",
   "execution_count": 113,
   "outputs": [
    {
     "name": "stdout",
     "output_type": "stream",
     "text": [
      "Le jeu de données contient 13605401 lignes et 8 colonnes.\n",
      "Le jeu de données contient 5810 valeurs manquantes (0.005%).\n"
     ]
    }
   ],
   "source": [
    "dim(ins_pay)\n",
    "missing_values(ins_pay)"
   ],
   "metadata": {
    "collapsed": false,
    "pycharm": {
     "name": "#%%\n"
    }
   }
  },
  {
   "cell_type": "code",
   "execution_count": 114,
   "outputs": [
    {
     "data": {
      "text/plain": "                 Variable  Nombre de valeurs renseignées  \\\n0              SK_ID_PREV                       13605401   \n1              SK_ID_CURR                       13605401   \n2  NUM_INSTALMENT_VERSION                       13605401   \n3   NUM_INSTALMENT_NUMBER                       13605401   \n4         DAYS_INSTALMENT                       13605401   \n5      DAYS_ENTRY_PAYMENT                       13602496   \n6          AMT_INSTALMENT                       13605401   \n7             AMT_PAYMENT                       13602496   \n\n   Nombre de valeurs manquantes  Taux de remplissage (%)  \n0                             0                  100.000  \n1                             0                  100.000  \n2                             0                  100.000  \n3                             0                  100.000  \n4                             0                  100.000  \n5                          2905                   99.979  \n6                             0                  100.000  \n7                          2905                   99.979  ",
      "text/html": "<div>\n<style scoped>\n    .dataframe tbody tr th:only-of-type {\n        vertical-align: middle;\n    }\n\n    .dataframe tbody tr th {\n        vertical-align: top;\n    }\n\n    .dataframe thead th {\n        text-align: right;\n    }\n</style>\n<table border=\"1\" class=\"dataframe\">\n  <thead>\n    <tr style=\"text-align: right;\">\n      <th></th>\n      <th>Variable</th>\n      <th>Nombre de valeurs renseignées</th>\n      <th>Nombre de valeurs manquantes</th>\n      <th>Taux de remplissage (%)</th>\n    </tr>\n  </thead>\n  <tbody>\n    <tr>\n      <th>0</th>\n      <td>SK_ID_PREV</td>\n      <td>13605401</td>\n      <td>0</td>\n      <td>100.000</td>\n    </tr>\n    <tr>\n      <th>1</th>\n      <td>SK_ID_CURR</td>\n      <td>13605401</td>\n      <td>0</td>\n      <td>100.000</td>\n    </tr>\n    <tr>\n      <th>2</th>\n      <td>NUM_INSTALMENT_VERSION</td>\n      <td>13605401</td>\n      <td>0</td>\n      <td>100.000</td>\n    </tr>\n    <tr>\n      <th>3</th>\n      <td>NUM_INSTALMENT_NUMBER</td>\n      <td>13605401</td>\n      <td>0</td>\n      <td>100.000</td>\n    </tr>\n    <tr>\n      <th>4</th>\n      <td>DAYS_INSTALMENT</td>\n      <td>13605401</td>\n      <td>0</td>\n      <td>100.000</td>\n    </tr>\n    <tr>\n      <th>5</th>\n      <td>DAYS_ENTRY_PAYMENT</td>\n      <td>13602496</td>\n      <td>2905</td>\n      <td>99.979</td>\n    </tr>\n    <tr>\n      <th>6</th>\n      <td>AMT_INSTALMENT</td>\n      <td>13605401</td>\n      <td>0</td>\n      <td>100.000</td>\n    </tr>\n    <tr>\n      <th>7</th>\n      <td>AMT_PAYMENT</td>\n      <td>13602496</td>\n      <td>2905</td>\n      <td>99.979</td>\n    </tr>\n  </tbody>\n</table>\n</div>"
     },
     "execution_count": 114,
     "metadata": {},
     "output_type": "execute_result"
    }
   ],
   "source": [
    "M = recap_missing_values(ins_pay)\n",
    "M"
   ],
   "metadata": {
    "collapsed": false,
    "pycharm": {
     "name": "#%%\n"
    }
   }
  },
  {
   "cell_type": "code",
   "execution_count": 115,
   "outputs": [
    {
     "data": {
      "text/plain": "         SK_ID_PREV  SK_ID_CURR  NUM_INSTALMENT_VERSION  \\\n3764207     1531600      103793                     1.0   \n3764208     1947105      159974                     1.0   \n3764209     1843773      167270                     1.0   \n3764210     1691592      192536                     1.0   \n3764211     1531299      157088                     0.0   \n3764212     1562727      187345                     0.0   \n3764213     1265332      167942                     1.0   \n3764214     1531600      103793                     1.0   \n3764215     1852469      103171                     7.0   \n3764216     1054684      142217                     0.0   \n\n         NUM_INSTALMENT_NUMBER  DAYS_INSTALMENT  DAYS_ENTRY_PAYMENT  \\\n3764207                      7           -668.0                 NaN   \n3764208                     24            -36.0                 NaN   \n3764209                     22            -20.0                 NaN   \n3764210                      5          -2561.0                 NaN   \n3764211                     11          -1847.0                 NaN   \n3764212                     23             -5.0                 NaN   \n3764213                      5            -14.0                 NaN   \n3764214                     25           -128.0                 NaN   \n3764215                      3            -49.0                 NaN   \n3764216                     38          -1469.0                 NaN   \n\n         AMT_INSTALMENT  AMT_PAYMENT  \n3764207    49741.019531          NaN  \n3764208    22849.515625          NaN  \n3764209    48092.355469          NaN  \n3764210     7675.424805          NaN  \n3764211       67.500000          NaN  \n3764212    11401.740234          NaN  \n3764213    11650.500000          NaN  \n3764214    49741.019531          NaN  \n3764215   311738.343750          NaN  \n3764216       67.500000          NaN  ",
      "text/html": "<div>\n<style scoped>\n    .dataframe tbody tr th:only-of-type {\n        vertical-align: middle;\n    }\n\n    .dataframe tbody tr th {\n        vertical-align: top;\n    }\n\n    .dataframe thead th {\n        text-align: right;\n    }\n</style>\n<table border=\"1\" class=\"dataframe\">\n  <thead>\n    <tr style=\"text-align: right;\">\n      <th></th>\n      <th>SK_ID_PREV</th>\n      <th>SK_ID_CURR</th>\n      <th>NUM_INSTALMENT_VERSION</th>\n      <th>NUM_INSTALMENT_NUMBER</th>\n      <th>DAYS_INSTALMENT</th>\n      <th>DAYS_ENTRY_PAYMENT</th>\n      <th>AMT_INSTALMENT</th>\n      <th>AMT_PAYMENT</th>\n    </tr>\n  </thead>\n  <tbody>\n    <tr>\n      <th>3764207</th>\n      <td>1531600</td>\n      <td>103793</td>\n      <td>1.0</td>\n      <td>7</td>\n      <td>-668.0</td>\n      <td>NaN</td>\n      <td>49741.019531</td>\n      <td>NaN</td>\n    </tr>\n    <tr>\n      <th>3764208</th>\n      <td>1947105</td>\n      <td>159974</td>\n      <td>1.0</td>\n      <td>24</td>\n      <td>-36.0</td>\n      <td>NaN</td>\n      <td>22849.515625</td>\n      <td>NaN</td>\n    </tr>\n    <tr>\n      <th>3764209</th>\n      <td>1843773</td>\n      <td>167270</td>\n      <td>1.0</td>\n      <td>22</td>\n      <td>-20.0</td>\n      <td>NaN</td>\n      <td>48092.355469</td>\n      <td>NaN</td>\n    </tr>\n    <tr>\n      <th>3764210</th>\n      <td>1691592</td>\n      <td>192536</td>\n      <td>1.0</td>\n      <td>5</td>\n      <td>-2561.0</td>\n      <td>NaN</td>\n      <td>7675.424805</td>\n      <td>NaN</td>\n    </tr>\n    <tr>\n      <th>3764211</th>\n      <td>1531299</td>\n      <td>157088</td>\n      <td>0.0</td>\n      <td>11</td>\n      <td>-1847.0</td>\n      <td>NaN</td>\n      <td>67.500000</td>\n      <td>NaN</td>\n    </tr>\n    <tr>\n      <th>3764212</th>\n      <td>1562727</td>\n      <td>187345</td>\n      <td>0.0</td>\n      <td>23</td>\n      <td>-5.0</td>\n      <td>NaN</td>\n      <td>11401.740234</td>\n      <td>NaN</td>\n    </tr>\n    <tr>\n      <th>3764213</th>\n      <td>1265332</td>\n      <td>167942</td>\n      <td>1.0</td>\n      <td>5</td>\n      <td>-14.0</td>\n      <td>NaN</td>\n      <td>11650.500000</td>\n      <td>NaN</td>\n    </tr>\n    <tr>\n      <th>3764214</th>\n      <td>1531600</td>\n      <td>103793</td>\n      <td>1.0</td>\n      <td>25</td>\n      <td>-128.0</td>\n      <td>NaN</td>\n      <td>49741.019531</td>\n      <td>NaN</td>\n    </tr>\n    <tr>\n      <th>3764215</th>\n      <td>1852469</td>\n      <td>103171</td>\n      <td>7.0</td>\n      <td>3</td>\n      <td>-49.0</td>\n      <td>NaN</td>\n      <td>311738.343750</td>\n      <td>NaN</td>\n    </tr>\n    <tr>\n      <th>3764216</th>\n      <td>1054684</td>\n      <td>142217</td>\n      <td>0.0</td>\n      <td>38</td>\n      <td>-1469.0</td>\n      <td>NaN</td>\n      <td>67.500000</td>\n      <td>NaN</td>\n    </tr>\n  </tbody>\n</table>\n</div>"
     },
     "execution_count": 115,
     "metadata": {},
     "output_type": "execute_result"
    }
   ],
   "source": [
    "ins_pay[ins_pay['DAYS_ENTRY_PAYMENT'].isna()].head(10)"
   ],
   "metadata": {
    "collapsed": false,
    "pycharm": {
     "name": "#%%\n"
    }
   }
  },
  {
   "cell_type": "code",
   "execution_count": 116,
   "outputs": [
    {
     "data": {
      "text/plain": "1249"
     },
     "execution_count": 116,
     "metadata": {},
     "output_type": "execute_result"
    }
   ],
   "source": [
    "ins_pay[ins_pay['DAYS_ENTRY_PAYMENT'].isna()]['SK_ID_CURR'].nunique()"
   ],
   "metadata": {
    "collapsed": false,
    "pycharm": {
     "name": "#%%\n"
    }
   }
  },
  {
   "cell_type": "code",
   "execution_count": 117,
   "outputs": [],
   "source": [
    "ins_pay = ins_pay.dropna()"
   ],
   "metadata": {
    "collapsed": false,
    "pycharm": {
     "name": "#%%\n"
    }
   }
  },
  {
   "cell_type": "code",
   "execution_count": 118,
   "outputs": [
    {
     "name": "stdout",
     "output_type": "stream",
     "text": [
      "Le jeu de données contient 13602496 lignes et 8 colonnes.\n",
      "Le jeu de données contient 0 valeurs manquantes (0.0%).\n"
     ]
    }
   ],
   "source": [
    "dim(ins_pay)\n",
    "missing_values(ins_pay)"
   ],
   "metadata": {
    "collapsed": false,
    "pycharm": {
     "name": "#%%\n"
    }
   }
  },
  {
   "cell_type": "code",
   "execution_count": 119,
   "outputs": [
    {
     "data": {
      "text/plain": "float32    5\nint32      2\nint16      1\ndtype: int64"
     },
     "execution_count": 119,
     "metadata": {},
     "output_type": "execute_result"
    }
   ],
   "source": [
    "ins_pay.dtypes.value_counts()"
   ],
   "metadata": {
    "collapsed": false,
    "pycharm": {
     "name": "#%%\n"
    }
   }
  },
  {
   "cell_type": "code",
   "execution_count": 120,
   "outputs": [
    {
     "name": "stdout",
     "output_type": "stream",
     "text": [
      "Nombre de lignes doublons : 0\n"
     ]
    }
   ],
   "source": [
    "# Recherche de lignes doublons sur chaque variable\n",
    "\n",
    "d = ins_pay.duplicated(keep='first').sum()\n",
    "print(f'Nombre de lignes doublons : {d}')"
   ],
   "metadata": {
    "collapsed": false,
    "pycharm": {
     "name": "#%%\n"
    }
   }
  },
  {
   "cell_type": "code",
   "execution_count": 121,
   "outputs": [
    {
     "data": {
      "text/plain": "339578"
     },
     "execution_count": 121,
     "metadata": {},
     "output_type": "execute_result"
    }
   ],
   "source": [
    "ins_pay['SK_ID_CURR'].nunique()"
   ],
   "metadata": {
    "collapsed": false,
    "pycharm": {
     "name": "#%%\n"
    }
   }
  },
  {
   "cell_type": "code",
   "execution_count": 122,
   "outputs": [
    {
     "name": "stdout",
     "output_type": "stream",
     "text": [
      "Nombre de clé de df1 absentes de df2 : 16672\n"
     ]
    },
    {
     "data": {
      "text/plain": "    SK_ID_CURR  TARGET  NAME_CONTRACT_TYPE  CODE_GENDER  FLAG_OWN_CAR  \\\n20      100024     0.0                   1            0             1   \n26      100031     1.0                   0            1             0   \n50      100058     0.0                   1            1             0   \n64      100076     0.0                   0            0             1   \n81      100096     1.0                   0            1             0   \n\n    FLAG_OWN_REALTY  CNT_CHILDREN  AMT_INCOME_TOTAL  AMT_CREDIT  AMT_ANNUITY  \\\n20                0             0          135000.0    427500.0      21375.0   \n26                0             0          112500.0    979992.0      27076.5   \n50                0             0           54000.0    135000.0       6750.0   \n64                1             0          180000.0    315000.0       9679.5   \n81                0             0           81000.0    252000.0      14593.5   \n\n    ...  ORGANIZATION_TYPE_Trade: type 4  ORGANIZATION_TYPE_Trade: type 5  \\\n20  ...                                0                                0   \n26  ...                                0                                0   \n50  ...                                0                                0   \n64  ...                                0                                0   \n81  ...                                0                                0   \n\n    ORGANIZATION_TYPE_Trade: type 6  ORGANIZATION_TYPE_Trade: type 7  \\\n20                                0                                0   \n26                                0                                0   \n50                                0                                0   \n64                                0                                0   \n81                                0                                0   \n\n    ORGANIZATION_TYPE_Transport: type 1  ORGANIZATION_TYPE_Transport: type 2  \\\n20                                    0                                    0   \n26                                    0                                    0   \n50                                    0                                    0   \n64                                    0                                    0   \n81                                    0                                    0   \n\n    ORGANIZATION_TYPE_Transport: type 3  ORGANIZATION_TYPE_Transport: type 4  \\\n20                                    0                                    0   \n26                                    0                                    0   \n50                                    0                                    0   \n64                                    1                                    0   \n81                                    0                                    0   \n\n    ORGANIZATION_TYPE_Unemployed  ORGANIZATION_TYPE_University  \n20                             0                             0  \n26                             0                             0  \n50                             0                             0  \n64                             0                             0  \n81                             0                             0  \n\n[5 rows x 196 columns]",
      "text/html": "<div>\n<style scoped>\n    .dataframe tbody tr th:only-of-type {\n        vertical-align: middle;\n    }\n\n    .dataframe tbody tr th {\n        vertical-align: top;\n    }\n\n    .dataframe thead th {\n        text-align: right;\n    }\n</style>\n<table border=\"1\" class=\"dataframe\">\n  <thead>\n    <tr style=\"text-align: right;\">\n      <th></th>\n      <th>SK_ID_CURR</th>\n      <th>TARGET</th>\n      <th>NAME_CONTRACT_TYPE</th>\n      <th>CODE_GENDER</th>\n      <th>FLAG_OWN_CAR</th>\n      <th>FLAG_OWN_REALTY</th>\n      <th>CNT_CHILDREN</th>\n      <th>AMT_INCOME_TOTAL</th>\n      <th>AMT_CREDIT</th>\n      <th>AMT_ANNUITY</th>\n      <th>...</th>\n      <th>ORGANIZATION_TYPE_Trade: type 4</th>\n      <th>ORGANIZATION_TYPE_Trade: type 5</th>\n      <th>ORGANIZATION_TYPE_Trade: type 6</th>\n      <th>ORGANIZATION_TYPE_Trade: type 7</th>\n      <th>ORGANIZATION_TYPE_Transport: type 1</th>\n      <th>ORGANIZATION_TYPE_Transport: type 2</th>\n      <th>ORGANIZATION_TYPE_Transport: type 3</th>\n      <th>ORGANIZATION_TYPE_Transport: type 4</th>\n      <th>ORGANIZATION_TYPE_Unemployed</th>\n      <th>ORGANIZATION_TYPE_University</th>\n    </tr>\n  </thead>\n  <tbody>\n    <tr>\n      <th>20</th>\n      <td>100024</td>\n      <td>0.0</td>\n      <td>1</td>\n      <td>0</td>\n      <td>1</td>\n      <td>0</td>\n      <td>0</td>\n      <td>135000.0</td>\n      <td>427500.0</td>\n      <td>21375.0</td>\n      <td>...</td>\n      <td>0</td>\n      <td>0</td>\n      <td>0</td>\n      <td>0</td>\n      <td>0</td>\n      <td>0</td>\n      <td>0</td>\n      <td>0</td>\n      <td>0</td>\n      <td>0</td>\n    </tr>\n    <tr>\n      <th>26</th>\n      <td>100031</td>\n      <td>1.0</td>\n      <td>0</td>\n      <td>1</td>\n      <td>0</td>\n      <td>0</td>\n      <td>0</td>\n      <td>112500.0</td>\n      <td>979992.0</td>\n      <td>27076.5</td>\n      <td>...</td>\n      <td>0</td>\n      <td>0</td>\n      <td>0</td>\n      <td>0</td>\n      <td>0</td>\n      <td>0</td>\n      <td>0</td>\n      <td>0</td>\n      <td>0</td>\n      <td>0</td>\n    </tr>\n    <tr>\n      <th>50</th>\n      <td>100058</td>\n      <td>0.0</td>\n      <td>1</td>\n      <td>1</td>\n      <td>0</td>\n      <td>0</td>\n      <td>0</td>\n      <td>54000.0</td>\n      <td>135000.0</td>\n      <td>6750.0</td>\n      <td>...</td>\n      <td>0</td>\n      <td>0</td>\n      <td>0</td>\n      <td>0</td>\n      <td>0</td>\n      <td>0</td>\n      <td>0</td>\n      <td>0</td>\n      <td>0</td>\n      <td>0</td>\n    </tr>\n    <tr>\n      <th>64</th>\n      <td>100076</td>\n      <td>0.0</td>\n      <td>0</td>\n      <td>0</td>\n      <td>1</td>\n      <td>1</td>\n      <td>0</td>\n      <td>180000.0</td>\n      <td>315000.0</td>\n      <td>9679.5</td>\n      <td>...</td>\n      <td>0</td>\n      <td>0</td>\n      <td>0</td>\n      <td>0</td>\n      <td>0</td>\n      <td>0</td>\n      <td>1</td>\n      <td>0</td>\n      <td>0</td>\n      <td>0</td>\n    </tr>\n    <tr>\n      <th>81</th>\n      <td>100096</td>\n      <td>1.0</td>\n      <td>0</td>\n      <td>1</td>\n      <td>0</td>\n      <td>0</td>\n      <td>0</td>\n      <td>81000.0</td>\n      <td>252000.0</td>\n      <td>14593.5</td>\n      <td>...</td>\n      <td>0</td>\n      <td>0</td>\n      <td>0</td>\n      <td>0</td>\n      <td>0</td>\n      <td>0</td>\n      <td>0</td>\n      <td>0</td>\n      <td>0</td>\n      <td>0</td>\n    </tr>\n  </tbody>\n</table>\n<p>5 rows × 196 columns</p>\n</div>"
     },
     "execution_count": 122,
     "metadata": {},
     "output_type": "execute_result"
    }
   ],
   "source": [
    "comparaison_key(temp_app, ins_pay, 'SK_ID_CURR', 'SK_ID_CURR').head(5)"
   ],
   "metadata": {
    "collapsed": false,
    "pycharm": {
     "name": "#%%\n"
    }
   }
  },
  {
   "cell_type": "markdown",
   "source": [
    "16672 clients absents du dataframe installments_payments."
   ],
   "metadata": {
    "collapsed": false,
    "pycharm": {
     "name": "#%% md\n"
    }
   }
  },
  {
   "cell_type": "code",
   "execution_count": 123,
   "outputs": [
    {
     "data": {
      "text/plain": "                               0%        1.0%          5.0%         10.0%  \\\nSK_ID_PREV              1000001.0  1011180.00  1.082903e+06  1.176554e+06   \nSK_ID_CURR               100001.0   103583.00  1.181480e+05  1.358710e+05   \nNUM_INSTALMENT_VERSION        0.0        0.00  0.000000e+00  0.000000e+00   \nNUM_INSTALMENT_NUMBER         1.0        1.00  1.000000e+00  2.000000e+00   \nDAYS_INSTALMENT           -2922.0    -2832.00 -2.553000e+03 -2.308000e+03   \nDAYS_ENTRY_PAYMENT        -4921.0    -2837.00 -2.561000e+03 -2.316000e+03   \nAMT_INSTALMENT                0.0       13.32  1.886400e+02  7.200000e+02   \nAMT_PAYMENT                   0.0        3.78  1.116450e+02  3.318300e+02   \n\n                               25.0%         50.0%         75.0%  \\\nSK_ID_PREV              1.434182e+06  1.896524e+06  2.369094e+06   \nSK_ID_CURR              1.896390e+05  2.786840e+05  3.675300e+05   \nNUM_INSTALMENT_VERSION  0.000000e+00  1.000000e+00  1.000000e+00   \nNUM_INSTALMENT_NUMBER   4.000000e+00  8.000000e+00  1.900000e+01   \nDAYS_INSTALMENT        -1.654000e+03 -8.180000e+02 -3.610000e+02   \nDAYS_ENTRY_PAYMENT     -1.662000e+03 -8.270000e+02 -3.700000e+02   \nAMT_INSTALMENT          4.227660e+03  8.884710e+03  1.671021e+04   \nAMT_PAYMENT             3.398265e+03  8.125515e+03  1.610842e+04   \n\n                               90.0%         95.0%         99.0%        100%  \nSK_ID_PREV              2.652602e+06  2.749694e+06  2.824545e+06  2843499.00  \nSK_ID_CURR              4.215420e+05  4.384740e+05  4.528020e+05   456255.00  \nNUM_INSTALMENT_VERSION  1.000000e+00  2.000000e+00  4.000000e+00       73.00  \nNUM_INSTALMENT_NUMBER   5.600000e+01  8.200000e+01  1.210000e+02      277.00  \nDAYS_INSTALMENT        -1.510000e+02 -8.100000e+01 -2.100000e+01       -1.00  \nDAYS_ENTRY_PAYMENT     -1.590000e+02 -9.000000e+01 -2.800000e+01       -1.00  \nAMT_INSTALMENT          3.141518e+04  4.704134e+04  1.460272e+05  3771487.75  \nAMT_PAYMENT             3.117991e+04  4.773218e+04  1.780040e+05  3771487.75  ",
      "text/html": "<div>\n<style scoped>\n    .dataframe tbody tr th:only-of-type {\n        vertical-align: middle;\n    }\n\n    .dataframe tbody tr th {\n        vertical-align: top;\n    }\n\n    .dataframe thead th {\n        text-align: right;\n    }\n</style>\n<table border=\"1\" class=\"dataframe\">\n  <thead>\n    <tr style=\"text-align: right;\">\n      <th></th>\n      <th>0%</th>\n      <th>1.0%</th>\n      <th>5.0%</th>\n      <th>10.0%</th>\n      <th>25.0%</th>\n      <th>50.0%</th>\n      <th>75.0%</th>\n      <th>90.0%</th>\n      <th>95.0%</th>\n      <th>99.0%</th>\n      <th>100%</th>\n    </tr>\n  </thead>\n  <tbody>\n    <tr>\n      <th>SK_ID_PREV</th>\n      <td>1000001.0</td>\n      <td>1011180.00</td>\n      <td>1.082903e+06</td>\n      <td>1.176554e+06</td>\n      <td>1.434182e+06</td>\n      <td>1.896524e+06</td>\n      <td>2.369094e+06</td>\n      <td>2.652602e+06</td>\n      <td>2.749694e+06</td>\n      <td>2.824545e+06</td>\n      <td>2843499.00</td>\n    </tr>\n    <tr>\n      <th>SK_ID_CURR</th>\n      <td>100001.0</td>\n      <td>103583.00</td>\n      <td>1.181480e+05</td>\n      <td>1.358710e+05</td>\n      <td>1.896390e+05</td>\n      <td>2.786840e+05</td>\n      <td>3.675300e+05</td>\n      <td>4.215420e+05</td>\n      <td>4.384740e+05</td>\n      <td>4.528020e+05</td>\n      <td>456255.00</td>\n    </tr>\n    <tr>\n      <th>NUM_INSTALMENT_VERSION</th>\n      <td>0.0</td>\n      <td>0.00</td>\n      <td>0.000000e+00</td>\n      <td>0.000000e+00</td>\n      <td>0.000000e+00</td>\n      <td>1.000000e+00</td>\n      <td>1.000000e+00</td>\n      <td>1.000000e+00</td>\n      <td>2.000000e+00</td>\n      <td>4.000000e+00</td>\n      <td>73.00</td>\n    </tr>\n    <tr>\n      <th>NUM_INSTALMENT_NUMBER</th>\n      <td>1.0</td>\n      <td>1.00</td>\n      <td>1.000000e+00</td>\n      <td>2.000000e+00</td>\n      <td>4.000000e+00</td>\n      <td>8.000000e+00</td>\n      <td>1.900000e+01</td>\n      <td>5.600000e+01</td>\n      <td>8.200000e+01</td>\n      <td>1.210000e+02</td>\n      <td>277.00</td>\n    </tr>\n    <tr>\n      <th>DAYS_INSTALMENT</th>\n      <td>-2922.0</td>\n      <td>-2832.00</td>\n      <td>-2.553000e+03</td>\n      <td>-2.308000e+03</td>\n      <td>-1.654000e+03</td>\n      <td>-8.180000e+02</td>\n      <td>-3.610000e+02</td>\n      <td>-1.510000e+02</td>\n      <td>-8.100000e+01</td>\n      <td>-2.100000e+01</td>\n      <td>-1.00</td>\n    </tr>\n    <tr>\n      <th>DAYS_ENTRY_PAYMENT</th>\n      <td>-4921.0</td>\n      <td>-2837.00</td>\n      <td>-2.561000e+03</td>\n      <td>-2.316000e+03</td>\n      <td>-1.662000e+03</td>\n      <td>-8.270000e+02</td>\n      <td>-3.700000e+02</td>\n      <td>-1.590000e+02</td>\n      <td>-9.000000e+01</td>\n      <td>-2.800000e+01</td>\n      <td>-1.00</td>\n    </tr>\n    <tr>\n      <th>AMT_INSTALMENT</th>\n      <td>0.0</td>\n      <td>13.32</td>\n      <td>1.886400e+02</td>\n      <td>7.200000e+02</td>\n      <td>4.227660e+03</td>\n      <td>8.884710e+03</td>\n      <td>1.671021e+04</td>\n      <td>3.141518e+04</td>\n      <td>4.704134e+04</td>\n      <td>1.460272e+05</td>\n      <td>3771487.75</td>\n    </tr>\n    <tr>\n      <th>AMT_PAYMENT</th>\n      <td>0.0</td>\n      <td>3.78</td>\n      <td>1.116450e+02</td>\n      <td>3.318300e+02</td>\n      <td>3.398265e+03</td>\n      <td>8.125515e+03</td>\n      <td>1.610842e+04</td>\n      <td>3.117991e+04</td>\n      <td>4.773218e+04</td>\n      <td>1.780040e+05</td>\n      <td>3771487.75</td>\n    </tr>\n  </tbody>\n</table>\n</div>"
     },
     "execution_count": 123,
     "metadata": {},
     "output_type": "execute_result"
    }
   ],
   "source": [
    "percentile_report(ins_pay, ins_pay.columns)"
   ],
   "metadata": {
    "collapsed": false,
    "pycharm": {
     "name": "#%%\n"
    }
   }
  },
  {
   "cell_type": "code",
   "execution_count": 124,
   "outputs": [
    {
     "data": {
      "text/plain": "          SK_ID_PREV  SK_ID_CURR  NUM_INSTALMENT_VERSION  \\\n43318        1822101      170117                     1.0   \n71362        1822101      170117                     1.0   \n516837       1822101      170117                     1.0   \n561460       1822101      170117                     1.0   \n1341687      1171606      106652                     1.0   \n...              ...         ...                     ...   \n13440013     1435301      422089                     1.0   \n13444239     1435301      422089                     1.0   \n13522873     1071426      453803                     1.0   \n13558685     1071426      453803                     1.0   \n13565183     1071426      453803                     1.0   \n\n          NUM_INSTALMENT_NUMBER  DAYS_INSTALMENT  DAYS_ENTRY_PAYMENT  \\\n43318                         5          -2085.0             -2095.0   \n71362                        10          -1935.0             -1940.0   \n516837                        3          -2145.0             -2155.0   \n561460                        4          -2115.0             -2127.0   \n1341687                       8          -2922.0              -467.0   \n...                         ...              ...                 ...   \n13440013                      7          -2765.0             -2737.0   \n13444239                     10          -2675.0             -2674.0   \n13522873                      5          -2173.0             -2179.0   \n13558685                     10          -2023.0             -2031.0   \n13565183                      6          -2143.0             -2150.0   \n\n          AMT_INSTALMENT   AMT_PAYMENT  \n43318                0.0  11431.620117  \n71362                0.0  11431.620117  \n516837               0.0  11431.620117  \n561460               0.0  11431.620117  \n1341687              0.0      6.300000  \n...                  ...           ...  \n13440013             0.0     45.000000  \n13444239             0.0   7840.575195  \n13522873             0.0  19179.585938  \n13558685             0.0  18934.019531  \n13565183             0.0  19179.585938  \n\n[245 rows x 8 columns]",
      "text/html": "<div>\n<style scoped>\n    .dataframe tbody tr th:only-of-type {\n        vertical-align: middle;\n    }\n\n    .dataframe tbody tr th {\n        vertical-align: top;\n    }\n\n    .dataframe thead th {\n        text-align: right;\n    }\n</style>\n<table border=\"1\" class=\"dataframe\">\n  <thead>\n    <tr style=\"text-align: right;\">\n      <th></th>\n      <th>SK_ID_PREV</th>\n      <th>SK_ID_CURR</th>\n      <th>NUM_INSTALMENT_VERSION</th>\n      <th>NUM_INSTALMENT_NUMBER</th>\n      <th>DAYS_INSTALMENT</th>\n      <th>DAYS_ENTRY_PAYMENT</th>\n      <th>AMT_INSTALMENT</th>\n      <th>AMT_PAYMENT</th>\n    </tr>\n  </thead>\n  <tbody>\n    <tr>\n      <th>43318</th>\n      <td>1822101</td>\n      <td>170117</td>\n      <td>1.0</td>\n      <td>5</td>\n      <td>-2085.0</td>\n      <td>-2095.0</td>\n      <td>0.0</td>\n      <td>11431.620117</td>\n    </tr>\n    <tr>\n      <th>71362</th>\n      <td>1822101</td>\n      <td>170117</td>\n      <td>1.0</td>\n      <td>10</td>\n      <td>-1935.0</td>\n      <td>-1940.0</td>\n      <td>0.0</td>\n      <td>11431.620117</td>\n    </tr>\n    <tr>\n      <th>516837</th>\n      <td>1822101</td>\n      <td>170117</td>\n      <td>1.0</td>\n      <td>3</td>\n      <td>-2145.0</td>\n      <td>-2155.0</td>\n      <td>0.0</td>\n      <td>11431.620117</td>\n    </tr>\n    <tr>\n      <th>561460</th>\n      <td>1822101</td>\n      <td>170117</td>\n      <td>1.0</td>\n      <td>4</td>\n      <td>-2115.0</td>\n      <td>-2127.0</td>\n      <td>0.0</td>\n      <td>11431.620117</td>\n    </tr>\n    <tr>\n      <th>1341687</th>\n      <td>1171606</td>\n      <td>106652</td>\n      <td>1.0</td>\n      <td>8</td>\n      <td>-2922.0</td>\n      <td>-467.0</td>\n      <td>0.0</td>\n      <td>6.300000</td>\n    </tr>\n    <tr>\n      <th>...</th>\n      <td>...</td>\n      <td>...</td>\n      <td>...</td>\n      <td>...</td>\n      <td>...</td>\n      <td>...</td>\n      <td>...</td>\n      <td>...</td>\n    </tr>\n    <tr>\n      <th>13440013</th>\n      <td>1435301</td>\n      <td>422089</td>\n      <td>1.0</td>\n      <td>7</td>\n      <td>-2765.0</td>\n      <td>-2737.0</td>\n      <td>0.0</td>\n      <td>45.000000</td>\n    </tr>\n    <tr>\n      <th>13444239</th>\n      <td>1435301</td>\n      <td>422089</td>\n      <td>1.0</td>\n      <td>10</td>\n      <td>-2675.0</td>\n      <td>-2674.0</td>\n      <td>0.0</td>\n      <td>7840.575195</td>\n    </tr>\n    <tr>\n      <th>13522873</th>\n      <td>1071426</td>\n      <td>453803</td>\n      <td>1.0</td>\n      <td>5</td>\n      <td>-2173.0</td>\n      <td>-2179.0</td>\n      <td>0.0</td>\n      <td>19179.585938</td>\n    </tr>\n    <tr>\n      <th>13558685</th>\n      <td>1071426</td>\n      <td>453803</td>\n      <td>1.0</td>\n      <td>10</td>\n      <td>-2023.0</td>\n      <td>-2031.0</td>\n      <td>0.0</td>\n      <td>18934.019531</td>\n    </tr>\n    <tr>\n      <th>13565183</th>\n      <td>1071426</td>\n      <td>453803</td>\n      <td>1.0</td>\n      <td>6</td>\n      <td>-2143.0</td>\n      <td>-2150.0</td>\n      <td>0.0</td>\n      <td>19179.585938</td>\n    </tr>\n  </tbody>\n</table>\n<p>245 rows × 8 columns</p>\n</div>"
     },
     "execution_count": 124,
     "metadata": {},
     "output_type": "execute_result"
    }
   ],
   "source": [
    "ins_pay[ins_pay['AMT_INSTALMENT'] == 0]"
   ],
   "metadata": {
    "collapsed": false,
    "pycharm": {
     "name": "#%%\n"
    }
   }
  },
  {
   "cell_type": "markdown",
   "source": [
    "<br>\n",
    "\n",
    "---"
   ],
   "metadata": {
    "collapsed": false,
    "pycharm": {
     "name": "#%% md\n"
    }
   }
  },
  {
   "cell_type": "markdown",
   "source": [
    "### <span style='background :#e3e33d' > 7.2 Script </span>"
   ],
   "metadata": {
    "collapsed": false,
    "pycharm": {
     "name": "#%% md\n"
    }
   }
  },
  {
   "cell_type": "code",
   "execution_count": 125,
   "outputs": [],
   "source": [
    "def installments_payments():\n",
    "\n",
    "    ins_pay = pd.read_csv(\"./data/installments_payments.csv\")\n",
    "    ins_pay = ins_pay.dropna()\n",
    "\n",
    "    # Feature engineering\n",
    "    # Percentage and difference paid in each installment (amount paid and installment value)\n",
    "    ins_pay['PAYMENT_PERC'] = ins_pay['AMT_PAYMENT'] / (ins_pay['AMT_INSTALMENT'] + 1)\n",
    "    ins_pay['PAYMENT_DIFF'] = ins_pay['AMT_INSTALMENT'] - ins_pay['AMT_PAYMENT']\n",
    "    ins_pay['PAID_OVER'] = ins_pay['PAYMENT_DIFF'].apply(lambda x: 1 if x < 0 else 0)\n",
    "\n",
    "    # Days past due and days before due (no negative values)\n",
    "    ins_pay['DPD'] = ins_pay['DAYS_ENTRY_PAYMENT'] - ins_pay['DAYS_INSTALMENT']\n",
    "    ins_pay['DBD'] = ins_pay['DAYS_INSTALMENT'] - ins_pay['DAYS_ENTRY_PAYMENT']\n",
    "    ins_pay['DPD'] = ins_pay['DPD'].apply(lambda x: x if x > 0 else 0)\n",
    "    ins_pay['DBD'] = ins_pay['DBD'].apply(lambda x: x if x > 0 else 0)\n",
    "\n",
    "    # Flag k threshold late payments\n",
    "    ins_pay['DPD_15'] = ins_pay['DPD'].apply(lambda x: 1 if x >= 15 else 0)\n",
    "    ins_pay['DPD_30'] = ins_pay['DPD'].apply(lambda x: 1 if x >= 30 else 0)\n",
    "    ins_pay['DPD_120'] = ins_pay['DPD'].apply(lambda x: 1 if x >= 120 else 0)\n",
    "\n",
    "    # After the feature engineering, check for inf\n",
    "    check_for_inf(ins_pay)\n",
    "\n",
    "    # installments_payments numeric features\n",
    "    num_aggregations = {\n",
    "        'SK_ID_PREV': ['nunique'],\n",
    "        'SK_ID_CURR': ['size'],\n",
    "        'NUM_INSTALMENT_VERSION': ['nunique'],\n",
    "        'DAYS_ENTRY_PAYMENT': ['min', 'max', 'mean', 'sum'],\n",
    "        'AMT_INSTALMENT': ['min', 'max', 'mean', 'sum'],\n",
    "        'AMT_PAYMENT': ['min', 'max', 'mean', 'sum'],\n",
    "        'PAYMENT_PERC': ['max', 'mean', 'sum', 'var'],\n",
    "        'PAYMENT_DIFF': ['max', 'mean', 'sum', 'var'],\n",
    "        'PAID_OVER': ['mean'],\n",
    "        'DPD': ['max', 'mean', 'sum', 'var'],\n",
    "        'DBD': ['max', 'mean', 'sum', 'var'],\n",
    "        'DPD_15': ['mean'],\n",
    "        'DPD_30': ['mean'],\n",
    "        'DPD_120': ['mean']\n",
    "    }\n",
    "\n",
    "    # Aggregation\n",
    "    ins_pay_agg = ins_pay.groupby('SK_ID_CURR').agg(num_aggregations)\n",
    "    ins_pay_agg = flatten_multi_index(ins_pay_agg, prefix='INSTAL_')\n",
    "\n",
    "    del ins_pay\n",
    "    gc.collect()\n",
    "\n",
    "    check_full_nan(ins_pay_agg)\n",
    "\n",
    "    # Remove the feature where mode % = 1\n",
    "    col_to_del = compute_mode_percentage(ins_pay_agg, ins_pay_agg.columns, threshold=1, pr=False)\n",
    "    ins_pay_agg.drop(columns=col_to_del, inplace=True)\n",
    "\n",
    "    print('\"Installments Payments\" final shape:', ins_pay_agg.shape)\n",
    "    return ins_pay_agg"
   ],
   "metadata": {
    "collapsed": false,
    "pycharm": {
     "name": "#%%\n"
    }
   }
  },
  {
   "cell_type": "code",
   "execution_count": 126,
   "outputs": [
    {
     "name": "stdout",
     "output_type": "stream",
     "text": [
      "Nombre de valeurs infinies: 0\n",
      "Liste de features full of nan:\n",
      "[]\n",
      "Liste des features à supprimer :\n",
      "[]\n",
      "\"Installments Payments\" final shape: (339578, 36)\n"
     ]
    },
    {
     "data": {
      "text/plain": "   SK_ID_CURR  INSTAL_SK_ID_PREV_NUNIQUE  INSTAL_SK_ID_CURR_SIZE  \\\n0      100001                          2                       7   \n1      100002                          1                      19   \n2      100003                          3                      25   \n3      100004                          1                       3   \n4      100005                          1                       9   \n\n   INSTAL_NUM_INSTALMENT_VERSION_NUNIQUE  INSTAL_DAYS_ENTRY_PAYMENT_MIN  \\\n0                                      2                        -2916.0   \n1                                      2                         -587.0   \n2                                      2                        -2324.0   \n3                                      2                         -795.0   \n4                                      2                         -736.0   \n\n   INSTAL_DAYS_ENTRY_PAYMENT_MAX  INSTAL_DAYS_ENTRY_PAYMENT_MEAN  \\\n0                        -1628.0                    -2195.000000   \n1                          -49.0                     -315.421053   \n2                         -544.0                    -1385.320000   \n3                         -727.0                     -761.666667   \n4                         -470.0                     -609.555556   \n\n   INSTAL_DAYS_ENTRY_PAYMENT_SUM  INSTAL_AMT_INSTALMENT_MIN  \\\n0                       -15365.0                   3951.000   \n1                        -5993.0                   9251.775   \n2                       -34633.0                   6662.970   \n3                        -2285.0                   5357.250   \n4                        -5486.0                   4813.200   \n\n   INSTAL_AMT_INSTALMENT_MAX  ...  INSTAL_DPD_MEAN  INSTAL_DPD_SUM  \\\n0                  17397.900  ...         1.571429            11.0   \n1                  53093.745  ...         0.000000             0.0   \n2                 560835.360  ...         0.000000             0.0   \n3                  10573.965  ...         0.000000             0.0   \n4                  17656.245  ...         0.111111             1.0   \n\n   INSTAL_DPD_VAR  INSTAL_DBD_MAX  INSTAL_DBD_MEAN  INSTAL_DBD_SUM  \\\n0       17.285714            36.0         8.857143            62.0   \n1        0.000000            31.0        20.421053           388.0   \n2        0.000000            14.0         7.160000           179.0   \n3        0.000000            11.0         7.666667            23.0   \n4        0.111111            37.0        23.666667           213.0   \n\n   INSTAL_DBD_VAR  INSTAL_DPD_15_MEAN  INSTAL_DPD_30_MEAN  INSTAL_DPD_120_MEAN  \n0      164.142857                 0.0                 0.0                  0.0  \n1       24.257310                 0.0                 0.0                  0.0  \n2       13.890000                 0.0                 0.0                  0.0  \n3       17.333333                 0.0                 0.0                  0.0  \n4      176.500000                 0.0                 0.0                  0.0  \n\n[5 rows x 36 columns]",
      "text/html": "<div>\n<style scoped>\n    .dataframe tbody tr th:only-of-type {\n        vertical-align: middle;\n    }\n\n    .dataframe tbody tr th {\n        vertical-align: top;\n    }\n\n    .dataframe thead th {\n        text-align: right;\n    }\n</style>\n<table border=\"1\" class=\"dataframe\">\n  <thead>\n    <tr style=\"text-align: right;\">\n      <th></th>\n      <th>SK_ID_CURR</th>\n      <th>INSTAL_SK_ID_PREV_NUNIQUE</th>\n      <th>INSTAL_SK_ID_CURR_SIZE</th>\n      <th>INSTAL_NUM_INSTALMENT_VERSION_NUNIQUE</th>\n      <th>INSTAL_DAYS_ENTRY_PAYMENT_MIN</th>\n      <th>INSTAL_DAYS_ENTRY_PAYMENT_MAX</th>\n      <th>INSTAL_DAYS_ENTRY_PAYMENT_MEAN</th>\n      <th>INSTAL_DAYS_ENTRY_PAYMENT_SUM</th>\n      <th>INSTAL_AMT_INSTALMENT_MIN</th>\n      <th>INSTAL_AMT_INSTALMENT_MAX</th>\n      <th>...</th>\n      <th>INSTAL_DPD_MEAN</th>\n      <th>INSTAL_DPD_SUM</th>\n      <th>INSTAL_DPD_VAR</th>\n      <th>INSTAL_DBD_MAX</th>\n      <th>INSTAL_DBD_MEAN</th>\n      <th>INSTAL_DBD_SUM</th>\n      <th>INSTAL_DBD_VAR</th>\n      <th>INSTAL_DPD_15_MEAN</th>\n      <th>INSTAL_DPD_30_MEAN</th>\n      <th>INSTAL_DPD_120_MEAN</th>\n    </tr>\n  </thead>\n  <tbody>\n    <tr>\n      <th>0</th>\n      <td>100001</td>\n      <td>2</td>\n      <td>7</td>\n      <td>2</td>\n      <td>-2916.0</td>\n      <td>-1628.0</td>\n      <td>-2195.000000</td>\n      <td>-15365.0</td>\n      <td>3951.000</td>\n      <td>17397.900</td>\n      <td>...</td>\n      <td>1.571429</td>\n      <td>11.0</td>\n      <td>17.285714</td>\n      <td>36.0</td>\n      <td>8.857143</td>\n      <td>62.0</td>\n      <td>164.142857</td>\n      <td>0.0</td>\n      <td>0.0</td>\n      <td>0.0</td>\n    </tr>\n    <tr>\n      <th>1</th>\n      <td>100002</td>\n      <td>1</td>\n      <td>19</td>\n      <td>2</td>\n      <td>-587.0</td>\n      <td>-49.0</td>\n      <td>-315.421053</td>\n      <td>-5993.0</td>\n      <td>9251.775</td>\n      <td>53093.745</td>\n      <td>...</td>\n      <td>0.000000</td>\n      <td>0.0</td>\n      <td>0.000000</td>\n      <td>31.0</td>\n      <td>20.421053</td>\n      <td>388.0</td>\n      <td>24.257310</td>\n      <td>0.0</td>\n      <td>0.0</td>\n      <td>0.0</td>\n    </tr>\n    <tr>\n      <th>2</th>\n      <td>100003</td>\n      <td>3</td>\n      <td>25</td>\n      <td>2</td>\n      <td>-2324.0</td>\n      <td>-544.0</td>\n      <td>-1385.320000</td>\n      <td>-34633.0</td>\n      <td>6662.970</td>\n      <td>560835.360</td>\n      <td>...</td>\n      <td>0.000000</td>\n      <td>0.0</td>\n      <td>0.000000</td>\n      <td>14.0</td>\n      <td>7.160000</td>\n      <td>179.0</td>\n      <td>13.890000</td>\n      <td>0.0</td>\n      <td>0.0</td>\n      <td>0.0</td>\n    </tr>\n    <tr>\n      <th>3</th>\n      <td>100004</td>\n      <td>1</td>\n      <td>3</td>\n      <td>2</td>\n      <td>-795.0</td>\n      <td>-727.0</td>\n      <td>-761.666667</td>\n      <td>-2285.0</td>\n      <td>5357.250</td>\n      <td>10573.965</td>\n      <td>...</td>\n      <td>0.000000</td>\n      <td>0.0</td>\n      <td>0.000000</td>\n      <td>11.0</td>\n      <td>7.666667</td>\n      <td>23.0</td>\n      <td>17.333333</td>\n      <td>0.0</td>\n      <td>0.0</td>\n      <td>0.0</td>\n    </tr>\n    <tr>\n      <th>4</th>\n      <td>100005</td>\n      <td>1</td>\n      <td>9</td>\n      <td>2</td>\n      <td>-736.0</td>\n      <td>-470.0</td>\n      <td>-609.555556</td>\n      <td>-5486.0</td>\n      <td>4813.200</td>\n      <td>17656.245</td>\n      <td>...</td>\n      <td>0.111111</td>\n      <td>1.0</td>\n      <td>0.111111</td>\n      <td>37.0</td>\n      <td>23.666667</td>\n      <td>213.0</td>\n      <td>176.500000</td>\n      <td>0.0</td>\n      <td>0.0</td>\n      <td>0.0</td>\n    </tr>\n  </tbody>\n</table>\n<p>5 rows × 36 columns</p>\n</div>"
     },
     "execution_count": 126,
     "metadata": {},
     "output_type": "execute_result"
    }
   ],
   "source": [
    "temp_ins = installments_payments()\n",
    "temp_ins.head()"
   ],
   "metadata": {
    "collapsed": false,
    "pycharm": {
     "name": "#%%\n"
    }
   }
  },
  {
   "cell_type": "code",
   "execution_count": 127,
   "outputs": [
    {
     "name": "stdout",
     "output_type": "stream",
     "text": [
      "Le jeu de données contient 339578 lignes et 36 colonnes.\n"
     ]
    }
   ],
   "source": [
    "dim(temp_ins)"
   ],
   "metadata": {
    "collapsed": false,
    "pycharm": {
     "name": "#%%\n"
    }
   }
  },
  {
   "cell_type": "markdown",
   "source": [
    "<br>\n",
    "\n",
    "---"
   ],
   "metadata": {
    "collapsed": false,
    "pycharm": {
     "name": "#%% md\n"
    }
   }
  },
  {
   "cell_type": "markdown",
   "source": [
    "##  <span style='background :#96e773' > 8. credit_card_balance </span>\n",
    "### <span style='background :#e3e33d' > 8.1 Analyse rapide </span>"
   ],
   "metadata": {
    "collapsed": false,
    "pycharm": {
     "name": "#%% md\n"
    }
   }
  },
  {
   "cell_type": "code",
   "execution_count": 128,
   "outputs": [],
   "source": [
    "cc_bal = pd.read_csv(\"./data/credit_card_balance.csv\")"
   ],
   "metadata": {
    "collapsed": false,
    "pycharm": {
     "name": "#%%\n"
    }
   }
  },
  {
   "cell_type": "code",
   "execution_count": 129,
   "outputs": [
    {
     "name": "stdout",
     "output_type": "stream",
     "text": [
      "Memory usage of dataframe is 673.88 MB\n",
      "Memory usage after optimization is: 318.63 MB\n",
      "Decreased by 52.7%\n"
     ]
    }
   ],
   "source": [
    "cc_bal = reduce_mem_usage(cc_bal)"
   ],
   "metadata": {
    "collapsed": false,
    "pycharm": {
     "name": "#%%\n"
    }
   }
  },
  {
   "cell_type": "code",
   "execution_count": 130,
   "outputs": [
    {
     "data": {
      "text/plain": "   SK_ID_PREV  SK_ID_CURR  MONTHS_BALANCE    AMT_BALANCE  \\\n0     2562384      378907              -6      56.970001   \n1     2582071      363914              -1   63975.554688   \n2     1740877      371185              -7   31815.224609   \n3     1389973      337855              -4  236572.109375   \n4     1891521      126868              -1  453919.468750   \n5     2646502      380010              -7   82903.812500   \n6     1079071      171320              -6  353451.656250   \n7     2095912      118650              -7   47962.125000   \n8     2181852      367360              -4  291543.062500   \n9     1235299      203885              -5  201261.187500   \n\n   AMT_CREDIT_LIMIT_ACTUAL  AMT_DRAWINGS_ATM_CURRENT  AMT_DRAWINGS_CURRENT  \\\n0                   135000                       0.0            877.500000   \n1                    45000                    2250.0           2250.000000   \n2                   450000                       0.0              0.000000   \n3                   225000                    2250.0           2250.000000   \n4                   450000                       0.0          11547.000000   \n5                   270000                       0.0              0.000000   \n6                   585000                   67500.0          67500.000000   \n7                    45000                   45000.0          45000.000000   \n8                   292500                   90000.0         289339.437500   \n9                   225000                   76500.0         111026.703125   \n\n   AMT_DRAWINGS_OTHER_CURRENT  AMT_DRAWINGS_POS_CURRENT  \\\n0                         0.0                877.500000   \n1                         0.0                  0.000000   \n2                         0.0                  0.000000   \n3                         0.0                  0.000000   \n4                         0.0              11547.000000   \n5                         0.0                  0.000000   \n6                         0.0                  0.000000   \n7                         0.0                  0.000000   \n8                         0.0             199339.421875   \n9                         0.0              34526.699219   \n\n   AMT_INST_MIN_REGULARITY  ...  AMT_RECIVABLE  AMT_TOTAL_RECEIVABLE  \\\n0              1700.324951  ...       0.000000              0.000000   \n1              2250.000000  ...   64875.554688          64875.554688   \n2              2250.000000  ...   31460.085938          31460.085938   \n3             11795.759766  ...  233048.968750         233048.968750   \n4             22924.890625  ...  453919.468750         453919.468750   \n5              4449.104980  ...   82773.312500          82773.312500   \n6             14684.174805  ...  351881.156250         351881.156250   \n7                 0.000000  ...   47962.125000          47962.125000   \n8               130.500000  ...  286831.562500         286831.562500   \n9              6338.339844  ...  197224.687500         197224.687500   \n\n   CNT_DRAWINGS_ATM_CURRENT  CNT_DRAWINGS_CURRENT  CNT_DRAWINGS_OTHER_CURRENT  \\\n0                       0.0                     1                         0.0   \n1                       1.0                     1                         0.0   \n2                       0.0                     0                         0.0   \n3                       1.0                     1                         0.0   \n4                       0.0                     1                         0.0   \n5                       0.0                     0                         0.0   \n6                       1.0                     1                         0.0   \n7                       1.0                     1                         0.0   \n8                       3.0                     8                         0.0   \n9                       3.0                     9                         0.0   \n\n   CNT_DRAWINGS_POS_CURRENT  CNT_INSTALMENT_MATURE_CUM  NAME_CONTRACT_STATUS  \\\n0                       1.0                       35.0                Active   \n1                       0.0                       69.0                Active   \n2                       0.0                       30.0                Active   \n3                       0.0                       10.0                Active   \n4                       1.0                      101.0                Active   \n5                       0.0                        2.0                Active   \n6                       0.0                        6.0                Active   \n7                       0.0                       51.0                Active   \n8                       5.0                        3.0                Active   \n9                       6.0                       38.0                Active   \n\n   SK_DPD  SK_DPD_DEF  \n0       0           0  \n1       0           0  \n2       0           0  \n3       0           0  \n4       0           0  \n5       7           0  \n6       0           0  \n7       0           0  \n8       0           0  \n9       0           0  \n\n[10 rows x 23 columns]",
      "text/html": "<div>\n<style scoped>\n    .dataframe tbody tr th:only-of-type {\n        vertical-align: middle;\n    }\n\n    .dataframe tbody tr th {\n        vertical-align: top;\n    }\n\n    .dataframe thead th {\n        text-align: right;\n    }\n</style>\n<table border=\"1\" class=\"dataframe\">\n  <thead>\n    <tr style=\"text-align: right;\">\n      <th></th>\n      <th>SK_ID_PREV</th>\n      <th>SK_ID_CURR</th>\n      <th>MONTHS_BALANCE</th>\n      <th>AMT_BALANCE</th>\n      <th>AMT_CREDIT_LIMIT_ACTUAL</th>\n      <th>AMT_DRAWINGS_ATM_CURRENT</th>\n      <th>AMT_DRAWINGS_CURRENT</th>\n      <th>AMT_DRAWINGS_OTHER_CURRENT</th>\n      <th>AMT_DRAWINGS_POS_CURRENT</th>\n      <th>AMT_INST_MIN_REGULARITY</th>\n      <th>...</th>\n      <th>AMT_RECIVABLE</th>\n      <th>AMT_TOTAL_RECEIVABLE</th>\n      <th>CNT_DRAWINGS_ATM_CURRENT</th>\n      <th>CNT_DRAWINGS_CURRENT</th>\n      <th>CNT_DRAWINGS_OTHER_CURRENT</th>\n      <th>CNT_DRAWINGS_POS_CURRENT</th>\n      <th>CNT_INSTALMENT_MATURE_CUM</th>\n      <th>NAME_CONTRACT_STATUS</th>\n      <th>SK_DPD</th>\n      <th>SK_DPD_DEF</th>\n    </tr>\n  </thead>\n  <tbody>\n    <tr>\n      <th>0</th>\n      <td>2562384</td>\n      <td>378907</td>\n      <td>-6</td>\n      <td>56.970001</td>\n      <td>135000</td>\n      <td>0.0</td>\n      <td>877.500000</td>\n      <td>0.0</td>\n      <td>877.500000</td>\n      <td>1700.324951</td>\n      <td>...</td>\n      <td>0.000000</td>\n      <td>0.000000</td>\n      <td>0.0</td>\n      <td>1</td>\n      <td>0.0</td>\n      <td>1.0</td>\n      <td>35.0</td>\n      <td>Active</td>\n      <td>0</td>\n      <td>0</td>\n    </tr>\n    <tr>\n      <th>1</th>\n      <td>2582071</td>\n      <td>363914</td>\n      <td>-1</td>\n      <td>63975.554688</td>\n      <td>45000</td>\n      <td>2250.0</td>\n      <td>2250.000000</td>\n      <td>0.0</td>\n      <td>0.000000</td>\n      <td>2250.000000</td>\n      <td>...</td>\n      <td>64875.554688</td>\n      <td>64875.554688</td>\n      <td>1.0</td>\n      <td>1</td>\n      <td>0.0</td>\n      <td>0.0</td>\n      <td>69.0</td>\n      <td>Active</td>\n      <td>0</td>\n      <td>0</td>\n    </tr>\n    <tr>\n      <th>2</th>\n      <td>1740877</td>\n      <td>371185</td>\n      <td>-7</td>\n      <td>31815.224609</td>\n      <td>450000</td>\n      <td>0.0</td>\n      <td>0.000000</td>\n      <td>0.0</td>\n      <td>0.000000</td>\n      <td>2250.000000</td>\n      <td>...</td>\n      <td>31460.085938</td>\n      <td>31460.085938</td>\n      <td>0.0</td>\n      <td>0</td>\n      <td>0.0</td>\n      <td>0.0</td>\n      <td>30.0</td>\n      <td>Active</td>\n      <td>0</td>\n      <td>0</td>\n    </tr>\n    <tr>\n      <th>3</th>\n      <td>1389973</td>\n      <td>337855</td>\n      <td>-4</td>\n      <td>236572.109375</td>\n      <td>225000</td>\n      <td>2250.0</td>\n      <td>2250.000000</td>\n      <td>0.0</td>\n      <td>0.000000</td>\n      <td>11795.759766</td>\n      <td>...</td>\n      <td>233048.968750</td>\n      <td>233048.968750</td>\n      <td>1.0</td>\n      <td>1</td>\n      <td>0.0</td>\n      <td>0.0</td>\n      <td>10.0</td>\n      <td>Active</td>\n      <td>0</td>\n      <td>0</td>\n    </tr>\n    <tr>\n      <th>4</th>\n      <td>1891521</td>\n      <td>126868</td>\n      <td>-1</td>\n      <td>453919.468750</td>\n      <td>450000</td>\n      <td>0.0</td>\n      <td>11547.000000</td>\n      <td>0.0</td>\n      <td>11547.000000</td>\n      <td>22924.890625</td>\n      <td>...</td>\n      <td>453919.468750</td>\n      <td>453919.468750</td>\n      <td>0.0</td>\n      <td>1</td>\n      <td>0.0</td>\n      <td>1.0</td>\n      <td>101.0</td>\n      <td>Active</td>\n      <td>0</td>\n      <td>0</td>\n    </tr>\n    <tr>\n      <th>5</th>\n      <td>2646502</td>\n      <td>380010</td>\n      <td>-7</td>\n      <td>82903.812500</td>\n      <td>270000</td>\n      <td>0.0</td>\n      <td>0.000000</td>\n      <td>0.0</td>\n      <td>0.000000</td>\n      <td>4449.104980</td>\n      <td>...</td>\n      <td>82773.312500</td>\n      <td>82773.312500</td>\n      <td>0.0</td>\n      <td>0</td>\n      <td>0.0</td>\n      <td>0.0</td>\n      <td>2.0</td>\n      <td>Active</td>\n      <td>7</td>\n      <td>0</td>\n    </tr>\n    <tr>\n      <th>6</th>\n      <td>1079071</td>\n      <td>171320</td>\n      <td>-6</td>\n      <td>353451.656250</td>\n      <td>585000</td>\n      <td>67500.0</td>\n      <td>67500.000000</td>\n      <td>0.0</td>\n      <td>0.000000</td>\n      <td>14684.174805</td>\n      <td>...</td>\n      <td>351881.156250</td>\n      <td>351881.156250</td>\n      <td>1.0</td>\n      <td>1</td>\n      <td>0.0</td>\n      <td>0.0</td>\n      <td>6.0</td>\n      <td>Active</td>\n      <td>0</td>\n      <td>0</td>\n    </tr>\n    <tr>\n      <th>7</th>\n      <td>2095912</td>\n      <td>118650</td>\n      <td>-7</td>\n      <td>47962.125000</td>\n      <td>45000</td>\n      <td>45000.0</td>\n      <td>45000.000000</td>\n      <td>0.0</td>\n      <td>0.000000</td>\n      <td>0.000000</td>\n      <td>...</td>\n      <td>47962.125000</td>\n      <td>47962.125000</td>\n      <td>1.0</td>\n      <td>1</td>\n      <td>0.0</td>\n      <td>0.0</td>\n      <td>51.0</td>\n      <td>Active</td>\n      <td>0</td>\n      <td>0</td>\n    </tr>\n    <tr>\n      <th>8</th>\n      <td>2181852</td>\n      <td>367360</td>\n      <td>-4</td>\n      <td>291543.062500</td>\n      <td>292500</td>\n      <td>90000.0</td>\n      <td>289339.437500</td>\n      <td>0.0</td>\n      <td>199339.421875</td>\n      <td>130.500000</td>\n      <td>...</td>\n      <td>286831.562500</td>\n      <td>286831.562500</td>\n      <td>3.0</td>\n      <td>8</td>\n      <td>0.0</td>\n      <td>5.0</td>\n      <td>3.0</td>\n      <td>Active</td>\n      <td>0</td>\n      <td>0</td>\n    </tr>\n    <tr>\n      <th>9</th>\n      <td>1235299</td>\n      <td>203885</td>\n      <td>-5</td>\n      <td>201261.187500</td>\n      <td>225000</td>\n      <td>76500.0</td>\n      <td>111026.703125</td>\n      <td>0.0</td>\n      <td>34526.699219</td>\n      <td>6338.339844</td>\n      <td>...</td>\n      <td>197224.687500</td>\n      <td>197224.687500</td>\n      <td>3.0</td>\n      <td>9</td>\n      <td>0.0</td>\n      <td>6.0</td>\n      <td>38.0</td>\n      <td>Active</td>\n      <td>0</td>\n      <td>0</td>\n    </tr>\n  </tbody>\n</table>\n<p>10 rows × 23 columns</p>\n</div>"
     },
     "execution_count": 130,
     "metadata": {},
     "output_type": "execute_result"
    }
   ],
   "source": [
    "cc_bal.head(10)"
   ],
   "metadata": {
    "collapsed": false,
    "pycharm": {
     "name": "#%%\n"
    }
   }
  },
  {
   "cell_type": "code",
   "execution_count": 131,
   "outputs": [
    {
     "name": "stdout",
     "output_type": "stream",
     "text": [
      "Le jeu de données contient 3840312 lignes et 23 colonnes.\n",
      "Le jeu de données contient 5877356 valeurs manquantes (6.654%).\n"
     ]
    }
   ],
   "source": [
    "dim(cc_bal)\n",
    "missing_values(cc_bal)"
   ],
   "metadata": {
    "collapsed": false,
    "pycharm": {
     "name": "#%%\n"
    }
   }
  },
  {
   "cell_type": "code",
   "execution_count": 132,
   "outputs": [
    {
     "data": {
      "text/plain": "float32    15\nint32       3\nint16       3\nint8        1\nobject      1\ndtype: int64"
     },
     "execution_count": 132,
     "metadata": {},
     "output_type": "execute_result"
    }
   ],
   "source": [
    "cc_bal.dtypes.value_counts()"
   ],
   "metadata": {
    "collapsed": false,
    "pycharm": {
     "name": "#%%\n"
    }
   }
  },
  {
   "cell_type": "code",
   "execution_count": 133,
   "outputs": [
    {
     "data": {
      "text/plain": "<Figure size 640x480 with 1 Axes>",
      "image/png": "[encoded data removed]"
     },
     "metadata": {},
     "output_type": "display_data"
    }
   ],
   "source": [
    "cc_bal.dtypes.value_counts().plot.pie()\n",
    "plt.ylabel('')\n",
    "plt.show()"
   ],
   "metadata": {
    "collapsed": false,
    "pycharm": {
     "name": "#%%\n"
    }
   }
  },
  {
   "cell_type": "code",
   "execution_count": 134,
   "outputs": [
    {
     "data": {
      "text/plain": "                      Variable  Nombre de valeurs renseignées  \\\n0                   SK_ID_PREV                        3840312   \n1                   SK_ID_CURR                        3840312   \n2               MONTHS_BALANCE                        3840312   \n3                  AMT_BALANCE                        3840312   \n4      AMT_CREDIT_LIMIT_ACTUAL                        3840312   \n5     AMT_DRAWINGS_ATM_CURRENT                        3090496   \n6         AMT_DRAWINGS_CURRENT                        3840312   \n7   AMT_DRAWINGS_OTHER_CURRENT                        3090496   \n8     AMT_DRAWINGS_POS_CURRENT                        3090496   \n9      AMT_INST_MIN_REGULARITY                        3535076   \n10         AMT_PAYMENT_CURRENT                        3072324   \n11   AMT_PAYMENT_TOTAL_CURRENT                        3840312   \n12    AMT_RECEIVABLE_PRINCIPAL                        3840312   \n13               AMT_RECIVABLE                        3840312   \n14        AMT_TOTAL_RECEIVABLE                        3840312   \n15    CNT_DRAWINGS_ATM_CURRENT                        3090496   \n16        CNT_DRAWINGS_CURRENT                        3840312   \n17  CNT_DRAWINGS_OTHER_CURRENT                        3090496   \n18    CNT_DRAWINGS_POS_CURRENT                        3090496   \n19   CNT_INSTALMENT_MATURE_CUM                        3535076   \n20        NAME_CONTRACT_STATUS                        3840312   \n21                      SK_DPD                        3840312   \n22                  SK_DPD_DEF                        3840312   \n\n    Nombre de valeurs manquantes  Taux de remplissage (%)  \n0                              0                  100.000  \n1                              0                  100.000  \n2                              0                  100.000  \n3                              0                  100.000  \n4                              0                  100.000  \n5                         749816                   80.475  \n6                              0                  100.000  \n7                         749816                   80.475  \n8                         749816                   80.475  \n9                         305236                   92.052  \n10                        767988                   80.002  \n11                             0                  100.000  \n12                             0                  100.000  \n13                             0                  100.000  \n14                             0                  100.000  \n15                        749816                   80.475  \n16                             0                  100.000  \n17                        749816                   80.475  \n18                        749816                   80.475  \n19                        305236                   92.052  \n20                             0                  100.000  \n21                             0                  100.000  \n22                             0                  100.000  ",
      "text/html": "<div>\n<style scoped>\n    .dataframe tbody tr th:only-of-type {\n        vertical-align: middle;\n    }\n\n    .dataframe tbody tr th {\n        vertical-align: top;\n    }\n\n    .dataframe thead th {\n        text-align: right;\n    }\n</style>\n<table border=\"1\" class=\"dataframe\">\n  <thead>\n    <tr style=\"text-align: right;\">\n      <th></th>\n      <th>Variable</th>\n      <th>Nombre de valeurs renseignées</th>\n      <th>Nombre de valeurs manquantes</th>\n      <th>Taux de remplissage (%)</th>\n    </tr>\n  </thead>\n  <tbody>\n    <tr>\n      <th>0</th>\n      <td>SK_ID_PREV</td>\n      <td>3840312</td>\n      <td>0</td>\n      <td>100.000</td>\n    </tr>\n    <tr>\n      <th>1</th>\n      <td>SK_ID_CURR</td>\n      <td>3840312</td>\n      <td>0</td>\n      <td>100.000</td>\n    </tr>\n    <tr>\n      <th>2</th>\n      <td>MONTHS_BALANCE</td>\n      <td>3840312</td>\n      <td>0</td>\n      <td>100.000</td>\n    </tr>\n    <tr>\n      <th>3</th>\n      <td>AMT_BALANCE</td>\n      <td>3840312</td>\n      <td>0</td>\n      <td>100.000</td>\n    </tr>\n    <tr>\n      <th>4</th>\n      <td>AMT_CREDIT_LIMIT_ACTUAL</td>\n      <td>3840312</td>\n      <td>0</td>\n      <td>100.000</td>\n    </tr>\n    <tr>\n      <th>5</th>\n      <td>AMT_DRAWINGS_ATM_CURRENT</td>\n      <td>3090496</td>\n      <td>749816</td>\n      <td>80.475</td>\n    </tr>\n    <tr>\n      <th>6</th>\n      <td>AMT_DRAWINGS_CURRENT</td>\n      <td>3840312</td>\n      <td>0</td>\n      <td>100.000</td>\n    </tr>\n    <tr>\n      <th>7</th>\n      <td>AMT_DRAWINGS_OTHER_CURRENT</td>\n      <td>3090496</td>\n      <td>749816</td>\n      <td>80.475</td>\n    </tr>\n    <tr>\n      <th>8</th>\n      <td>AMT_DRAWINGS_POS_CURRENT</td>\n      <td>3090496</td>\n      <td>749816</td>\n      <td>80.475</td>\n    </tr>\n    <tr>\n      <th>9</th>\n      <td>AMT_INST_MIN_REGULARITY</td>\n      <td>3535076</td>\n      <td>305236</td>\n      <td>92.052</td>\n    </tr>\n    <tr>\n      <th>10</th>\n      <td>AMT_PAYMENT_CURRENT</td>\n      <td>3072324</td>\n      <td>767988</td>\n      <td>80.002</td>\n    </tr>\n    <tr>\n      <th>11</th>\n      <td>AMT_PAYMENT_TOTAL_CURRENT</td>\n      <td>3840312</td>\n      <td>0</td>\n      <td>100.000</td>\n    </tr>\n    <tr>\n      <th>12</th>\n      <td>AMT_RECEIVABLE_PRINCIPAL</td>\n      <td>3840312</td>\n      <td>0</td>\n      <td>100.000</td>\n    </tr>\n    <tr>\n      <th>13</th>\n      <td>AMT_RECIVABLE</td>\n      <td>3840312</td>\n      <td>0</td>\n      <td>100.000</td>\n    </tr>\n    <tr>\n      <th>14</th>\n      <td>AMT_TOTAL_RECEIVABLE</td>\n      <td>3840312</td>\n      <td>0</td>\n      <td>100.000</td>\n    </tr>\n    <tr>\n      <th>15</th>\n      <td>CNT_DRAWINGS_ATM_CURRENT</td>\n      <td>3090496</td>\n      <td>749816</td>\n      <td>80.475</td>\n    </tr>\n    <tr>\n      <th>16</th>\n      <td>CNT_DRAWINGS_CURRENT</td>\n      <td>3840312</td>\n      <td>0</td>\n      <td>100.000</td>\n    </tr>\n    <tr>\n      <th>17</th>\n      <td>CNT_DRAWINGS_OTHER_CURRENT</td>\n      <td>3090496</td>\n      <td>749816</td>\n      <td>80.475</td>\n    </tr>\n    <tr>\n      <th>18</th>\n      <td>CNT_DRAWINGS_POS_CURRENT</td>\n      <td>3090496</td>\n      <td>749816</td>\n      <td>80.475</td>\n    </tr>\n    <tr>\n      <th>19</th>\n      <td>CNT_INSTALMENT_MATURE_CUM</td>\n      <td>3535076</td>\n      <td>305236</td>\n      <td>92.052</td>\n    </tr>\n    <tr>\n      <th>20</th>\n      <td>NAME_CONTRACT_STATUS</td>\n      <td>3840312</td>\n      <td>0</td>\n      <td>100.000</td>\n    </tr>\n    <tr>\n      <th>21</th>\n      <td>SK_DPD</td>\n      <td>3840312</td>\n      <td>0</td>\n      <td>100.000</td>\n    </tr>\n    <tr>\n      <th>22</th>\n      <td>SK_DPD_DEF</td>\n      <td>3840312</td>\n      <td>0</td>\n      <td>100.000</td>\n    </tr>\n  </tbody>\n</table>\n</div>"
     },
     "execution_count": 134,
     "metadata": {},
     "output_type": "execute_result"
    }
   ],
   "source": [
    "M = recap_missing_values(cc_bal)\n",
    "M"
   ],
   "metadata": {
    "collapsed": false,
    "pycharm": {
     "name": "#%%\n"
    }
   }
  },
  {
   "cell_type": "code",
   "execution_count": 135,
   "outputs": [
    {
     "name": "stdout",
     "output_type": "stream",
     "text": [
      "Nombre de lignes doublons : 0\n"
     ]
    }
   ],
   "source": [
    "# Recherche de lignes doublons sur chaque variable\n",
    "\n",
    "d = cc_bal.duplicated(keep='first').sum()\n",
    "print(f'Nombre de lignes doublons : {d}')"
   ],
   "metadata": {
    "collapsed": false,
    "pycharm": {
     "name": "#%%\n"
    }
   }
  },
  {
   "cell_type": "code",
   "execution_count": 136,
   "outputs": [
    {
     "data": {
      "text/plain": "103558"
     },
     "execution_count": 136,
     "metadata": {},
     "output_type": "execute_result"
    }
   ],
   "source": [
    "cc_bal['SK_ID_CURR'].nunique()"
   ],
   "metadata": {
    "collapsed": false,
    "pycharm": {
     "name": "#%%\n"
    }
   }
  },
  {
   "cell_type": "code",
   "execution_count": 137,
   "outputs": [
    {
     "name": "stdout",
     "output_type": "stream",
     "text": [
      "Nombre de clé de df1 absentes de df2 : 252691\n"
     ]
    },
    {
     "data": {
      "text/plain": "   SK_ID_CURR  TARGET  NAME_CONTRACT_TYPE  CODE_GENDER  FLAG_OWN_CAR  \\\n0      100002     1.0                   0            0             0   \n1      100003     0.0                   0            1             0   \n2      100004     0.0                   1            0             1   \n4      100007     0.0                   0            0             0   \n5      100008     0.0                   0            0             0   \n\n   FLAG_OWN_REALTY  CNT_CHILDREN  AMT_INCOME_TOTAL  AMT_CREDIT  AMT_ANNUITY  \\\n0                0             0          202500.0    406597.5      24700.5   \n1                1             0          270000.0   1293502.5      35698.5   \n2                0             0           67500.0    135000.0       6750.0   \n4                0             0          121500.0    513000.0      21865.5   \n5                0             0           99000.0    490495.5      27517.5   \n\n   ...  ORGANIZATION_TYPE_Trade: type 4  ORGANIZATION_TYPE_Trade: type 5  \\\n0  ...                                0                                0   \n1  ...                                0                                0   \n2  ...                                0                                0   \n4  ...                                0                                0   \n5  ...                                0                                0   \n\n   ORGANIZATION_TYPE_Trade: type 6  ORGANIZATION_TYPE_Trade: type 7  \\\n0                                0                                0   \n1                                0                                0   \n2                                0                                0   \n4                                0                                0   \n5                                0                                0   \n\n   ORGANIZATION_TYPE_Transport: type 1  ORGANIZATION_TYPE_Transport: type 2  \\\n0                                    0                                    0   \n1                                    0                                    0   \n2                                    0                                    0   \n4                                    0                                    0   \n5                                    0                                    0   \n\n   ORGANIZATION_TYPE_Transport: type 3  ORGANIZATION_TYPE_Transport: type 4  \\\n0                                    0                                    0   \n1                                    0                                    0   \n2                                    0                                    0   \n4                                    0                                    0   \n5                                    0                                    0   \n\n   ORGANIZATION_TYPE_Unemployed  ORGANIZATION_TYPE_University  \n0                             0                             0  \n1                             0                             0  \n2                             0                             0  \n4                             0                             0  \n5                             0                             0  \n\n[5 rows x 196 columns]",
      "text/html": "<div>\n<style scoped>\n    .dataframe tbody tr th:only-of-type {\n        vertical-align: middle;\n    }\n\n    .dataframe tbody tr th {\n        vertical-align: top;\n    }\n\n    .dataframe thead th {\n        text-align: right;\n    }\n</style>\n<table border=\"1\" class=\"dataframe\">\n  <thead>\n    <tr style=\"text-align: right;\">\n      <th></th>\n      <th>SK_ID_CURR</th>\n      <th>TARGET</th>\n      <th>NAME_CONTRACT_TYPE</th>\n      <th>CODE_GENDER</th>\n      <th>FLAG_OWN_CAR</th>\n      <th>FLAG_OWN_REALTY</th>\n      <th>CNT_CHILDREN</th>\n      <th>AMT_INCOME_TOTAL</th>\n      <th>AMT_CREDIT</th>\n      <th>AMT_ANNUITY</th>\n      <th>...</th>\n      <th>ORGANIZATION_TYPE_Trade: type 4</th>\n      <th>ORGANIZATION_TYPE_Trade: type 5</th>\n      <th>ORGANIZATION_TYPE_Trade: type 6</th>\n      <th>ORGANIZATION_TYPE_Trade: type 7</th>\n      <th>ORGANIZATION_TYPE_Transport: type 1</th>\n      <th>ORGANIZATION_TYPE_Transport: type 2</th>\n      <th>ORGANIZATION_TYPE_Transport: type 3</th>\n      <th>ORGANIZATION_TYPE_Transport: type 4</th>\n      <th>ORGANIZATION_TYPE_Unemployed</th>\n      <th>ORGANIZATION_TYPE_University</th>\n    </tr>\n  </thead>\n  <tbody>\n    <tr>\n      <th>0</th>\n      <td>100002</td>\n      <td>1.0</td>\n      <td>0</td>\n      <td>0</td>\n      <td>0</td>\n      <td>0</td>\n      <td>0</td>\n      <td>202500.0</td>\n      <td>406597.5</td>\n      <td>24700.5</td>\n      <td>...</td>\n      <td>0</td>\n      <td>0</td>\n      <td>0</td>\n      <td>0</td>\n      <td>0</td>\n      <td>0</td>\n      <td>0</td>\n      <td>0</td>\n      <td>0</td>\n      <td>0</td>\n    </tr>\n    <tr>\n      <th>1</th>\n      <td>100003</td>\n      <td>0.0</td>\n      <td>0</td>\n      <td>1</td>\n      <td>0</td>\n      <td>1</td>\n      <td>0</td>\n      <td>270000.0</td>\n      <td>1293502.5</td>\n      <td>35698.5</td>\n      <td>...</td>\n      <td>0</td>\n      <td>0</td>\n      <td>0</td>\n      <td>0</td>\n      <td>0</td>\n      <td>0</td>\n      <td>0</td>\n      <td>0</td>\n      <td>0</td>\n      <td>0</td>\n    </tr>\n    <tr>\n      <th>2</th>\n      <td>100004</td>\n      <td>0.0</td>\n      <td>1</td>\n      <td>0</td>\n      <td>1</td>\n      <td>0</td>\n      <td>0</td>\n      <td>67500.0</td>\n      <td>135000.0</td>\n      <td>6750.0</td>\n      <td>...</td>\n      <td>0</td>\n      <td>0</td>\n      <td>0</td>\n      <td>0</td>\n      <td>0</td>\n      <td>0</td>\n      <td>0</td>\n      <td>0</td>\n      <td>0</td>\n      <td>0</td>\n    </tr>\n    <tr>\n      <th>4</th>\n      <td>100007</td>\n      <td>0.0</td>\n      <td>0</td>\n      <td>0</td>\n      <td>0</td>\n      <td>0</td>\n      <td>0</td>\n      <td>121500.0</td>\n      <td>513000.0</td>\n      <td>21865.5</td>\n      <td>...</td>\n      <td>0</td>\n      <td>0</td>\n      <td>0</td>\n      <td>0</td>\n      <td>0</td>\n      <td>0</td>\n      <td>0</td>\n      <td>0</td>\n      <td>0</td>\n      <td>0</td>\n    </tr>\n    <tr>\n      <th>5</th>\n      <td>100008</td>\n      <td>0.0</td>\n      <td>0</td>\n      <td>0</td>\n      <td>0</td>\n      <td>0</td>\n      <td>0</td>\n      <td>99000.0</td>\n      <td>490495.5</td>\n      <td>27517.5</td>\n      <td>...</td>\n      <td>0</td>\n      <td>0</td>\n      <td>0</td>\n      <td>0</td>\n      <td>0</td>\n      <td>0</td>\n      <td>0</td>\n      <td>0</td>\n      <td>0</td>\n      <td>0</td>\n    </tr>\n  </tbody>\n</table>\n<p>5 rows × 196 columns</p>\n</div>"
     },
     "execution_count": 137,
     "metadata": {},
     "output_type": "execute_result"
    }
   ],
   "source": [
    "comparaison_key(temp_app, cc_bal, 'SK_ID_CURR', 'SK_ID_CURR').head(5)"
   ],
   "metadata": {
    "collapsed": false,
    "pycharm": {
     "name": "#%%\n"
    }
   }
  },
  {
   "cell_type": "markdown",
   "source": [
    "252687 clients absents du dataframe credit_card_balance."
   ],
   "metadata": {
    "collapsed": false,
    "pycharm": {
     "name": "#%% md\n"
    }
   }
  },
  {
   "cell_type": "code",
   "execution_count": 138,
   "outputs": [
    {
     "name": "stdout",
     "output_type": "stream",
     "text": [
      "Le jeu de données contient 3840270 lignes et 23 colonnes.\n"
     ]
    }
   ],
   "source": [
    "cc_bal = cc_bal[cc_bal['SK_ID_CURR'].isin(temp_app['SK_ID_CURR'])]\n",
    "dim(cc_bal)"
   ],
   "metadata": {
    "collapsed": false,
    "pycharm": {
     "name": "#%%\n"
    }
   }
  },
  {
   "cell_type": "code",
   "execution_count": 139,
   "outputs": [
    {
     "data": {
      "text/plain": "104306"
     },
     "execution_count": 139,
     "metadata": {},
     "output_type": "execute_result"
    }
   ],
   "source": [
    "cc_bal['SK_ID_PREV'].nunique()"
   ],
   "metadata": {
    "collapsed": false,
    "pycharm": {
     "name": "#%%\n"
    }
   }
  },
  {
   "cell_type": "code",
   "execution_count": 140,
   "outputs": [
    {
     "data": {
      "text/plain": "['NAME_CONTRACT_STATUS']"
     },
     "execution_count": 140,
     "metadata": {},
     "output_type": "execute_result"
    }
   ],
   "source": [
    "list_var_categ = cc_bal.select_dtypes('object').columns.tolist()\n",
    "list_var_categ"
   ],
   "metadata": {
    "collapsed": false,
    "pycharm": {
     "name": "#%%\n"
    }
   }
  },
  {
   "cell_type": "code",
   "execution_count": 141,
   "outputs": [
    {
     "data": {
      "text/plain": "NAME_CONTRACT_STATUS    7\ndtype: int64"
     },
     "execution_count": 141,
     "metadata": {},
     "output_type": "execute_result"
    }
   ],
   "source": [
    "# Number of unique classes in each object column\n",
    "cc_bal[list_var_categ].nunique()"
   ],
   "metadata": {
    "collapsed": false,
    "pycharm": {
     "name": "#%%\n"
    }
   }
  },
  {
   "cell_type": "code",
   "execution_count": 142,
   "outputs": [
    {
     "data": {
      "text/plain": "['Active',\n 'Completed',\n 'Demand',\n 'Signed',\n 'Sent proposal',\n 'Refused',\n 'Approved']"
     },
     "execution_count": 142,
     "metadata": {},
     "output_type": "execute_result"
    }
   ],
   "source": [
    "cc_bal['NAME_CONTRACT_STATUS'].unique().tolist()"
   ],
   "metadata": {
    "collapsed": false,
    "pycharm": {
     "name": "#%%\n"
    }
   }
  },
  {
   "cell_type": "code",
   "execution_count": 143,
   "outputs": [
    {
     "name": "stdout",
     "output_type": "stream",
     "text": [
      "                        Column     Mode  Mode_pct\n",
      "0                   SK_ID_PREV  1000096  0.000025\n",
      "1                   SK_ID_CURR   186401  0.000050\n",
      "2               MONTHS_BALANCE       -4  0.026590\n",
      "10         AMT_PAYMENT_CURRENT      0.0  0.127105\n",
      "19   CNT_INSTALMENT_MATURE_CUM      0.0  0.155993\n",
      "4      AMT_CREDIT_LIMIT_ACTUAL        0  0.196294\n",
      "9      AMT_INST_MIN_REGULARITY      0.0  0.545633\n",
      "14        AMT_TOTAL_RECEIVABLE      0.0  0.550378\n",
      "13               AMT_RECIVABLE      0.0  0.550423\n",
      "3                  AMT_BALANCE      0.0  0.561517\n",
      "11   AMT_PAYMENT_TOTAL_CURRENT      0.0  0.565632\n",
      "12    AMT_RECEIVABLE_PRINCIPAL      0.0  0.597907\n",
      "6         AMT_DRAWINGS_CURRENT      0.0  0.839368\n",
      "16        CNT_DRAWINGS_CURRENT        0  0.841063\n",
      "15    CNT_DRAWINGS_ATM_CURRENT      0.0  0.862553\n",
      "5     AMT_DRAWINGS_ATM_CURRENT      0.0  0.862553\n",
      "18    CNT_DRAWINGS_POS_CURRENT      0.0  0.914285\n",
      "8     AMT_DRAWINGS_POS_CURRENT      0.0  0.914285\n",
      "21                      SK_DPD        0  0.960067\n",
      "20        NAME_CONTRACT_STATUS   Active  0.963056\n",
      "22                  SK_DPD_DEF        0  0.976736\n",
      "17  CNT_DRAWINGS_OTHER_CURRENT      0.0  0.995856\n",
      "7   AMT_DRAWINGS_OTHER_CURRENT      0.0  0.996009\n",
      "\n",
      "Liste des features à supprimer :\n",
      "['AMT_DRAWINGS_OTHER_CURRENT', 'CNT_DRAWINGS_OTHER_CURRENT']\n"
     ]
    }
   ],
   "source": [
    "col_to_del = compute_mode_percentage(cc_bal, cc_bal.columns, threshold=0.99)"
   ],
   "metadata": {
    "collapsed": false,
    "pycharm": {
     "name": "#%%\n"
    }
   }
  },
  {
   "cell_type": "code",
   "execution_count": 144,
   "outputs": [
    {
     "data": {
      "text/plain": "                                      0%          1.0%       5.0%      10.0%  \\\nSK_ID_PREV                  1.000018e+06  1.010017e+06  1082648.0  1176859.0   \nSK_ID_CURR                  1.000060e+05  1.035691e+05   118195.0   135912.0   \nMONTHS_BALANCE             -9.600000e+01 -9.300000e+01      -84.0      -76.0   \nAMT_BALANCE                -4.202502e+05  0.000000e+00        0.0        0.0   \nAMT_CREDIT_LIMIT_ACTUAL     0.000000e+00  0.000000e+00        0.0        0.0   \nAMT_DRAWINGS_ATM_CURRENT   -6.827310e+03  0.000000e+00        0.0        0.0   \nAMT_DRAWINGS_CURRENT       -6.211620e+03  0.000000e+00        0.0        0.0   \nAMT_DRAWINGS_OTHER_CURRENT  0.000000e+00  0.000000e+00        0.0        0.0   \nAMT_DRAWINGS_POS_CURRENT    0.000000e+00  0.000000e+00        0.0        0.0   \nAMT_INST_MIN_REGULARITY     0.000000e+00  0.000000e+00        0.0        0.0   \nAMT_PAYMENT_CURRENT         0.000000e+00  0.000000e+00        0.0        0.0   \nAMT_PAYMENT_TOTAL_CURRENT   0.000000e+00  0.000000e+00        0.0        0.0   \nAMT_RECEIVABLE_PRINCIPAL   -4.233058e+05  0.000000e+00        0.0        0.0   \nAMT_RECIVABLE              -4.202502e+05 -4.872600e+02        0.0        0.0   \nAMT_TOTAL_RECEIVABLE       -4.202502e+05 -4.866300e+02        0.0        0.0   \nCNT_DRAWINGS_ATM_CURRENT    0.000000e+00  0.000000e+00        0.0        0.0   \nCNT_DRAWINGS_CURRENT        0.000000e+00  0.000000e+00        0.0        0.0   \nCNT_DRAWINGS_OTHER_CURRENT  0.000000e+00  0.000000e+00        0.0        0.0   \nCNT_DRAWINGS_POS_CURRENT    0.000000e+00  0.000000e+00        0.0        0.0   \nCNT_INSTALMENT_MATURE_CUM   0.000000e+00  0.000000e+00        0.0        0.0   \nSK_DPD                      0.000000e+00  0.000000e+00        0.0        0.0   \nSK_DPD_DEF                  0.000000e+00  0.000000e+00        0.0        0.0   \n\n                                   25.0%         50.0%         75.0%  \\\nSK_ID_PREV                  1.434349e+06  1.897122e+06  2.369288e+06   \nSK_ID_CURR                  1.895170e+05  2.783910e+05  3.675830e+05   \nMONTHS_BALANCE             -5.500000e+01 -2.800000e+01 -1.100000e+01   \nAMT_BALANCE                 0.000000e+00  0.000000e+00  8.904793e+04   \nAMT_CREDIT_LIMIT_ACTUAL     4.500000e+04  1.125000e+05  1.800000e+05   \nAMT_DRAWINGS_ATM_CURRENT    0.000000e+00  0.000000e+00  0.000000e+00   \nAMT_DRAWINGS_CURRENT        0.000000e+00  0.000000e+00  0.000000e+00   \nAMT_DRAWINGS_OTHER_CURRENT  0.000000e+00  0.000000e+00  0.000000e+00   \nAMT_DRAWINGS_POS_CURRENT    0.000000e+00  0.000000e+00  0.000000e+00   \nAMT_INST_MIN_REGULARITY     0.000000e+00  0.000000e+00  6.634215e+03   \nAMT_PAYMENT_CURRENT         1.523700e+02  2.702700e+03  9.000000e+03   \nAMT_PAYMENT_TOTAL_CURRENT   0.000000e+00  0.000000e+00  6.750000e+03   \nAMT_RECEIVABLE_PRINCIPAL    0.000000e+00  0.000000e+00  8.536095e+04   \nAMT_RECIVABLE               0.000000e+00  0.000000e+00  8.890042e+04   \nAMT_TOTAL_RECEIVABLE        0.000000e+00  0.000000e+00  8.891521e+04   \nCNT_DRAWINGS_ATM_CURRENT    0.000000e+00  0.000000e+00  0.000000e+00   \nCNT_DRAWINGS_CURRENT        0.000000e+00  0.000000e+00  0.000000e+00   \nCNT_DRAWINGS_OTHER_CURRENT  0.000000e+00  0.000000e+00  0.000000e+00   \nCNT_DRAWINGS_POS_CURRENT    0.000000e+00  0.000000e+00  0.000000e+00   \nCNT_INSTALMENT_MATURE_CUM   4.000000e+00  1.500000e+01  3.200000e+01   \nSK_DPD                      0.000000e+00  0.000000e+00  0.000000e+00   \nSK_DPD_DEF                  0.000000e+00  0.000000e+00  0.000000e+00   \n\n                                   90.0%         95.0%         99.0%  \\\nSK_ID_PREV                  2.652010e+06  2.748797e+06  2.825323e+06   \nSK_ID_CURR                  4.214920e+05  4.381610e+05  4.527490e+05   \nMONTHS_BALANCE             -5.000000e+00 -3.000000e+00 -1.000000e+00   \nAMT_BALANCE                 1.800165e+05  2.571830e+05  4.662956e+05   \nAMT_CREDIT_LIMIT_ACTUAL     4.275000e+05  4.500000e+05  7.650000e+05   \nAMT_DRAWINGS_ATM_CURRENT    6.750000e+03  3.375000e+04  1.350000e+05   \nAMT_DRAWINGS_CURRENT        1.125000e+04  4.500000e+04  1.575000e+05   \nAMT_DRAWINGS_OTHER_CURRENT  0.000000e+00  0.000000e+00  0.000000e+00   \nAMT_DRAWINGS_POS_CURRENT    0.000000e+00  1.011600e+04  7.708061e+04   \nAMT_INST_MIN_REGULARITY     9.000000e+03  1.350000e+04  2.331281e+04   \nAMT_PAYMENT_CURRENT         1.890000e+04  3.150000e+04  1.506174e+05   \nAMT_PAYMENT_TOTAL_CURRENT   1.350000e+04  2.340000e+04  1.286164e+05   \nAMT_RECEIVABLE_PRINCIPAL    1.732304e+05  2.478047e+05  4.481223e+05   \nAMT_RECIVABLE               1.798161e+05  2.564472e+05  4.640245e+05   \nAMT_TOTAL_RECEIVABLE        1.798304e+05  2.564687e+05  4.640260e+05   \nCNT_DRAWINGS_ATM_CURRENT    1.000000e+00  2.000000e+00  5.000000e+00   \nCNT_DRAWINGS_CURRENT        1.000000e+00  4.000000e+00  1.400000e+01   \nCNT_DRAWINGS_OTHER_CURRENT  0.000000e+00  0.000000e+00  0.000000e+00   \nCNT_DRAWINGS_POS_CURRENT    0.000000e+00  2.000000e+00  1.400000e+01   \nCNT_INSTALMENT_MATURE_CUM   5.100000e+01  6.100000e+01  8.000000e+01   \nSK_DPD                      0.000000e+00  0.000000e+00  2.740000e+02   \nSK_DPD_DEF                  0.000000e+00  0.000000e+00  1.000000e+00   \n\n                                   100%  \nSK_ID_PREV                  2843496.000  \nSK_ID_CURR                   456250.000  \nMONTHS_BALANCE                   -1.000  \nAMT_BALANCE                 1505902.125  \nAMT_CREDIT_LIMIT_ACTUAL     1350000.000  \nAMT_DRAWINGS_ATM_CURRENT    2115000.000  \nAMT_DRAWINGS_CURRENT        2287098.250  \nAMT_DRAWINGS_OTHER_CURRENT  1529847.000  \nAMT_DRAWINGS_POS_CURRENT    2239274.250  \nAMT_INST_MIN_REGULARITY      202882.000  \nAMT_PAYMENT_CURRENT         4289207.500  \nAMT_PAYMENT_TOTAL_CURRENT   4278315.500  \nAMT_RECEIVABLE_PRINCIPAL    1472316.750  \nAMT_RECIVABLE               1493338.125  \nAMT_TOTAL_RECEIVABLE        1493338.125  \nCNT_DRAWINGS_ATM_CURRENT         51.000  \nCNT_DRAWINGS_CURRENT            165.000  \nCNT_DRAWINGS_OTHER_CURRENT       12.000  \nCNT_DRAWINGS_POS_CURRENT        165.000  \nCNT_INSTALMENT_MATURE_CUM       120.000  \nSK_DPD                         3260.000  \nSK_DPD_DEF                     3260.000  ",
      "text/html": "<div>\n<style scoped>\n    .dataframe tbody tr th:only-of-type {\n        vertical-align: middle;\n    }\n\n    .dataframe tbody tr th {\n        vertical-align: top;\n    }\n\n    .dataframe thead th {\n        text-align: right;\n    }\n</style>\n<table border=\"1\" class=\"dataframe\">\n  <thead>\n    <tr style=\"text-align: right;\">\n      <th></th>\n      <th>0%</th>\n      <th>1.0%</th>\n      <th>5.0%</th>\n      <th>10.0%</th>\n      <th>25.0%</th>\n      <th>50.0%</th>\n      <th>75.0%</th>\n      <th>90.0%</th>\n      <th>95.0%</th>\n      <th>99.0%</th>\n      <th>100%</th>\n    </tr>\n  </thead>\n  <tbody>\n    <tr>\n      <th>SK_ID_PREV</th>\n      <td>1.000018e+06</td>\n      <td>1.010017e+06</td>\n      <td>1082648.0</td>\n      <td>1176859.0</td>\n      <td>1.434349e+06</td>\n      <td>1.897122e+06</td>\n      <td>2.369288e+06</td>\n      <td>2.652010e+06</td>\n      <td>2.748797e+06</td>\n      <td>2.825323e+06</td>\n      <td>2843496.000</td>\n    </tr>\n    <tr>\n      <th>SK_ID_CURR</th>\n      <td>1.000060e+05</td>\n      <td>1.035691e+05</td>\n      <td>118195.0</td>\n      <td>135912.0</td>\n      <td>1.895170e+05</td>\n      <td>2.783910e+05</td>\n      <td>3.675830e+05</td>\n      <td>4.214920e+05</td>\n      <td>4.381610e+05</td>\n      <td>4.527490e+05</td>\n      <td>456250.000</td>\n    </tr>\n    <tr>\n      <th>MONTHS_BALANCE</th>\n      <td>-9.600000e+01</td>\n      <td>-9.300000e+01</td>\n      <td>-84.0</td>\n      <td>-76.0</td>\n      <td>-5.500000e+01</td>\n      <td>-2.800000e+01</td>\n      <td>-1.100000e+01</td>\n      <td>-5.000000e+00</td>\n      <td>-3.000000e+00</td>\n      <td>-1.000000e+00</td>\n      <td>-1.000</td>\n    </tr>\n    <tr>\n      <th>AMT_BALANCE</th>\n      <td>-4.202502e+05</td>\n      <td>0.000000e+00</td>\n      <td>0.0</td>\n      <td>0.0</td>\n      <td>0.000000e+00</td>\n      <td>0.000000e+00</td>\n      <td>8.904793e+04</td>\n      <td>1.800165e+05</td>\n      <td>2.571830e+05</td>\n      <td>4.662956e+05</td>\n      <td>1505902.125</td>\n    </tr>\n    <tr>\n      <th>AMT_CREDIT_LIMIT_ACTUAL</th>\n      <td>0.000000e+00</td>\n      <td>0.000000e+00</td>\n      <td>0.0</td>\n      <td>0.0</td>\n      <td>4.500000e+04</td>\n      <td>1.125000e+05</td>\n      <td>1.800000e+05</td>\n      <td>4.275000e+05</td>\n      <td>4.500000e+05</td>\n      <td>7.650000e+05</td>\n      <td>1350000.000</td>\n    </tr>\n    <tr>\n      <th>AMT_DRAWINGS_ATM_CURRENT</th>\n      <td>-6.827310e+03</td>\n      <td>0.000000e+00</td>\n      <td>0.0</td>\n      <td>0.0</td>\n      <td>0.000000e+00</td>\n      <td>0.000000e+00</td>\n      <td>0.000000e+00</td>\n      <td>6.750000e+03</td>\n      <td>3.375000e+04</td>\n      <td>1.350000e+05</td>\n      <td>2115000.000</td>\n    </tr>\n    <tr>\n      <th>AMT_DRAWINGS_CURRENT</th>\n      <td>-6.211620e+03</td>\n      <td>0.000000e+00</td>\n      <td>0.0</td>\n      <td>0.0</td>\n      <td>0.000000e+00</td>\n      <td>0.000000e+00</td>\n      <td>0.000000e+00</td>\n      <td>1.125000e+04</td>\n      <td>4.500000e+04</td>\n      <td>1.575000e+05</td>\n      <td>2287098.250</td>\n    </tr>\n    <tr>\n      <th>AMT_DRAWINGS_OTHER_CURRENT</th>\n      <td>0.000000e+00</td>\n      <td>0.000000e+00</td>\n      <td>0.0</td>\n      <td>0.0</td>\n      <td>0.000000e+00</td>\n      <td>0.000000e+00</td>\n      <td>0.000000e+00</td>\n      <td>0.000000e+00</td>\n      <td>0.000000e+00</td>\n      <td>0.000000e+00</td>\n      <td>1529847.000</td>\n    </tr>\n    <tr>\n      <th>AMT_DRAWINGS_POS_CURRENT</th>\n      <td>0.000000e+00</td>\n      <td>0.000000e+00</td>\n      <td>0.0</td>\n      <td>0.0</td>\n      <td>0.000000e+00</td>\n      <td>0.000000e+00</td>\n      <td>0.000000e+00</td>\n      <td>0.000000e+00</td>\n      <td>1.011600e+04</td>\n      <td>7.708061e+04</td>\n      <td>2239274.250</td>\n    </tr>\n    <tr>\n      <th>AMT_INST_MIN_REGULARITY</th>\n      <td>0.000000e+00</td>\n      <td>0.000000e+00</td>\n      <td>0.0</td>\n      <td>0.0</td>\n      <td>0.000000e+00</td>\n      <td>0.000000e+00</td>\n      <td>6.634215e+03</td>\n      <td>9.000000e+03</td>\n      <td>1.350000e+04</td>\n      <td>2.331281e+04</td>\n      <td>202882.000</td>\n    </tr>\n    <tr>\n      <th>AMT_PAYMENT_CURRENT</th>\n      <td>0.000000e+00</td>\n      <td>0.000000e+00</td>\n      <td>0.0</td>\n      <td>0.0</td>\n      <td>1.523700e+02</td>\n      <td>2.702700e+03</td>\n      <td>9.000000e+03</td>\n      <td>1.890000e+04</td>\n      <td>3.150000e+04</td>\n      <td>1.506174e+05</td>\n      <td>4289207.500</td>\n    </tr>\n    <tr>\n      <th>AMT_PAYMENT_TOTAL_CURRENT</th>\n      <td>0.000000e+00</td>\n      <td>0.000000e+00</td>\n      <td>0.0</td>\n      <td>0.0</td>\n      <td>0.000000e+00</td>\n      <td>0.000000e+00</td>\n      <td>6.750000e+03</td>\n      <td>1.350000e+04</td>\n      <td>2.340000e+04</td>\n      <td>1.286164e+05</td>\n      <td>4278315.500</td>\n    </tr>\n    <tr>\n      <th>AMT_RECEIVABLE_PRINCIPAL</th>\n      <td>-4.233058e+05</td>\n      <td>0.000000e+00</td>\n      <td>0.0</td>\n      <td>0.0</td>\n      <td>0.000000e+00</td>\n      <td>0.000000e+00</td>\n      <td>8.536095e+04</td>\n      <td>1.732304e+05</td>\n      <td>2.478047e+05</td>\n      <td>4.481223e+05</td>\n      <td>1472316.750</td>\n    </tr>\n    <tr>\n      <th>AMT_RECIVABLE</th>\n      <td>-4.202502e+05</td>\n      <td>-4.872600e+02</td>\n      <td>0.0</td>\n      <td>0.0</td>\n      <td>0.000000e+00</td>\n      <td>0.000000e+00</td>\n      <td>8.890042e+04</td>\n      <td>1.798161e+05</td>\n      <td>2.564472e+05</td>\n      <td>4.640245e+05</td>\n      <td>1493338.125</td>\n    </tr>\n    <tr>\n      <th>AMT_TOTAL_RECEIVABLE</th>\n      <td>-4.202502e+05</td>\n      <td>-4.866300e+02</td>\n      <td>0.0</td>\n      <td>0.0</td>\n      <td>0.000000e+00</td>\n      <td>0.000000e+00</td>\n      <td>8.891521e+04</td>\n      <td>1.798304e+05</td>\n      <td>2.564687e+05</td>\n      <td>4.640260e+05</td>\n      <td>1493338.125</td>\n    </tr>\n    <tr>\n      <th>CNT_DRAWINGS_ATM_CURRENT</th>\n      <td>0.000000e+00</td>\n      <td>0.000000e+00</td>\n      <td>0.0</td>\n      <td>0.0</td>\n      <td>0.000000e+00</td>\n      <td>0.000000e+00</td>\n      <td>0.000000e+00</td>\n      <td>1.000000e+00</td>\n      <td>2.000000e+00</td>\n      <td>5.000000e+00</td>\n      <td>51.000</td>\n    </tr>\n    <tr>\n      <th>CNT_DRAWINGS_CURRENT</th>\n      <td>0.000000e+00</td>\n      <td>0.000000e+00</td>\n      <td>0.0</td>\n      <td>0.0</td>\n      <td>0.000000e+00</td>\n      <td>0.000000e+00</td>\n      <td>0.000000e+00</td>\n      <td>1.000000e+00</td>\n      <td>4.000000e+00</td>\n      <td>1.400000e+01</td>\n      <td>165.000</td>\n    </tr>\n    <tr>\n      <th>CNT_DRAWINGS_OTHER_CURRENT</th>\n      <td>0.000000e+00</td>\n      <td>0.000000e+00</td>\n      <td>0.0</td>\n      <td>0.0</td>\n      <td>0.000000e+00</td>\n      <td>0.000000e+00</td>\n      <td>0.000000e+00</td>\n      <td>0.000000e+00</td>\n      <td>0.000000e+00</td>\n      <td>0.000000e+00</td>\n      <td>12.000</td>\n    </tr>\n    <tr>\n      <th>CNT_DRAWINGS_POS_CURRENT</th>\n      <td>0.000000e+00</td>\n      <td>0.000000e+00</td>\n      <td>0.0</td>\n      <td>0.0</td>\n      <td>0.000000e+00</td>\n      <td>0.000000e+00</td>\n      <td>0.000000e+00</td>\n      <td>0.000000e+00</td>\n      <td>2.000000e+00</td>\n      <td>1.400000e+01</td>\n      <td>165.000</td>\n    </tr>\n    <tr>\n      <th>CNT_INSTALMENT_MATURE_CUM</th>\n      <td>0.000000e+00</td>\n      <td>0.000000e+00</td>\n      <td>0.0</td>\n      <td>0.0</td>\n      <td>4.000000e+00</td>\n      <td>1.500000e+01</td>\n      <td>3.200000e+01</td>\n      <td>5.100000e+01</td>\n      <td>6.100000e+01</td>\n      <td>8.000000e+01</td>\n      <td>120.000</td>\n    </tr>\n    <tr>\n      <th>SK_DPD</th>\n      <td>0.000000e+00</td>\n      <td>0.000000e+00</td>\n      <td>0.0</td>\n      <td>0.0</td>\n      <td>0.000000e+00</td>\n      <td>0.000000e+00</td>\n      <td>0.000000e+00</td>\n      <td>0.000000e+00</td>\n      <td>0.000000e+00</td>\n      <td>2.740000e+02</td>\n      <td>3260.000</td>\n    </tr>\n    <tr>\n      <th>SK_DPD_DEF</th>\n      <td>0.000000e+00</td>\n      <td>0.000000e+00</td>\n      <td>0.0</td>\n      <td>0.0</td>\n      <td>0.000000e+00</td>\n      <td>0.000000e+00</td>\n      <td>0.000000e+00</td>\n      <td>0.000000e+00</td>\n      <td>0.000000e+00</td>\n      <td>1.000000e+00</td>\n      <td>3260.000</td>\n    </tr>\n  </tbody>\n</table>\n</div>"
     },
     "execution_count": 144,
     "metadata": {},
     "output_type": "execute_result"
    }
   ],
   "source": [
    "percentile_report(cc_bal, cc_bal.select_dtypes(include='number').columns)"
   ],
   "metadata": {
    "collapsed": false,
    "pycharm": {
     "name": "#%%\n"
    }
   }
  },
  {
   "cell_type": "markdown",
   "source": [
    "<br>\n",
    "\n",
    "---"
   ],
   "metadata": {
    "collapsed": false,
    "pycharm": {
     "name": "#%% md\n"
    }
   }
  },
  {
   "cell_type": "markdown",
   "source": [
    "### <span style='background :#e3e33d' > 8.2 Script </span>"
   ],
   "metadata": {
    "collapsed": false,
    "pycharm": {
     "name": "#%% md\n"
    }
   }
  },
  {
   "cell_type": "code",
   "execution_count": 145,
   "outputs": [],
   "source": [
    "def credit_card_balance():\n",
    "\n",
    "    cc_bal = pd.read_csv(\"./data/credit_card_balance.csv\")\n",
    "\n",
    "    # Remove the feature where mode % > 0.94\n",
    "    col_to_del = compute_mode_percentage(cc_bal, cc_bal.columns, threshold=0.99, pr=False)\n",
    "    cc_bal.drop(columns=col_to_del, inplace=True)\n",
    "\n",
    "    cc_bal, cat_cols = one_hot_encoder(cc_bal, nan_as_category=False)\n",
    "\n",
    "\n",
    "    # Feature engineering\n",
    "    # Amount used from limit\n",
    "    cc_bal['LIMIT_USE'] = cc_bal['AMT_BALANCE'] / (cc_bal['AMT_CREDIT_LIMIT_ACTUAL'] + 1)\n",
    "\n",
    "    # How much drawing of limit\n",
    "    cc_bal['DRAWING_LIMIT_RATIO'] = cc_bal['AMT_DRAWINGS_ATM_CURRENT'] / (cc_bal['AMT_CREDIT_LIMIT_ACTUAL'] + 1)\n",
    "\n",
    "    # Current payment / Min payment\n",
    "    cc_bal['PAYMENT_DIV_MIN'] = cc_bal['AMT_PAYMENT_CURRENT'] / (cc_bal['AMT_INST_MIN_REGULARITY'] + 1)\n",
    "\n",
    "    # Late payment <-- 'CARD_IS_DPD'\n",
    "    cc_bal['LATE_PAYMENT'] = cc_bal['SK_DPD'].apply(lambda x: 1 if x > 0 else 0)\n",
    "    cc_bal['CARD_IS_DPD_OVER_120'] = cc_bal['SK_DPD'].apply(lambda x: 1 if x >= 120 else 0)\n",
    "\n",
    "    cc_bal['DPD_DEF_RATIO'] = cc_bal['SK_DPD_DEF'] / (cc_bal['SK_DPD'] + 1)\n",
    "\n",
    "\n",
    "    # After the feature engineering, check for inf\n",
    "    check_for_inf(cc_bal)\n",
    "\n",
    "    # credit_card_balance numeric features\n",
    "    num_aggregations = {\n",
    "        'SK_ID_PREV': ['nunique'],\n",
    "        'SK_ID_CURR': ['size'],\n",
    "        'MONTHS_BALANCE': ['max', 'mean'],\n",
    "        'SK_DPD': ['max', 'mean'],\n",
    "        'SK_DPD_DEF': ['max', 'mean'],\n",
    "        'LIMIT_USE': ['max', 'mean', 'sum', 'var'],\n",
    "        'DRAWING_LIMIT_RATIO': ['max', 'mean', 'sum', 'var'],\n",
    "        'PAYMENT_DIV_MIN': ['max', 'mean', 'sum', 'var'],\n",
    "        'LATE_PAYMENT': ['mean'],\n",
    "        'CARD_IS_DPD_OVER_120': ['mean'],\n",
    "        'DPD_DEF_RATIO': ['max', 'mean']\n",
    "    }\n",
    "\n",
    "    # credit_card_balance other numeric features\n",
    "    col_amt_cnt = [col for col in cc_bal.columns if (col.startswith('AMT_') or col.startswith('CNT_'))]\n",
    "\n",
    "    for col in col_amt_cnt:\n",
    "        num_aggregations[col] = ['min', 'max', 'mean', 'sum', 'var']\n",
    "\n",
    "    # credit_card_balance categorical features\n",
    "    cat_aggregations = {}\n",
    "    for cat in cat_cols:\n",
    "        cat_aggregations[cat] = ['mean']\n",
    "\n",
    "    # Aggregation\n",
    "    cc_bal_agg = cc_bal.groupby('SK_ID_CURR').agg({**num_aggregations, **cat_aggregations})\n",
    "    cc_bal_agg = flatten_multi_index(cc_bal_agg, prefix='CC_')\n",
    "\n",
    "    del cc_bal\n",
    "    gc.collect()\n",
    "\n",
    "    check_full_nan(cc_bal_agg)\n",
    "\n",
    "    # Remove the feature where mode % = 1\n",
    "    col_to_del = compute_mode_percentage(cc_bal_agg, cc_bal_agg.columns, threshold=1, pr=False)\n",
    "    cc_bal_agg.drop(columns=col_to_del, inplace=True)\n",
    "\n",
    "    print('\"Credit Card Balance\" final shape:', cc_bal_agg.shape)\n",
    "\n",
    "    return cc_bal_agg"
   ],
   "metadata": {
    "collapsed": false,
    "pycharm": {
     "name": "#%%\n"
    }
   }
  },
  {
   "cell_type": "code",
   "execution_count": 146,
   "outputs": [
    {
     "name": "stdout",
     "output_type": "stream",
     "text": [
      "Liste des features à supprimer :\n",
      "['AMT_DRAWINGS_OTHER_CURRENT', 'CNT_DRAWINGS_OTHER_CURRENT']\n",
      "Nombre de valeurs infinies: 0\n",
      "Liste de features full of nan:\n",
      "[]\n",
      "Liste des features à supprimer :\n",
      "[]\n",
      "\"Credit Card Balance\" final shape: (103558, 107)\n"
     ]
    },
    {
     "data": {
      "text/plain": "   SK_ID_CURR  CC_SK_ID_PREV_NUNIQUE  CC_SK_ID_CURR_SIZE  \\\n0      100006                      1                   6   \n1      100011                      1                  74   \n2      100013                      1                  96   \n3      100021                      1                  17   \n4      100023                      1                   8   \n\n   CC_MONTHS_BALANCE_MAX  CC_MONTHS_BALANCE_MEAN  CC_SK_DPD_MAX  \\\n0                     -1                    -3.5              0   \n1                     -2                   -38.5              0   \n2                     -1                   -48.5              1   \n3                     -2                   -10.0              0   \n4                     -4                    -7.5              0   \n\n   CC_SK_DPD_MEAN  CC_SK_DPD_DEF_MAX  CC_SK_DPD_DEF_MEAN  CC_LIMIT_USE_MAX  \\\n0        0.000000                  0            0.000000          0.000000   \n1        0.000000                  0            0.000000          1.049994   \n2        0.010417                  1            0.010417          1.024884   \n3        0.000000                  0            0.000000          0.000000   \n4        0.000000                  0            0.000000          0.000000   \n\n   ...  CC_CNT_INSTALMENT_MATURE_CUM_MEAN  CC_CNT_INSTALMENT_MATURE_CUM_SUM  \\\n0  ...                           0.000000                               0.0   \n1  ...                          25.767123                            1881.0   \n2  ...                          18.719101                            1666.0   \n3  ...                           0.000000                               0.0   \n4  ...                           0.000000                               0.0   \n\n   CC_CNT_INSTALMENT_MATURE_CUM_VAR  CC_NAME_CONTRACT_STATUS_Active_MEAN  \\\n0                          0.000000                             1.000000   \n1                        105.847793                             1.000000   \n2                         34.249745                             1.000000   \n3                          0.000000                             0.411765   \n4                          0.000000                             1.000000   \n\n   CC_NAME_CONTRACT_STATUS_Approved_MEAN  \\\n0                                    0.0   \n1                                    0.0   \n2                                    0.0   \n3                                    0.0   \n4                                    0.0   \n\n   CC_NAME_CONTRACT_STATUS_Completed_MEAN  \\\n0                                0.000000   \n1                                0.000000   \n2                                0.000000   \n3                                0.588235   \n4                                0.000000   \n\n   CC_NAME_CONTRACT_STATUS_Demand_MEAN  CC_NAME_CONTRACT_STATUS_Refused_MEAN  \\\n0                                  0.0                                   0.0   \n1                                  0.0                                   0.0   \n2                                  0.0                                   0.0   \n3                                  0.0                                   0.0   \n4                                  0.0                                   0.0   \n\n   CC_NAME_CONTRACT_STATUS_Sent proposal_MEAN  \\\n0                                         0.0   \n1                                         0.0   \n2                                         0.0   \n3                                         0.0   \n4                                         0.0   \n\n   CC_NAME_CONTRACT_STATUS_Signed_MEAN  \n0                                  0.0  \n1                                  0.0  \n2                                  0.0  \n3                                  0.0  \n4                                  0.0  \n\n[5 rows x 107 columns]",
      "text/html": "<div>\n<style scoped>\n    .dataframe tbody tr th:only-of-type {\n        vertical-align: middle;\n    }\n\n    .dataframe tbody tr th {\n        vertical-align: top;\n    }\n\n    .dataframe thead th {\n        text-align: right;\n    }\n</style>\n<table border=\"1\" class=\"dataframe\">\n  <thead>\n    <tr style=\"text-align: right;\">\n      <th></th>\n      <th>SK_ID_CURR</th>\n      <th>CC_SK_ID_PREV_NUNIQUE</th>\n      <th>CC_SK_ID_CURR_SIZE</th>\n      <th>CC_MONTHS_BALANCE_MAX</th>\n      <th>CC_MONTHS_BALANCE_MEAN</th>\n      <th>CC_SK_DPD_MAX</th>\n      <th>CC_SK_DPD_MEAN</th>\n      <th>CC_SK_DPD_DEF_MAX</th>\n      <th>CC_SK_DPD_DEF_MEAN</th>\n      <th>CC_LIMIT_USE_MAX</th>\n      <th>...</th>\n      <th>CC_CNT_INSTALMENT_MATURE_CUM_MEAN</th>\n      <th>CC_CNT_INSTALMENT_MATURE_CUM_SUM</th>\n      <th>CC_CNT_INSTALMENT_MATURE_CUM_VAR</th>\n      <th>CC_NAME_CONTRACT_STATUS_Active_MEAN</th>\n      <th>CC_NAME_CONTRACT_STATUS_Approved_MEAN</th>\n      <th>CC_NAME_CONTRACT_STATUS_Completed_MEAN</th>\n      <th>CC_NAME_CONTRACT_STATUS_Demand_MEAN</th>\n      <th>CC_NAME_CONTRACT_STATUS_Refused_MEAN</th>\n      <th>CC_NAME_CONTRACT_STATUS_Sent proposal_MEAN</th>\n      <th>CC_NAME_CONTRACT_STATUS_Signed_MEAN</th>\n    </tr>\n  </thead>\n  <tbody>\n    <tr>\n      <th>0</th>\n      <td>100006</td>\n      <td>1</td>\n      <td>6</td>\n      <td>-1</td>\n      <td>-3.5</td>\n      <td>0</td>\n      <td>0.000000</td>\n      <td>0</td>\n      <td>0.000000</td>\n      <td>0.000000</td>\n      <td>...</td>\n      <td>0.000000</td>\n      <td>0.0</td>\n      <td>0.000000</td>\n      <td>1.000000</td>\n      <td>0.0</td>\n      <td>0.000000</td>\n      <td>0.0</td>\n      <td>0.0</td>\n      <td>0.0</td>\n      <td>0.0</td>\n    </tr>\n    <tr>\n      <th>1</th>\n      <td>100011</td>\n      <td>1</td>\n      <td>74</td>\n      <td>-2</td>\n      <td>-38.5</td>\n      <td>0</td>\n      <td>0.000000</td>\n      <td>0</td>\n      <td>0.000000</td>\n      <td>1.049994</td>\n      <td>...</td>\n      <td>25.767123</td>\n      <td>1881.0</td>\n      <td>105.847793</td>\n      <td>1.000000</td>\n      <td>0.0</td>\n      <td>0.000000</td>\n      <td>0.0</td>\n      <td>0.0</td>\n      <td>0.0</td>\n      <td>0.0</td>\n    </tr>\n    <tr>\n      <th>2</th>\n      <td>100013</td>\n      <td>1</td>\n      <td>96</td>\n      <td>-1</td>\n      <td>-48.5</td>\n      <td>1</td>\n      <td>0.010417</td>\n      <td>1</td>\n      <td>0.010417</td>\n      <td>1.024884</td>\n      <td>...</td>\n      <td>18.719101</td>\n      <td>1666.0</td>\n      <td>34.249745</td>\n      <td>1.000000</td>\n      <td>0.0</td>\n      <td>0.000000</td>\n      <td>0.0</td>\n      <td>0.0</td>\n      <td>0.0</td>\n      <td>0.0</td>\n    </tr>\n    <tr>\n      <th>3</th>\n      <td>100021</td>\n      <td>1</td>\n      <td>17</td>\n      <td>-2</td>\n      <td>-10.0</td>\n      <td>0</td>\n      <td>0.000000</td>\n      <td>0</td>\n      <td>0.000000</td>\n      <td>0.000000</td>\n      <td>...</td>\n      <td>0.000000</td>\n      <td>0.0</td>\n      <td>0.000000</td>\n      <td>0.411765</td>\n      <td>0.0</td>\n      <td>0.588235</td>\n      <td>0.0</td>\n      <td>0.0</td>\n      <td>0.0</td>\n      <td>0.0</td>\n    </tr>\n    <tr>\n      <th>4</th>\n      <td>100023</td>\n      <td>1</td>\n      <td>8</td>\n      <td>-4</td>\n      <td>-7.5</td>\n      <td>0</td>\n      <td>0.000000</td>\n      <td>0</td>\n      <td>0.000000</td>\n      <td>0.000000</td>\n      <td>...</td>\n      <td>0.000000</td>\n      <td>0.0</td>\n      <td>0.000000</td>\n      <td>1.000000</td>\n      <td>0.0</td>\n      <td>0.000000</td>\n      <td>0.0</td>\n      <td>0.0</td>\n      <td>0.0</td>\n      <td>0.0</td>\n    </tr>\n  </tbody>\n</table>\n<p>5 rows × 107 columns</p>\n</div>"
     },
     "execution_count": 146,
     "metadata": {},
     "output_type": "execute_result"
    }
   ],
   "source": [
    "temp_credit_card = credit_card_balance()\n",
    "temp_credit_card.head()"
   ],
   "metadata": {
    "collapsed": false,
    "pycharm": {
     "name": "#%%\n"
    }
   }
  },
  {
   "cell_type": "code",
   "execution_count": 147,
   "outputs": [
    {
     "name": "stdout",
     "output_type": "stream",
     "text": [
      "Le jeu de données contient 103558 lignes et 107 colonnes.\n"
     ]
    }
   ],
   "source": [
    "dim(temp_credit_card)"
   ],
   "metadata": {
    "collapsed": false,
    "pycharm": {
     "name": "#%%\n"
    }
   }
  },
  {
   "cell_type": "markdown",
   "source": [
    "<br>\n",
    "\n",
    "---"
   ],
   "metadata": {
    "collapsed": false,
    "pycharm": {
     "name": "#%% md\n"
    }
   }
  },
  {
   "cell_type": "markdown",
   "source": [
    "##  <span style='background :#96e773' > 9. Fusion des jeux de données </span>"
   ],
   "metadata": {
    "collapsed": false,
    "pycharm": {
     "name": "#%% md\n"
    }
   }
  },
  {
   "cell_type": "code",
   "execution_count": 148,
   "outputs": [
    {
     "name": "stdout",
     "output_type": "stream",
     "text": [
      "--=> df: (356248, 196)\n",
      "--=> df after merge with bureau: (356248, 349)\n",
      "--=> df after merge with previous application: (356248, 621)\n",
      "--=> df after merge with pos cash : (356248, 645)\n",
      "--=> df after merge with installments: (356248, 680)\n",
      "--=> df after merge with credit card: (356248, 786)\n"
     ]
    }
   ],
   "source": [
    "print('--=> df:', temp_app.shape)\n",
    "\n",
    "df_final = temp_app.merge(temp_bureau, how='left', on='SK_ID_CURR')\n",
    "print('--=> df after merge with bureau:', df_final.shape)\n",
    "\n",
    "df_final = df_final.merge(temp_previous, how='left', on='SK_ID_CURR')\n",
    "print('--=> df after merge with previous application:', df_final.shape)\n",
    "\n",
    "df_final = df_final.merge(temp_pos, how='left', on='SK_ID_CURR')\n",
    "print('--=> df after merge with pos cash :', df_final.shape)\n",
    "\n",
    "df_final = df_final.merge(temp_ins, how='left', on='SK_ID_CURR')\n",
    "print('--=> df after merge with installments:', df_final.shape)\n",
    "\n",
    "df_final = df_final.merge(temp_credit_card, how='left', on='SK_ID_CURR')\n",
    "print('--=> df after merge with credit card:', df_final.shape)"
   ],
   "metadata": {
    "collapsed": false,
    "pycharm": {
     "name": "#%%\n"
    }
   }
  },
  {
   "cell_type": "code",
   "execution_count": 149,
   "outputs": [
    {
     "data": {
      "text/plain": "   SK_ID_CURR  TARGET  NAME_CONTRACT_TYPE  CODE_GENDER  FLAG_OWN_CAR  \\\n0      100002     1.0                   0            0             0   \n1      100003     0.0                   0            1             0   \n2      100004     0.0                   1            0             1   \n3      100006     0.0                   0            1             0   \n4      100007     0.0                   0            0             0   \n\n   FLAG_OWN_REALTY  CNT_CHILDREN  AMT_INCOME_TOTAL  AMT_CREDIT  AMT_ANNUITY  \\\n0                0             0          202500.0    406597.5      24700.5   \n1                1             0          270000.0   1293502.5      35698.5   \n2                0             0           67500.0    135000.0       6750.0   \n3                0             0          135000.0    312682.5      29686.5   \n4                0             0          121500.0    513000.0      21865.5   \n\n   ...  CC_CNT_INSTALMENT_MATURE_CUM_MEAN  CC_CNT_INSTALMENT_MATURE_CUM_SUM  \\\n0  ...                                NaN                               NaN   \n1  ...                                NaN                               NaN   \n2  ...                                NaN                               NaN   \n3  ...                                0.0                               0.0   \n4  ...                                NaN                               NaN   \n\n   CC_CNT_INSTALMENT_MATURE_CUM_VAR  CC_NAME_CONTRACT_STATUS_Active_MEAN  \\\n0                               NaN                                  NaN   \n1                               NaN                                  NaN   \n2                               NaN                                  NaN   \n3                               0.0                                  1.0   \n4                               NaN                                  NaN   \n\n   CC_NAME_CONTRACT_STATUS_Approved_MEAN  \\\n0                                    NaN   \n1                                    NaN   \n2                                    NaN   \n3                                    0.0   \n4                                    NaN   \n\n   CC_NAME_CONTRACT_STATUS_Completed_MEAN  \\\n0                                     NaN   \n1                                     NaN   \n2                                     NaN   \n3                                     0.0   \n4                                     NaN   \n\n   CC_NAME_CONTRACT_STATUS_Demand_MEAN  CC_NAME_CONTRACT_STATUS_Refused_MEAN  \\\n0                                  NaN                                   NaN   \n1                                  NaN                                   NaN   \n2                                  NaN                                   NaN   \n3                                  0.0                                   0.0   \n4                                  NaN                                   NaN   \n\n   CC_NAME_CONTRACT_STATUS_Sent proposal_MEAN  \\\n0                                         NaN   \n1                                         NaN   \n2                                         NaN   \n3                                         0.0   \n4                                         NaN   \n\n   CC_NAME_CONTRACT_STATUS_Signed_MEAN  \n0                                  NaN  \n1                                  NaN  \n2                                  NaN  \n3                                  0.0  \n4                                  NaN  \n\n[5 rows x 786 columns]",
      "text/html": "<div>\n<style scoped>\n    .dataframe tbody tr th:only-of-type {\n        vertical-align: middle;\n    }\n\n    .dataframe tbody tr th {\n        vertical-align: top;\n    }\n\n    .dataframe thead th {\n        text-align: right;\n    }\n</style>\n<table border=\"1\" class=\"dataframe\">\n  <thead>\n    <tr style=\"text-align: right;\">\n      <th></th>\n      <th>SK_ID_CURR</th>\n      <th>TARGET</th>\n      <th>NAME_CONTRACT_TYPE</th>\n      <th>CODE_GENDER</th>\n      <th>FLAG_OWN_CAR</th>\n      <th>FLAG_OWN_REALTY</th>\n      <th>CNT_CHILDREN</th>\n      <th>AMT_INCOME_TOTAL</th>\n      <th>AMT_CREDIT</th>\n      <th>AMT_ANNUITY</th>\n      <th>...</th>\n      <th>CC_CNT_INSTALMENT_MATURE_CUM_MEAN</th>\n      <th>CC_CNT_INSTALMENT_MATURE_CUM_SUM</th>\n      <th>CC_CNT_INSTALMENT_MATURE_CUM_VAR</th>\n      <th>CC_NAME_CONTRACT_STATUS_Active_MEAN</th>\n      <th>CC_NAME_CONTRACT_STATUS_Approved_MEAN</th>\n      <th>CC_NAME_CONTRACT_STATUS_Completed_MEAN</th>\n      <th>CC_NAME_CONTRACT_STATUS_Demand_MEAN</th>\n      <th>CC_NAME_CONTRACT_STATUS_Refused_MEAN</th>\n      <th>CC_NAME_CONTRACT_STATUS_Sent proposal_MEAN</th>\n      <th>CC_NAME_CONTRACT_STATUS_Signed_MEAN</th>\n    </tr>\n  </thead>\n  <tbody>\n    <tr>\n      <th>0</th>\n      <td>100002</td>\n      <td>1.0</td>\n      <td>0</td>\n      <td>0</td>\n      <td>0</td>\n      <td>0</td>\n      <td>0</td>\n      <td>202500.0</td>\n      <td>406597.5</td>\n      <td>24700.5</td>\n      <td>...</td>\n      <td>NaN</td>\n      <td>NaN</td>\n      <td>NaN</td>\n      <td>NaN</td>\n      <td>NaN</td>\n      <td>NaN</td>\n      <td>NaN</td>\n      <td>NaN</td>\n      <td>NaN</td>\n      <td>NaN</td>\n    </tr>\n    <tr>\n      <th>1</th>\n      <td>100003</td>\n      <td>0.0</td>\n      <td>0</td>\n      <td>1</td>\n      <td>0</td>\n      <td>1</td>\n      <td>0</td>\n      <td>270000.0</td>\n      <td>1293502.5</td>\n      <td>35698.5</td>\n      <td>...</td>\n      <td>NaN</td>\n      <td>NaN</td>\n      <td>NaN</td>\n      <td>NaN</td>\n      <td>NaN</td>\n      <td>NaN</td>\n      <td>NaN</td>\n      <td>NaN</td>\n      <td>NaN</td>\n      <td>NaN</td>\n    </tr>\n    <tr>\n      <th>2</th>\n      <td>100004</td>\n      <td>0.0</td>\n      <td>1</td>\n      <td>0</td>\n      <td>1</td>\n      <td>0</td>\n      <td>0</td>\n      <td>67500.0</td>\n      <td>135000.0</td>\n      <td>6750.0</td>\n      <td>...</td>\n      <td>NaN</td>\n      <td>NaN</td>\n      <td>NaN</td>\n      <td>NaN</td>\n      <td>NaN</td>\n      <td>NaN</td>\n      <td>NaN</td>\n      <td>NaN</td>\n      <td>NaN</td>\n      <td>NaN</td>\n    </tr>\n    <tr>\n      <th>3</th>\n      <td>100006</td>\n      <td>0.0</td>\n      <td>0</td>\n      <td>1</td>\n      <td>0</td>\n      <td>0</td>\n      <td>0</td>\n      <td>135000.0</td>\n      <td>312682.5</td>\n      <td>29686.5</td>\n      <td>...</td>\n      <td>0.0</td>\n      <td>0.0</td>\n      <td>0.0</td>\n      <td>1.0</td>\n      <td>0.0</td>\n      <td>0.0</td>\n      <td>0.0</td>\n      <td>0.0</td>\n      <td>0.0</td>\n      <td>0.0</td>\n    </tr>\n    <tr>\n      <th>4</th>\n      <td>100007</td>\n      <td>0.0</td>\n      <td>0</td>\n      <td>0</td>\n      <td>0</td>\n      <td>0</td>\n      <td>0</td>\n      <td>121500.0</td>\n      <td>513000.0</td>\n      <td>21865.5</td>\n      <td>...</td>\n      <td>NaN</td>\n      <td>NaN</td>\n      <td>NaN</td>\n      <td>NaN</td>\n      <td>NaN</td>\n      <td>NaN</td>\n      <td>NaN</td>\n      <td>NaN</td>\n      <td>NaN</td>\n      <td>NaN</td>\n    </tr>\n  </tbody>\n</table>\n<p>5 rows × 786 columns</p>\n</div>"
     },
     "execution_count": 149,
     "metadata": {},
     "output_type": "execute_result"
    }
   ],
   "source": [
    "df_final.head()"
   ],
   "metadata": {
    "collapsed": false,
    "pycharm": {
     "name": "#%%\n"
    }
   }
  },
  {
   "cell_type": "code",
   "execution_count": 150,
   "outputs": [
    {
     "name": "stdout",
     "output_type": "stream",
     "text": [
      "Le jeu de données contient 68300493 valeurs manquantes (24.392%).\n"
     ]
    }
   ],
   "source": [
    "missing_values(df_final)"
   ],
   "metadata": {
    "collapsed": false,
    "pycharm": {
     "name": "#%%\n"
    }
   }
  },
  {
   "cell_type": "markdown",
   "source": [
    "On liste les variables contenant 'SK_ID' afin de pouvoir remplacer les nan par 0. En effet, les clients présents dans application_train ou application_test et absents des jeux de données additionnels auront des valeurs manquantes pour ces variables."
   ],
   "metadata": {
    "collapsed": false,
    "pycharm": {
     "name": "#%% md\n"
    }
   }
  },
  {
   "cell_type": "code",
   "execution_count": 151,
   "outputs": [
    {
     "data": {
      "text/plain": "['BURO_SK_ID_BUREAU_SIZE',\n 'ACTIVE_SK_ID_BUREAU_SIZE',\n 'CLOSED_SK_ID_BUREAU_SIZE',\n 'PREV_SK_ID_PREV_NUNIQUE',\n 'APPROVED_SK_ID_PREV_NUNIQUE',\n 'REFUSED_SK_ID_PREV_NUNIQUE',\n 'POS_SK_ID_PREV_NUNIQUE',\n 'POS_SK_ID_CURR_SIZE',\n 'INSTAL_SK_ID_PREV_NUNIQUE',\n 'INSTAL_SK_ID_CURR_SIZE',\n 'CC_SK_ID_PREV_NUNIQUE',\n 'CC_SK_ID_CURR_SIZE']"
     },
     "execution_count": 151,
     "metadata": {},
     "output_type": "execute_result"
    }
   ],
   "source": [
    "col_SK_ID = [col for col in df_final.columns if 'SK_ID' in col]\n",
    "col_SK_ID.remove('SK_ID_CURR')\n",
    "col_SK_ID"
   ],
   "metadata": {
    "collapsed": false,
    "pycharm": {
     "name": "#%%\n"
    }
   }
  },
  {
   "cell_type": "code",
   "execution_count": 152,
   "outputs": [],
   "source": [
    "df_final.loc[:, col_SK_ID] = df_final[col_SK_ID].replace(np.nan, 0)"
   ],
   "metadata": {
    "collapsed": false,
    "pycharm": {
     "name": "#%%\n"
    }
   }
  },
  {
   "cell_type": "markdown",
   "source": [
    "On peut maintenant compter le nombre de clients sans aucune information additionnelle."
   ],
   "metadata": {
    "collapsed": false,
    "pycharm": {
     "name": "#%% md\n"
    }
   }
  },
  {
   "cell_type": "code",
   "execution_count": 153,
   "outputs": [
    {
     "data": {
      "text/plain": "        SK_ID_CURR  TARGET  NAME_CONTRACT_TYPE  CODE_GENDER  FLAG_OWN_CAR  \\\n20          100024     0.0                   1            0             1   \n120         100140     0.0                   1            1             0   \n203         100236     0.0                   0            0             1   \n242         100282     1.0                   1            1             1   \n403         100467     0.0                   0            1             0   \n...            ...     ...                 ...          ...           ...   \n355395      449942     NaN                   1            1             0   \n355424      450148     NaN                   0            1             1   \n355428      450180     NaN                   0            1             0   \n355603      451383     NaN                   0            1             0   \n356044      454578     NaN                   0            1             0   \n\n        FLAG_OWN_REALTY  CNT_CHILDREN  AMT_INCOME_TOTAL  AMT_CREDIT  \\\n20                    0             0          135000.0    427500.0   \n120                   1             0          157500.0    675000.0   \n203                   0             0          112500.0    312768.0   \n242                   0             0           73341.0    135000.0   \n403                   1             0           81000.0    225000.0   \n...                 ...           ...               ...         ...   \n355395                0             0          315000.0   1350000.0   \n355424                0             0          121500.0    135000.0   \n355428                1             0          135000.0    900000.0   \n355603                0             0           90000.0    278460.0   \n356044                1             0          148500.0    272520.0   \n\n        AMT_ANNUITY  ...  CC_CNT_INSTALMENT_MATURE_CUM_MEAN  \\\n20          21375.0  ...                                NaN   \n120         33750.0  ...                                NaN   \n203         20353.5  ...                                NaN   \n242          6750.0  ...                                NaN   \n403         13284.0  ...                                NaN   \n...             ...  ...                                ...   \n355395      67500.0  ...                                NaN   \n355424       5791.5  ...                                NaN   \n355428      48825.0  ...                                NaN   \n355603      20947.5  ...                                NaN   \n356044      21658.5  ...                                NaN   \n\n        CC_CNT_INSTALMENT_MATURE_CUM_SUM  CC_CNT_INSTALMENT_MATURE_CUM_VAR  \\\n20                                   NaN                               NaN   \n120                                  NaN                               NaN   \n203                                  NaN                               NaN   \n242                                  NaN                               NaN   \n403                                  NaN                               NaN   \n...                                  ...                               ...   \n355395                               NaN                               NaN   \n355424                               NaN                               NaN   \n355428                               NaN                               NaN   \n355603                               NaN                               NaN   \n356044                               NaN                               NaN   \n\n        CC_NAME_CONTRACT_STATUS_Active_MEAN  \\\n20                                      NaN   \n120                                     NaN   \n203                                     NaN   \n242                                     NaN   \n403                                     NaN   \n...                                     ...   \n355395                                  NaN   \n355424                                  NaN   \n355428                                  NaN   \n355603                                  NaN   \n356044                                  NaN   \n\n        CC_NAME_CONTRACT_STATUS_Approved_MEAN  \\\n20                                        NaN   \n120                                       NaN   \n203                                       NaN   \n242                                       NaN   \n403                                       NaN   \n...                                       ...   \n355395                                    NaN   \n355424                                    NaN   \n355428                                    NaN   \n355603                                    NaN   \n356044                                    NaN   \n\n        CC_NAME_CONTRACT_STATUS_Completed_MEAN  \\\n20                                         NaN   \n120                                        NaN   \n203                                        NaN   \n242                                        NaN   \n403                                        NaN   \n...                                        ...   \n355395                                     NaN   \n355424                                     NaN   \n355428                                     NaN   \n355603                                     NaN   \n356044                                     NaN   \n\n        CC_NAME_CONTRACT_STATUS_Demand_MEAN  \\\n20                                      NaN   \n120                                     NaN   \n203                                     NaN   \n242                                     NaN   \n403                                     NaN   \n...                                     ...   \n355395                                  NaN   \n355424                                  NaN   \n355428                                  NaN   \n355603                                  NaN   \n356044                                  NaN   \n\n        CC_NAME_CONTRACT_STATUS_Refused_MEAN  \\\n20                                       NaN   \n120                                      NaN   \n203                                      NaN   \n242                                      NaN   \n403                                      NaN   \n...                                      ...   \n355395                                   NaN   \n355424                                   NaN   \n355428                                   NaN   \n355603                                   NaN   \n356044                                   NaN   \n\n        CC_NAME_CONTRACT_STATUS_Sent proposal_MEAN  \\\n20                                             NaN   \n120                                            NaN   \n203                                            NaN   \n242                                            NaN   \n403                                            NaN   \n...                                            ...   \n355395                                         NaN   \n355424                                         NaN   \n355428                                         NaN   \n355603                                         NaN   \n356044                                         NaN   \n\n        CC_NAME_CONTRACT_STATUS_Signed_MEAN  \n20                                      NaN  \n120                                     NaN  \n203                                     NaN  \n242                                     NaN  \n403                                     NaN  \n...                                     ...  \n355395                                  NaN  \n355424                                  NaN  \n355428                                  NaN  \n355603                                  NaN  \n356044                                  NaN  \n\n[2357 rows x 786 columns]",
      "text/html": "<div>\n<style scoped>\n    .dataframe tbody tr th:only-of-type {\n        vertical-align: middle;\n    }\n\n    .dataframe tbody tr th {\n        vertical-align: top;\n    }\n\n    .dataframe thead th {\n        text-align: right;\n    }\n</style>\n<table border=\"1\" class=\"dataframe\">\n  <thead>\n    <tr style=\"text-align: right;\">\n      <th></th>\n      <th>SK_ID_CURR</th>\n      <th>TARGET</th>\n      <th>NAME_CONTRACT_TYPE</th>\n      <th>CODE_GENDER</th>\n      <th>FLAG_OWN_CAR</th>\n      <th>FLAG_OWN_REALTY</th>\n      <th>CNT_CHILDREN</th>\n      <th>AMT_INCOME_TOTAL</th>\n      <th>AMT_CREDIT</th>\n      <th>AMT_ANNUITY</th>\n      <th>...</th>\n      <th>CC_CNT_INSTALMENT_MATURE_CUM_MEAN</th>\n      <th>CC_CNT_INSTALMENT_MATURE_CUM_SUM</th>\n      <th>CC_CNT_INSTALMENT_MATURE_CUM_VAR</th>\n      <th>CC_NAME_CONTRACT_STATUS_Active_MEAN</th>\n      <th>CC_NAME_CONTRACT_STATUS_Approved_MEAN</th>\n      <th>CC_NAME_CONTRACT_STATUS_Completed_MEAN</th>\n      <th>CC_NAME_CONTRACT_STATUS_Demand_MEAN</th>\n      <th>CC_NAME_CONTRACT_STATUS_Refused_MEAN</th>\n      <th>CC_NAME_CONTRACT_STATUS_Sent proposal_MEAN</th>\n      <th>CC_NAME_CONTRACT_STATUS_Signed_MEAN</th>\n    </tr>\n  </thead>\n  <tbody>\n    <tr>\n      <th>20</th>\n      <td>100024</td>\n      <td>0.0</td>\n      <td>1</td>\n      <td>0</td>\n      <td>1</td>\n      <td>0</td>\n      <td>0</td>\n      <td>135000.0</td>\n      <td>427500.0</td>\n      <td>21375.0</td>\n      <td>...</td>\n      <td>NaN</td>\n      <td>NaN</td>\n      <td>NaN</td>\n      <td>NaN</td>\n      <td>NaN</td>\n      <td>NaN</td>\n      <td>NaN</td>\n      <td>NaN</td>\n      <td>NaN</td>\n      <td>NaN</td>\n    </tr>\n    <tr>\n      <th>120</th>\n      <td>100140</td>\n      <td>0.0</td>\n      <td>1</td>\n      <td>1</td>\n      <td>0</td>\n      <td>1</td>\n      <td>0</td>\n      <td>157500.0</td>\n      <td>675000.0</td>\n      <td>33750.0</td>\n      <td>...</td>\n      <td>NaN</td>\n      <td>NaN</td>\n      <td>NaN</td>\n      <td>NaN</td>\n      <td>NaN</td>\n      <td>NaN</td>\n      <td>NaN</td>\n      <td>NaN</td>\n      <td>NaN</td>\n      <td>NaN</td>\n    </tr>\n    <tr>\n      <th>203</th>\n      <td>100236</td>\n      <td>0.0</td>\n      <td>0</td>\n      <td>0</td>\n      <td>1</td>\n      <td>0</td>\n      <td>0</td>\n      <td>112500.0</td>\n      <td>312768.0</td>\n      <td>20353.5</td>\n      <td>...</td>\n      <td>NaN</td>\n      <td>NaN</td>\n      <td>NaN</td>\n      <td>NaN</td>\n      <td>NaN</td>\n      <td>NaN</td>\n      <td>NaN</td>\n      <td>NaN</td>\n      <td>NaN</td>\n      <td>NaN</td>\n    </tr>\n    <tr>\n      <th>242</th>\n      <td>100282</td>\n      <td>1.0</td>\n      <td>1</td>\n      <td>1</td>\n      <td>1</td>\n      <td>0</td>\n      <td>0</td>\n      <td>73341.0</td>\n      <td>135000.0</td>\n      <td>6750.0</td>\n      <td>...</td>\n      <td>NaN</td>\n      <td>NaN</td>\n      <td>NaN</td>\n      <td>NaN</td>\n      <td>NaN</td>\n      <td>NaN</td>\n      <td>NaN</td>\n      <td>NaN</td>\n      <td>NaN</td>\n      <td>NaN</td>\n    </tr>\n    <tr>\n      <th>403</th>\n      <td>100467</td>\n      <td>0.0</td>\n      <td>0</td>\n      <td>1</td>\n      <td>0</td>\n      <td>1</td>\n      <td>0</td>\n      <td>81000.0</td>\n      <td>225000.0</td>\n      <td>13284.0</td>\n      <td>...</td>\n      <td>NaN</td>\n      <td>NaN</td>\n      <td>NaN</td>\n      <td>NaN</td>\n      <td>NaN</td>\n      <td>NaN</td>\n      <td>NaN</td>\n      <td>NaN</td>\n      <td>NaN</td>\n      <td>NaN</td>\n    </tr>\n    <tr>\n      <th>...</th>\n      <td>...</td>\n      <td>...</td>\n      <td>...</td>\n      <td>...</td>\n      <td>...</td>\n      <td>...</td>\n      <td>...</td>\n      <td>...</td>\n      <td>...</td>\n      <td>...</td>\n      <td>...</td>\n      <td>...</td>\n      <td>...</td>\n      <td>...</td>\n      <td>...</td>\n      <td>...</td>\n      <td>...</td>\n      <td>...</td>\n      <td>...</td>\n      <td>...</td>\n      <td>...</td>\n    </tr>\n    <tr>\n      <th>355395</th>\n      <td>449942</td>\n      <td>NaN</td>\n      <td>1</td>\n      <td>1</td>\n      <td>0</td>\n      <td>0</td>\n      <td>0</td>\n      <td>315000.0</td>\n      <td>1350000.0</td>\n      <td>67500.0</td>\n      <td>...</td>\n      <td>NaN</td>\n      <td>NaN</td>\n      <td>NaN</td>\n      <td>NaN</td>\n      <td>NaN</td>\n      <td>NaN</td>\n      <td>NaN</td>\n      <td>NaN</td>\n      <td>NaN</td>\n      <td>NaN</td>\n    </tr>\n    <tr>\n      <th>355424</th>\n      <td>450148</td>\n      <td>NaN</td>\n      <td>0</td>\n      <td>1</td>\n      <td>1</td>\n      <td>0</td>\n      <td>0</td>\n      <td>121500.0</td>\n      <td>135000.0</td>\n      <td>5791.5</td>\n      <td>...</td>\n      <td>NaN</td>\n      <td>NaN</td>\n      <td>NaN</td>\n      <td>NaN</td>\n      <td>NaN</td>\n      <td>NaN</td>\n      <td>NaN</td>\n      <td>NaN</td>\n      <td>NaN</td>\n      <td>NaN</td>\n    </tr>\n    <tr>\n      <th>355428</th>\n      <td>450180</td>\n      <td>NaN</td>\n      <td>0</td>\n      <td>1</td>\n      <td>0</td>\n      <td>1</td>\n      <td>0</td>\n      <td>135000.0</td>\n      <td>900000.0</td>\n      <td>48825.0</td>\n      <td>...</td>\n      <td>NaN</td>\n      <td>NaN</td>\n      <td>NaN</td>\n      <td>NaN</td>\n      <td>NaN</td>\n      <td>NaN</td>\n      <td>NaN</td>\n      <td>NaN</td>\n      <td>NaN</td>\n      <td>NaN</td>\n    </tr>\n    <tr>\n      <th>355603</th>\n      <td>451383</td>\n      <td>NaN</td>\n      <td>0</td>\n      <td>1</td>\n      <td>0</td>\n      <td>0</td>\n      <td>0</td>\n      <td>90000.0</td>\n      <td>278460.0</td>\n      <td>20947.5</td>\n      <td>...</td>\n      <td>NaN</td>\n      <td>NaN</td>\n      <td>NaN</td>\n      <td>NaN</td>\n      <td>NaN</td>\n      <td>NaN</td>\n      <td>NaN</td>\n      <td>NaN</td>\n      <td>NaN</td>\n      <td>NaN</td>\n    </tr>\n    <tr>\n      <th>356044</th>\n      <td>454578</td>\n      <td>NaN</td>\n      <td>0</td>\n      <td>1</td>\n      <td>0</td>\n      <td>1</td>\n      <td>0</td>\n      <td>148500.0</td>\n      <td>272520.0</td>\n      <td>21658.5</td>\n      <td>...</td>\n      <td>NaN</td>\n      <td>NaN</td>\n      <td>NaN</td>\n      <td>NaN</td>\n      <td>NaN</td>\n      <td>NaN</td>\n      <td>NaN</td>\n      <td>NaN</td>\n      <td>NaN</td>\n      <td>NaN</td>\n    </tr>\n  </tbody>\n</table>\n<p>2357 rows × 786 columns</p>\n</div>"
     },
     "execution_count": 153,
     "metadata": {},
     "output_type": "execute_result"
    }
   ],
   "source": [
    "temp = df_final[df_final[col_SK_ID].sum(axis=1) == 0]\n",
    "temp"
   ],
   "metadata": {
    "collapsed": false,
    "pycharm": {
     "name": "#%%\n"
    }
   }
  },
  {
   "cell_type": "markdown",
   "source": [
    "2357 clients sans aucune information additionnelle venant des jeux de données bureau, previous application, etc."
   ],
   "metadata": {
    "collapsed": false,
    "pycharm": {
     "name": "#%% md\n"
    }
   }
  },
  {
   "cell_type": "code",
   "execution_count": 154,
   "outputs": [
    {
     "data": {
      "text/plain": "0.0    0.928539\n1.0    0.071461\nName: TARGET, dtype: float64"
     },
     "execution_count": 154,
     "metadata": {},
     "output_type": "execute_result"
    }
   ],
   "source": [
    "temp['TARGET'].value_counts(normalize=True)"
   ],
   "metadata": {
    "collapsed": false,
    "pycharm": {
     "name": "#%%\n"
    }
   }
  },
  {
   "cell_type": "markdown",
   "source": [
    "La distribution de la target pour ces clients est similaire à celle des autres clients."
   ],
   "metadata": {
    "collapsed": false,
    "pycharm": {
     "name": "#%% md\n"
    }
   }
  },
  {
   "cell_type": "code",
   "execution_count": 155,
   "outputs": [
    {
     "data": {
      "text/plain": "73.53689567430025"
     },
     "execution_count": 155,
     "metadata": {},
     "output_type": "execute_result"
    }
   ],
   "source": [
    "(temp.isnull().sum(axis=1) / temp.shape[1] * 100).min()"
   ],
   "metadata": {
    "collapsed": false,
    "pycharm": {
     "name": "#%%\n"
    }
   }
  },
  {
   "cell_type": "code",
   "execution_count": 156,
   "outputs": [
    {
     "data": {
      "text/plain": "77.2264631043257"
     },
     "execution_count": 156,
     "metadata": {},
     "output_type": "execute_result"
    }
   ],
   "source": [
    "(temp.isnull().sum(axis=1) / temp.shape[1] * 100).max()"
   ],
   "metadata": {
    "collapsed": false,
    "pycharm": {
     "name": "#%%\n"
    }
   }
  },
  {
   "cell_type": "markdown",
   "source": [
    "Le taux de valeurs manquantes oscille entre 73 et 77 % pour ces clients."
   ],
   "metadata": {
    "collapsed": false,
    "pycharm": {
     "name": "#%% md\n"
    }
   }
  },
  {
   "cell_type": "markdown",
   "source": [
    "On calcule maintenant la distribution des valeurs manquantes par client."
   ],
   "metadata": {
    "collapsed": false,
    "pycharm": {
     "name": "#%% md\n"
    }
   }
  },
  {
   "cell_type": "code",
   "execution_count": 157,
   "outputs": [
    {
     "data": {
      "text/plain": "<Figure size 640x480 with 1 Axes>",
      "image/png": "[encoded data removed]"
     },
     "metadata": {},
     "output_type": "display_data"
    }
   ],
   "source": [
    "# Calculate the number of missing values for each row\n",
    "missing_values_count = df_final.isna().sum(axis=1)\n",
    "\n",
    "# Calculate the percentage of missing values\n",
    "missing_values_percentage = (missing_values_count / df_final.shape[1]) * 100\n",
    "\n",
    "# Set the style for the plot\n",
    "sns.set(style='darkgrid')\n",
    "\n",
    "# Create the distribution plot\n",
    "sns.histplot(data=missing_values_percentage, kde=True)\n",
    "\n",
    "# Set the title and labels for the plot\n",
    "plt.title('Distribution of Missing Values Percentage in Rows')\n",
    "plt.xlabel('Percentage of Missing Values')\n",
    "plt.ylabel('Frequency')\n",
    "\n",
    "# Display the plot\n",
    "plt.show()"
   ],
   "metadata": {
    "collapsed": false,
    "pycharm": {
     "name": "#%%\n"
    }
   }
  },
  {
   "cell_type": "markdown",
   "source": [
    "On crée une nouvelle variable qui indique le pourcentage de valeurs manquantes d'un client."
   ],
   "metadata": {
    "collapsed": false,
    "pycharm": {
     "name": "#%% md\n"
    }
   }
  },
  {
   "cell_type": "code",
   "execution_count": 158,
   "outputs": [],
   "source": [
    "# Calculate the number of missing values for each row\n",
    "missing_values_count = df_final.isna().sum(axis=1)\n",
    "\n",
    "# Calculate the percentage of missing values\n",
    "missing_values_percentage = (missing_values_count / df_final.shape[1]) * 100\n",
    "\n",
    "# Add the percentage of missing values as a new feature to the DataFrame\n",
    "df_final['missing_values_percentage'] = missing_values_percentage"
   ],
   "metadata": {
    "collapsed": false,
    "pycharm": {
     "name": "#%%\n"
    }
   }
  },
  {
   "cell_type": "code",
   "execution_count": 159,
   "outputs": [
    {
     "data": {
      "text/plain": "                                     Variable  Nombre de valeurs renseignées  \\\n294                    ACTIVE_ENDDATE_DIF_MIN                           1903   \n296                   ACTIVE_ENDDATE_DIF_MEAN                           1903   \n295                    ACTIVE_ENDDATE_DIF_MAX                           1903   \n613  REFUSED_PREV_DOWN_PAYMENT_TO_CREDIT_MEAN                          25306   \n582              REFUSED_AMT_DOWN_PAYMENT_MIN                          25306   \n..                                        ...                            ...   \n148              ORGANIZATION_TYPE_Government                         356248   \n147               ORGANIZATION_TYPE_Emergency                         356248   \n146             ORGANIZATION_TYPE_Electricity                         356248   \n153       ORGANIZATION_TYPE_Industry: type 11                         356248   \n786                 missing_values_percentage                         356248   \n\n     Nombre de valeurs manquantes  Taux de remplissage (%)  \n294                        354345                    0.534  \n296                        354345                    0.534  \n295                        354345                    0.534  \n613                        330942                    7.103  \n582                        330942                    7.103  \n..                            ...                      ...  \n148                             0                  100.000  \n147                             0                  100.000  \n146                             0                  100.000  \n153                             0                  100.000  \n786                             0                  100.000  \n\n[787 rows x 4 columns]",
      "text/html": "<div>\n<style scoped>\n    .dataframe tbody tr th:only-of-type {\n        vertical-align: middle;\n    }\n\n    .dataframe tbody tr th {\n        vertical-align: top;\n    }\n\n    .dataframe thead th {\n        text-align: right;\n    }\n</style>\n<table border=\"1\" class=\"dataframe\">\n  <thead>\n    <tr style=\"text-align: right;\">\n      <th></th>\n      <th>Variable</th>\n      <th>Nombre de valeurs renseignées</th>\n      <th>Nombre de valeurs manquantes</th>\n      <th>Taux de remplissage (%)</th>\n    </tr>\n  </thead>\n  <tbody>\n    <tr>\n      <th>294</th>\n      <td>ACTIVE_ENDDATE_DIF_MIN</td>\n      <td>1903</td>\n      <td>354345</td>\n      <td>0.534</td>\n    </tr>\n    <tr>\n      <th>296</th>\n      <td>ACTIVE_ENDDATE_DIF_MEAN</td>\n      <td>1903</td>\n      <td>354345</td>\n      <td>0.534</td>\n    </tr>\n    <tr>\n      <th>295</th>\n      <td>ACTIVE_ENDDATE_DIF_MAX</td>\n      <td>1903</td>\n      <td>354345</td>\n      <td>0.534</td>\n    </tr>\n    <tr>\n      <th>613</th>\n      <td>REFUSED_PREV_DOWN_PAYMENT_TO_CREDIT_MEAN</td>\n      <td>25306</td>\n      <td>330942</td>\n      <td>7.103</td>\n    </tr>\n    <tr>\n      <th>582</th>\n      <td>REFUSED_AMT_DOWN_PAYMENT_MIN</td>\n      <td>25306</td>\n      <td>330942</td>\n      <td>7.103</td>\n    </tr>\n    <tr>\n      <th>...</th>\n      <td>...</td>\n      <td>...</td>\n      <td>...</td>\n      <td>...</td>\n    </tr>\n    <tr>\n      <th>148</th>\n      <td>ORGANIZATION_TYPE_Government</td>\n      <td>356248</td>\n      <td>0</td>\n      <td>100.000</td>\n    </tr>\n    <tr>\n      <th>147</th>\n      <td>ORGANIZATION_TYPE_Emergency</td>\n      <td>356248</td>\n      <td>0</td>\n      <td>100.000</td>\n    </tr>\n    <tr>\n      <th>146</th>\n      <td>ORGANIZATION_TYPE_Electricity</td>\n      <td>356248</td>\n      <td>0</td>\n      <td>100.000</td>\n    </tr>\n    <tr>\n      <th>153</th>\n      <td>ORGANIZATION_TYPE_Industry: type 11</td>\n      <td>356248</td>\n      <td>0</td>\n      <td>100.000</td>\n    </tr>\n    <tr>\n      <th>786</th>\n      <td>missing_values_percentage</td>\n      <td>356248</td>\n      <td>0</td>\n      <td>100.000</td>\n    </tr>\n  </tbody>\n</table>\n<p>787 rows × 4 columns</p>\n</div>"
     },
     "execution_count": 159,
     "metadata": {},
     "output_type": "execute_result"
    }
   ],
   "source": [
    "M = recap_missing_values(df_final)\n",
    "M.sort_values(by='Taux de remplissage (%)')"
   ],
   "metadata": {
    "collapsed": false,
    "pycharm": {
     "name": "#%%\n"
    }
   }
  },
  {
   "cell_type": "markdown",
   "source": [
    "On filtre et supprime les variables avec un taux de remplissage inférieur à 20 %."
   ],
   "metadata": {
    "collapsed": false,
    "pycharm": {
     "name": "#%% md\n"
    }
   }
  },
  {
   "cell_type": "code",
   "execution_count": 160,
   "outputs": [
    {
     "data": {
      "text/plain": "['ACTIVE_ENDDATE_DIF_MIN',\n 'ACTIVE_ENDDATE_DIF_MAX',\n 'ACTIVE_ENDDATE_DIF_MEAN',\n 'CLOSED_AMT_ANNUITY_MAX',\n 'CLOSED_AMT_ANNUITY_MEAN',\n 'REFUSED_AMT_DOWN_PAYMENT_MIN',\n 'REFUSED_AMT_DOWN_PAYMENT_MAX',\n 'REFUSED_AMT_DOWN_PAYMENT_MEAN',\n 'REFUSED_RATE_DOWN_PAYMENT_MIN',\n 'REFUSED_RATE_DOWN_PAYMENT_MAX',\n 'REFUSED_RATE_DOWN_PAYMENT_MEAN',\n 'REFUSED_PREV_APP_CREDIT_PERC_VAR',\n 'REFUSED_PREV_DOWN_PAYMENT_TO_CREDIT_MEAN']"
     },
     "execution_count": 160,
     "metadata": {},
     "output_type": "execute_result"
    }
   ],
   "source": [
    "var_20 = M[M['Taux de remplissage (%)'] < 20]['Variable'].tolist()\n",
    "var_20"
   ],
   "metadata": {
    "collapsed": false,
    "pycharm": {
     "name": "#%%\n"
    }
   }
  },
  {
   "cell_type": "code",
   "execution_count": 161,
   "outputs": [],
   "source": [
    "df_final.drop(columns=var_20, inplace=True)"
   ],
   "metadata": {
    "collapsed": false,
    "pycharm": {
     "name": "#%%\n"
    }
   }
  },
  {
   "cell_type": "markdown",
   "source": [
    "Pour finir, on corrige les noms des variables contenant des caractères spéciaux."
   ],
   "metadata": {
    "collapsed": false,
    "pycharm": {
     "name": "#%% md\n"
    }
   }
  },
  {
   "cell_type": "code",
   "execution_count": 162,
   "outputs": [],
   "source": [
    "import re\n",
    "\n",
    "df_final = df_final.rename(columns=lambda x: re.sub('\\W', '_', x))"
   ],
   "metadata": {
    "collapsed": false,
    "pycharm": {
     "name": "#%%\n"
    }
   }
  },
  {
   "cell_type": "markdown",
   "source": [
    "On peut maintenant séparer les jeux d'entrainement et de test."
   ],
   "metadata": {
    "collapsed": false,
    "pycharm": {
     "name": "#%% md\n"
    }
   }
  },
  {
   "cell_type": "code",
   "execution_count": 163,
   "outputs": [],
   "source": [
    "train = df_final[df_final['TARGET'].notna()]\n",
    "test = df_final[df_final['TARGET'].isna()]\n",
    "test = test.drop(columns='TARGET')"
   ],
   "metadata": {
    "collapsed": false,
    "pycharm": {
     "name": "#%%\n"
    }
   }
  },
  {
   "cell_type": "code",
   "execution_count": 164,
   "outputs": [
    {
     "data": {
      "text/plain": "(307504, 774)"
     },
     "execution_count": 164,
     "metadata": {},
     "output_type": "execute_result"
    }
   ],
   "source": [
    "train.shape"
   ],
   "metadata": {
    "collapsed": false,
    "pycharm": {
     "name": "#%%\n"
    }
   }
  },
  {
   "cell_type": "code",
   "execution_count": 165,
   "outputs": [
    {
     "data": {
      "text/plain": "(48744, 773)"
     },
     "execution_count": 165,
     "metadata": {},
     "output_type": "execute_result"
    }
   ],
   "source": [
    "test.shape"
   ],
   "metadata": {
    "collapsed": false,
    "pycharm": {
     "name": "#%%\n"
    }
   }
  },
  {
   "cell_type": "code",
   "execution_count": 166,
   "outputs": [],
   "source": [
    "train.to_csv('train_after_merging.csv', index=False)\n",
    "test.to_csv('test_after_merging.csv', index=False)"
   ],
   "metadata": {
    "collapsed": false,
    "pycharm": {
     "name": "#%%\n"
    }
   }
  },
  {
   "cell_type": "code",
   "execution_count": 166,
   "outputs": [],
   "source": [],
   "metadata": {
    "collapsed": false,
    "pycharm": {
     "name": "#%%\n"
    }
   }
  }
 ],
 "metadata": {
  "kernelspec": {
   "display_name": "Python 3",
   "language": "python",
   "name": "python3"
  },
  "language_info": {
   "codemirror_mode": {
    "name": "ipython",
    "version": 2
   },
   "file_extension": ".py",
   "mimetype": "text/x-python",
   "name": "python",
   "nbconvert_exporter": "python",
   "pygments_lexer": "ipython2",
   "version": "2.7.6"
  }
 },
 "nbformat": 4,
 "nbformat_minor": 0
}