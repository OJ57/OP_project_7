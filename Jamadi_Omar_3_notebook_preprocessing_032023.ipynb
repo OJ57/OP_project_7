{
 "cells": [
  {
   "cell_type": "markdown",
   "source": [
    "##  <span style='background :#96e773' > 1. Introduction </span>"
   ],
   "metadata": {
    "collapsed": false,
    "pycharm": {
     "name": "#%% md\n"
    }
   }
  },
  {
   "cell_type": "markdown",
   "source": [
    "Ce notebook regroupe les dernières étapes de preprocessing effectuées sur le jeu de données final :\n",
    "- imputation des valeurs manquantes\n",
    "- feature engineering\n",
    "- features selection"
   ],
   "metadata": {
    "collapsed": false,
    "pycharm": {
     "name": "#%% md\n"
    }
   }
  },
  {
   "cell_type": "code",
   "execution_count": 24,
   "outputs": [
    {
     "name": "stdout",
     "output_type": "stream",
     "text": [
      "Version des librairies utilisées:\n",
      "Python 3.10.6 (tags/v3.10.6:9c7b4bd, Aug  1 2022, 21:53:49) [MSC v.1932 64 bit (AMD64)]\n",
      "Pandas 1.5.2\n",
      "NumPy 1.23.5\n",
      "Seaborn 0.12.2\n",
      "Matplotlib 3.5.3\n",
      "Sklearn 1.2.2\n"
     ]
    }
   ],
   "source": [
    "# Importation des librairies\n",
    "\n",
    "import pandas as pd\n",
    "import numpy as np\n",
    "import seaborn as sns\n",
    "import matplotlib\n",
    "import matplotlib.pyplot as plt\n",
    "import sys\n",
    "import sklearn\n",
    "import gc\n",
    "\n",
    "import warnings\n",
    "warnings.simplefilter(action='ignore', category=FutureWarning)\n",
    "\n",
    "# Versions\n",
    "print('Version des librairies utilisées:')\n",
    "print('Python ' + sys.version)\n",
    "print('Pandas ' + pd.__version__)\n",
    "print('NumPy ' + np.__version__)\n",
    "print('Seaborn ' + sns.__version__)\n",
    "print('Matplotlib ' + matplotlib.__version__)\n",
    "print('Sklearn ' + sklearn.__version__)"
   ],
   "metadata": {
    "collapsed": false,
    "pycharm": {
     "name": "#%%\n"
    }
   }
  },
  {
   "cell_type": "code",
   "execution_count": 25,
   "outputs": [],
   "source": [
    "from matplotlib import rcParams\n",
    "\n",
    "# Définition des tailles de polices des figures\n",
    "\n",
    "\n",
    "SMALL_SIZE = 15\n",
    "MEDIUM_SIZE = 16\n",
    "BIGGER_SIZE = 17\n",
    "\n",
    "plt.rc('font', size=SMALL_SIZE)  # controls default text sizes\n",
    "plt.rc('axes', titlesize=SMALL_SIZE)  # fontsize of the axes title\n",
    "plt.rc('axes', labelsize=MEDIUM_SIZE)  # fontsize of the x and y labels\n",
    "plt.rc('xtick', labelsize=SMALL_SIZE)  # fontsize of the tick labels\n",
    "plt.rc('ytick', labelsize=SMALL_SIZE)  # fontsize of the tick labels\n",
    "plt.rc('legend', fontsize=SMALL_SIZE)  # legend fontsize\n",
    "plt.rc('axes', titlesize=BIGGER_SIZE)\n",
    "\n",
    "rcParams['axes.titlepad'] = 20\n",
    "plt.rcParams['figure.dpi'] = 100\n",
    "\n",
    "sns.set(style=\"darkgrid\")"
   ],
   "metadata": {
    "collapsed": false,
    "pycharm": {
     "name": "#%%\n"
    }
   }
  },
  {
   "cell_type": "markdown",
   "source": [
    "**Fonctions**"
   ],
   "metadata": {
    "collapsed": false,
    "pycharm": {
     "name": "#%% md\n"
    }
   }
  },
  {
   "cell_type": "code",
   "execution_count": 26,
   "outputs": [],
   "source": [
    "def dim(df):\n",
    "    x, y = df.shape\n",
    "    print(f'Le jeu de données contient {x} lignes et {y} colonnes.')"
   ],
   "metadata": {
    "collapsed": false,
    "pycharm": {
     "name": "#%%\n"
    }
   }
  },
  {
   "cell_type": "code",
   "execution_count": 27,
   "outputs": [],
   "source": [
    "def missing_values(df):\n",
    "    a = df.isna().sum().sum()\n",
    "    b = round(df.isna().mean().mean() * 100, 3)\n",
    "    print(f'Le jeu de données contient {a} valeurs manquantes ({b}%).')"
   ],
   "metadata": {
    "collapsed": false,
    "pycharm": {
     "name": "#%%\n"
    }
   }
  },
  {
   "cell_type": "code",
   "execution_count": 28,
   "outputs": [],
   "source": [
    "def recap_missing_values(df):\n",
    "    df = pd.DataFrame(df)\n",
    "    a = df.notna().sum()\n",
    "    b = df.isna().sum()\n",
    "    c = round((1 - df.isna().mean()) * 100, 3)\n",
    "    d = pd.concat([a, b, c], axis=1).reset_index()\n",
    "    d.columns = ['Variable',\n",
    "                 'Nombre de valeurs renseignées',\n",
    "                 'Nombre de valeurs manquantes',\n",
    "                 'Taux de remplissage (%)']\n",
    "    return d"
   ],
   "metadata": {
    "collapsed": false,
    "pycharm": {
     "name": "#%%\n"
    }
   }
  },
  {
   "cell_type": "code",
   "execution_count": 29,
   "outputs": [],
   "source": [
    "def percentile_report(df, columns):\n",
    "    quantiles = [0, 0.01, 0.05, 0.1, 0.25, 0.5, 0.75, 0.9, 0.95, 0.99, 1]\n",
    "    results = []\n",
    "    for col in columns:\n",
    "        col_results = []\n",
    "        for q in quantiles:\n",
    "            value = df[col].quantile(q)\n",
    "            col_results.append(value)\n",
    "        results.append(col_results)\n",
    "    results_df = pd.DataFrame(results, columns=[f'{q*100}%' for q in quantiles], index=columns)\n",
    "    return results_df"
   ],
   "metadata": {
    "collapsed": false,
    "pycharm": {
     "name": "#%%\n"
    }
   }
  },
  {
   "cell_type": "code",
   "execution_count": 30,
   "outputs": [],
   "source": [
    "def compute_mode_percentage(df, columns, threshold, pr=True):\n",
    "    data = []\n",
    "    for col in columns:\n",
    "        mode = df[col].mode().values[0]\n",
    "        mode_perc = df[col].value_counts(normalize=True)[mode]\n",
    "\n",
    "        data.append({'Column': col, 'Mode': mode, 'Mode_pct': mode_perc})\n",
    "\n",
    "    result_df = pd.DataFrame(data)\n",
    "    col = result_df.loc[result_df['Mode_pct'] >= threshold, 'Column'].tolist()\n",
    "\n",
    "    if pr:\n",
    "        print(result_df.sort_values(by='Mode_pct'))\n",
    "        print('')\n",
    "\n",
    "    print('Liste des features à supprimer :')\n",
    "    print(col)\n",
    "    return col"
   ],
   "metadata": {
    "collapsed": false,
    "pycharm": {
     "name": "#%%\n"
    }
   }
  },
  {
   "cell_type": "markdown",
   "source": [
    "<br>\n",
    "\n",
    "---"
   ],
   "metadata": {
    "collapsed": false,
    "pycharm": {
     "name": "#%% md\n"
    }
   }
  },
  {
   "cell_type": "markdown",
   "source": [
    "##  <span style='background :#96e773' > 2. Chargements des jeux de données </span>\n",
    "\n",
    "On charge les jeux de données."
   ],
   "metadata": {
    "collapsed": false,
    "pycharm": {
     "name": "#%% md\n"
    }
   }
  },
  {
   "cell_type": "code",
   "execution_count": 31,
   "outputs": [],
   "source": [
    "train = pd.read_csv(\"train_after_merging.csv\")\n",
    "test = pd.read_csv(\"test_after_merging.csv\")"
   ],
   "metadata": {
    "collapsed": false,
    "pycharm": {
     "name": "#%%\n"
    }
   }
  },
  {
   "cell_type": "code",
   "execution_count": 32,
   "outputs": [
    {
     "name": "stdout",
     "output_type": "stream",
     "text": [
      "Le jeu de données contient 307504 lignes et 774 colonnes.\n"
     ]
    }
   ],
   "source": [
    "dim(train)"
   ],
   "metadata": {
    "collapsed": false,
    "pycharm": {
     "name": "#%%\n"
    }
   }
  },
  {
   "cell_type": "code",
   "execution_count": 33,
   "outputs": [
    {
     "name": "stdout",
     "output_type": "stream",
     "text": [
      "Le jeu de données contient 48744 lignes et 773 colonnes.\n"
     ]
    }
   ],
   "source": [
    "dim(test)"
   ],
   "metadata": {
    "collapsed": false,
    "pycharm": {
     "name": "#%%\n"
    }
   }
  },
  {
   "cell_type": "markdown",
   "source": [
    "<br>\n",
    "\n",
    "---"
   ],
   "metadata": {
    "collapsed": false,
    "pycharm": {
     "name": "#%% md\n"
    }
   }
  },
  {
   "cell_type": "markdown",
   "source": [
    "##  <span style='background :#96e773' > 3. Création d'un validation set </span>"
   ],
   "metadata": {
    "collapsed": false,
    "pycharm": {
     "name": "#%% md\n"
    }
   }
  },
  {
   "cell_type": "markdown",
   "source": [
    "On sépare le jeu d'entrainement en un jeu d'entrainement et un jeu de validation. On utilise l'hyperparamètre \"stratify\" afin de respecter la distribution de la target."
   ],
   "metadata": {
    "collapsed": false,
    "pycharm": {
     "name": "#%% md\n"
    }
   }
  },
  {
   "cell_type": "code",
   "execution_count": 34,
   "outputs": [],
   "source": [
    "from sklearn.model_selection import train_test_split\n",
    "\n",
    "# Define the features and the target variable\n",
    "X = train.drop('TARGET', axis=1)\n",
    "y = train['TARGET']\n",
    "\n",
    "# Split the train dataset into a training set and a validation set\n",
    "X_train, X_validation, y_train, y_validation = train_test_split(X, y, test_size=0.2, random_state=42, stratify=y)"
   ],
   "metadata": {
    "collapsed": false,
    "pycharm": {
     "name": "#%%\n"
    }
   }
  },
  {
   "cell_type": "code",
   "execution_count": 35,
   "outputs": [
    {
     "data": {
      "text/plain": "(246003, 773)"
     },
     "execution_count": 35,
     "metadata": {},
     "output_type": "execute_result"
    }
   ],
   "source": [
    "X_train.shape"
   ],
   "metadata": {
    "collapsed": false,
    "pycharm": {
     "name": "#%%\n"
    }
   }
  },
  {
   "cell_type": "code",
   "execution_count": 36,
   "outputs": [
    {
     "data": {
      "text/plain": "(61501, 773)"
     },
     "execution_count": 36,
     "metadata": {},
     "output_type": "execute_result"
    }
   ],
   "source": [
    "X_validation.shape"
   ],
   "metadata": {
    "collapsed": false,
    "pycharm": {
     "name": "#%%\n"
    }
   }
  },
  {
   "cell_type": "markdown",
   "source": [
    "<br>\n",
    "\n",
    "---"
   ],
   "metadata": {
    "collapsed": false,
    "pycharm": {
     "name": "#%% md\n"
    }
   }
  },
  {
   "cell_type": "markdown",
   "source": [
    "##  <span style='background :#96e773' > 4. Missing values imputation </span>\n",
    "\n",
    "Nous avons vu dans le notebook d'analyse exploratoire l'importance des variables \"EXT_SOURCE\" (fort pouvoir informatif). Nous allons donc utiliser l'algorithme XGBOOST afin d'imputer les valeurs manquantes de ces variables.\n",
    "\n",
    "Pour le reste des variables, nous utiliserons l'imputation par la médiane."
   ],
   "metadata": {
    "collapsed": false,
    "pycharm": {
     "name": "#%% md\n"
    }
   },
   "outputs": []
  },
  {
   "cell_type": "markdown",
   "source": [
    "\n",
    "### <span style='background :#e3e33d' > 4.1 EXT_SOURCE </span>\n",
    "#### <span style='background :#cdcdfc' > Sélection des variables pour l'imputation </span>"
   ],
   "metadata": {
    "collapsed": false,
    "pycharm": {
     "name": "#%% md\n"
    }
   }
  },
  {
   "cell_type": "code",
   "execution_count": 37,
   "outputs": [],
   "source": [
    "X_train_xgb = X_train.copy()\n",
    "X_validation_xgb = X_validation.copy()\n",
    "test_xgb = test.copy()"
   ],
   "metadata": {
    "collapsed": false,
    "pycharm": {
     "name": "#%%\n"
    }
   }
  },
  {
   "cell_type": "code",
   "execution_count": 38,
   "outputs": [
    {
     "data": {
      "text/plain": "       Variable  Nombre de valeurs renseignées  Nombre de valeurs manquantes  \\\n0  EXT_SOURCE_1                         107273                        138730   \n1  EXT_SOURCE_2                         245476                           527   \n2  EXT_SOURCE_3                         197281                         48722   \n\n   Taux de remplissage (%)  \n0                   43.606  \n1                   99.786  \n2                   80.195  ",
      "text/html": "<div>\n<style scoped>\n    .dataframe tbody tr th:only-of-type {\n        vertical-align: middle;\n    }\n\n    .dataframe tbody tr th {\n        vertical-align: top;\n    }\n\n    .dataframe thead th {\n        text-align: right;\n    }\n</style>\n<table border=\"1\" class=\"dataframe\">\n  <thead>\n    <tr style=\"text-align: right;\">\n      <th></th>\n      <th>Variable</th>\n      <th>Nombre de valeurs renseignées</th>\n      <th>Nombre de valeurs manquantes</th>\n      <th>Taux de remplissage (%)</th>\n    </tr>\n  </thead>\n  <tbody>\n    <tr>\n      <th>0</th>\n      <td>EXT_SOURCE_1</td>\n      <td>107273</td>\n      <td>138730</td>\n      <td>43.606</td>\n    </tr>\n    <tr>\n      <th>1</th>\n      <td>EXT_SOURCE_2</td>\n      <td>245476</td>\n      <td>527</td>\n      <td>99.786</td>\n    </tr>\n    <tr>\n      <th>2</th>\n      <td>EXT_SOURCE_3</td>\n      <td>197281</td>\n      <td>48722</td>\n      <td>80.195</td>\n    </tr>\n  </tbody>\n</table>\n</div>"
     },
     "execution_count": 38,
     "metadata": {},
     "output_type": "execute_result"
    }
   ],
   "source": [
    "recap_missing_values(X_train_xgb[['EXT_SOURCE_1', 'EXT_SOURCE_2', 'EXT_SOURCE_3']])"
   ],
   "metadata": {
    "collapsed": false,
    "pycharm": {
     "name": "#%%\n"
    }
   }
  },
  {
   "cell_type": "markdown",
   "source": [
    "Nous utiliserons uniquement les variables présentes dans les jeux de données principaux \"application\" pour l'imputation. On n'utilisera pas les variables issues du feature engineering avec les variables \"EXT_SOURCE\"."
   ],
   "metadata": {
    "collapsed": false,
    "pycharm": {
     "name": "#%% md\n"
    }
   }
  },
  {
   "cell_type": "code",
   "execution_count": 39,
   "outputs": [
    {
     "data": {
      "text/plain": "56"
     },
     "execution_count": 39,
     "metadata": {},
     "output_type": "execute_result"
    }
   ],
   "source": [
    "X_train_xgb.columns.get_loc('AGE_RANGE')"
   ],
   "metadata": {
    "collapsed": false,
    "pycharm": {
     "name": "#%%\n"
    }
   }
  },
  {
   "cell_type": "code",
   "execution_count": 40,
   "outputs": [
    {
     "data": {
      "text/plain": "['NAME_CONTRACT_TYPE',\n 'CODE_GENDER',\n 'FLAG_OWN_CAR',\n 'FLAG_OWN_REALTY',\n 'CNT_CHILDREN',\n 'AMT_INCOME_TOTAL',\n 'AMT_CREDIT',\n 'AMT_ANNUITY',\n 'AMT_GOODS_PRICE',\n 'REGION_POPULATION_RELATIVE',\n 'DAYS_BIRTH',\n 'DAYS_EMPLOYED',\n 'DAYS_REGISTRATION',\n 'DAYS_ID_PUBLISH',\n 'OWN_CAR_AGE',\n 'FLAG_EMP_PHONE',\n 'FLAG_WORK_PHONE',\n 'FLAG_PHONE',\n 'FLAG_EMAIL',\n 'CNT_FAM_MEMBERS',\n 'REGION_RATING_CLIENT',\n 'REGION_RATING_CLIENT_W_CITY',\n 'HOUR_APPR_PROCESS_START',\n 'REG_CITY_NOT_LIVE_CITY',\n 'REG_CITY_NOT_WORK_CITY',\n 'LIVE_CITY_NOT_WORK_CITY',\n 'EXT_SOURCE_1',\n 'EXT_SOURCE_2',\n 'EXT_SOURCE_3',\n 'OBS_30_CNT_SOCIAL_CIRCLE',\n 'DEF_30_CNT_SOCIAL_CIRCLE',\n 'OBS_60_CNT_SOCIAL_CIRCLE',\n 'DEF_60_CNT_SOCIAL_CIRCLE',\n 'DAYS_LAST_PHONE_CHANGE',\n 'FLAG_DOCUMENT_3',\n 'FLAG_DOCUMENT_6',\n 'FLAG_DOCUMENT_8',\n 'AMT_REQ_CREDIT_BUREAU_MON',\n 'AMT_REQ_CREDIT_BUREAU_QRT',\n 'AMT_REQ_CREDIT_BUREAU_YEAR',\n 'CNT_DOC',\n 'PERC_INC_CRED',\n 'PERC_INC_ANN',\n 'AMT_MONTHS',\n 'PERC_INSURANCE_CRED',\n 'INCOME_PER_MEMBER',\n 'INCOME_PER_CHILD',\n 'DAYS_EMPLOYED_PERC',\n 'ID_TO_BIRTH_RATIO',\n 'CAR_TO_BIRTH_RATIO',\n 'INCOME_TO_BIRTH_RATIO',\n 'PHONE_TO_BIRTH_RATIO',\n 'AGE_END',\n 'CAR_TO_EMPLOYED_RATIO',\n 'INCOME_TO_EMPLOYED_RATIO',\n 'AGE_RANGE']"
     },
     "execution_count": 40,
     "metadata": {},
     "output_type": "execute_result"
    }
   ],
   "source": [
    "# Liste des variables à utiliser\n",
    "\n",
    "col = X_train_xgb.iloc[:, 1:57].columns.tolist()\n",
    "col"
   ],
   "metadata": {
    "collapsed": false,
    "pycharm": {
     "name": "#%%\n"
    }
   }
  },
  {
   "cell_type": "markdown",
   "source": [
    "Parmi ces variables, on élimine les variables dont le mode représente 90 % ou plus des valeurs."
   ],
   "metadata": {
    "collapsed": false,
    "pycharm": {
     "name": "#%% md\n"
    }
   }
  },
  {
   "cell_type": "code",
   "execution_count": 41,
   "outputs": [
    {
     "name": "stdout",
     "output_type": "stream",
     "text": [
      "Liste des features à supprimer :\n",
      "['NAME_CONTRACT_TYPE', 'FLAG_EMAIL', 'REG_CITY_NOT_LIVE_CITY', 'DEF_60_CNT_SOCIAL_CIRCLE', 'FLAG_DOCUMENT_6', 'FLAG_DOCUMENT_8']\n"
     ]
    }
   ],
   "source": [
    "col_to_del = compute_mode_percentage(X_train_xgb, col, 0.90, pr=False)"
   ],
   "metadata": {
    "collapsed": false,
    "pycharm": {
     "name": "#%%\n"
    }
   }
  },
  {
   "cell_type": "markdown",
   "source": [
    "On peut maintenant dresser la liste finale des variables qui seront utiliser pour l'imputation avec XGBOOST."
   ],
   "metadata": {
    "collapsed": false,
    "pycharm": {
     "name": "#%% md\n"
    }
   }
  },
  {
   "cell_type": "code",
   "execution_count": 42,
   "outputs": [
    {
     "data": {
      "text/plain": "47"
     },
     "execution_count": 42,
     "metadata": {},
     "output_type": "execute_result"
    }
   ],
   "source": [
    "col = sorted(list(set(col) - set(col_to_del)))\n",
    "columns_for_modelling = sorted(list(set(col) - {'EXT_SOURCE_1', 'EXT_SOURCE_2', 'EXT_SOURCE_3'}))\n",
    "len(columns_for_modelling)"
   ],
   "metadata": {
    "collapsed": false,
    "pycharm": {
     "name": "#%%\n"
    }
   }
  },
  {
   "cell_type": "markdown",
   "source": [
    "#### <span style='background :#cdcdfc' > Imputation avec XGBOOST </span>"
   ],
   "metadata": {
    "collapsed": false,
    "pycharm": {
     "name": "#%% md\n"
    }
   }
  },
  {
   "cell_type": "markdown",
   "source": [
    "On impute en premier la variable \"EXT_SOURCE_2\" qui a le taux de remplissage (TDR) le plus élevé et on termine l'imputation avec \"EXT_SOURCE_1\" qui a le TDR le plus faible.\n",
    "Chaque variable imputée est utilisée pour l'imputation de la variable suivante.\n",
    "\n",
    "Pour éviter toute fuite de données, le modèle XGBOOST n'est entrainé que sur le jeu d'entrainement."
   ],
   "metadata": {
    "collapsed": false,
    "pycharm": {
     "name": "#%% md\n"
    }
   }
  },
  {
   "cell_type": "code",
   "execution_count": 43,
   "outputs": [
    {
     "name": "stdout",
     "output_type": "stream",
     "text": [
      "Imputation process took 150.56 seconds\n"
     ]
    }
   ],
   "source": [
    "from xgboost import XGBRegressor\n",
    "import time\n",
    "\n",
    "start_time = time.time()\n",
    "\n",
    "for ext_col in ['EXT_SOURCE_2', 'EXT_SOURCE_3', 'EXT_SOURCE_1']:\n",
    "    X_model = X_train_xgb.loc[X_train_xgb[ext_col].notna(), columns_for_modelling]\n",
    "    y_model = X_train_xgb.loc[X_train_xgb[ext_col].notna(), ext_col]\n",
    "\n",
    "    X_train_xgb_missing = X_train_xgb.loc[X_train_xgb[ext_col].isna(), columns_for_modelling]\n",
    "    X_validation_xgb_missing = X_validation_xgb.loc[X_validation_xgb[ext_col].isna(), columns_for_modelling]\n",
    "    test_xgb_missing = test_xgb.loc[test_xgb[ext_col].isna(), columns_for_modelling]\n",
    "\n",
    "    xg = XGBRegressor(n_estimators=1000, max_depth=3, learning_rate=0.1, n_jobs=-1, random_state=59)\n",
    "    xg.fit(X_model, y_model)\n",
    "\n",
    "    X_train_xgb.loc[X_train_xgb[ext_col].isna(), ext_col] = xg.predict(X_train_xgb_missing)\n",
    "    X_validation_xgb.loc[X_validation_xgb[ext_col].isna(), ext_col] = xg.predict(X_validation_xgb_missing)\n",
    "    test_xgb.loc[test_xgb[ext_col].isna(), ext_col] = xg.predict(test_xgb_missing)\n",
    "\n",
    "    #adding the predicted column to columns for modelling for next column's prediction\n",
    "    columns_for_modelling = columns_for_modelling + [ext_col]\n",
    "\n",
    "end_time = time.time()\n",
    "time_taken = end_time - start_time\n",
    "\n",
    "print(f\"Imputation process took {time_taken:.2f} seconds\")"
   ],
   "metadata": {
    "collapsed": false,
    "pycharm": {
     "name": "#%%\n"
    }
   }
  },
  {
   "cell_type": "markdown",
   "source": [
    "Nous allons maintenant comparer les distributions avant et après imputation."
   ],
   "metadata": {
    "collapsed": false,
    "pycharm": {
     "name": "#%% md\n"
    }
   }
  },
  {
   "cell_type": "code",
   "execution_count": 44,
   "outputs": [
    {
     "data": {
      "text/plain": "<Figure size 640x480 with 1 Axes>",
      "image/png": "[encoded data removed]"
     },
     "metadata": {},
     "output_type": "display_data"
    }
   ],
   "source": [
    "sns.kdeplot(data=X_train, x='EXT_SOURCE_2', fill=True)\n",
    "sns.kdeplot(data=X_train_xgb, x='EXT_SOURCE_2', fill=True)\n",
    "\n",
    "mean_0 = X_train['EXT_SOURCE_2'].mean()\n",
    "mean_1 = X_train_xgb['EXT_SOURCE_2'].mean()\n",
    "\n",
    "plt.axvline(mean_0, color=sns.color_palette()[0], linestyle='dashed', label=f'Mean before: {mean_0:.2f}')\n",
    "plt.axvline(mean_1, color=sns.color_palette()[1], linestyle='dashed', label=f'Mean after: {mean_1:.2f}')\n",
    "\n",
    "# # Add legend and show plot\n",
    "plt.legend(loc='upper left')\n",
    "plt.show()"
   ],
   "metadata": {
    "collapsed": false,
    "pycharm": {
     "name": "#%%\n"
    }
   }
  },
  {
   "cell_type": "markdown",
   "source": [
    "\"EXT_SOURCE_2\" étant la variable avec le TDR le plus élevé (99.8 %), on n'observe aucune différence entre les deux distributions."
   ],
   "metadata": {
    "collapsed": false,
    "pycharm": {
     "name": "#%% md\n"
    }
   }
  },
  {
   "cell_type": "code",
   "execution_count": 45,
   "outputs": [
    {
     "data": {
      "text/plain": "<Figure size 640x480 with 1 Axes>",
      "image/png": "[encoded data removed]"
     },
     "metadata": {},
     "output_type": "display_data"
    }
   ],
   "source": [
    "sns.kdeplot(data=X_train, x='EXT_SOURCE_3', fill=True)\n",
    "sns.kdeplot(data=X_train_xgb, x='EXT_SOURCE_3', fill=True)\n",
    "\n",
    "mean_0 = X_train['EXT_SOURCE_3'].mean()\n",
    "mean_1 = X_train_xgb['EXT_SOURCE_3'].mean()\n",
    "\n",
    "plt.axvline(mean_0, color=sns.color_palette()[0], linestyle='dashed', label=f'Mean before: {mean_0:.2f}')\n",
    "plt.axvline(mean_1, color=sns.color_palette()[1], linestyle='dashed', label=f'Mean after: {mean_1:.2f}')\n",
    "\n",
    "# # Add legend and show plot\n",
    "plt.legend(loc='upper left')\n",
    "plt.show()"
   ],
   "metadata": {
    "collapsed": false,
    "pycharm": {
     "name": "#%%\n"
    }
   }
  },
  {
   "cell_type": "markdown",
   "source": [
    "Pour \"EXT_SOURCE_3\" (TDR de 80 %), on observe un décalage du mode vers les plus faibles valeurs (0.6 à 0.5) mais aucune différence entre les moyennes."
   ],
   "metadata": {
    "collapsed": false,
    "pycharm": {
     "name": "#%% md\n"
    }
   }
  },
  {
   "cell_type": "code",
   "execution_count": 46,
   "outputs": [
    {
     "data": {
      "text/plain": "<Figure size 640x480 with 1 Axes>",
      "image/png": "[encoded data removed]"
     },
     "metadata": {},
     "output_type": "display_data"
    }
   ],
   "source": [
    "sns.kdeplot(data=X_train, x='EXT_SOURCE_1', fill=True)\n",
    "sns.kdeplot(data=X_train_xgb, x='EXT_SOURCE_1', fill=True)\n",
    "\n",
    "mean_0 = X_train['EXT_SOURCE_1'].mean()\n",
    "mean_1 = X_train_xgb['EXT_SOURCE_1'].mean()\n",
    "\n",
    "plt.axvline(mean_0, color=sns.color_palette()[0], linestyle='dashed', label=f'Mean before: {mean_0:.2f}')\n",
    "plt.axvline(mean_1, color=sns.color_palette()[1], linestyle='dashed', label=f'Mean after: {mean_1:.2f}')\n",
    "\n",
    "# # Add legend and show plot\n",
    "plt.legend(loc='upper left')\n",
    "plt.show()"
   ],
   "metadata": {
    "collapsed": false,
    "pycharm": {
     "name": "#%%\n"
    }
   }
  },
  {
   "cell_type": "markdown",
   "source": [
    "\"EXT_SOURCE_1\" étant la variable avec le TDR le plus faible (44 %), on observe la modification la plus prononcée de la distribution avec un shift de la moyenne de 0.5 à 0.53.\n",
    "Les scores \"EXT_SOURCE_1\" des clients imputés se situent entre 0.5 et 0.8."
   ],
   "metadata": {
    "collapsed": false,
    "pycharm": {
     "name": "#%% md\n"
    }
   }
  },
  {
   "cell_type": "code",
   "execution_count": 47,
   "outputs": [
    {
     "data": {
      "text/plain": "                        0%      1.0%      5.0%     10.0%     25.0%     50.0%  \\\nEXT_SOURCE_1  1.456813e-02  0.116274  0.213179  0.273319  0.394498  0.553582   \nEXT_SOURCE_2  8.173617e-08  0.029391  0.132879  0.215715  0.392752  0.565913   \nEXT_SOURCE_3  5.272652e-04  0.072983  0.174564  0.256706  0.397946  0.524852   \n\n                 75.0%     90.0%     95.0%     99.0%      100%  \nEXT_SOURCE_1  0.684173  0.760805  0.799421  0.866917  0.962693  \nEXT_SOURCE_2  0.663497  0.721959  0.747631  0.782700  0.855000  \nEXT_SOURCE_3  0.639708  0.735221  0.776410  0.832785  0.896010  ",
      "text/html": "<div>\n<style scoped>\n    .dataframe tbody tr th:only-of-type {\n        vertical-align: middle;\n    }\n\n    .dataframe tbody tr th {\n        vertical-align: top;\n    }\n\n    .dataframe thead th {\n        text-align: right;\n    }\n</style>\n<table border=\"1\" class=\"dataframe\">\n  <thead>\n    <tr style=\"text-align: right;\">\n      <th></th>\n      <th>0%</th>\n      <th>1.0%</th>\n      <th>5.0%</th>\n      <th>10.0%</th>\n      <th>25.0%</th>\n      <th>50.0%</th>\n      <th>75.0%</th>\n      <th>90.0%</th>\n      <th>95.0%</th>\n      <th>99.0%</th>\n      <th>100%</th>\n    </tr>\n  </thead>\n  <tbody>\n    <tr>\n      <th>EXT_SOURCE_1</th>\n      <td>1.456813e-02</td>\n      <td>0.116274</td>\n      <td>0.213179</td>\n      <td>0.273319</td>\n      <td>0.394498</td>\n      <td>0.553582</td>\n      <td>0.684173</td>\n      <td>0.760805</td>\n      <td>0.799421</td>\n      <td>0.866917</td>\n      <td>0.962693</td>\n    </tr>\n    <tr>\n      <th>EXT_SOURCE_2</th>\n      <td>8.173617e-08</td>\n      <td>0.029391</td>\n      <td>0.132879</td>\n      <td>0.215715</td>\n      <td>0.392752</td>\n      <td>0.565913</td>\n      <td>0.663497</td>\n      <td>0.721959</td>\n      <td>0.747631</td>\n      <td>0.782700</td>\n      <td>0.855000</td>\n    </tr>\n    <tr>\n      <th>EXT_SOURCE_3</th>\n      <td>5.272652e-04</td>\n      <td>0.072983</td>\n      <td>0.174564</td>\n      <td>0.256706</td>\n      <td>0.397946</td>\n      <td>0.524852</td>\n      <td>0.639708</td>\n      <td>0.735221</td>\n      <td>0.776410</td>\n      <td>0.832785</td>\n      <td>0.896010</td>\n    </tr>\n  </tbody>\n</table>\n</div>"
     },
     "execution_count": 47,
     "metadata": {},
     "output_type": "execute_result"
    }
   ],
   "source": [
    "percentile_report(X_train_xgb[['EXT_SOURCE_1', 'EXT_SOURCE_2', 'EXT_SOURCE_3']], ['EXT_SOURCE_1', 'EXT_SOURCE_2', 'EXT_SOURCE_3'])"
   ],
   "metadata": {
    "collapsed": false,
    "pycharm": {
     "name": "#%%\n"
    }
   }
  },
  {
   "cell_type": "markdown",
   "source": [
    "On n'observe pas de différence majeure sur les centiles. Les minimums et maximums de chaque variable avant et après imputation sont identiques."
   ],
   "metadata": {
    "collapsed": false,
    "pycharm": {
     "name": "#%% md\n"
    }
   }
  },
  {
   "cell_type": "markdown",
   "source": [
    "<br>\n",
    "\n",
    "---"
   ],
   "metadata": {
    "collapsed": false,
    "pycharm": {
     "name": "#%% md\n"
    }
   }
  },
  {
   "cell_type": "markdown",
   "source": [
    "### <span style='background :#e3e33d' > 4.2 Reste des features </span>\n",
    "#### <span style='background :#cdcdfc' > SimpleImputer médiane </span>"
   ],
   "metadata": {
    "collapsed": false,
    "pycharm": {
     "name": "#%% md\n"
    }
   }
  },
  {
   "cell_type": "markdown",
   "source": [
    "Encore une fois, on fit le modèle que sur le jeu d'entrainement pour éviter toute fuite de données."
   ],
   "metadata": {
    "collapsed": false,
    "pycharm": {
     "name": "#%% md\n"
    }
   }
  },
  {
   "cell_type": "code",
   "execution_count": 48,
   "outputs": [],
   "source": [
    "from sklearndf.transformation import SimpleImputerDF\n",
    "\n",
    "# Initialize median imputer\n",
    "imputer = SimpleImputerDF(strategy='median')\n",
    "\n",
    "# Fit the imputer on the train set\n",
    "imputer.fit(X_train_xgb)\n",
    "\n",
    "# Transform train, validation, and test sets\n",
    "X_train_xgb_med = imputer.transform(X_train_xgb)\n",
    "X_validation_xgb_med = imputer.transform(X_validation_xgb)\n",
    "test_xgb_med = imputer.transform(test_xgb)"
   ],
   "metadata": {
    "collapsed": false,
    "pycharm": {
     "name": "#%%\n"
    }
   }
  },
  {
   "cell_type": "markdown",
   "source": [
    "<br>\n",
    "\n",
    "---"
   ],
   "metadata": {
    "collapsed": false,
    "pycharm": {
     "name": "#%% md\n"
    }
   }
  },
  {
   "cell_type": "markdown",
   "source": [
    "### <span style='background :#e3e33d' > 4.3 Update du feature engineering sur application_train </span>"
   ],
   "metadata": {
    "collapsed": false,
    "pycharm": {
     "name": "#%% md\n"
    }
   }
  },
  {
   "cell_type": "markdown",
   "source": [
    "On met à jour les variables issues du feature engineering suite à l'imputation des valeurs manquantes."
   ],
   "metadata": {
    "collapsed": false,
    "pycharm": {
     "name": "#%% md\n"
    }
   }
  },
  {
   "cell_type": "code",
   "execution_count": 49,
   "outputs": [],
   "source": [
    "def feature_engineering_update(df):\n",
    "\n",
    "    df['PERC_INC_CRED'] = df['AMT_INCOME_TOTAL'] / df['AMT_CREDIT']\n",
    "    df['PERC_INC_ANN'] = df['AMT_INCOME_TOTAL'] / df['AMT_ANNUITY']\n",
    "    df['AMT_MONTHS'] = df['AMT_CREDIT'] / df['AMT_ANNUITY']\n",
    "    df['PERC_INSURANCE_CRED'] = (df['AMT_CREDIT'] - df['AMT_GOODS_PRICE']) / df['AMT_CREDIT']\n",
    "    df['INCOME_PER_MEMBER'] = df['AMT_INCOME_TOTAL'] / df['CNT_FAM_MEMBERS']\n",
    "    df['INCOME_PER_CHILD'] = df['AMT_INCOME_TOTAL'] / (df['CNT_CHILDREN'] + 1)\n",
    "    df['DAYS_EMPLOYED_PERC'] = df['DAYS_EMPLOYED'] / df['DAYS_BIRTH']\n",
    "    df['ID_TO_BIRTH_RATIO'] = df['DAYS_ID_PUBLISH'] / df['DAYS_BIRTH']\n",
    "    df['CAR_TO_BIRTH_RATIO'] = df['OWN_CAR_AGE'] / (df['DAYS_BIRTH'] / -365)\n",
    "    df['INCOME_TO_BIRTH_RATIO'] = - df['AMT_INCOME_TOTAL'] / df['DAYS_BIRTH']\n",
    "    df['PHONE_TO_BIRTH_RATIO'] = df['DAYS_LAST_PHONE_CHANGE'] / df['DAYS_BIRTH']\n",
    "    df['AGE_END'] = df['AMT_MONTHS'] / 12 + (df['DAYS_BIRTH'] / -365)\n",
    "    df['CAR_TO_EMPLOYED_RATIO'] = df['OWN_CAR_AGE'] / (df['DAYS_EMPLOYED'] / -365)\n",
    "    df['INCOME_TO_EMPLOYED_RATIO'] = - df['AMT_INCOME_TOTAL'] / df['DAYS_EMPLOYED']\n",
    "    df['EXT_SOURCE_MEAN'] = df[['EXT_SOURCE_1', 'EXT_SOURCE_2', 'EXT_SOURCE_3']].mean(axis=1)\n",
    "    df['EXT_SOURCE_PROD'] = df['EXT_SOURCE_1'] * df['EXT_SOURCE_2'] * df['EXT_SOURCE_3']\n",
    "    df['EXT_SOURCE_1_TO_BIRTH_RATIO'] = df['EXT_SOURCE_1'] / (df['DAYS_BIRTH'] / -365)\n",
    "    df['EXT_SOURCE_1_TO_EMPLOY_RATIO'] = df['EXT_SOURCE_1'] / (df['DAYS_EMPLOYED'] / -365)\n",
    "    df['EXT_SOURCE_1_DAYS_BIRTH'] = df['EXT_SOURCE_1'] * (df['DAYS_BIRTH'] / -365)\n",
    "    df['EXT_SOURCE_1_DAYS_EMPLOYED'] = df['EXT_SOURCE_1'] * (df['DAYS_EMPLOYED'] / -365)\n",
    "    df['EXT_SOURCE_2_TO_BIRTH_RATIO'] = df['EXT_SOURCE_2'] / (df['DAYS_BIRTH'] / -365)\n",
    "    df['EXT_SOURCE_2_TO_EMPLOY_RATIO'] = df['EXT_SOURCE_2'] / (df['DAYS_EMPLOYED'] / -365)\n",
    "    df['EXT_SOURCE_2_DAYS_BIRTH'] = df['EXT_SOURCE_2'] * (df['DAYS_BIRTH'] / -365)\n",
    "    df['EXT_SOURCE_2_DAYS_EMPLOYED'] = df['EXT_SOURCE_2'] * (df['DAYS_EMPLOYED'] / -365)\n",
    "    df['EXT_SOURCE_2_TO_REGION_RATIO'] = df['EXT_SOURCE_2'] / df['REGION_RATING_CLIENT']\n",
    "    df['EXT_SOURCE_2_REGION_RATING_CLIENT'] = df['EXT_SOURCE_2'] * df['REGION_RATING_CLIENT']\n",
    "    df['EXT_SOURCE_3_TO_BIRTH_RATIO'] = df['EXT_SOURCE_3'] / (df['DAYS_BIRTH'] / -365)\n",
    "    df['EXT_SOURCE_3_DAYS_BIRTH'] = df['EXT_SOURCE_3'] * (df['DAYS_BIRTH'] / -365)\n",
    "    df['EXT_SOURCE_1_TO_EXT_SOURCE_2_RATIO'] = df['EXT_SOURCE_1'] / df['EXT_SOURCE_2']\n",
    "    df['EXT_SOURCE_2_TO_EXT_SOURCE_3_RATIO'] = df['EXT_SOURCE_2'] / df['EXT_SOURCE_3']\n",
    "    df['EXT_SOURCE_1_TO_EXT_SOURCE_3_RATIO'] = df['EXT_SOURCE_1'] / df['EXT_SOURCE_3']\n",
    "    df['EXT_SOURCE_1_EXT_SOURCE_2'] = df['EXT_SOURCE_1'] * df['EXT_SOURCE_2']\n",
    "    df['EXT_SOURCE_2_EXT_SOURCE_3'] = df['EXT_SOURCE_2'] * df['EXT_SOURCE_3']\n",
    "    df['EXT_SOURCE_1_EXT_SOURCE_3'] = df['EXT_SOURCE_1'] * df['EXT_SOURCE_3']\n",
    "\n",
    "    return df"
   ],
   "metadata": {
    "collapsed": false,
    "pycharm": {
     "name": "#%%\n"
    }
   }
  },
  {
   "cell_type": "markdown",
   "source": [
    "Cette mise à jour est effectuée sur le jeu d'entrainement, de validation et de test."
   ],
   "metadata": {
    "collapsed": false,
    "pycharm": {
     "name": "#%% md\n"
    }
   }
  },
  {
   "cell_type": "code",
   "execution_count": 50,
   "outputs": [],
   "source": [
    "X_train_xgb_med = feature_engineering_update(X_train_xgb_med)\n",
    "X_validation_xgb_med = feature_engineering_update(X_validation_xgb_med)\n",
    "test_xgb_med = feature_engineering_update(test_xgb_med)"
   ],
   "metadata": {
    "collapsed": false,
    "pycharm": {
     "name": "#%%\n"
    }
   }
  },
  {
   "cell_type": "markdown",
   "source": [
    "<br>\n",
    "\n",
    "---"
   ],
   "metadata": {
    "collapsed": false,
    "pycharm": {
     "name": "#%% md\n"
    }
   }
  },
  {
   "cell_type": "markdown",
   "source": [
    "##  <span style='background :#96e773' > 5. Création d'une nouvelle variable </span>"
   ],
   "metadata": {
    "collapsed": false,
    "pycharm": {
     "name": "#%% md\n"
    }
   }
  },
  {
   "cell_type": "markdown",
   "source": [
    "On crée une nouvelle variable \"TARGET_NEIGHBORS_500_MEAN\" qui est la moyenne de la target des 500 clients les plus proches.\n",
    "On utilise un modèle KNN entrainé sur les variables 'EXT_SOURCE_1', 'EXT_SOURCE_2', 'EXT_SOURCE_3' et 'AMT_MONTHS'.\n",
    "Pour éviter toute fuite de données, ce modèle est entrainé uniquement sur le jeu d'entrainement."
   ],
   "metadata": {
    "collapsed": false,
    "pycharm": {
     "name": "#%% md\n"
    }
   }
  },
  {
   "cell_type": "code",
   "execution_count": 51,
   "outputs": [],
   "source": [
    "from sklearn.neighbors import KNeighborsClassifier\n",
    "\n",
    "train_data_for_neighbors = X_train_xgb_med[['EXT_SOURCE_1', 'EXT_SOURCE_2', 'EXT_SOURCE_3', 'AMT_MONTHS']]\n",
    "validation_data_for_neighbors = X_validation_xgb_med[['EXT_SOURCE_1', 'EXT_SOURCE_2', 'EXT_SOURCE_3', 'AMT_MONTHS']]\n",
    "test_data_for_neighbors = test_xgb_med[['EXT_SOURCE_1', 'EXT_SOURCE_2', 'EXT_SOURCE_3', 'AMT_MONTHS']]"
   ],
   "metadata": {
    "collapsed": false,
    "pycharm": {
     "name": "#%%\n"
    }
   }
  },
  {
   "cell_type": "code",
   "execution_count": 52,
   "outputs": [],
   "source": [
    "knn = KNeighborsClassifier(500, n_jobs=-1)\n",
    "knn.fit(train_data_for_neighbors, y_train)\n",
    "\n",
    "train_500_neighbors = knn.kneighbors(train_data_for_neighbors)[1]\n",
    "validation_500_neighbors = knn.kneighbors(validation_data_for_neighbors)[1]\n",
    "test_500_neighbors = knn.kneighbors(test_data_for_neighbors)[1]"
   ],
   "metadata": {
    "collapsed": false,
    "pycharm": {
     "name": "#%%\n"
    }
   }
  },
  {
   "cell_type": "code",
   "execution_count": 53,
   "outputs": [],
   "source": [
    "#adding the means of targets of 500 neighbors to new column\n",
    "X_train_xgb_med['TARGET_NEIGHBORS_500_MEAN'] = [y_train.iloc[ele].mean() for ele in train_500_neighbors]\n",
    "X_validation_xgb_med['TARGET_NEIGHBORS_500_MEAN'] = [y_train.iloc[ele].mean() for ele in validation_500_neighbors]\n",
    "test_xgb_med['TARGET_NEIGHBORS_500_MEAN'] = [y_train.iloc[ele].mean() for ele in test_500_neighbors]"
   ],
   "metadata": {
    "collapsed": false,
    "pycharm": {
     "name": "#%%\n"
    }
   }
  },
  {
   "cell_type": "code",
   "execution_count": 54,
   "outputs": [
    {
     "data": {
      "text/plain": "151257"
     },
     "execution_count": 54,
     "metadata": {},
     "output_type": "execute_result"
    }
   ],
   "source": [
    "del train_500_neighbors, validation_500_neighbors, test_500_neighbors\n",
    "gc.collect()"
   ],
   "metadata": {
    "collapsed": false,
    "pycharm": {
     "name": "#%%\n"
    }
   }
  },
  {
   "cell_type": "markdown",
   "source": [
    "<br>\n",
    "\n",
    "---"
   ],
   "metadata": {
    "collapsed": false,
    "pycharm": {
     "name": "#%% md\n"
    }
   }
  },
  {
   "cell_type": "markdown",
   "source": [
    "##  <span style='background :#96e773' > 6. Feature selection </span>"
   ],
   "metadata": {
    "collapsed": false,
    "pycharm": {
     "name": "#%% md\n"
    }
   }
  },
  {
   "cell_type": "markdown",
   "source": [
    "Le jeu de données contenant un nombre élevé de variables (773), nous allons maintenant effectuer une sélection des features afin d'améliorer la qualité, la performance et l'interprétabilité de notre futur modèle de machine learning.\n",
    "\n",
    "Nous utiliserons trois techniques :\n",
    "\n",
    "1) Suppression des features corrélées (seuil à 0.9)\n",
    "2) Sélection des features avec LightGBM (feature importance)\n",
    "3) Sélection des features avec BorutaPy\n",
    "\n",
    "Pour éviter le surapprentissage et prévenir toute fuite de données, nous utiliserons ces techniques sur le jeu d'entrainement uniquement.\n",
    "Nous utiliserons le jeu de validation pour estimer l'impact de la réduction du nombre de variables sur les performances de classification."
   ],
   "metadata": {
    "collapsed": false,
    "pycharm": {
     "name": "#%% md\n"
    }
   }
  },
  {
   "cell_type": "code",
   "execution_count": 55,
   "outputs": [],
   "source": [
    "client_id = X_train_xgb_med['SK_ID_CURR']\n",
    "client_id_val = X_validation_xgb_med['SK_ID_CURR']"
   ],
   "metadata": {
    "collapsed": false,
    "pycharm": {
     "name": "#%%\n"
    }
   }
  },
  {
   "cell_type": "code",
   "execution_count": 56,
   "outputs": [],
   "source": [
    "client_id.to_csv('client_id.csv', index=False)\n",
    "client_id_val.to_csv('client_id_val.csv', index=False)"
   ],
   "metadata": {
    "collapsed": false,
    "pycharm": {
     "name": "#%%\n"
    }
   }
  },
  {
   "cell_type": "code",
   "execution_count": 57,
   "outputs": [],
   "source": [
    "X_train_xgb_med.drop(columns='SK_ID_CURR', inplace=True)\n",
    "X_validation_xgb_med.drop(columns='SK_ID_CURR', inplace=True)"
   ],
   "metadata": {
    "collapsed": false,
    "pycharm": {
     "name": "#%%\n"
    }
   }
  },
  {
   "cell_type": "markdown",
   "source": [
    "### <span style='background :#e3e33d' > 6.1 Features corrélées </span>"
   ],
   "metadata": {
    "collapsed": false,
    "pycharm": {
     "name": "#%% md\n"
    }
   }
  },
  {
   "cell_type": "code",
   "execution_count": 58,
   "outputs": [],
   "source": [
    "def remove_highly_correlated_features(X, threshold=0.9):\n",
    "    # Calculate the correlation matrix\n",
    "    corr_matrix = X.corr().abs()\n",
    "\n",
    "    # Find the upper triangular matrix without the diagonal elements\n",
    "    upper_triangle = corr_matrix.where(np.triu(np.ones(corr_matrix.shape), k=1).astype(bool))\n",
    "\n",
    "    # Identify the columns to remove based on the correlation threshold\n",
    "    cols_to_remove = [column for column in upper_triangle.columns if any(upper_triangle[column] > threshold)]\n",
    "\n",
    "    return cols_to_remove"
   ],
   "metadata": {
    "collapsed": false,
    "pycharm": {
     "name": "#%%\n"
    }
   }
  },
  {
   "cell_type": "code",
   "execution_count": 59,
   "outputs": [],
   "source": [
    "columns_without_source = [col for col in X_train_xgb_med.columns if 'SOURCE' not in col]"
   ],
   "metadata": {
    "collapsed": false,
    "pycharm": {
     "name": "#%%\n"
    }
   }
  },
  {
   "cell_type": "code",
   "execution_count": 60,
   "outputs": [],
   "source": [
    "list_corr = remove_highly_correlated_features(X_train_xgb_med[columns_without_source], threshold=0.9)"
   ],
   "metadata": {
    "collapsed": false,
    "pycharm": {
     "name": "#%%\n"
    }
   }
  },
  {
   "cell_type": "code",
   "execution_count": 61,
   "outputs": [
    {
     "data": {
      "text/plain": "184"
     },
     "execution_count": 61,
     "metadata": {},
     "output_type": "execute_result"
    }
   ],
   "source": [
    "len(list_corr)"
   ],
   "metadata": {
    "collapsed": false,
    "pycharm": {
     "name": "#%%\n"
    }
   }
  },
  {
   "cell_type": "markdown",
   "source": [
    "184"
   ],
   "metadata": {
    "collapsed": false,
    "pycharm": {
     "name": "#%% md\n"
    }
   }
  },
  {
   "cell_type": "markdown",
   "source": [
    "<br>\n",
    "\n",
    "---"
   ],
   "metadata": {
    "collapsed": false,
    "pycharm": {
     "name": "#%% md\n"
    }
   }
  },
  {
   "cell_type": "markdown",
   "source": [
    "### <span style='background :#e3e33d' > 6.2 LightGBM feature importance </span>\n"
   ],
   "metadata": {
    "collapsed": false,
    "pycharm": {
     "name": "#%% md\n"
    }
   }
  },
  {
   "cell_type": "markdown",
   "source": [
    "On crée une fonction qui calcule et liste les variables avec une feature importance nulle."
   ],
   "metadata": {
    "collapsed": false,
    "pycharm": {
     "name": "#%% md\n"
    }
   }
  },
  {
   "cell_type": "code",
   "execution_count": 62,
   "outputs": [],
   "source": [
    "import lightgbm as lgb\n",
    "from lightgbm.callback import early_stopping, log_evaluation\n",
    "from sklearn.model_selection import StratifiedKFold\n",
    "\n",
    "def lightgbm_feature_importance(train_df, y_train_df, threshold=0):\n",
    "\n",
    "    start_time = time.time()\n",
    "\n",
    "    # Initialize an empty array to hold feature importances\n",
    "    feature_importances = np.zeros(train_df.shape[1])\n",
    "\n",
    "    scale_pos_weight_value = sum(y_train_df == 0) / sum(y_train_df == 1)\n",
    "\n",
    "    # Create a LightGBM classifier with scale_pos_weight\n",
    "    model = lgb.LGBMClassifier(objective='binary', boosting_type='goss', n_estimators=10000, scale_pos_weight=scale_pos_weight_value, random_state=42, n_jobs=-1)\n",
    "\n",
    "    # Define the early stopping and log evaluation callbacks\n",
    "    early_stopping_callback = early_stopping(stopping_rounds=100, first_metric_only=True)\n",
    "    log_evaluation_callback = log_evaluation(period=200)\n",
    "\n",
    "    # Prepare the KFold cross-validation\n",
    "    kf = StratifiedKFold(n_splits=3, shuffle=True, random_state=42)\n",
    "\n",
    "    # Train using early stopping and cross-validation\n",
    "    for train_index, val_index in kf.split(train_df, y_train_df):\n",
    "        X_train_fold, X_val_fold = train_df.iloc[train_index], train_df.iloc[val_index]\n",
    "        y_train_fold, y_val_fold = y_train_df.iloc[train_index], y_train_df.iloc[val_index]\n",
    "\n",
    "        model.fit(X_train_fold, y_train_fold, eval_set=[(X_val_fold, y_val_fold)], eval_metric='auc', callbacks=[early_stopping_callback, log_evaluation_callback])\n",
    "\n",
    "        # Accumulate the feature importances\n",
    "        feature_importances += model.feature_importances_\n",
    "\n",
    "    # Average the feature importances over the folds\n",
    "    feature_importances /= kf.get_n_splits()\n",
    "\n",
    "    end_time = time.time()\n",
    "    time_taken = end_time - start_time\n",
    "\n",
    "    print(f\"It took {time_taken:.2f} seconds\")\n",
    "\n",
    "    feature_importances = pd.DataFrame({'feature': list(train_df.columns), 'importance': feature_importances}).sort_values('importance', ascending=False)\n",
    "\n",
    "    # Get the features with importance less than or equal to the threshold\n",
    "    low_importance_features = list(feature_importances[feature_importances['importance'] <= threshold]['feature'])\n",
    "    print(f'Number of features with low importance : {len(low_importance_features)}')\n",
    "\n",
    "    return feature_importances, low_importance_features"
   ],
   "metadata": {
    "collapsed": false,
    "pycharm": {
     "name": "#%%\n"
    }
   }
  },
  {
   "cell_type": "markdown",
   "source": [
    "On effectue plusieurs passages pour éliminer les variables avec une importance nulle."
   ],
   "metadata": {
    "collapsed": false,
    "pycharm": {
     "name": "#%% md\n"
    }
   }
  },
  {
   "cell_type": "code",
   "execution_count": 63,
   "outputs": [
    {
     "name": "stdout",
     "output_type": "stream",
     "text": [
      "Training until validation scores don't improve for 100 rounds\n",
      "[200]\tvalid_0's auc: 0.789806\tvalid_0's binary_logloss: 0.47674\n",
      "Early stopping, best iteration is:\n",
      "[108]\tvalid_0's auc: 0.791499\tvalid_0's binary_logloss: 0.50753\n",
      "Evaluated only: auc\n",
      "[200]\tvalid_0's auc: 0.789723\tvalid_0's binary_logloss: 0.477768\n",
      "Early stopping, best iteration is:\n",
      "[108]\tvalid_0's auc: 0.791499\tvalid_0's binary_logloss: 0.50753\n",
      "Evaluated only: auc\n",
      "[200]\tvalid_0's auc: 0.786415\tvalid_0's binary_logloss: 0.478696\n",
      "Early stopping, best iteration is:\n",
      "[108]\tvalid_0's auc: 0.791499\tvalid_0's binary_logloss: 0.50753\n",
      "Evaluated only: auc\n",
      "It took 48.07 seconds\n",
      "Number of features with low importance : 164\n",
      "Training until validation scores don't improve for 100 rounds\n",
      "[200]\tvalid_0's auc: 0.790132\tvalid_0's binary_logloss: 0.477209\n",
      "Early stopping, best iteration is:\n",
      "[108]\tvalid_0's auc: 0.791499\tvalid_0's binary_logloss: 0.50753\n",
      "Evaluated only: auc\n",
      "[200]\tvalid_0's auc: 0.790453\tvalid_0's binary_logloss: 0.478536\n",
      "Early stopping, best iteration is:\n",
      "[108]\tvalid_0's auc: 0.791499\tvalid_0's binary_logloss: 0.50753\n",
      "Evaluated only: auc\n",
      "[200]\tvalid_0's auc: 0.78749\tvalid_0's binary_logloss: 0.476889\n",
      "Early stopping, best iteration is:\n",
      "[108]\tvalid_0's auc: 0.791499\tvalid_0's binary_logloss: 0.50753\n",
      "Evaluated only: auc\n",
      "It took 43.79 seconds\n",
      "Number of features with low importance : 0\n"
     ]
    },
    {
     "data": {
      "text/plain": "3774"
     },
     "execution_count": 63,
     "metadata": {},
     "output_type": "execute_result"
    }
   ],
   "source": [
    "temp = X_train_xgb_med.copy()\n",
    "low_imp = []\n",
    "low_importance_features_lgbm = []\n",
    "\n",
    "while low_imp is not None:\n",
    "\n",
    "    f_i, low_imp = lightgbm_feature_importance(temp, y_train, threshold=0)\n",
    "    if not low_imp:\n",
    "        break\n",
    "    low_importance_features_lgbm += low_imp\n",
    "    temp = temp.drop(columns=low_imp)\n",
    "\n",
    "del temp\n",
    "gc.collect()"
   ],
   "metadata": {
    "collapsed": false,
    "pycharm": {
     "name": "#%%\n"
    }
   }
  },
  {
   "cell_type": "markdown",
   "source": [
    "164 variables ont une importance nulle. Nous allons maintenant estimer les performances du modèle sur le jeu de validation avant et après la sélection des variables. On utilisera le ROC AUC comme métrique."
   ],
   "metadata": {
    "collapsed": false,
    "pycharm": {
     "name": "#%% md\n"
    }
   }
  },
  {
   "cell_type": "code",
   "execution_count": 64,
   "outputs": [],
   "source": [
    "scale_pos_weight_value = sum(y_train == 0) / sum(y_train == 1)\n",
    "\n",
    "model = lgb.LGBMClassifier(objective='binary', boosting_type='goss', n_estimators=10000, scale_pos_weight=scale_pos_weight_value, random_state=42, n_jobs=-1)\n",
    "\n",
    "early_stopping_callback = early_stopping(stopping_rounds=100, first_metric_only=True)\n",
    "log_evaluation_callback = log_evaluation(period=200)"
   ],
   "metadata": {
    "collapsed": false,
    "pycharm": {
     "name": "#%%\n"
    }
   }
  },
  {
   "cell_type": "code",
   "execution_count": 65,
   "outputs": [
    {
     "name": "stdout",
     "output_type": "stream",
     "text": [
      "Training until validation scores don't improve for 100 rounds\n",
      "[200]\tvalid_0's auc: 0.790321\tvalid_0's binary_logloss: 0.495683\n",
      "Early stopping, best iteration is:\n",
      "[165]\tvalid_0's auc: 0.790849\tvalid_0's binary_logloss: 0.503879\n",
      "Evaluated only: auc\n",
      "Early stopping, best iteration is:\n",
      "[165]\tvalid_0's auc: 0.790849\tvalid_0's binary_logloss: 0.503879\n",
      "Evaluated only: auc\n",
      "\n",
      "Nombre de features initiales: 773\n",
      "ROC AUC before feature selection: 0.7908\n",
      "Nombre de features après filtrage des features d'importance nulle: 609\n",
      "ROC AUC after feature selection: 0.7896\n"
     ]
    }
   ],
   "source": [
    "from sklearn.metrics import roc_auc_score\n",
    "\n",
    "# Step 1: Train the model on the original training set and evaluate on validation set\n",
    "model.fit(X_train_xgb_med, y_train, eval_set=[(X_validation_xgb_med, y_validation)], eval_metric='auc', callbacks=[early_stopping_callback, log_evaluation_callback])\n",
    "y_pred_before = model.predict_proba(X_validation_xgb_med)[:, 1]\n",
    "roc_auc_before = roc_auc_score(y_validation, y_pred_before)\n",
    "\n",
    "\n",
    "# Step 2: Perform feature selection\n",
    "selected_features = [feature for feature in X_train_xgb_med.columns if feature not in low_importance_features_lgbm]\n",
    "\n",
    "\n",
    "# Step 3: Train the model on the new training set and evaluate on validation set\n",
    "X_train_selected = X_train_xgb_med[selected_features]\n",
    "X_validation_selected = X_validation_xgb_med[selected_features]\n",
    "\n",
    "model.fit(X_train_selected, y_train, eval_set=[(X_validation_selected, y_validation)], eval_metric='auc', callbacks=[early_stopping_callback])\n",
    "y_pred_after = model.predict_proba(X_validation_selected)[:, 1]\n",
    "roc_auc_after = roc_auc_score(y_validation, y_pred_after)\n",
    "\n",
    "print(\"\")\n",
    "print(f\"Nombre de features initiales: {X_train_xgb_med.shape[1]}\")\n",
    "print(f\"ROC AUC before feature selection: {roc_auc_before:.4f}\")\n",
    "print(f\"Nombre de features après filtrage des features d'importance nulle: {X_train_selected.shape[1]}\")\n",
    "print(f\"ROC AUC after feature selection: {roc_auc_after:.4f}\")"
   ],
   "metadata": {
    "collapsed": false,
    "pycharm": {
     "name": "#%%\n"
    }
   }
  },
  {
   "cell_type": "markdown",
   "source": [
    "Nombre de features initiales: 773\n",
    "ROC AUC before feature selection: 0.7908\n",
    "Nombre de features après filtrage des features d'importance nulle: 609\n",
    "ROC AUC after feature selection: 0.7896"
   ],
   "metadata": {
    "collapsed": false,
    "pycharm": {
     "name": "#%% md\n"
    }
   }
  },
  {
   "cell_type": "markdown",
   "source": [
    "On observe une faible diminution du ROC AUC en diminuant le nombre de features de 773 à 609.\n",
    "\n",
    "Nous allons maintenant diminuer le nombre de variables en sélectionnant celles qui permettent d'obtenir 95 % d'importance cumulée."
   ],
   "metadata": {
    "collapsed": false,
    "pycharm": {
     "name": "#%% md\n"
    }
   }
  },
  {
   "cell_type": "code",
   "execution_count": 66,
   "outputs": [
    {
     "name": "stdout",
     "output_type": "stream",
     "text": [
      "Early stopping, best iteration is:\n",
      "[165]\tvalid_0's auc: 0.790849\tvalid_0's binary_logloss: 0.503879\n",
      "Evaluated only: auc\n",
      "\n",
      "Nombre de features initiales: 773\n",
      "ROC AUC before feature selection: 0.7908\n",
      "Nombre de features après filtrage pour atteindre 95 % d'importance cumulée : 430\n",
      "ROC AUC after feature selection: 0.7892\n"
     ]
    }
   ],
   "source": [
    "f_i['cumulative_importance'] = f_i['importance'].cumsum() / f_i['importance'].sum()\n",
    "\n",
    "# Filter the features with cumulative importance less than or equal to 0.95\n",
    "selected_features_95 = f_i[f_i['cumulative_importance'] <= 0.95]['feature'].tolist()\n",
    "\n",
    "X_train_selected = X_train_xgb_med[selected_features_95]\n",
    "X_validation_selected = X_validation_xgb_med[selected_features_95]\n",
    "\n",
    "model.fit(X_train_selected, y_train, eval_set=[(X_validation_selected, y_validation)], eval_metric='auc', callbacks=[early_stopping_callback])\n",
    "y_pred_after = model.predict_proba(X_validation_selected)[:, 1]\n",
    "roc_auc_after = roc_auc_score(y_validation, y_pred_after)\n",
    "\n",
    "print(\"\")\n",
    "print(f\"Nombre de features initiales: {X_train_xgb_med.shape[1]}\")\n",
    "print(f\"ROC AUC before feature selection: {roc_auc_before:.4f}\")\n",
    "print(f\"Nombre de features après filtrage pour atteindre 95 % d'importance cumulée : {X_train_selected.shape[1]}\")\n",
    "print(f\"ROC AUC after feature selection: {roc_auc_after:.4f}\")"
   ],
   "metadata": {
    "collapsed": false,
    "pycharm": {
     "name": "#%%\n"
    }
   }
  },
  {
   "cell_type": "markdown",
   "source": [
    "Nombre de features initiales: 773\n",
    "ROC AUC before feature selection: 0.7908\n",
    "Nombre de features après filtrage pour atteindre 95 % d'importance cumulée : 430\n",
    "ROC AUC after feature selection: 0.7892"
   ],
   "metadata": {
    "collapsed": false,
    "pycharm": {
     "name": "#%% md\n"
    }
   }
  },
  {
   "cell_type": "markdown",
   "source": [
    "Encore une fois, on observe une faible diminution du ROC AUC en diminuant le nombre de features de 773 à 430."
   ],
   "metadata": {
    "collapsed": false,
    "pycharm": {
     "name": "#%% md\n"
    }
   }
  },
  {
   "cell_type": "code",
   "execution_count": 67,
   "outputs": [
    {
     "name": "stdout",
     "output_type": "stream",
     "text": [
      "Early stopping, best iteration is:\n",
      "[165]\tvalid_0's auc: 0.790849\tvalid_0's binary_logloss: 0.503879\n",
      "Evaluated only: auc\n",
      "\n",
      "Nombre de features initiales: 773\n",
      "ROC AUC before feature selection: 0.7908\n",
      "Nombre de features après filtrage pour atteindre 60 % d'importance cumulée : 151\n",
      "ROC AUC after feature selection: 0.7900\n"
     ]
    }
   ],
   "source": [
    "# Filter the features with cumulative importance less than or equal to 0.60\n",
    "selected_features_60 = f_i[f_i['cumulative_importance'] <= 0.60]['feature'].tolist()\n",
    "\n",
    "X_train_selected = X_train_xgb_med[selected_features_60]\n",
    "X_validation_selected = X_validation_xgb_med[selected_features_60]\n",
    "\n",
    "model.fit(X_train_selected, y_train, eval_set=[(X_validation_selected, y_validation)], eval_metric='auc', callbacks=[early_stopping_callback])\n",
    "y_pred_after = model.predict_proba(X_validation_selected)[:, 1]\n",
    "roc_auc_after = roc_auc_score(y_validation, y_pred_after)\n",
    "\n",
    "print(\"\")\n",
    "print(f\"Nombre de features initiales: {X_train_xgb_med.shape[1]}\")\n",
    "print(f\"ROC AUC before feature selection: {roc_auc_before:.4f}\")\n",
    "print(f\"Nombre de features après filtrage pour atteindre 60 % d'importance cumulée : {X_train_selected.shape[1]}\")\n",
    "print(f\"ROC AUC after feature selection: {roc_auc_after:.4f}\")"
   ],
   "metadata": {
    "collapsed": false,
    "pycharm": {
     "name": "#%%\n"
    }
   }
  },
  {
   "cell_type": "markdown",
   "source": [
    "Nombre de features initiales: 773\n",
    "ROC AUC before feature selection: 0.7908\n",
    "Nombre de features après filtrage pour atteindre 60 % d'importance cumulée : 151\n",
    "ROC AUC after feature selection: 0.7900"
   ],
   "metadata": {
    "collapsed": false,
    "pycharm": {
     "name": "#%% md\n"
    }
   }
  },
  {
   "cell_type": "markdown",
   "source": [
    "On observe un meilleur score ROC AUC avec 151 features qu'avec 609 ou 430."
   ],
   "metadata": {
    "collapsed": false,
    "pycharm": {
     "name": "#%% md\n"
    }
   }
  },
  {
   "cell_type": "markdown",
   "source": [
    "<br>\n",
    "\n",
    "---"
   ],
   "metadata": {
    "collapsed": false,
    "pycharm": {
     "name": "#%% md\n"
    }
   }
  },
  {
   "cell_type": "markdown",
   "source": [
    "### <span style='background :#e3e33d' > 6.3 Boruta </span>\n"
   ],
   "metadata": {
    "collapsed": false,
    "pycharm": {
     "name": "#%% md\n"
    }
   }
  },
  {
   "cell_type": "markdown",
   "source": [
    "L'exécution de Boruta étant très longue, on sauvegarde la version entrainée sous format joblib."
   ],
   "metadata": {
    "collapsed": false,
    "pycharm": {
     "name": "#%% md\n"
    }
   }
  },
  {
   "cell_type": "code",
   "execution_count": 68,
   "outputs": [],
   "source": [
    "# from boruta import BorutaPy\n",
    "# from sklearn.ensemble import RandomForestClassifier\n",
    "#\n",
    "# start_time = time.time()\n",
    "#\n",
    "# rf = RandomForestClassifier(n_jobs=-1, class_weight='balanced', max_depth=5, random_state=42)\n",
    "#\n",
    "# # Boruta Feature Selection\n",
    "# boruta_selector = BorutaPy(rf, n_estimators='auto', verbose=2, random_state=42, max_iter=50, perc=90)\n",
    "#\n",
    "# boruta_selector.fit(X_train_xgb_med.values, y_train.values)\n",
    "#\n",
    "# end_time = time.time()\n",
    "# time_taken = end_time - start_time\n",
    "#\n",
    "# print(f\"It took {time_taken:.2f} seconds\")"
   ],
   "metadata": {
    "collapsed": false,
    "pycharm": {
     "name": "#%%\n"
    }
   }
  },
  {
   "cell_type": "code",
   "execution_count": 69,
   "outputs": [],
   "source": [
    "# from joblib import dump\n",
    "#\n",
    "# # Save the Boruta object\n",
    "# dump(boruta_selector, 'BorutaPy_3.joblib')"
   ],
   "metadata": {
    "collapsed": false,
    "pycharm": {
     "name": "#%%\n"
    }
   }
  },
  {
   "cell_type": "code",
   "execution_count": 70,
   "outputs": [],
   "source": [
    "from joblib import load\n",
    "\n",
    "# Load the saved Boruta object\n",
    "boruta_selector = load('BorutaPy_3.joblib')"
   ],
   "metadata": {
    "collapsed": false,
    "pycharm": {
     "name": "#%%\n"
    }
   }
  },
  {
   "cell_type": "code",
   "execution_count": 71,
   "outputs": [],
   "source": [
    "# Liste des variables acceptées\n",
    "\n",
    "feature_boruta_accepted = []\n",
    "features = [f for f in X_train_xgb_med.columns]\n",
    "indexes = np.where(boruta_selector.support_ == True)\n",
    "for x in np.nditer(indexes):\n",
    "    feature_boruta_accepted.append(features[x])"
   ],
   "metadata": {
    "collapsed": false,
    "pycharm": {
     "name": "#%%\n"
    }
   }
  },
  {
   "cell_type": "code",
   "execution_count": 72,
   "outputs": [
    {
     "data": {
      "text/plain": "453"
     },
     "execution_count": 72,
     "metadata": {},
     "output_type": "execute_result"
    }
   ],
   "source": [
    "len(feature_boruta_accepted)"
   ],
   "metadata": {
    "collapsed": false,
    "pycharm": {
     "name": "#%%\n"
    }
   }
  },
  {
   "cell_type": "markdown",
   "source": [
    "453 variables retenues."
   ],
   "metadata": {
    "collapsed": false,
    "pycharm": {
     "name": "#%% md\n"
    }
   }
  },
  {
   "cell_type": "code",
   "execution_count": 73,
   "outputs": [],
   "source": [
    "# Liste des variables rejetées\n",
    "\n",
    "feature_boruta_rejected = []\n",
    "features = [f for f in X_train_xgb_med.columns]\n",
    "indexes = np.where(boruta_selector.support_ == False)\n",
    "for x in np.nditer(indexes):\n",
    "    feature_boruta_rejected.append(features[x])"
   ],
   "metadata": {
    "collapsed": false,
    "pycharm": {
     "name": "#%%\n"
    }
   }
  },
  {
   "cell_type": "code",
   "execution_count": 74,
   "outputs": [
    {
     "data": {
      "text/plain": "320"
     },
     "execution_count": 74,
     "metadata": {},
     "output_type": "execute_result"
    }
   ],
   "source": [
    "len(feature_boruta_rejected)"
   ],
   "metadata": {
    "collapsed": false,
    "pycharm": {
     "name": "#%%\n"
    }
   }
  },
  {
   "cell_type": "markdown",
   "source": [
    "320 variables rejetées."
   ],
   "metadata": {
    "collapsed": false,
    "pycharm": {
     "name": "#%% md\n"
    }
   }
  },
  {
   "cell_type": "code",
   "execution_count": 75,
   "outputs": [
    {
     "name": "stdout",
     "output_type": "stream",
     "text": [
      "Early stopping, best iteration is:\n",
      "[165]\tvalid_0's auc: 0.790849\tvalid_0's binary_logloss: 0.503879\n",
      "Evaluated only: auc\n",
      "\n",
      "Nombre de features initiales: 773\n",
      "ROC AUC before feature selection: 0.7908\n",
      "Nombre de features après filtrage par BorutaPy : 453\n",
      "ROC AUC after feature selection: 0.7891\n"
     ]
    }
   ],
   "source": [
    "X_train_selected = X_train_xgb_med[feature_boruta_accepted]\n",
    "X_validation_selected = X_validation_xgb_med[feature_boruta_accepted]\n",
    "\n",
    "model.fit(X_train_selected, y_train, eval_set=[(X_validation_selected, y_validation)], eval_metric='auc', callbacks=[early_stopping_callback])\n",
    "y_pred_after = model.predict_proba(X_validation_selected)[:, 1]\n",
    "roc_auc_after = roc_auc_score(y_validation, y_pred_after)\n",
    "\n",
    "print(\"\")\n",
    "print(f\"Nombre de features initiales: {X_train_xgb_med.shape[1]}\")\n",
    "print(f\"ROC AUC before feature selection: {roc_auc_before:.4f}\")\n",
    "print(f\"Nombre de features après filtrage par BorutaPy : {X_train_selected.shape[1]}\")\n",
    "print(f\"ROC AUC after feature selection: {roc_auc_after:.4f}\")"
   ],
   "metadata": {
    "collapsed": false,
    "pycharm": {
     "name": "#%%\n"
    }
   }
  },
  {
   "cell_type": "markdown",
   "source": [
    "Nombre de features initiales: 773\n",
    "ROC AUC before feature selection: 0.7908\n",
    "Nombre de features après filtrage par BorutaPy : 453\n",
    "ROC AUC after feature selection: 0.7891"
   ],
   "metadata": {
    "collapsed": false,
    "pycharm": {
     "name": "#%% md\n"
    }
   }
  },
  {
   "cell_type": "markdown",
   "source": [
    "<br>\n",
    "\n",
    "---"
   ],
   "metadata": {
    "collapsed": false,
    "pycharm": {
     "name": "#%% md\n"
    }
   }
  },
  {
   "cell_type": "markdown",
   "source": [
    "### <span style='background :#e3e33d' > 6.4 Sélection cumulée </span>\n"
   ],
   "metadata": {
    "collapsed": false,
    "pycharm": {
     "name": "#%% md\n"
    }
   }
  },
  {
   "cell_type": "markdown",
   "source": [
    "On cumule les trois techniques : variables corrélées et variables avec importance nulle (Lightgbm et Boruta)."
   ],
   "metadata": {
    "collapsed": false,
    "pycharm": {
     "name": "#%% md\n"
    }
   }
  },
  {
   "cell_type": "code",
   "execution_count": 76,
   "outputs": [
    {
     "data": {
      "text/plain": "479"
     },
     "execution_count": 76,
     "metadata": {},
     "output_type": "execute_result"
    }
   ],
   "source": [
    "liste_non_selected_features_100 = [c for c in X_train_xgb_med.columns if c not in selected_features]\n",
    "liste_totale = list(set(list_corr + liste_non_selected_features_100 + feature_boruta_rejected))\n",
    "len(liste_totale)"
   ],
   "metadata": {
    "collapsed": false,
    "pycharm": {
     "name": "#%%\n"
    }
   }
  },
  {
   "cell_type": "code",
   "execution_count": 77,
   "outputs": [
    {
     "data": {
      "text/plain": "294"
     },
     "execution_count": 77,
     "metadata": {},
     "output_type": "execute_result"
    }
   ],
   "source": [
    "liste_totale_accepted = [c for c in X_train_xgb_med.columns if c not in liste_totale]\n",
    "len(liste_totale_accepted)"
   ],
   "metadata": {
    "collapsed": false,
    "pycharm": {
     "name": "#%%\n"
    }
   }
  },
  {
   "cell_type": "markdown",
   "source": [
    "On obtient une liste de 294 features."
   ],
   "metadata": {
    "collapsed": false,
    "pycharm": {
     "name": "#%% md\n"
    }
   }
  },
  {
   "cell_type": "code",
   "execution_count": 78,
   "outputs": [
    {
     "name": "stdout",
     "output_type": "stream",
     "text": [
      "Early stopping, best iteration is:\n",
      "[165]\tvalid_0's auc: 0.790849\tvalid_0's binary_logloss: 0.503879\n",
      "Evaluated only: auc\n",
      "\n",
      "Nombre de features initiales: 773\n",
      "ROC AUC before feature selection: 0.7908\n",
      "Nombre de features après filtrage totale : 294\n",
      "ROC AUC after feature selection: 0.7883\n"
     ]
    }
   ],
   "source": [
    "X_train_selected = X_train_xgb_med[liste_totale_accepted]\n",
    "X_validation_selected = X_validation_xgb_med[liste_totale_accepted]\n",
    "\n",
    "model.fit(X_train_selected, y_train, eval_set=[(X_validation_selected, y_validation)], eval_metric='auc', callbacks=[early_stopping_callback])\n",
    "y_pred_after = model.predict_proba(X_validation_selected)[:, 1]\n",
    "roc_auc_after = roc_auc_score(y_validation, y_pred_after)\n",
    "\n",
    "print(\"\")\n",
    "print(f\"Nombre de features initiales: {X_train_xgb_med.shape[1]}\")\n",
    "print(f\"ROC AUC before feature selection: {roc_auc_before:.4f}\")\n",
    "print(f\"Nombre de features après filtrage totale : {X_train_selected.shape[1]}\")\n",
    "print(f\"ROC AUC after feature selection: {roc_auc_after:.4f}\")"
   ],
   "metadata": {
    "collapsed": false,
    "pycharm": {
     "name": "#%%\n"
    }
   }
  },
  {
   "cell_type": "markdown",
   "source": [
    "Nombre de features initiales: 773\n",
    "ROC AUC before feature selection: 0.7908\n",
    "Nombre de features après filtrage totale : 294\n",
    "ROC AUC after feature selection: 0.7883"
   ],
   "metadata": {
    "collapsed": false,
    "pycharm": {
     "name": "#%% md\n"
    }
   }
  },
  {
   "cell_type": "markdown",
   "source": [
    "Pour la sélection des variables, nous avons obtenu les meilleurs résultats sur le jeu de validation avec le jeu de données réduits avec 151 features.\n",
    "Nous allons cependant également conserver les jeux de données à 609 features (lightgbm, feature importance=0) et à 294 features (sélection cumulée) pour l'étape suivante de model selection."
   ],
   "metadata": {
    "collapsed": false,
    "pycharm": {
     "name": "#%% md\n"
    }
   }
  },
  {
   "cell_type": "markdown",
   "source": [
    "<br>\n",
    "\n",
    "---"
   ],
   "metadata": {
    "collapsed": false,
    "pycharm": {
     "name": "#%% md\n"
    }
   }
  },
  {
   "cell_type": "markdown",
   "source": [
    "##  <span style='background :#96e773' > 7. Export du jeu de données imputé et filtré </span>"
   ],
   "metadata": {
    "collapsed": false,
    "pycharm": {
     "name": "#%% md\n"
    }
   }
  },
  {
   "cell_type": "code",
   "execution_count": 79,
   "outputs": [],
   "source": [
    "X_train_xgb_med.to_csv('X_train_xgb_med.csv', index=False)\n",
    "X_validation_xgb_med.to_csv('X_validation_xgb_med.csv', index=False)\n",
    "test_xgb_med.to_csv('test_xgb_med.csv', index=False)"
   ],
   "metadata": {
    "collapsed": false,
    "pycharm": {
     "name": "#%%\n"
    }
   }
  },
  {
   "cell_type": "code",
   "execution_count": 80,
   "outputs": [],
   "source": [
    "y_train.to_csv('y_train.csv', index=False)\n",
    "y_validation.to_csv('y_validation.csv', index=False)"
   ],
   "metadata": {
    "collapsed": false,
    "pycharm": {
     "name": "#%%\n"
    }
   }
  },
  {
   "cell_type": "code",
   "execution_count": 81,
   "outputs": [],
   "source": [
    "from joblib import dump\n",
    "\n",
    "dump(selected_features, 'selected_features.joblib')\n",
    "dump(liste_totale_accepted, 'liste_totale_accepted.joblib')\n",
    "dump(selected_features_60, 'selected_features_60.joblib')"
   ],
   "metadata": {
    "collapsed": false,
    "pycharm": {
     "name": "#%%\n"
    }
   }
  },
  {
   "cell_type": "code",
   "execution_count": 82,
   "outputs": [],
   "source": [
    "X_train_fs_lgbm['SK_ID_CURR'] = client_id\n",
    "X_train_fs_cumul['SK_ID_CURR'] = client_id\n",
    "X_train_fs_mini['SK_ID_CURR'] = client_id\n",
    "\n",
    "X_valid_fs_lgbm['SK_ID_CURR'] = client_id_val\n",
    "X_valid_fs_cumul['SK_ID_CURR'] = client_id_val\n",
    "X_valid_fs_mini['SK_ID_CURR'] = client_id_val"
   ],
   "metadata": {
    "collapsed": false,
    "pycharm": {
     "name": "#%%\n"
    }
   }
  },
  {
   "cell_type": "code",
   "execution_count": 82,
   "outputs": [],
   "source": [],
   "metadata": {
    "collapsed": false,
    "pycharm": {
     "name": "#%%\n"
    }
   }
  }
 ],
 "metadata": {
  "kernelspec": {
   "display_name": "Python 3",
   "language": "python",
   "name": "python3"
  },
  "language_info": {
   "codemirror_mode": {
    "name": "ipython",
    "version": 2
   },
   "file_extension": ".py",
   "mimetype": "text/x-python",
   "name": "python",
   "nbconvert_exporter": "python",
   "pygments_lexer": "ipython2",
   "version": "2.7.6"
  }
 },
 "nbformat": 4,
 "nbformat_minor": 0
}